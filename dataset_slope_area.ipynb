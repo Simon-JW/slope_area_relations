{
 "cells": [
  {
   "cell_type": "markdown",
   "metadata": {},
   "source": [
    "# Confounding landscape features"
   ]
  },
  {
   "cell_type": "markdown",
   "metadata": {},
   "source": [
    " Is: \n",
    " 1. There a road anywhere in the catchment area.\n",
    "     - Dirt/Paved/No\n",
    " 2. A road clearly influencing the catchment area / specific catchment area (is there evidence of flow being focused by the road).\n",
    "     - Yes/No (generally only if the road is along a ridgeline)\n",
    " 3. There a dam along the drainage line.\n",
    "     - Above/Below/No\n",
    " 4. There multiple distinct channel heads.\n",
    "     - Yes / No\n",
    " 5. The gully clearly connected to a higher order (Stahler or Shreve) stream.\n",
    "     - Order 2 / > Order 2 / No\n",
    " 6. The gully head a clear sharp bank or does it blend into the hillslope.\n",
    "     - Clear head bank / Blends\n",
    " 7. Is there any other engineered structure in the gully catchment area that could affect runoff to the channel head.\n",
    "     - Yes/No\n",
    " 8. There signs of rilling/new channel head developing above head.\n",
    "     - Yes/No\n",
    " 9. The gully existing inside a broader balloon type structure.\n",
    "     - Yes/No\n"
   ]
  },
  {
   "cell_type": "markdown",
   "metadata": {},
   "source": [
    "# Things to also consider"
   ]
  },
  {
   "cell_type": "markdown",
   "metadata": {},
   "source": [
    "- Also measure average and standard deviation of slope of the catchment area, not just above or next to the gully head.\n",
    "- Can measure slope above / next to / below / some combination.\n",
    "- Do I want to digitise the whole gully to get hypsometric curves and other geometry measures?\n",
    "- Is the gully continuous or discontinuous (relates to point 6 above).\n",
    "\n"
   ]
  },
  {
   "cell_type": "markdown",
   "metadata": {},
   "source": [
    "# General process"
   ]
  },
  {
   "cell_type": "markdown",
   "metadata": {},
   "source": [
    "Step 1. Subset data into tiles of 1km$^2$. Record the boundings of the subset.\n",
    "\n",
    "Step 2. Run D4, D8, M4, M8 and also calculate SCA for D8 and M8 - six grids total.\n",
    "\n",
    "Step 3. Compute profile curvature and difference from mean elevation.\n",
    "\n",
    "Step 4. Look at each flow grid together with profile curvature and DFME to record catchment area slightly below the gully head where flow becomes most concentrated and also slightly above the gully head before flow as been concentrated by the gully itself. For the latter, take the highest flow accumulation among cells flowing in - this can be taken to be the grid cell where the gully head was most likely initiated.\n",
    "\n",
    "Step 5. Calculate difference between SCA and non-SCA drainage areas for D8 and M8 - look if there is a clear relationship between the two numbers calculated in step 4 and the values found here. Can calculate difference as percentage with respect to drainage area.\n",
    "\n",
    "Step 6. Measure slope of gound surface above the gully head and on either side. Take mean and standard deviation. Can measure over distance of 5m as per (Torri et al. ?). Following this process can take maybe five seperate measurements. Orientation should be roughly parallel to flow lines.\n",
    "\n",
    "Step 7. Record confounding landscape features as listed above. \n"
   ]
  },
  {
   "cell_type": "markdown",
   "metadata": {},
   "source": [
    "# Things to include"
   ]
  },
  {
   "cell_type": "markdown",
   "metadata": {},
   "source": [
    "1. Images from extract_watersheds notebook visualising the difference in extreme cases that you can get by using either D4, D8, M4, M8, D8-SCA, M8-SCA.\n",
    "\n",
    "2. Comparison plots of different groups of gullies calculated with all the various methods.\n",
    "\n",
    "3. Tables of affect on estimated k and b parameters.\n",
    "\n",
    "4. Idally a clear idea of where the difference between the various methods is largest and where it is smallest. This will probably give me most of my discussion points."
   ]
  },
  {
   "cell_type": "markdown",
   "metadata": {},
   "source": [
    "# Dataset"
   ]
  },
  {
   "cell_type": "code",
   "execution_count": 2,
   "metadata": {},
   "outputs": [
    {
     "name": "stderr",
     "output_type": "stream",
     "text": [
      "C:\\Users\\sjwal\\Anaconda3\\lib\\site-packages\\distributed\\utils.py:139: RuntimeWarning: Couldn't detect a suitable IP address for reaching '8.8.8.8', defaulting to '127.0.0.1': [WinError 10065] A socket operation was attempted to an unreachable host\n",
      "  RuntimeWarning,\n"
     ]
    }
   ],
   "source": [
    "from jupyterthemes import jtplot\n",
    "jtplot.style()\n",
    "import numpy as np\n",
    "import xarray as xr\n",
    "import pandas as pd\n",
    "import scipy\n",
    "import gdal\n",
    "from scipy import ndimage\n",
    "from scipy.ndimage.filters import *\n",
    "import os\n",
    "import math\n",
    "from osgeo import osr\n",
    "from fractions import Fraction\n",
    "import timeit\n",
    "import matplotlib.pyplot as plt\n",
    "%matplotlib inline\n",
    "import random\n",
    "# import plotting tools\n",
    "from mpl_toolkits.mplot3d import Axes3D\n",
    "import matplotlib.pyplot as plt\n",
    "from matplotlib import cm\n",
    "from matplotlib.ticker import LinearLocator, FormatStrFormatter\n",
    "import matplotlib as mpl\n",
    "from pylab import show, figure"
   ]
  },
  {
   "cell_type": "code",
   "execution_count": 62,
   "metadata": {},
   "outputs": [],
   "source": [
    "location = (r'C:/PhD/manuscript')\n",
    "os.chdir(location)"
   ]
  },
  {
   "cell_type": "code",
   "execution_count": 59,
   "metadata": {},
   "outputs": [
    {
     "data": {
      "text/plain": [
       "{'a': [1], 'b': []}"
      ]
     },
     "execution_count": 59,
     "metadata": {},
     "output_type": "execute_result"
    }
   ],
   "source": [
    "slope_area_dict = {'a':[], 'b':[]}\n",
    "slope_area_dict['a'].append(1)\n",
    "slope_area_dict"
   ]
  },
  {
   "cell_type": "code",
   "execution_count": 65,
   "metadata": {},
   "outputs": [],
   "source": [
    "df = pd.read_csv('slope_area_data.csv')"
   ]
  },
  {
   "cell_type": "code",
   "execution_count": 66,
   "metadata": {},
   "outputs": [
    {
     "data": {
      "text/html": [
       "<div>\n",
       "<style scoped>\n",
       "    .dataframe tbody tr th:only-of-type {\n",
       "        vertical-align: middle;\n",
       "    }\n",
       "\n",
       "    .dataframe tbody tr th {\n",
       "        vertical-align: top;\n",
       "    }\n",
       "\n",
       "    .dataframe thead th {\n",
       "        text-align: right;\n",
       "    }\n",
       "</style>\n",
       "<table border=\"1\" class=\"dataframe\">\n",
       "  <thead>\n",
       "    <tr style=\"text-align: right;\">\n",
       "      <th></th>\n",
       "      <th>OriginX</th>\n",
       "      <th>OriginY</th>\n",
       "      <th>GH_ID_node_1</th>\n",
       "      <th>GH_ID_node_2</th>\n",
       "      <th>surface_slope_1</th>\n",
       "      <th>surface_slope_2</th>\n",
       "      <th>surface_slope_3</th>\n",
       "      <th>node_1_catchment_D8</th>\n",
       "      <th>node_1_sca_D8</th>\n",
       "      <th>node_2_catchment_D8</th>\n",
       "      <th>...</th>\n",
       "      <th>multiple_disctinct_channel_heads</th>\n",
       "      <th>connected_to_stream</th>\n",
       "      <th>sharp_bank_or_blend</th>\n",
       "      <th>other_engineered_structures</th>\n",
       "      <th>multiple_separate_heads_along_drainage_line</th>\n",
       "      <th>exist_inside_paleo_gully</th>\n",
       "      <th>catchment_mean_slope</th>\n",
       "      <th>catchment_stdev_slope</th>\n",
       "      <th>diff_D8_sca_D8</th>\n",
       "      <th>diff_M8_sca_M8</th>\n",
       "    </tr>\n",
       "  </thead>\n",
       "  <tbody>\n",
       "    <tr>\n",
       "      <th>0</th>\n",
       "      <td>1</td>\n",
       "      <td>2</td>\n",
       "      <td>3</td>\n",
       "      <td>4</td>\n",
       "      <td>5</td>\n",
       "      <td>6</td>\n",
       "      <td>7</td>\n",
       "      <td>8</td>\n",
       "      <td>9</td>\n",
       "      <td>10</td>\n",
       "      <td>...</td>\n",
       "      <td>19</td>\n",
       "      <td>20</td>\n",
       "      <td>21</td>\n",
       "      <td>22</td>\n",
       "      <td>23</td>\n",
       "      <td>24</td>\n",
       "      <td>25</td>\n",
       "      <td>26</td>\n",
       "      <td>27</td>\n",
       "      <td>28</td>\n",
       "    </tr>\n",
       "  </tbody>\n",
       "</table>\n",
       "<p>1 rows × 28 columns</p>\n",
       "</div>"
      ],
      "text/plain": [
       "   OriginX  OriginY  GH_ID_node_1  GH_ID_node_2  surface_slope_1  \\\n",
       "0        1        2             3             4                5   \n",
       "\n",
       "   surface_slope_2  surface_slope_3  node_1_catchment_D8  node_1_sca_D8  \\\n",
       "0                6                7                    8              9   \n",
       "\n",
       "   node_2_catchment_D8  ...  multiple_disctinct_channel_heads  \\\n",
       "0                   10  ...                                19   \n",
       "\n",
       "   connected_to_stream  sharp_bank_or_blend  other_engineered_structures  \\\n",
       "0                   20                   21                           22   \n",
       "\n",
       "   multiple_separate_heads_along_drainage_line  exist_inside_paleo_gully  \\\n",
       "0                                           23                        24   \n",
       "\n",
       "   catchment_mean_slope  catchment_stdev_slope  diff_D8_sca_D8  diff_M8_sca_M8  \n",
       "0                    25                     26              27              28  \n",
       "\n",
       "[1 rows x 28 columns]"
      ]
     },
     "execution_count": 66,
     "metadata": {},
     "output_type": "execute_result"
    }
   ],
   "source": [
    "df"
   ]
  },
  {
   "cell_type": "code",
   "execution_count": 58,
   "metadata": {},
   "outputs": [
    {
     "data": {
      "text/html": [
       "<div>\n",
       "<style scoped>\n",
       "    .dataframe tbody tr th:only-of-type {\n",
       "        vertical-align: middle;\n",
       "    }\n",
       "\n",
       "    .dataframe tbody tr th {\n",
       "        vertical-align: top;\n",
       "    }\n",
       "\n",
       "    .dataframe thead th {\n",
       "        text-align: right;\n",
       "    }\n",
       "</style>\n",
       "<table border=\"1\" class=\"dataframe\">\n",
       "  <thead>\n",
       "    <tr style=\"text-align: right;\">\n",
       "      <th></th>\n",
       "      <th>a</th>\n",
       "    </tr>\n",
       "  </thead>\n",
       "  <tbody>\n",
       "    <tr>\n",
       "      <th>0</th>\n",
       "      <td>1</td>\n",
       "    </tr>\n",
       "    <tr>\n",
       "      <th>1</th>\n",
       "      <td>2</td>\n",
       "    </tr>\n",
       "  </tbody>\n",
       "</table>\n",
       "</div>"
      ],
      "text/plain": [
       "   a\n",
       "0  1\n",
       "1  2"
      ]
     },
     "execution_count": 58,
     "metadata": {},
     "output_type": "execute_result"
    }
   ],
   "source": [
    "df"
   ]
  },
  {
   "cell_type": "code",
   "execution_count": null,
   "metadata": {},
   "outputs": [],
   "source": []
  }
 ],
 "metadata": {
  "kernelspec": {
   "display_name": "Python 3",
   "language": "python",
   "name": "python3"
  },
  "language_info": {
   "codemirror_mode": {
    "name": "ipython",
    "version": 3
   },
   "file_extension": ".py",
   "mimetype": "text/x-python",
   "name": "python",
   "nbconvert_exporter": "python",
   "pygments_lexer": "ipython3",
   "version": "3.7.3"
  }
 },
 "nbformat": 4,
 "nbformat_minor": 2
}
