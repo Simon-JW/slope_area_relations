{
 "cells": [
  {
   "cell_type": "markdown",
   "metadata": {},
   "source": [
    "## Import required libraries."
   ]
  },
  {
   "cell_type": "code",
   "execution_count": 1,
   "metadata": {
    "code_folding": [
     43
    ]
   },
   "outputs": [],
   "source": [
    "%%capture\n",
    "import operator\n",
    "import seaborn as sns; sns.set()\n",
    "from jupyterthemes import jtplot\n",
    "jtplot.style()\n",
    "import numpy as np\n",
    "from landlab import FieldError\n",
    "from landlab.utils import get_watershed_mask\n",
    "import xarray as xr\n",
    "import pandas as pd\n",
    "import scipy\n",
    "import gdal\n",
    "from scipy import ndimage\n",
    "from scipy.ndimage.filters import *\n",
    "from scipy.interpolate import InterpolatedUnivariateSpline\n",
    "from scipy.signal import medfilt\n",
    "import os\n",
    "import math\n",
    "from osgeo import osr\n",
    "from fractions import Fraction\n",
    "import timeit\n",
    "import matplotlib.pyplot as plt\n",
    "#import matplotlib.image as mpimg\n",
    "%matplotlib inline\n",
    "import random\n",
    "# import plotting tools\n",
    "from mpl_toolkits.mplot3d import Axes3D\n",
    "import matplotlib.pyplot as plt\n",
    "from matplotlib import cm\n",
    "from matplotlib.ticker import LinearLocator, FormatStrFormatter\n",
    "import matplotlib as mpl\n",
    "from landlab.plot.imshow import imshow_grid \n",
    "\n",
    "# import necessary landlab components\n",
    "from landlab import RasterModelGrid, HexModelGrid\n",
    "from landlab.components import FlowAccumulator,LakeMapperBarnes, SinkFillerBarnes\n",
    "from landlab.components import(FlowDirectorD8, \n",
    "                               FlowDirectorDINF, \n",
    "                               FlowDirectorMFD, \n",
    "                               FlowDirectorSteepest)\n",
    "from landlab.components import DepressionFinderAndRouter\n",
    "# import landlab plotting functionality\n",
    "from landlab.plot.drainage_plot import drainage_plot\n",
    "from pylab import show, figure\n",
    "\n",
    "# create a plotting routine to make a 3d plot of our surface. \n",
    "def surf_plot(mg, surface='topographic__elevation', \n",
    "              title='Surface plot of topography', colormap = cm.gray):\n",
    "    \n",
    "    fig = plt.figure()\n",
    "    ax = fig.gca(projection='3d')\n",
    "\n",
    "    # Plot the surface.\n",
    "    Z = (mg.at_node[surface].reshape(mg.shape))#[y1:y2, x1:x2]\n",
    "    color = colormap((Z-Z.min())/(Z.max()-Z.min()))\n",
    "    surf = ax.plot_surface(mg.node_x.reshape(mg.shape),#[y1:y2, x1:x2]\n",
    "                           mg.node_y.reshape(mg.shape),#[y1:y2, x1:x2]\n",
    "                           Z,\n",
    "                           rstride=1, cstride=1,\n",
    "                           facecolors=color,\n",
    "                           linewidth=0.,\n",
    "                           antialiased=False)\n",
    "    ax.view_init(elev=35, azim=-120)\n",
    "    ax.set_xlabel('X axis')\n",
    "    ax.set_ylabel('Y axis')\n",
    "    ax.set_zlabel('Elevation')\n",
    "    plt.title(title)\n",
    "    plt.show()"
   ]
  },
  {
   "cell_type": "markdown",
   "metadata": {},
   "source": [
    "## Define required functions."
   ]
  },
  {
   "cell_type": "code",
   "execution_count": 2,
   "metadata": {
    "code_folding": [
     0,
     6,
     18,
     24,
     35,
     44,
     52,
     60
    ]
   },
   "outputs": [],
   "source": [
    "def rectangleWindow(m, n):\n",
    "    \"\"\"Takes a value for number of rows (m) and number of columns (n) such that\n",
    "       m and n are both positive real numbers and creates a rectangle of \n",
    "       boolian 'True' values.\"\"\"\n",
    "    rectangle = np.ones((m, n), dtype=bool) \n",
    "    return rectangle\n",
    "def number_of_values(Window):\n",
    "    \"\"\"This funciton takes the shape function as an input and returns a number \n",
    "        of values present in the specified shape. \n",
    "        \n",
    "        This can be different for a different window shape and to initialize\n",
    "        requires the specification of the function for the given window type and \n",
    "        parameter values required for that input function.\n",
    "        \n",
    "        To initialize this function for shape == rectangle type 'number_of_values(rectangleWindow(m,n)) \n",
    "        where m and n are any positive real number as per the rectangleWindow function.\"\"\"\n",
    "    denominator = sum(sum(Window > 0))\n",
    "    return denominator\n",
    "def circleWindow(radius):\n",
    "    \"\"\"Takes a value for radius (r where r is any positive real number) and creates \n",
    "       a circular window using that radius.\"\"\"\n",
    "    y, x = np.ogrid[-radius: radius + 1, -radius: radius + 1]\n",
    "    circle = x**2 + y**2 <= radius**2\n",
    "    return circle\n",
    "def find_median_value(Window):\n",
    "    \"\"\"This function takes the shape function and returns the median value \n",
    "        for all valid values (values that fall in the circle) arranged into a \n",
    "        1d array. The function also takes the number_of_values function as an input.\n",
    "        To execute this function type 'find_median_value(shape(r)) where r is any integer.\n",
    "        #Note: using median like this only gives the correct value for circles with odd \n",
    "        radius values.\"\"\"\n",
    "    no_values = number_of_values(Window)\n",
    "    value_range = np.arange(0, no_values + 1)\n",
    "    central_value = int(np.median(value_range))\n",
    "    return central_value\n",
    "def difference_from_mean_elevation(elev):\n",
    "    \"\"\"This function only works as an inside function to generic_filter function below. This\n",
    "       is because generic_filter will take a 2d array and reshape it into a 1d array. Without this \n",
    "       step the 'central_value' variable will be outside of the array dimensions. \n",
    "       x = input DEM and r = radius of search window \"\"\"\n",
    "    centroid = elev[central_value]                        \n",
    "    mean = np.nanmean(elev)#Count number of values greater than centroid value\n",
    "    diff = centroid - mean\n",
    "    return diff\n",
    "def meanFilter(gidded_data):\n",
    "    \"\"\"This function only works as an inside function to generic_filter function below. This\n",
    "       is because generic_filter will take a 2d array and reshape it into a 1d array. Without this \n",
    "       step the 'central_value' variable will be outside of the array dimensions. \n",
    "       x = input DEM and r = radius of search window \"\"\"\n",
    "    centroid = gidded_data[central_value]                        \n",
    "    mean = np.nanmean(gidded_data)#Count number of values greater than centroid value\n",
    "    return mean\n",
    "def maxFilter(gidded_data):\n",
    "    \"\"\"This function only works as an inside function to generic_filter function below. This\n",
    "       is because generic_filter will take a 2d array and reshape it into a 1d array. Without this \n",
    "       step the 'central_value' variable will be outside of the array dimensions. \n",
    "       x = input DEM and r = radius of search window \"\"\"\n",
    "    centroid = gidded_data[central_value]                        \n",
    "    max_value = np.amax(gidded_data)#Count number of values greater than centroid value\n",
    "    return max_value\n",
    "def upslopeDivergence(catchment_area_list, change_detection_factor, step_size, comparison_distance):\n",
    "    \n",
    "    \"\"\"\"Looks at whether catchment area is increasing at any point upstream of a gully head.\n",
    "    \n",
    "    - 'catchment_area_list' is an ordered list of node catchment areas moving upstream.\n",
    "    \n",
    "    - 'change_detection_factor' is the percentage increase required for the function to consider the change\n",
    "    to represent a point of divergent flow.\n",
    "    \n",
    "    - 'step_size' is the number of grid cells to be compared in downstream to upstream groups. E.g. step_size == 1 \n",
    "    will compare node 1 and node 2, but step_size == 2 will compare node 1 and 2 to node 3 and 4.\n",
    "    \n",
    "    - 'comparison_distance' is the distance between the downstream nodes being compared to upstream nodes.\"\"\"\n",
    "    \n",
    "    max_value_length = len(catchment_area_list) - step_size - comparison_distance - step_size\n",
    "    for i in range(0, max_value_length):\n",
    "                \n",
    "        start_of_downstream_nodes = i\n",
    "        end_of_downstream_nodes = i + step_size       \n",
    "        downstream_nodes = catchment_area_list[start_of_downstream_nodes:end_of_downstream_nodes]\n",
    "        \n",
    "        start_of_upstream_nodes = i + step_size + comparison_distance\n",
    "        end_of_usptreat_nodes = start_of_upstream_nodes + step_size\n",
    "        upstream_nodes = catchment_area_list[start_of_upstream_nodes:end_of_usptreat_nodes]\n",
    "        \n",
    "        required_catchment_area_increase = max(downstream_nodes) + (max(downstream_nodes) * change_detection_factor)\n",
    "        \n",
    "        if all(nodes >= required_catchment_area_increase for nodes in upstream_nodes):\n",
    "            divergence = 1\n",
    "            break\n",
    "        else:\n",
    "            divergence = 0\n",
    "    return divergence"
   ]
  },
  {
   "cell_type": "markdown",
   "metadata": {},
   "source": [
    "## Setup input data \n",
    "Define spatial resolution: Specify the resolution of the input DEM and also the desired working resolution (can be same as input DEM resolution)."
   ]
  },
  {
   "cell_type": "code",
   "execution_count": 3,
   "metadata": {},
   "outputs": [],
   "source": [
    "input_DEM_resolution = 1\n",
    "working_resolution = 1\n",
    "location = (r'C:/PhD/manuscript/flow_routing_algorithms/data')\n",
    "os.chdir(location)\n",
    "input_geotiff = gdal.Open('fann_2013_1m.tif')\n",
    "x = np.array(input_geotiff.GetRasterBand(1).ReadAsArray())\n",
    "input_DEM = scipy.ndimage.zoom(x, input_DEM_resolution / working_resolution, order = 1)\n",
    "input_outlets = gdal.Open('core_nodes_1m.tif')\n",
    "o = np.array(input_outlets.GetRasterBand(1).ReadAsArray())\n",
    "outlets = o.astype('uint8')\n"
   ]
  },
  {
   "cell_type": "code",
   "execution_count": 4,
   "metadata": {},
   "outputs": [],
   "source": [
    "p = o.astype('int32')\n",
    "l = np.unique(p)"
   ]
  },
  {
   "cell_type": "code",
   "execution_count": 5,
   "metadata": {},
   "outputs": [],
   "source": [
    "gh_list = l.tolist();\n",
    "gh_list.remove(0);"
   ]
  },
  {
   "cell_type": "code",
   "execution_count": 6,
   "metadata": {},
   "outputs": [
    {
     "data": {
      "text/plain": [
       "1"
      ]
     },
     "execution_count": 6,
     "metadata": {},
     "output_type": "execute_result"
    }
   ],
   "source": [
    "len(gh_list)"
   ]
  },
  {
   "cell_type": "code",
   "execution_count": 71,
   "metadata": {},
   "outputs": [
    {
     "data": {
      "text/plain": [
       "(6354, 10873)"
      ]
     },
     "execution_count": 71,
     "metadata": {},
     "output_type": "execute_result"
    }
   ],
   "source": [
    "input_DEM.shape"
   ]
  },
  {
   "cell_type": "code",
   "execution_count": 72,
   "metadata": {},
   "outputs": [
    {
     "data": {
      "text/plain": [
       "[1]"
      ]
     },
     "execution_count": 72,
     "metadata": {},
     "output_type": "execute_result"
    }
   ],
   "source": [
    "gh_list"
   ]
  },
  {
   "cell_type": "code",
   "execution_count": 185,
   "metadata": {},
   "outputs": [],
   "source": [
    "divergence_ids_adjusted_nodes = np.isin(grid_nodes,gh_list).astype('uint8')"
   ]
  },
  {
   "cell_type": "code",
   "execution_count": 192,
   "metadata": {},
   "outputs": [],
   "source": [
    "convergence_ids_adjusted_nodes = np.isin(grid_nodes,gh_list).astype('uint8')"
   ]
  },
  {
   "cell_type": "code",
   "execution_count": 93,
   "metadata": {},
   "outputs": [
    {
     "data": {
      "image/png": "[encoded data removed]",
      "text/plain": [
       "<Figure size 432x288 with 2 Axes>"
      ]
     },
     "metadata": {
      "needs_background": "light"
     },
     "output_type": "display_data"
    }
   ],
   "source": [
    "plt.imshow(convergence_ids_adjusted_nodes, cmap=\"terrain\");\n",
    "plt.colorbar();"
   ]
  },
  {
   "cell_type": "markdown",
   "metadata": {},
   "source": [
    "## Visualise the DEM."
   ]
  },
  {
   "cell_type": "code",
   "execution_count": 15,
   "metadata": {},
   "outputs": [
    {
     "data": {
      "image/png": "[encoded data removed]",
      "text/plain": [
       "<Figure size 432x288 with 2 Axes>"
      ]
     },
     "metadata": {
      "needs_background": "light"
     },
     "output_type": "display_data"
    }
   ],
   "source": [
    "plt.imshow(o, cmap=\"terrain\", vmin = np.percentile(input_DEM, 5));\n",
    "plt.colorbar();"
   ]
  },
  {
   "cell_type": "markdown",
   "metadata": {},
   "source": []
  },
  {
   "cell_type": "markdown",
   "metadata": {},
   "source": [
    "## Setup a RasterModelGrid object and assign elevation to nodes."
   ]
  },
  {
   "cell_type": "code",
   "execution_count": 29,
   "metadata": {},
   "outputs": [],
   "source": [
    "catchment_area_grids = xr.Dataset()\n",
    "direction_list = ['East', 'North', 'West', 'South',\n",
    "                  'North East', 'North West', 'South West', 'South East'];\n",
    "#################################################################################################\n",
    "flow_acc_surf = np.copy(input_DEM).astype('float64');\n",
    "#################################################################################################\n",
    "rows = flow_acc_surf.shape[0];\n",
    "cols = flow_acc_surf.shape[1];\n",
    "mg = RasterModelGrid((rows,cols), 1);\n",
    "z1 = mg.add_field('topographic__elevation', flow_acc_surf, at = 'node');"
   ]
  },
  {
   "cell_type": "markdown",
   "metadata": {},
   "source": [
    "## Find the node ID of the outlet.\n",
    "Note: Outlet spatial location is given by the 'outlets' variable assigned under \"Setup input data.\""
   ]
  },
  {
   "cell_type": "code",
   "execution_count": 30,
   "metadata": {},
   "outputs": [],
   "source": [
    "grid_nodes = np.array(mg.nodes.reshape(mg.shape))"
   ]
  },
  {
   "cell_type": "code",
   "execution_count": 31,
   "metadata": {},
   "outputs": [
    {
     "data": {
      "text/plain": [
       "(733, 558)"
      ]
     },
     "execution_count": 31,
     "metadata": {},
     "output_type": "execute_result"
    }
   ],
   "source": [
    "grid_nodes.shape"
   ]
  },
  {
   "cell_type": "code",
   "execution_count": 32,
   "metadata": {},
   "outputs": [],
   "source": [
    "find_outlet_ids = grid_nodes * outlets"
   ]
  },
  {
   "cell_type": "code",
   "execution_count": 33,
   "metadata": {},
   "outputs": [
    {
     "data": {
      "text/plain": [
       "121312"
      ]
     },
     "execution_count": 33,
     "metadata": {},
     "output_type": "execute_result"
    }
   ],
   "source": [
    "find_outlet_ids = grid_nodes * outlets\n",
    "outlet_id = np.unique(find_outlet_ids)[1]\n",
    "outlet_id"
   ]
  },
  {
   "cell_type": "markdown",
   "metadata": {},
   "source": [
    "## Fill sinks and run flow accumulation."
   ]
  },
  {
   "cell_type": "code",
   "execution_count": 34,
   "metadata": {},
   "outputs": [],
   "source": [
    "sfb = SinkFillerBarnes(mg, method = 'Steepest', ignore_overfill = True);\n",
    "sfb.run_one_step();\n",
    "fa = FlowAccumulator(mg,\n",
    "                    surface = 'topographic__elevation',\n",
    "                    flow_director = 'FlowDirectorMFD',\n",
    "                    diagonals = True);\n",
    "#(flow_acc, q) = fa.accumulate_flow();\n",
    "fa.run_one_step()\n",
    "fd = FlowDirectorMFD(mg, 'topographic__elevation', diagonals = True);\n",
    "fd.run_one_step()"
   ]
  },
  {
   "cell_type": "markdown",
   "metadata": {},
   "source": [
    "## Show a list of values located on each node."
   ]
  },
  {
   "cell_type": "code",
   "execution_count": 35,
   "metadata": {},
   "outputs": [
    {
     "data": {
      "text/plain": [
       "['topographic__elevation',\n",
       " 'sediment_fill__depth',\n",
       " 'water__unit_flux_in',\n",
       " 'flow__link_to_receiver_node',\n",
       " 'flow__receiver_node',\n",
       " 'flow__receiver_proportions',\n",
       " 'topographic__steepest_slope',\n",
       " 'drainage_area',\n",
       " 'flow__data_structure_delta',\n",
       " 'flow__upstream_node_order',\n",
       " 'surface_water__discharge',\n",
       " 'flow__sink_flag']"
      ]
     },
     "execution_count": 35,
     "metadata": {},
     "output_type": "execute_result"
    }
   ],
   "source": [
    "mg.at_node.keys()"
   ]
  },
  {
   "cell_type": "markdown",
   "metadata": {},
   "source": [
    "## Assign some of the above values to variables."
   ]
  },
  {
   "cell_type": "code",
   "execution_count": 36,
   "metadata": {},
   "outputs": [],
   "source": [
    "da = np.array(mg.at_node['drainage_area'].round(4));\n",
    "catchment_area_ha = np.divide(da.reshape(mg.shape), (100/working_resolution)**2)\n",
    "catchment_area = da.reshape(mg.shape)\n",
    "frn = mg.at_node['flow__receiver_node'];\n",
    "drainage_area = np.flip(da.reshape(mg.shape), 0);\n",
    "wuf = np.array(mg.at_node['water__unit_flux_in']);\n",
    "frp = np.array(mg.at_node['flow__receiver_proportions']);\n",
    "funo = np.array(mg.at_node['flow__upstream_node_order'].reshape(mg.shape));\n",
    "ns = np.flip(mg.status_at_node.reshape(mg.shape), 0);\n",
    "flow_rec_surf_rows = cols * rows;\n",
    "flow_rec_surf = frp.reshape(flow_rec_surf_rows,8);\n",
    "flrn = mg.at_node['flow__link_to_receiver_node'];\n",
    "links_carrying_flow = flrn.reshape(flow_rec_surf_rows,8);\n",
    "tss = mg.at_node['topographic__steepest_slope'];\n",
    "steepest_slope = tss.reshape(flow_rec_surf_rows,8);\n",
    "all_receiver_proportions = np.copy(frp);\n"
   ]
  },
  {
   "cell_type": "code",
   "execution_count": 37,
   "metadata": {},
   "outputs": [
    {
     "data": {
      "text/plain": [
       "(409014,)"
      ]
     },
     "execution_count": 37,
     "metadata": {},
     "output_type": "execute_result"
    }
   ],
   "source": [
    "da.shape"
   ]
  },
  {
   "cell_type": "code",
   "execution_count": 38,
   "metadata": {},
   "outputs": [],
   "source": [
    "central_value = find_median_value(rectangleWindow(3,3))\n",
    "num_values = number_of_values(rectangleWindow(3,3))"
   ]
  },
  {
   "cell_type": "code",
   "execution_count": 29,
   "metadata": {},
   "outputs": [],
   "source": [
    "mean_catchment_area = generic_filter(catchment_area, meanFilter, \n",
    "                        footprint= rectangleWindow(3,3), mode='nearest');"
   ]
  },
  {
   "cell_type": "code",
   "execution_count": 30,
   "metadata": {},
   "outputs": [],
   "source": [
    "flattened_mean_catchment_area = mean_catchment_area.reshape(da.shape)"
   ]
  },
  {
   "cell_type": "code",
   "execution_count": 39,
   "metadata": {},
   "outputs": [
    {
     "ename": "NameError",
     "evalue": "name 'mean_catchment_area' is not defined",
     "output_type": "error",
     "traceback": [
      "\u001b[1;31m---------------------------------------------------------------------------\u001b[0m",
      "\u001b[1;31mNameError\u001b[0m                                 Traceback (most recent call last)",
      "\u001b[1;32m<ipython-input-39-1fd7d9ecceb7>\u001b[0m in \u001b[0;36m<module>\u001b[1;34m\u001b[0m\n\u001b[1;32m----> 1\u001b[1;33m \u001b[0mplt\u001b[0m\u001b[1;33m.\u001b[0m\u001b[0mimshow\u001b[0m\u001b[1;33m(\u001b[0m\u001b[0mmean_catchment_area\u001b[0m\u001b[1;33m,\u001b[0m \u001b[0mcmap\u001b[0m\u001b[1;33m=\u001b[0m\u001b[1;34m\"Blues\"\u001b[0m\u001b[1;33m)\u001b[0m\u001b[1;33m;\u001b[0m\u001b[1;33m\u001b[0m\u001b[1;33m\u001b[0m\u001b[0m\n\u001b[0m\u001b[0;32m      2\u001b[0m \u001b[0mplt\u001b[0m\u001b[1;33m.\u001b[0m\u001b[0mcolorbar\u001b[0m\u001b[1;33m(\u001b[0m\u001b[1;33m)\u001b[0m\u001b[1;33m;\u001b[0m\u001b[1;33m\u001b[0m\u001b[1;33m\u001b[0m\u001b[0m\n",
      "\u001b[1;31mNameError\u001b[0m: name 'mean_catchment_area' is not defined"
     ]
    }
   ],
   "source": [
    "plt.imshow(mean_catchment_area, cmap=\"Blues\");\n",
    "plt.colorbar();"
   ]
  },
  {
   "cell_type": "markdown",
   "metadata": {},
   "source": [
    "For each flow direction (given by the second index position of the flow__receiver_node object) find the rows (where each row is a single grid cell) that are contributing to a target grid cell. The target grid cell in the first instance will be the outlet node, and then the list of target grid cells will expand with every processing step."
   ]
  },
  {
   "cell_type": "code",
   "execution_count": 40,
   "metadata": {
    "scrolled": true
   },
   "outputs": [
    {
     "name": "stdout",
     "output_type": "stream",
     "text": [
      "[121312]\n",
      "[121870]\n",
      "[122427]\n",
      "[122984]\n",
      "[123542]\n",
      "[124100]\n",
      "[124657]\n",
      "[125215]\n",
      "[125773]\n",
      "[126330]\n",
      "[126889]\n",
      "[126890]\n",
      "[126891]\n",
      "[127450]\n",
      "[128007]\n",
      "[128565]\n",
      "[129123]\n",
      "[129682]\n",
      "[130240]\n",
      "[130799]\n",
      "[131358]\n",
      "[131917]\n",
      "[132475]\n",
      "[133032]\n",
      "[133589]\n",
      "[134146]\n",
      "[134704]\n",
      "[135262]\n",
      "[135820]\n",
      "[136377]\n",
      "[136936]\n",
      "[137493]\n",
      "[138050]\n",
      "[138049]\n",
      "[138048]\n",
      "[138605]\n",
      "[138604]\n",
      "[138603]\n",
      "[139160]\n",
      "[139718]\n",
      "[140276]\n",
      "[140834]\n",
      "[141392]\n",
      "[141950]\n",
      "[142508]\n",
      "[143066]\n",
      "[143624]\n",
      "[144183]\n",
      "[144741]\n",
      "[145300]\n",
      "[145858]\n",
      "[146416]\n",
      "[146974]\n",
      "[147532]\n",
      "[148090]\n",
      "[148648]\n",
      "[149206]\n",
      "[149764]\n",
      "[150322]\n",
      "[150881]\n",
      "[151438]\n",
      "[151437]\n",
      "[151994]\n",
      "[151993]\n",
      "[151992]\n",
      "[151991]\n",
      "[151990]\n",
      "[152547]\n",
      "[153105]\n",
      "[153664]\n",
      "[153665]\n",
      "[154223]\n",
      "[154781]\n",
      "[155340]\n",
      "[155341]\n",
      "[155899]\n",
      "[156457]\n",
      "[157015]\n",
      "[157572]\n",
      "[158129]\n",
      "[158686]\n",
      "[159243]\n",
      "[159801]\n",
      "[160360]\n",
      "[160919]\n",
      "[161478]\n",
      "[161479]\n",
      "[161480]\n",
      "[161481]\n",
      "[162040]\n",
      "[162598]\n",
      "[163155]\n",
      "[163713]\n",
      "[164271]\n",
      "[164829]\n",
      "[165388]\n",
      "[165946]\n",
      "[166504]\n",
      "[167062]\n",
      "[167621]\n",
      "[168179]\n",
      "[168737]\n",
      "[169295]\n",
      "[169853]\n",
      "[170411]\n",
      "[170969]\n",
      "[171527]\n",
      "[172085]\n",
      "[172643]\n",
      "[173201]\n",
      "[173758]\n",
      "[174316]\n",
      "[174874]\n",
      "[175432]\n",
      "[175989]\n",
      "[176547]\n",
      "[177104]\n",
      "[177661]\n",
      "[178219]\n",
      "[178218]\n",
      "[178775]\n",
      "[179333]\n",
      "[179891]\n",
      "[180448]\n",
      "[181005]\n",
      "[181563]\n",
      "[182120]\n",
      "[182677]\n",
      "[183235]\n",
      "[183792]\n",
      "[184350]\n",
      "[184908]\n",
      "[185465]\n",
      "[186023]\n",
      "[186581]\n",
      "[187138]\n",
      "[187696]\n",
      "[188254]\n",
      "[188812]\n",
      "[189369]\n",
      "[189928]\n",
      "[190485]\n",
      "[191042]\n",
      "[191600]\n",
      "[192158]\n",
      "[192716]\n",
      "[193274]\n",
      "[193832]\n",
      "[194389]\n",
      "[194946]\n",
      "[195503]\n",
      "[196061]\n",
      "[196619]\n",
      "[197177]\n",
      "[197735]\n",
      "[198293]\n",
      "[198851]\n",
      "[199409]\n",
      "[199966]\n",
      "[200525]\n",
      "[201084]\n",
      "[201642]\n",
      "[202200]\n",
      "[202758]\n",
      "[203316]\n",
      "[203875]\n",
      "[204433]\n",
      "[204991]\n",
      "[205549]\n",
      "[206107]\n",
      "[206665]\n",
      "[207223]\n",
      "[207781]\n",
      "[208338]\n",
      "[208895]\n",
      "[209453]\n",
      "[210012]\n",
      "[210570]\n",
      "[211128]\n",
      "[211686]\n",
      "[212244]\n",
      "[212801]\n",
      "[213358]\n",
      "[213916]\n",
      "[214473]\n",
      "[215032]\n",
      "[215591]\n",
      "[216149]\n",
      "[216708]\n",
      "[217267]\n",
      "[217826]\n",
      "[218384]\n",
      "[218943]\n",
      "[218944]\n",
      "[219502]\n",
      "[220061]\n",
      "[220619]\n",
      "[220620]\n",
      "[221179]\n",
      "[221737]\n",
      "Time taken =  22.09114610000006 seconds\n"
     ]
    }
   ],
   "source": [
    "start = timeit.default_timer()\n",
    "# Specific the size of the area to be checked. This represents a physical distance from the \n",
    "# outlet but has no unit of measure.\n",
    "node_area_dict = {}\n",
    "node_full_area_dict = {}\n",
    "node_mean_area_dict = {}\n",
    "distance_from_outlet = 200\n",
    "# This value is used to initialise the search.\n",
    "catchment_outlet_id = outlet_id\n",
    "# Initate an outer loop that iterates through every distance interval from the outlet.\n",
    "watershed_grid_cells = []\n",
    "node_location = mg.nodes.reshape(da.shape)\n",
    "ordered_node_list = []\n",
    "\n",
    "for i in range(0, distance_from_outlet):\n",
    "    # Just look at watershed grid cells here.\n",
    "    \n",
    "    # Create a list initially containing only the outlet grid cell.\n",
    "    if i == 0:\n",
    "        candidate_gridcells = [catchment_outlet_id];\n",
    "    else:\n",
    "        candidate_gridcells = list(set(upstream_nodes));\n",
    "    # Empty the list of upsteam nodes.\n",
    "    upstream_node_dict = {};\n",
    "    upstream_full_area_dict = {};\n",
    "    upstream_mean_area_dict = {}\n",
    "    # Intiate a new loop to check every gridcell at the current interval distance.\n",
    "    print(candidate_gridcells)\n",
    "    for grid_cell in candidate_gridcells:\n",
    "        # Check each flow direction of the current grid cell.The second dimension of the \n",
    "        # flow__receiver_node object will always be size == 8.\n",
    "        for j in range(frn.shape[1]):\n",
    "            # Return all rows (grid nodes) that send any flow to the target grid cell.\n",
    "            # Note: This can only be one grid cell because the prgram is looping through\n",
    "            # each direction one at a time so only one grid cell can be sending flow from any\n",
    "            # one given direction.\n",
    "            flow_from_whole_grid_cell = frn[np.where(frn[:,j] == grid_cell)];\n",
    "            # Check if the current direction contributes flow. If not, do nothing. \n",
    "            # Else, append to dictionary.\n",
    "            if flow_from_whole_grid_cell.shape[0] == 0:\n",
    "                pass\n",
    "            else:\n",
    "                # Below variable finds the row position of the flow_from_direction gridcell\n",
    "                # in the flow__receiver_node array. This corresponds to the contributing\n",
    "                # cell's node id.\n",
    "                node_id_value = np.where(np.all(flow_from_whole_grid_cell==frn,axis=1))[0][0];\n",
    "                #Find the proportion of flow leaving the donor node and heading toward \n",
    "                # the current grid cell.\n",
    "                proportion_of_flow = frp[node_id_value, j]\n",
    "                # Create a boolean array to use as mask on drainage area.\n",
    "                isolate_candidate_grid_cells = np.isin(node_location, node_id_value)\n",
    "                node_drainage_area = np.amax(np.multiply(isolate_candidate_grid_cells, da))\n",
    "                node_directional_drainage_area = node_drainage_area * proportion_of_flow\n",
    "                upstream_node_dict.update({node_id_value:node_directional_drainage_area});\n",
    "\n",
    "                \n",
    "        if len(upstream_node_dict) == 0:\n",
    "            print (\"dictionary empty\")\n",
    "        else:\n",
    "            primary_flow_direction_id = max(upstream_node_dict.items(), key=operator.itemgetter(1))[0]\n",
    "            upstream_nodes = []\n",
    "            upstream_nodes.append(primary_flow_direction_id);\n",
    "            ordered_node_list.append(primary_flow_direction_id);\n",
    "            watershed_grid_cells.append(primary_flow_direction_id);\n",
    "            node_area_dict[primary_flow_direction_id] = upstream_node_dict[primary_flow_direction_id]\n",
    "\n",
    "                              \n",
    "stop=timeit.default_timer()\n",
    "time = stop - start\n",
    "print('Time taken' + ' = ', time, 'seconds')"
   ]
  },
  {
   "cell_type": "markdown",
   "metadata": {},
   "source": [
    "## Maybe can just use moving window to find mean then of catchment area then use that instead of catchment area. Would just implement this exactly the same way the upstream_node_dict works."
   ]
  },
  {
   "cell_type": "code",
   "execution_count": 41,
   "metadata": {
    "code_folding": [],
    "scrolled": true
   },
   "outputs": [],
   "source": [
    "h = []\n",
    "for key, value in node_area_dict.items():\n",
    "    h.append(value)\n",
    "    "
   ]
  },
  {
   "cell_type": "code",
   "execution_count": 53,
   "metadata": {},
   "outputs": [],
   "source": [
    "j = ndimage.median_filter(h, size=10)"
   ]
  },
  {
   "cell_type": "code",
   "execution_count": 54,
   "metadata": {},
   "outputs": [
    {
     "data": {
      "text/plain": [
       "[<matplotlib.lines.Line2D at 0x1b8bd9b4f88>]"
      ]
     },
     "execution_count": 54,
     "metadata": {},
     "output_type": "execute_result"
    },
    {
     "data": {
      "image/png": "[encoded data removed]",
      "text/plain": [
       "<Figure size 432x288 with 1 Axes>"
      ]
     },
     "metadata": {
      "needs_background": "light"
     },
     "output_type": "display_data"
    }
   ],
   "source": [
    "plt.plot(h)"
   ]
  },
  {
   "cell_type": "code",
   "execution_count": 55,
   "metadata": {},
   "outputs": [
    {
     "data": {
      "text/plain": [
       "[<matplotlib.lines.Line2D at 0x1b8bd99dec8>]"
      ]
     },
     "execution_count": 55,
     "metadata": {},
     "output_type": "execute_result"
    },
    {
     "data": {
      "image/png": "[encoded data removed]",
      "text/plain": [
       "<Figure size 432x288 with 1 Axes>"
      ]
     },
     "metadata": {
      "needs_background": "light"
     },
     "output_type": "display_data"
    }
   ],
   "source": [
    "plt.plot(j)"
   ]
  },
  {
   "cell_type": "code",
   "execution_count": 45,
   "metadata": {},
   "outputs": [
    {
     "data": {
      "text/plain": [
       "1"
      ]
     },
     "execution_count": 45,
     "metadata": {},
     "output_type": "execute_result"
    }
   ],
   "source": [
    "upslopeDivergence(j, 0.5, 3, 3)"
   ]
  },
  {
   "cell_type": "code",
   "execution_count": 46,
   "metadata": {},
   "outputs": [],
   "source": [
    "preliminary_width = np.isin(node_location,watershed_grid_cells)\n",
    "flow_width = (preliminary_width * da).reshape(mg.shape)"
   ]
  },
  {
   "cell_type": "code",
   "execution_count": 47,
   "metadata": {},
   "outputs": [],
   "source": [
    "flow_width[flow_width==0] = np.nan"
   ]
  },
  {
   "cell_type": "code",
   "execution_count": 48,
   "metadata": {},
   "outputs": [],
   "source": [
    "flow_grid_nodes = (preliminary_width * da).reshape(mg.shape)"
   ]
  },
  {
   "cell_type": "code",
   "execution_count": 49,
   "metadata": {},
   "outputs": [
    {
     "data": {
      "text/plain": [
       "200"
      ]
     },
     "execution_count": 49,
     "metadata": {},
     "output_type": "execute_result"
    }
   ],
   "source": [
    "len(ordered_node_list)"
   ]
  },
  {
   "cell_type": "code",
   "execution_count": 50,
   "metadata": {},
   "outputs": [
    {
     "data": {
      "image/png": "[encoded data removed]",
      "text/plain": [
       "<Figure size 864x864 with 2 Axes>"
      ]
     },
     "metadata": {
      "needs_background": "light"
     },
     "output_type": "display_data"
    }
   ],
   "source": [
    "plt.figure(figsize=(12,12))\n",
    "plt.imshow(flow_width, cmap=\"gist_earth_r\");\n",
    "plt.colorbar();"
   ]
  },
  {
   "cell_type": "code",
   "execution_count": 51,
   "metadata": {
    "code_folding": [
     0
    ]
   },
   "outputs": [],
   "source": [
    "def np_array_to_Geotiff(newfile, original_tiff, np_array, dtype):\n",
    "    \n",
    "    cols = np_array.shape[1]\n",
    "    rows = np_array.shape[0]\n",
    "    originX, pixelWidth, b, originY, d, pixelHeight = original_tiff.GetGeoTransform() \n",
    "    driver = gdal.GetDriverByName('GTiff')\n",
    "    GDT_dtype = gdal.GDT_Unknown\n",
    "    if dtype == \"Float64\": \n",
    "        GDT_dtype = gdal.GDT_Float64\n",
    "    elif dtype == \"Float32\":\n",
    "        GDT_dtype = gdal.GDT_Float32\n",
    "    else:\n",
    "        print(\"Not supported data type.\")\n",
    "    \n",
    "    if np_array.ndim == 2:\n",
    "        band_num = 1\n",
    "    else:\n",
    "        band_num = np_array.shape[2]\n",
    "\n",
    "    outRaster = driver.Create(newfile, cols, rows, band_num, GDT_dtype)\n",
    "    outRaster.SetGeoTransform((originX, pixelWidth, 0, originY, 0, pixelHeight))\n",
    "    \n",
    "    # Loop over all bands.\n",
    "    for b in range(band_num):\n",
    "        outband = outRaster.GetRasterBand(b + 1)\n",
    "    \n",
    "        # Read in the band's data into the third dimension of our array\n",
    "        if band_num == 1:\n",
    "            outband.WriteArray(np_array)\n",
    "        else:\n",
    "            outband.WriteArray(np_array[:,:,b])\n",
    "\n",
    "    # setteing srs from input tif file.\n",
    "    prj=original_tiff.GetProjection()\n",
    "    outRasterSRS = osr.SpatialReference(wkt=prj)\n",
    "    outRaster.SetProjection(outRasterSRS.ExportToWkt())\n",
    "    outband.FlushCache()\n",
    "    outRaster = None\n",
    "    \n",
    "    return outRaster"
   ]
  },
  {
   "cell_type": "code",
   "execution_count": 52,
   "metadata": {},
   "outputs": [
    {
     "name": "stderr",
     "output_type": "stream",
     "text": [
      "C:\\Users\\sjwal\\Anaconda3\\lib\\site-packages\\ipykernel_launcher.py:8: DeprecationWarning: Numeric-style type codes are deprecated and will result in an error in the future.\n",
      "  \n",
      "C:\\Users\\sjwal\\Anaconda3\\lib\\site-packages\\ipykernel_launcher.py:10: DeprecationWarning: Numeric-style type codes are deprecated and will result in an error in the future.\n",
      "  # Remove the CWD from sys.path while we load stuff.\n"
     ]
    }
   ],
   "source": [
    "np_array_to_Geotiff('div_flow.tif', input_geotiff, flow_width, input_DEM.dtype)"
   ]
  },
  {
   "cell_type": "code",
   "execution_count": null,
   "metadata": {},
   "outputs": [],
   "source": []
  },
  {
   "cell_type": "code",
   "execution_count": null,
   "metadata": {},
   "outputs": [],
   "source": []
  },
  {
   "cell_type": "code",
   "execution_count": null,
   "metadata": {},
   "outputs": [],
   "source": []
  }
 ],
 "metadata": {
  "kernelspec": {
   "display_name": "Python 3",
   "language": "python",
   "name": "python3"
  },
  "language_info": {
   "codemirror_mode": {
    "name": "ipython",
    "version": 3
   },
   "file_extension": ".py",
   "mimetype": "text/x-python",
   "name": "python",
   "nbconvert_exporter": "python",
   "pygments_lexer": "ipython3",
   "version": "3.7.7"
  }
 },
 "nbformat": 4,
 "nbformat_minor": 4
}
