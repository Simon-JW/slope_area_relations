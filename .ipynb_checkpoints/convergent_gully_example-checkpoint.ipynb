{
 "cells": [
  {
   "cell_type": "markdown",
   "metadata": {},
   "source": [
    "## Import required libraries."
   ]
  },
  {
   "cell_type": "code",
   "execution_count": 1,
   "metadata": {
    "code_folding": [
     43
    ]
   },
   "outputs": [],
   "source": [
    "%%capture\n",
    "import operator\n",
    "import seaborn as sns; sns.set()\n",
    "from jupyterthemes import jtplot\n",
    "jtplot.style()\n",
    "import numpy as np\n",
    "from landlab import FieldError\n",
    "from landlab.utils import get_watershed_mask\n",
    "import xarray as xr\n",
    "import pandas as pd\n",
    "import scipy\n",
    "import gdal\n",
    "from scipy import ndimage\n",
    "from scipy.ndimage.filters import *\n",
    "from scipy.interpolate import InterpolatedUnivariateSpline\n",
    "from scipy.signal import medfilt\n",
    "import os\n",
    "import math\n",
    "from osgeo import osr\n",
    "from fractions import Fraction\n",
    "import timeit\n",
    "import matplotlib.pyplot as plt\n",
    "#import matplotlib.image as mpimg\n",
    "%matplotlib inline\n",
    "import random\n",
    "# import plotting tools\n",
    "from mpl_toolkits.mplot3d import Axes3D\n",
    "import matplotlib.pyplot as plt\n",
    "from matplotlib import cm\n",
    "from matplotlib.ticker import LinearLocator, FormatStrFormatter\n",
    "import matplotlib as mpl\n",
    "from landlab.plot.imshow import imshow_grid \n",
    "\n",
    "# import necessary landlab components\n",
    "from landlab import RasterModelGrid, HexModelGrid\n",
    "from landlab.components import FlowAccumulator,LakeMapperBarnes, SinkFillerBarnes\n",
    "from landlab.components import(FlowDirectorD8, \n",
    "                               FlowDirectorDINF, \n",
    "                               FlowDirectorMFD, \n",
    "                               FlowDirectorSteepest)\n",
    "from landlab.components import DepressionFinderAndRouter\n",
    "# import landlab plotting functionality\n",
    "from landlab.plot.drainage_plot import drainage_plot\n",
    "from pylab import show, figure\n",
    "\n",
    "# create a plotting routine to make a 3d plot of our surface. \n",
    "def surf_plot(mg, surface='topographic__elevation', \n",
    "              title='Surface plot of topography', colormap = cm.gray):\n",
    "    \n",
    "    fig = plt.figure()\n",
    "    ax = fig.gca(projection='3d')\n",
    "\n",
    "    # Plot the surface.\n",
    "    Z = (mg.at_node[surface].reshape(mg.shape))#[y1:y2, x1:x2]\n",
    "    color = colormap((Z-Z.min())/(Z.max()-Z.min()))\n",
    "    surf = ax.plot_surface(mg.node_x.reshape(mg.shape),#[y1:y2, x1:x2]\n",
    "                           mg.node_y.reshape(mg.shape),#[y1:y2, x1:x2]\n",
    "                           Z,\n",
    "                           rstride=1, cstride=1,\n",
    "                           facecolors=color,\n",
    "                           linewidth=0.,\n",
    "                           antialiased=False)\n",
    "    ax.view_init(elev=35, azim=-120)\n",
    "    ax.set_xlabel('X axis')\n",
    "    ax.set_ylabel('Y axis')\n",
    "    ax.set_zlabel('Elevation')\n",
    "    plt.title(title)\n",
    "    plt.show()"
   ]
  },
  {
   "cell_type": "markdown",
   "metadata": {},
   "source": [
    "## Define required functions."
   ]
  },
  {
   "cell_type": "code",
   "execution_count": 2,
   "metadata": {
    "code_folding": [
     0,
     6,
     18,
     24,
     35,
     53,
     66,
     75,
     83,
     91
    ]
   },
   "outputs": [],
   "source": [
    "def rectangleWindow(m, n):\n",
    "    \"\"\"Takes a value for number of rows (m) and number of columns (n) such that\n",
    "       m and n are both positive real numbers and creates a rectangle of \n",
    "       boolian 'True' values.\"\"\"\n",
    "    rectangle = np.ones((m, n), dtype=bool) \n",
    "    return rectangle\n",
    "def number_of_values(Window):\n",
    "    \"\"\"This funciton takes the shape function as an input and returns a number \n",
    "        of values present in the specified shape. \n",
    "        \n",
    "        This can be different for a different window shape and to initialize\n",
    "        requires the specification of the function for the given window type and \n",
    "        parameter values required for that input function.\n",
    "        \n",
    "        To initialize this function for shape == rectangle type 'number_of_values(rectangleWindow(m,n)) \n",
    "        where m and n are any positive real number as per the rectangleWindow function.\"\"\"\n",
    "    denominator = sum(sum(Window > 0))\n",
    "    return denominator\n",
    "def circleWindow(radius):\n",
    "    \"\"\"Takes a value for radius (r where r is any positive real number) and creates \n",
    "       a circular window using that radius.\"\"\"\n",
    "    y, x = np.ogrid[-radius: radius + 1, -radius: radius + 1]\n",
    "    circle = x**2 + y**2 <= radius**2\n",
    "    return circle\n",
    "def find_median_value(Window):\n",
    "    \"\"\"This function takes the shape function and returns the median value \n",
    "        for all valid values (values that fall in the circle) arranged into a \n",
    "        1d array. The function also takes the number_of_values function as an input.\n",
    "        To execute this function type 'find_median_value(shape(r)) where r is any integer.\n",
    "        #Note: using median like this only gives the correct value for circles with odd \n",
    "        radius values.\"\"\"\n",
    "    no_values = number_of_values(Window)\n",
    "    value_range = np.arange(0, no_values + 1)\n",
    "    central_value = int(np.median(value_range))\n",
    "    return central_value\n",
    "def slopeWindowDegrees(DEM, x_cellsize, y_cellsize):\n",
    "    \"\"\"This function implements slope calculation using the same algorithm\n",
    "       as ARCGIS (Outlined on the page 'How Slope Works').\n",
    "       This particular example of the function is written such that it\n",
    "       will only work if called within the ndimage generic_filter (as the first input).\n",
    "       This is because the index arguments for a-e are given for the 1d array created\n",
    "       by the generic_filter function after extracting values from the 3,3 rectangle window.\n",
    "       NOTE: THIS FUNCTION ONLY WORKS WITH A 3x3 RECTANGLE WINDOW.\"\"\"\n",
    "    a = DEM[0]; b = DEM[1]; c = DEM[2]\n",
    "    d = DEM[3]; e = DEM[4]; f = DEM[5]\n",
    "    g = DEM[6]; h = DEM[7]; i = DEM[8]\n",
    "    dzdx = ((c + (2*f) + i) - (a + (2*d) + g)) / (8 * x_cellsize)\n",
    "    dzdy = ((g + (2*h) + i) - (a + (2*b) + c)) / (8 * y_cellsize)\n",
    "    rise_run = np.sqrt(dzdx**2 + dzdy**2)\n",
    "    slope_degrees = np.arctan(rise_run) * (180/math.pi)\n",
    "    slope_percent = rise_run * 100\n",
    "    #Can also ask it to return slope_degrees but asking for both causes it to throw and error.\n",
    "    return slope_degrees\n",
    "def profileCurvature(DEM, cellsize):\n",
    "    \"\"\"This process is taken from Change (2014, Introduction to Geographic Information\n",
    "       systems, Page 284).\"\"\"\n",
    "    Z1 = DEM[0]; Z2 = DEM[1]; Z3 = DEM[2]\n",
    "    Z4 = DEM[3]; Z0 = DEM[4]; Z5 = DEM[5]\n",
    "    Z6 = DEM[6]; Z7 = DEM[7]; Z8 = DEM[8]\n",
    "    D = (((Z4 + Z5)/2) - Z0) / cellsize**2\n",
    "    E = (((Z2 + Z7)/2) - Z0) / cellsize**2\n",
    "    F = (Z3 - Z1 + Z6 - Z8)/ (4 * cellsize**2)\n",
    "    G = (Z5 - Z4) / (2 * cellsize)\n",
    "    H = (Z2 - Z7) / (2 * cellsize)\n",
    "    profile_curvature = (-2 * (D*(G**2) + E*(H**2) + (F*G*H))) / (G**2 + H**2)\n",
    "    return profile_curvature\n",
    "def difference_from_mean_elevation(elev):\n",
    "    \"\"\"This function only works as an inside function to generic_filter function below. This\n",
    "       is because generic_filter will take a 2d array and reshape it into a 1d array. Without this \n",
    "       step the 'central_value' variable will be outside of the array dimensions. \n",
    "       x = input DEM and r = radius of search window \"\"\"\n",
    "    centroid = elev[central_value]                        \n",
    "    mean = np.nanmean(elev)#Count number of values greater than centroid value\n",
    "    diff = centroid - mean\n",
    "    return diff\n",
    "def meanFilter(gidded_data):\n",
    "    \"\"\"This function only works as an inside function to generic_filter function below. This\n",
    "       is because generic_filter will take a 2d array and reshape it into a 1d array. Without this \n",
    "       step the 'central_value' variable will be outside of the array dimensions. \n",
    "       x = input DEM and r = radius of search window \"\"\"\n",
    "    centroid = gidded_data[central_value]                        \n",
    "    mean = np.nanmean(gidded_data)#Count number of values greater than centroid value\n",
    "    return mean\n",
    "def maxFilter(gidded_data):\n",
    "    \"\"\"This function only works as an inside function to generic_filter function below. This\n",
    "       is because generic_filter will take a 2d array and reshape it into a 1d array. Without this \n",
    "       step the 'central_value' variable will be outside of the array dimensions. \n",
    "       x = input DEM and r = radius of search window \"\"\"\n",
    "    centroid = gidded_data[central_value]                        \n",
    "    max_value = np.amax(gidded_data)#Count number of values greater than centroid value\n",
    "    return max_value\n",
    "def upslopeDivergence(catchment_area_list, change_detection_factor, step_size, comparison_distance):\n",
    "    \n",
    "    \"\"\"\"Looks at whether catchment area is increasing at any point upstream of a gully head.\n",
    "    \n",
    "    - 'catchment_area_list' is an ordered list of node catchment areas moving upstream.\n",
    "    \n",
    "    - 'change_detection_factor' is the percentage increase required for the function to consider the change\n",
    "    to represent a point of divergent flow.\n",
    "    \n",
    "    - 'step_size' is the number of grid cells to be compared in downstream to upstream groups. E.g. step_size == 1 \n",
    "    will compare node 1 and node 2, but step_size == 2 will compare node 1 and 2 to node 3 and 4.\n",
    "    \n",
    "    - 'comparison_distance' is the distance between the downstream nodes being compared to upstream nodes.\"\"\"\n",
    "    \n",
    "    max_value_length = len(catchment_area_list) - step_size - comparison_distance - step_size\n",
    "    for i in range(0, max_value_length):\n",
    "                \n",
    "        start_of_downstream_nodes = i\n",
    "        end_of_downstream_nodes = i + step_size       \n",
    "        downstream_nodes = catchment_area_list[start_of_downstream_nodes:end_of_downstream_nodes]\n",
    "        \n",
    "        start_of_upstream_nodes = i + step_size + comparison_distance\n",
    "        end_of_usptreat_nodes = start_of_upstream_nodes + step_size\n",
    "        upstream_nodes = catchment_area_list[start_of_upstream_nodes:end_of_usptreat_nodes]\n",
    "        \n",
    "        required_catchment_area_increase = max(downstream_nodes) + (max(downstream_nodes) * change_detection_factor)\n",
    "        \n",
    "        if all(nodes >= required_catchment_area_increase for nodes in upstream_nodes):\n",
    "            divergence = 1\n",
    "            break\n",
    "        else:\n",
    "            divergence = 0\n",
    "    return divergence"
   ]
  },
  {
   "cell_type": "markdown",
   "metadata": {},
   "source": [
    "## Setup input data \n",
    "Define spatial resolution: Specify the resolution of the input DEM and also the desired working resolution (can be same as input DEM resolution)."
   ]
  },
  {
   "cell_type": "code",
   "execution_count": 24,
   "metadata": {},
   "outputs": [],
   "source": [
    "input_DEM_resolution = 0.5\n",
    "working_resolution = 0.5\n",
    "location = (r'C:/PhD/junk')\n",
    "os.chdir(location)\n",
    "input_geotiff = gdal.Open('conv_eg_2.tif')\n",
    "x = np.array(input_geotiff.GetRasterBand(1).ReadAsArray())\n",
    "input_DEM = scipy.ndimage.zoom(x, input_DEM_resolution / working_resolution, order = 1)\n",
    "input_outlets = gdal.Open('conveg2pc.tif')\n",
    "o = np.array(input_outlets.GetRasterBand(1).ReadAsArray())\n",
    "outlets = o.astype('uint8')\n"
   ]
  },
  {
   "cell_type": "markdown",
   "metadata": {},
   "source": [
    "## Visualise the DEM."
   ]
  },
  {
   "cell_type": "code",
   "execution_count": 25,
   "metadata": {},
   "outputs": [
    {
     "data": {
      "image/png": "[encoded data removed]",
      "text/plain": [
       "<Figure size 432x288 with 2 Axes>"
      ]
     },
     "metadata": {
      "needs_background": "light"
     },
     "output_type": "display_data"
    }
   ],
   "source": [
    "plt.imshow(o, cmap=\"terrain\", vmin = np.percentile(input_DEM, 5));\n",
    "plt.colorbar();"
   ]
  },
  {
   "cell_type": "markdown",
   "metadata": {},
   "source": []
  },
  {
   "cell_type": "markdown",
   "metadata": {},
   "source": [
    "## Setup a RasterModelGrid object and assign elevation to nodes."
   ]
  },
  {
   "cell_type": "code",
   "execution_count": 26,
   "metadata": {},
   "outputs": [],
   "source": [
    "catchment_area_grids = xr.Dataset()\n",
    "direction_list = ['East', 'North', 'West', 'South',\n",
    "                  'North East', 'North West', 'South West', 'South East'];\n",
    "#################################################################################################\n",
    "flow_acc_surf = np.copy(input_DEM).astype('float64');\n",
    "#################################################################################################\n",
    "rows = flow_acc_surf.shape[0];\n",
    "cols = flow_acc_surf.shape[1];\n",
    "mg = RasterModelGrid((rows,cols), 1);\n",
    "z1 = mg.add_field('topographic__elevation', flow_acc_surf, at = 'node');"
   ]
  },
  {
   "cell_type": "markdown",
   "metadata": {},
   "source": [
    "## Find the node ID of the outlet.\n",
    "Note: Outlet spatial location is given by the 'outlets' variable assigned under \"Setup input data.\""
   ]
  },
  {
   "cell_type": "code",
   "execution_count": 27,
   "metadata": {},
   "outputs": [],
   "source": [
    "grid_nodes = np.array(mg.nodes.reshape(mg.shape))"
   ]
  },
  {
   "cell_type": "code",
   "execution_count": 28,
   "metadata": {},
   "outputs": [
    {
     "data": {
      "text/plain": [
       "(320, 219)"
      ]
     },
     "execution_count": 28,
     "metadata": {},
     "output_type": "execute_result"
    }
   ],
   "source": [
    "grid_nodes.shape"
   ]
  },
  {
   "cell_type": "code",
   "execution_count": 29,
   "metadata": {},
   "outputs": [
    {
     "data": {
      "text/plain": [
       "dtype('int32')"
      ]
     },
     "execution_count": 29,
     "metadata": {},
     "output_type": "execute_result"
    }
   ],
   "source": [
    "grid_nodes.dtype"
   ]
  },
  {
   "cell_type": "code",
   "execution_count": 30,
   "metadata": {},
   "outputs": [],
   "source": [
    "find_outlet_ids = grid_nodes * outlets"
   ]
  },
  {
   "cell_type": "code",
   "execution_count": 31,
   "metadata": {},
   "outputs": [
    {
     "data": {
      "text/plain": [
       "4591"
      ]
     },
     "execution_count": 31,
     "metadata": {},
     "output_type": "execute_result"
    }
   ],
   "source": [
    "outlet_id = np.unique(find_outlet_ids)[1]\n",
    "outlet_id"
   ]
  },
  {
   "cell_type": "markdown",
   "metadata": {},
   "source": [
    "## Fill sinks and run flow accumulation."
   ]
  },
  {
   "cell_type": "code",
   "execution_count": 32,
   "metadata": {},
   "outputs": [],
   "source": [
    "sfb = SinkFillerBarnes(mg, method = 'Steepest', ignore_overfill = True);\n",
    "sfb.run_one_step();\n",
    "fa = FlowAccumulator(mg,\n",
    "                    surface = 'topographic__elevation',\n",
    "                    flow_director = 'FlowDirectorMFD',\n",
    "                    diagonals = True);\n",
    "#(flow_acc, q) = fa.accumulate_flow();\n",
    "fa.run_one_step()\n",
    "fd = FlowDirectorMFD(mg, 'topographic__elevation', diagonals = True);\n",
    "fd.run_one_step()"
   ]
  },
  {
   "cell_type": "markdown",
   "metadata": {},
   "source": [
    "## Show a list of values located on each node."
   ]
  },
  {
   "cell_type": "code",
   "execution_count": 33,
   "metadata": {},
   "outputs": [
    {
     "data": {
      "text/plain": [
       "['topographic__elevation',\n",
       " 'sediment_fill__depth',\n",
       " 'water__unit_flux_in',\n",
       " 'flow__link_to_receiver_node',\n",
       " 'flow__receiver_node',\n",
       " 'flow__receiver_proportions',\n",
       " 'topographic__steepest_slope',\n",
       " 'drainage_area',\n",
       " 'flow__data_structure_delta',\n",
       " 'flow__upstream_node_order',\n",
       " 'surface_water__discharge',\n",
       " 'flow__sink_flag']"
      ]
     },
     "execution_count": 33,
     "metadata": {},
     "output_type": "execute_result"
    }
   ],
   "source": [
    "mg.at_node.keys()"
   ]
  },
  {
   "cell_type": "markdown",
   "metadata": {},
   "source": [
    "## Assign some of the above values to variables."
   ]
  },
  {
   "cell_type": "code",
   "execution_count": 34,
   "metadata": {},
   "outputs": [],
   "source": [
    "da = np.array(mg.at_node['drainage_area'].round(4));\n",
    "catchment_area_ha = np.divide(da.reshape(mg.shape), (100/working_resolution)**2)\n",
    "catchment_area = da.reshape(mg.shape)\n",
    "frn = mg.at_node['flow__receiver_node'];\n",
    "drainage_area = np.flip(da.reshape(mg.shape), 0);\n",
    "wuf = np.array(mg.at_node['water__unit_flux_in']);\n",
    "frp = np.array(mg.at_node['flow__receiver_proportions']);\n",
    "funo = np.array(mg.at_node['flow__upstream_node_order'].reshape(mg.shape));\n",
    "ns = np.flip(mg.status_at_node.reshape(mg.shape), 0);\n",
    "flow_rec_surf_rows = cols * rows;\n",
    "flow_rec_surf = frp.reshape(flow_rec_surf_rows,8);\n",
    "flrn = mg.at_node['flow__link_to_receiver_node'];\n",
    "links_carrying_flow = flrn.reshape(flow_rec_surf_rows,8);\n",
    "tss = mg.at_node['topographic__steepest_slope'];\n",
    "steepest_slope = tss.reshape(flow_rec_surf_rows,8);\n",
    "all_receiver_proportions = np.copy(frp);\n"
   ]
  },
  {
   "cell_type": "code",
   "execution_count": 35,
   "metadata": {},
   "outputs": [],
   "source": [
    "slope = generic_filter(input_DEM, slopeWindowDegrees,\n",
    "                  footprint= rectangleWindow(3,3),\n",
    "                  mode='constant', extra_arguments = (0.5,0.5,));\n",
    "\n",
    "slope[slope > 100] = 100"
   ]
  },
  {
   "cell_type": "code",
   "execution_count": 36,
   "metadata": {},
   "outputs": [],
   "source": [
    "flattened_slope = slope.reshape(da.shape)"
   ]
  },
  {
   "cell_type": "code",
   "execution_count": 37,
   "metadata": {},
   "outputs": [
    {
     "data": {
      "image/png": "[encoded data removed]",
      "text/plain": [
       "<Figure size 432x288 with 2 Axes>"
      ]
     },
     "metadata": {
      "needs_background": "light"
     },
     "output_type": "display_data"
    }
   ],
   "source": [
    "plt.imshow(slope, cmap=\"Blues\");\n",
    "plt.colorbar();"
   ]
  },
  {
   "cell_type": "markdown",
   "metadata": {},
   "source": [
    "For each flow direction (given by the second index position of the flow__receiver_node object) find the rows (where each row is a single grid cell) that are contributing to a target grid cell. The target grid cell in the first instance will be the outlet node, and then the list of target grid cells will expand with every processing step."
   ]
  },
  {
   "cell_type": "code",
   "execution_count": 38,
   "metadata": {
    "scrolled": true
   },
   "outputs": [
    {
     "name": "stdout",
     "output_type": "stream",
     "text": [
      "[4591]\n",
      "[4810]\n",
      "[5029]\n",
      "[5248]\n",
      "[5466]\n",
      "[5465]\n",
      "[5683]\n",
      "[5901]\n",
      "[6120]\n",
      "[6339]\n",
      "[6557]\n",
      "[6775]\n",
      "[6994]\n",
      "[7212]\n",
      "[7430]\n",
      "[7648]\n",
      "[7866]\n",
      "[8084]\n",
      "[8302]\n",
      "[8520]\n",
      "[8738]\n",
      "[8956]\n",
      "[9175]\n",
      "[9393]\n",
      "[9612]\n",
      "[9831]\n",
      "[10050]\n",
      "[10269]\n",
      "[10487]\n",
      "[10486]\n",
      "[10485]\n",
      "[10703]\n",
      "[10922]\n",
      "[11141]\n",
      "[11360]\n",
      "[11578]\n",
      "[11796]\n",
      "[12015]\n",
      "[12233]\n",
      "[12452]\n",
      "[12671]\n",
      "[12890]\n",
      "[13108]\n",
      "[13327]\n",
      "[13545]\n",
      "[13764]\n",
      "[13983]\n",
      "[14201]\n",
      "[14419]\n",
      "[14637]\n",
      "[14855]\n",
      "[15074]\n",
      "[15293]\n",
      "[15511]\n",
      "[15729]\n",
      "[15948]\n",
      "[16167]\n",
      "[16386]\n",
      "[16605]\n",
      "[16823]\n",
      "[17041]\n",
      "[17260]\n",
      "[17478]\n",
      "[17696]\n",
      "[17914]\n",
      "[17913]\n",
      "[17912]\n",
      "[18130]\n",
      "[18348]\n",
      "[18567]\n",
      "[18785]\n",
      "[19003]\n",
      "[19222]\n",
      "[19441]\n",
      "[19660]\n",
      "[19878]\n",
      "[20097]\n",
      "[20315]\n",
      "[20534]\n",
      "[20753]\n",
      "[20972]\n",
      "[21191]\n",
      "[21409]\n",
      "[21628]\n",
      "[21846]\n",
      "[22065]\n",
      "[22284]\n",
      "[22503]\n",
      "[22722]\n",
      "[22942]\n",
      "[23160]\n",
      "[23378]\n",
      "[23596]\n",
      "[23814]\n",
      "[24032]\n",
      "[24251]\n",
      "[24470]\n",
      "[24688]\n",
      "[24906]\n",
      "[24905]\n",
      "[25123]\n",
      "[25341]\n",
      "[25559]\n",
      "[25778]\n",
      "[25997]\n",
      "[26216]\n",
      "[26435]\n",
      "[26654]\n",
      "[26873]\n",
      "[27091]\n",
      "[27309]\n",
      "[27527]\n",
      "[27746]\n",
      "[27965]\n",
      "[28184]\n",
      "[28403]\n",
      "[28623]\n",
      "[28842]\n",
      "[29061]\n",
      "[29280]\n",
      "[29499]\n",
      "[29719]\n",
      "[29938]\n",
      "[30158]\n",
      "[30377]\n",
      "[30376]\n",
      "[30594]\n",
      "[30813]\n",
      "[31031]\n",
      "[31250]\n",
      "[31469]\n",
      "[31687]\n",
      "[31905]\n",
      "[32124]\n",
      "[32343]\n",
      "[32563]\n",
      "[32782]\n",
      "[33001]\n",
      "[33220]\n",
      "[33439]\n",
      "[33657]\n",
      "[33876]\n",
      "[34094]\n",
      "[34312]\n",
      "[34532]\n",
      "[34751]\n",
      "[34969]\n",
      "[35189]\n",
      "[35409]\n",
      "[35628]\n",
      "[35847]\n",
      "[36067]\n",
      "[36287]\n",
      "[36505]\n",
      "[36724]\n",
      "[36942]\n",
      "[37160]\n",
      "[37378]\n",
      "[37597]\n",
      "[37816]\n",
      "[38035]\n",
      "[38253]\n",
      "[38471]\n",
      "[38690]\n",
      "[38909]\n",
      "[39128]\n",
      "[39348]\n",
      "[39567]\n",
      "[39785]\n",
      "[40003]\n",
      "[40221]\n",
      "[40440]\n",
      "[40659]\n",
      "[40878]\n",
      "[41097]\n",
      "[41316]\n",
      "[41534]\n",
      "[41753]\n",
      "[41973]\n",
      "[42192]\n",
      "[42412]\n",
      "[42631]\n",
      "[42850]\n",
      "[43070]\n",
      "[43289]\n",
      "[43508]\n",
      "[43727]\n",
      "[43945]\n",
      "[44164]\n",
      "[44382]\n",
      "[44601]\n",
      "[44821]\n",
      "[45040]\n",
      "[45260]\n",
      "[45479]\n",
      "[45699]\n",
      "[45917]\n",
      "[46136]\n",
      "[46354]\n",
      "[46572]\n",
      "Time taken =  2.5187177999996493 seconds\n"
     ]
    }
   ],
   "source": [
    "start = timeit.default_timer()\n",
    "# Specific the size of the area to be checked. This represents a physical distance from the \n",
    "# outlet but has no unit of measure.\n",
    "node_area_dict = {}\n",
    "slope_dict = {}\n",
    "\n",
    "distance_from_outlet = 200\n",
    "# This value is used to initialise the search.\n",
    "catchment_outlet_id = outlet_id\n",
    "# Initate an outer loop that iterates through every distance interval from the outlet.\n",
    "watershed_grid_cells = []\n",
    "node_location = mg.nodes.reshape(da.shape)\n",
    "ordered_node_list = []\n",
    "\n",
    "for i in range(0, distance_from_outlet):\n",
    "    # Just look at watershed grid cells here.\n",
    "    \n",
    "    # Create a list initially containing only the outlet grid cell.\n",
    "    if i == 0:\n",
    "        candidate_gridcells = [catchment_outlet_id];\n",
    "    else:\n",
    "        candidate_gridcells = list(set(upstream_nodes));\n",
    "    # Empty the list of upsteam nodes.\n",
    "    upstream_node_dict = {};\n",
    "    upstream_slope_dict = {};\n",
    "\n",
    "    # Intiate a new loop to check every gridcell at the current interval distance.\n",
    "    print(candidate_gridcells)\n",
    "    for grid_cell in candidate_gridcells:\n",
    "        # Check each flow direction of the current grid cell.The second dimension of the \n",
    "        # flow__receiver_node object will always be size == 8.\n",
    "        for j in range(frn.shape[1]):\n",
    "            # Return all rows (grid nodes) that send any flow to the target grid cell.\n",
    "            # Note: This can only be one grid cell because the prgram is looping through\n",
    "            # each direction one at a time so only one grid cell can be sending flow from any\n",
    "            # one given direction.\n",
    "            flow_from_whole_grid_cell = frn[np.where(frn[:,j] == grid_cell)];\n",
    "            # Check if the current direction contributes flow. If not, do nothing. \n",
    "            # Else, append to dictionary.\n",
    "            if flow_from_whole_grid_cell.shape[0] == 0:\n",
    "                pass\n",
    "            else:\n",
    "                # Below variable finds the row position of the flow_from_direction gridcell\n",
    "                # in the flow__receiver_node array. This corresponds to the contributing\n",
    "                # cell's node id.\n",
    "                node_id_value = np.where(np.all(flow_from_whole_grid_cell==frn,axis=1))[0][0];\n",
    "                #Find the proportion of flow leaving the donor node and heading toward \n",
    "                # the current grid cell.\n",
    "                proportion_of_flow = frp[node_id_value, j]\n",
    "                # Create a boolean array to use as mask on drainage area.\n",
    "                isolate_candidate_grid_cells = np.isin(node_location, node_id_value)\n",
    "                node_drainage_area = np.amax(np.multiply(isolate_candidate_grid_cells, da))\n",
    "                node_directional_drainage_area = node_drainage_area * proportion_of_flow\n",
    "                upstream_node_dict.update({node_id_value:node_directional_drainage_area});\n",
    "                node_slope = np.amax(np.multiply(isolate_candidate_grid_cells, flattened_slope))\n",
    "                upstream_slope_dict.update({node_id_value:node_slope})\n",
    "\n",
    "                \n",
    "        if len(upstream_node_dict) == 0:\n",
    "            print (\"dictionary empty\")\n",
    "        else:\n",
    "            primary_flow_direction_id = max(upstream_node_dict.items(), key=operator.itemgetter(1))[0]\n",
    "            upstream_nodes = []\n",
    "            upstream_nodes.append(primary_flow_direction_id);\n",
    "            ordered_node_list.append(primary_flow_direction_id);\n",
    "            watershed_grid_cells.append(primary_flow_direction_id);\n",
    "            node_area_dict[primary_flow_direction_id] = upstream_node_dict[primary_flow_direction_id]\n",
    "            slope_dict[primary_flow_direction_id] = upstream_slope_dict[primary_flow_direction_id]\n",
    "\n",
    "                              \n",
    "stop=timeit.default_timer()\n",
    "time = stop - start\n",
    "print('Time taken' + ' = ', time, 'seconds')"
   ]
  },
  {
   "cell_type": "markdown",
   "metadata": {},
   "source": [
    "## Maybe can just use moving window to find mean then of catchment area then use that instead of catchment area. Would just implement this exactly the same way the upstream_node_dict works."
   ]
  },
  {
   "cell_type": "code",
   "execution_count": 39,
   "metadata": {
    "code_folding": [],
    "scrolled": true
   },
   "outputs": [],
   "source": [
    "h = []\n",
    "for key, value in node_area_dict.items():\n",
    "    h.append(value)\n",
    "    "
   ]
  },
  {
   "cell_type": "code",
   "execution_count": 40,
   "metadata": {},
   "outputs": [],
   "source": [
    "j = ndimage.median_filter(h, size=10)"
   ]
  },
  {
   "cell_type": "code",
   "execution_count": 41,
   "metadata": {},
   "outputs": [],
   "source": [
    "s = []\n",
    "for key, value in slope_dict.items():\n",
    "    s.append(value)"
   ]
  },
  {
   "cell_type": "code",
   "execution_count": 42,
   "metadata": {},
   "outputs": [],
   "source": [
    "sm = ndimage.median_filter(s, size=10)"
   ]
  },
  {
   "cell_type": "code",
   "execution_count": 43,
   "metadata": {},
   "outputs": [
    {
     "data": {
      "text/plain": [
       "[<matplotlib.lines.Line2D at 0x23641224dc8>]"
      ]
     },
     "execution_count": 43,
     "metadata": {},
     "output_type": "execute_result"
    },
    {
     "data": {
      "image/png": "[encoded data removed]",
      "text/plain": [
       "<Figure size 432x288 with 1 Axes>"
      ]
     },
     "metadata": {
      "needs_background": "light"
     },
     "output_type": "display_data"
    }
   ],
   "source": [
    "plt.plot(sm)"
   ]
  },
  {
   "cell_type": "code",
   "execution_count": 44,
   "metadata": {},
   "outputs": [
    {
     "data": {
      "text/plain": [
       "[<matplotlib.lines.Line2D at 0x23640988c88>]"
      ]
     },
     "execution_count": 44,
     "metadata": {},
     "output_type": "execute_result"
    },
    {
     "data": {
      "image/png": "[encoded data removed]",
      "text/plain": [
       "<Figure size 432x288 with 1 Axes>"
      ]
     },
     "metadata": {
      "needs_background": "light"
     },
     "output_type": "display_data"
    }
   ],
   "source": [
    "plt.plot(j)"
   ]
  },
  {
   "cell_type": "code",
   "execution_count": 45,
   "metadata": {},
   "outputs": [],
   "source": [
    "drainage_line_df = pd.DataFrame(j)\n",
    "slope_line_df = pd.DataFrame(sm)"
   ]
  },
  {
   "cell_type": "code",
   "execution_count": 46,
   "metadata": {},
   "outputs": [],
   "source": [
    "distance_col = np.arange(0.5,100.5, 0.5)\n",
    "distance_col = np.arange(0.5,100.5, 0.5)"
   ]
  },
  {
   "cell_type": "code",
   "execution_count": 47,
   "metadata": {},
   "outputs": [],
   "source": [
    "drainage_line_df['Distance'] = distance_col\n",
    "slope_line_df['Distance'] = distance_col"
   ]
  },
  {
   "cell_type": "code",
   "execution_count": 48,
   "metadata": {},
   "outputs": [],
   "source": [
    "drainage_line_df.rename(columns = {0:'Area'}, inplace=True)\n",
    "slope_line_df.rename(columns = {0:'Slope'}, inplace=True)"
   ]
  },
  {
   "cell_type": "code",
   "execution_count": 49,
   "metadata": {},
   "outputs": [],
   "source": [
    "drainage_line_df['Area_ha'] = drainage_line_df['Area'] / 4000"
   ]
  },
  {
   "cell_type": "code",
   "execution_count": 50,
   "metadata": {},
   "outputs": [
    {
     "data": {
      "text/html": [
       "<div>\n",
       "<style scoped>\n",
       "    .dataframe tbody tr th:only-of-type {\n",
       "        vertical-align: middle;\n",
       "    }\n",
       "\n",
       "    .dataframe tbody tr th {\n",
       "        vertical-align: top;\n",
       "    }\n",
       "\n",
       "    .dataframe thead th {\n",
       "        text-align: right;\n",
       "    }\n",
       "</style>\n",
       "<table border=\"1\" class=\"dataframe\">\n",
       "  <thead>\n",
       "    <tr style=\"text-align: right;\">\n",
       "      <th></th>\n",
       "      <th>Area</th>\n",
       "      <th>Distance</th>\n",
       "      <th>Area_ha</th>\n",
       "    </tr>\n",
       "  </thead>\n",
       "  <tbody>\n",
       "    <tr>\n",
       "      <th>0</th>\n",
       "      <td>9778.995300</td>\n",
       "      <td>0.5</td>\n",
       "      <td>2.444749</td>\n",
       "    </tr>\n",
       "    <tr>\n",
       "      <th>1</th>\n",
       "      <td>9778.995300</td>\n",
       "      <td>1.0</td>\n",
       "      <td>2.444749</td>\n",
       "    </tr>\n",
       "    <tr>\n",
       "      <th>2</th>\n",
       "      <td>9778.995300</td>\n",
       "      <td>1.5</td>\n",
       "      <td>2.444749</td>\n",
       "    </tr>\n",
       "    <tr>\n",
       "      <th>3</th>\n",
       "      <td>9778.995300</td>\n",
       "      <td>2.0</td>\n",
       "      <td>2.444749</td>\n",
       "    </tr>\n",
       "    <tr>\n",
       "      <th>4</th>\n",
       "      <td>4502.027046</td>\n",
       "      <td>2.5</td>\n",
       "      <td>1.125507</td>\n",
       "    </tr>\n",
       "    <tr>\n",
       "      <th>...</th>\n",
       "      <td>...</td>\n",
       "      <td>...</td>\n",
       "      <td>...</td>\n",
       "    </tr>\n",
       "    <tr>\n",
       "      <th>195</th>\n",
       "      <td>94.624451</td>\n",
       "      <td>98.0</td>\n",
       "      <td>0.023656</td>\n",
       "    </tr>\n",
       "    <tr>\n",
       "      <th>196</th>\n",
       "      <td>92.774549</td>\n",
       "      <td>98.5</td>\n",
       "      <td>0.023194</td>\n",
       "    </tr>\n",
       "    <tr>\n",
       "      <th>197</th>\n",
       "      <td>94.624451</td>\n",
       "      <td>99.0</td>\n",
       "      <td>0.023656</td>\n",
       "    </tr>\n",
       "    <tr>\n",
       "      <th>198</th>\n",
       "      <td>94.624451</td>\n",
       "      <td>99.5</td>\n",
       "      <td>0.023656</td>\n",
       "    </tr>\n",
       "    <tr>\n",
       "      <th>199</th>\n",
       "      <td>99.914973</td>\n",
       "      <td>100.0</td>\n",
       "      <td>0.024979</td>\n",
       "    </tr>\n",
       "  </tbody>\n",
       "</table>\n",
       "<p>200 rows × 3 columns</p>\n",
       "</div>"
      ],
      "text/plain": [
       "            Area  Distance   Area_ha\n",
       "0    9778.995300       0.5  2.444749\n",
       "1    9778.995300       1.0  2.444749\n",
       "2    9778.995300       1.5  2.444749\n",
       "3    9778.995300       2.0  2.444749\n",
       "4    4502.027046       2.5  1.125507\n",
       "..           ...       ...       ...\n",
       "195    94.624451      98.0  0.023656\n",
       "196    92.774549      98.5  0.023194\n",
       "197    94.624451      99.0  0.023656\n",
       "198    94.624451      99.5  0.023656\n",
       "199    99.914973     100.0  0.024979\n",
       "\n",
       "[200 rows x 3 columns]"
      ]
     },
     "execution_count": 50,
     "metadata": {},
     "output_type": "execute_result"
    }
   ],
   "source": [
    "drainage_line_df"
   ]
  },
  {
   "cell_type": "code",
   "execution_count": 51,
   "metadata": {},
   "outputs": [
    {
     "data": {
      "text/html": [
       "<div>\n",
       "<style scoped>\n",
       "    .dataframe tbody tr th:only-of-type {\n",
       "        vertical-align: middle;\n",
       "    }\n",
       "\n",
       "    .dataframe tbody tr th {\n",
       "        vertical-align: top;\n",
       "    }\n",
       "\n",
       "    .dataframe thead th {\n",
       "        text-align: right;\n",
       "    }\n",
       "</style>\n",
       "<table border=\"1\" class=\"dataframe\">\n",
       "  <thead>\n",
       "    <tr style=\"text-align: right;\">\n",
       "      <th></th>\n",
       "      <th>Slope</th>\n",
       "      <th>Distance</th>\n",
       "    </tr>\n",
       "  </thead>\n",
       "  <tbody>\n",
       "    <tr>\n",
       "      <th>0</th>\n",
       "      <td>9.817775</td>\n",
       "      <td>0.5</td>\n",
       "    </tr>\n",
       "    <tr>\n",
       "      <th>1</th>\n",
       "      <td>9.817775</td>\n",
       "      <td>1.0</td>\n",
       "    </tr>\n",
       "    <tr>\n",
       "      <th>2</th>\n",
       "      <td>9.817775</td>\n",
       "      <td>1.5</td>\n",
       "    </tr>\n",
       "    <tr>\n",
       "      <th>3</th>\n",
       "      <td>5.212068</td>\n",
       "      <td>2.0</td>\n",
       "    </tr>\n",
       "    <tr>\n",
       "      <th>4</th>\n",
       "      <td>5.212068</td>\n",
       "      <td>2.5</td>\n",
       "    </tr>\n",
       "    <tr>\n",
       "      <th>...</th>\n",
       "      <td>...</td>\n",
       "      <td>...</td>\n",
       "    </tr>\n",
       "    <tr>\n",
       "      <th>195</th>\n",
       "      <td>1.769049</td>\n",
       "      <td>98.0</td>\n",
       "    </tr>\n",
       "    <tr>\n",
       "      <th>196</th>\n",
       "      <td>1.769049</td>\n",
       "      <td>98.5</td>\n",
       "    </tr>\n",
       "    <tr>\n",
       "      <th>197</th>\n",
       "      <td>1.769049</td>\n",
       "      <td>99.0</td>\n",
       "    </tr>\n",
       "    <tr>\n",
       "      <th>198</th>\n",
       "      <td>1.849648</td>\n",
       "      <td>99.5</td>\n",
       "    </tr>\n",
       "    <tr>\n",
       "      <th>199</th>\n",
       "      <td>1.849648</td>\n",
       "      <td>100.0</td>\n",
       "    </tr>\n",
       "  </tbody>\n",
       "</table>\n",
       "<p>200 rows × 2 columns</p>\n",
       "</div>"
      ],
      "text/plain": [
       "        Slope  Distance\n",
       "0    9.817775       0.5\n",
       "1    9.817775       1.0\n",
       "2    9.817775       1.5\n",
       "3    5.212068       2.0\n",
       "4    5.212068       2.5\n",
       "..        ...       ...\n",
       "195  1.769049      98.0\n",
       "196  1.769049      98.5\n",
       "197  1.769049      99.0\n",
       "198  1.849648      99.5\n",
       "199  1.849648     100.0\n",
       "\n",
       "[200 rows x 2 columns]"
      ]
     },
     "execution_count": 51,
     "metadata": {},
     "output_type": "execute_result"
    }
   ],
   "source": [
    "slope_line_df"
   ]
  },
  {
   "cell_type": "code",
   "execution_count": null,
   "metadata": {},
   "outputs": [],
   "source": []
  },
  {
   "cell_type": "code",
   "execution_count": 52,
   "metadata": {},
   "outputs": [
    {
     "name": "stderr",
     "output_type": "stream",
     "text": [
      "C:\\Users\\sjwal\\Anaconda3\\lib\\site-packages\\ipykernel_launcher.py:65: RuntimeWarning: invalid value encountered in double_scalars\n"
     ]
    }
   ],
   "source": [
    "profile_curvature = generic_filter(input_DEM, profileCurvature, \n",
    "                footprint= rectangleWindow(3,3), \n",
    "                mode='constant', extra_arguments = (0.5,));"
   ]
  },
  {
   "cell_type": "code",
   "execution_count": 53,
   "metadata": {},
   "outputs": [
    {
     "name": "stderr",
     "output_type": "stream",
     "text": [
      "C:\\Users\\sjwal\\Anaconda3\\lib\\site-packages\\ipykernel_launcher.py:1: RuntimeWarning: invalid value encountered in greater\n",
      "  \"\"\"Entry point for launching an IPython kernel.\n",
      "C:\\Users\\sjwal\\Anaconda3\\lib\\site-packages\\ipykernel_launcher.py:2: RuntimeWarning: invalid value encountered in less\n",
      "  \n"
     ]
    }
   ],
   "source": [
    "profile_curvature[profile_curvature > 0.1] = 0.1\n",
    "profile_curvature[profile_curvature < -0.1] = -0.1"
   ]
  },
  {
   "cell_type": "code",
   "execution_count": 54,
   "metadata": {},
   "outputs": [],
   "source": [
    "central_value = find_median_value(circleWindow(3))\n",
    "num_values = number_of_values(circleWindow(3))"
   ]
  },
  {
   "cell_type": "code",
   "execution_count": 55,
   "metadata": {},
   "outputs": [],
   "source": [
    "DFME = generic_filter(input_DEM, difference_from_mean_elevation, \n",
    "                        footprint= circleWindow(3), mode='nearest');"
   ]
  },
  {
   "cell_type": "code",
   "execution_count": 56,
   "metadata": {},
   "outputs": [],
   "source": [
    "DFME[DFME > 1.0] = 1.0\n",
    "DFME[DFME < -1.0] = -1.0"
   ]
  },
  {
   "cell_type": "code",
   "execution_count": 57,
   "metadata": {},
   "outputs": [
    {
     "data": {
      "image/png": "[encoded data removed]",
      "text/plain": [
       "<Figure size 1080x1080 with 2 Axes>"
      ]
     },
     "metadata": {
      "needs_background": "light"
     },
     "output_type": "display_data"
    }
   ],
   "source": [
    "plt.figure(figsize = (15,15))\n",
    "plt.imshow(slope, cmap=\"RdGy\");\n",
    "plt.colorbar();\n",
    "plt.grid(b = None)"
   ]
  },
  {
   "cell_type": "code",
   "execution_count": 87,
   "metadata": {},
   "outputs": [
    {
     "data": {
      "text/plain": [
       "Text(20, 2.3, 'Gully head node')"
      ]
     },
     "execution_count": 87,
     "metadata": {},
     "output_type": "execute_result"
    },
    {
     "data": {
      "image/png": "[encoded data removed]",
      "text/plain": [
       "<Figure size 432x288 with 1 Axes>"
      ]
     },
     "metadata": {},
     "output_type": "display_data"
    }
   ],
   "source": [
    "sns.set(style = 'ticks')\n",
    "data_1 = drainage_line_df\n",
    "data_2 = slope_line_df\n",
    "fig, ax1 = plt.subplots(figsize = (6, 4))\n",
    "sns.lineplot(data = data_1, x = \"Distance\", y = \"Area_ha\", \n",
    "             color = 'xkcd:forest green')\n",
    "ax1.set_ylabel('Area (ha)', fontsize=15)\n",
    "#ax1.annotate('Transition', arrowprops = dict(facecolor = 'black'), xy = (15.5, 0), xytext = (7, 0.06))\n",
    "ax1.lines[0].set_linestyle(\"-\")\n",
    "#ax1.set_ylim(-0.4, 0.4)\n",
    "ax1.set_xlabel('Distance upslope (m)', fontsize = 15)\n",
    "ax1.legend(['Area (ha)'],bbox_to_anchor=(0.5, 0.6, 0.5, 0.4))\n",
    "#ax2 = ax1.twinx()\n",
    "#ax2.set_ylim(-0.6, 0.6)\n",
    "#sns.lineplot(data = data_2, x = \"Distance\", y = \"Slope\", \n",
    "#             color = 'xkcd:pumpkin', ax = ax2)\n",
    "#ax2.lines[0].set_linestyle(\"--\")\n",
    "#ax2.set_ylabel('Slope (\\u00B0)', fontsize = 15)\n",
    "#ax2.legend(['Slope'],bbox_to_anchor=(0.5, 0.5, 0.5, 0.4))\n",
    "#plt.axvline(x = 44, color = 'xkcd:baby blue', linewidth = 30, alpha = 0.3)\n",
    "#plt.axvline(x=21, color = 'xkcd:baby pink', linewidth = 40, alpha = 0.3)\n",
    "#plt.axvline(x=66, color = 'xkcd:purple', linewidth = 20, alpha = 0.2)\n",
    "#plt.axhline(y=0, color = 'xkcd:cobalt blue', alpha = 0.5, linestyle = 'dotted')\n",
    "#plt.axvline(x=6.5, color = 'xkcd:pumpkin', linestyle = 'dotted')\n",
    "#ax1.text(-4.5, 35, r'L. edge', fontsize=15, rotation = 90)\n",
    "#ax1.text(-2, 1, r'Gully Head', fontsize=15, rotation = 90)\n",
    "plt.title('Convergent flow', fontsize = 15)\n",
    "ax1.annotate('Gully head node', arrowprops = dict(facecolor = 'black'), xy = (5, 2.4), xytext = (20, 2.3))"
   ]
  },
  {
   "cell_type": "code",
   "execution_count": 45,
   "metadata": {},
   "outputs": [
    {
     "data": {
      "text/plain": [
       "1"
      ]
     },
     "execution_count": 45,
     "metadata": {},
     "output_type": "execute_result"
    }
   ],
   "source": [
    "upslopeDivergence(j, 0.5, 3, 3)"
   ]
  },
  {
   "cell_type": "code",
   "execution_count": 61,
   "metadata": {},
   "outputs": [],
   "source": [
    "preliminary_width = np.isin(node_location,watershed_grid_cells)\n",
    "flow_width = (preliminary_width * da).reshape(mg.shape)"
   ]
  },
  {
   "cell_type": "code",
   "execution_count": 62,
   "metadata": {},
   "outputs": [],
   "source": [
    "flow_width[flow_width==0] = np.nan"
   ]
  },
  {
   "cell_type": "code",
   "execution_count": 63,
   "metadata": {},
   "outputs": [],
   "source": [
    "flow_grid_nodes = (preliminary_width * da).reshape(mg.shape)"
   ]
  },
  {
   "cell_type": "code",
   "execution_count": 64,
   "metadata": {},
   "outputs": [
    {
     "data": {
      "text/plain": [
       "200"
      ]
     },
     "execution_count": 64,
     "metadata": {},
     "output_type": "execute_result"
    }
   ],
   "source": [
    "len(ordered_node_list)"
   ]
  },
  {
   "cell_type": "code",
   "execution_count": 65,
   "metadata": {},
   "outputs": [
    {
     "data": {
      "image/png": "[encoded data removed]",
      "text/plain": [
       "<Figure size 864x864 with 2 Axes>"
      ]
     },
     "metadata": {},
     "output_type": "display_data"
    }
   ],
   "source": [
    "plt.figure(figsize=(12,12))\n",
    "plt.imshow(flow_width, cmap=\"gist_earth_r\");\n",
    "plt.colorbar();"
   ]
  },
  {
   "cell_type": "code",
   "execution_count": 67,
   "metadata": {
    "code_folding": [
     0
    ]
   },
   "outputs": [],
   "source": [
    "def np_array_to_Geotiff(newfile, original_tiff, np_array, dtype):\n",
    "    \n",
    "    cols = np_array.shape[1]\n",
    "    rows = np_array.shape[0]\n",
    "    originX, pixelWidth, b, originY, d, pixelHeight = original_tiff.GetGeoTransform() \n",
    "    driver = gdal.GetDriverByName('GTiff')\n",
    "    GDT_dtype = gdal.GDT_Unknown\n",
    "    if dtype == \"Float64\": \n",
    "        GDT_dtype = gdal.GDT_Float64\n",
    "    elif dtype == \"Float32\":\n",
    "        GDT_dtype = gdal.GDT_Float32\n",
    "    else:\n",
    "        print(\"Not supported data type.\")\n",
    "    \n",
    "    if np_array.ndim == 2:\n",
    "        band_num = 1\n",
    "    else:\n",
    "        band_num = np_array.shape[2]\n",
    "\n",
    "    outRaster = driver.Create(newfile, cols, rows, band_num, GDT_dtype)\n",
    "    outRaster.SetGeoTransform((originX, pixelWidth, 0, originY, 0, pixelHeight))\n",
    "    \n",
    "    # Loop over all bands.\n",
    "    for b in range(band_num):\n",
    "        outband = outRaster.GetRasterBand(b + 1)\n",
    "    \n",
    "        # Read in the band's data into the third dimension of our array\n",
    "        if band_num == 1:\n",
    "            outband.WriteArray(np_array)\n",
    "        else:\n",
    "            outband.WriteArray(np_array[:,:,b])\n",
    "\n",
    "    # setteing srs from input tif file.\n",
    "    prj=original_tiff.GetProjection()\n",
    "    outRasterSRS = osr.SpatialReference(wkt=prj)\n",
    "    outRaster.SetProjection(outRasterSRS.ExportToWkt())\n",
    "    outband.FlushCache()\n",
    "    outRaster = None\n",
    "    \n",
    "    return outRaster"
   ]
  },
  {
   "cell_type": "code",
   "execution_count": 70,
   "metadata": {},
   "outputs": [
    {
     "name": "stderr",
     "output_type": "stream",
     "text": [
      "C:\\Users\\sjwal\\Anaconda3\\lib\\site-packages\\ipykernel_launcher.py:8: DeprecationWarning: Numeric-style type codes are deprecated and will result in an error in the future.\n",
      "  \n",
      "C:\\Users\\sjwal\\Anaconda3\\lib\\site-packages\\ipykernel_launcher.py:10: DeprecationWarning: Numeric-style type codes are deprecated and will result in an error in the future.\n",
      "  # Remove the CWD from sys.path while we load stuff.\n"
     ]
    }
   ],
   "source": [
    "np_array_to_Geotiff('conveg3f.tif', input_geotiff, flow_width, input_DEM.dtype)"
   ]
  },
  {
   "cell_type": "code",
   "execution_count": null,
   "metadata": {},
   "outputs": [],
   "source": []
  },
  {
   "cell_type": "code",
   "execution_count": null,
   "metadata": {},
   "outputs": [],
   "source": []
  },
  {
   "cell_type": "code",
   "execution_count": null,
   "metadata": {},
   "outputs": [],
   "source": []
  }
 ],
 "metadata": {
  "kernelspec": {
   "display_name": "Python 3",
   "language": "python",
   "name": "python3"
  },
  "language_info": {
   "codemirror_mode": {
    "name": "ipython",
    "version": 3
   },
   "file_extension": ".py",
   "mimetype": "text/x-python",
   "name": "python",
   "nbconvert_exporter": "python",
   "pygments_lexer": "ipython3",
   "version": "3.7.7"
  }
 },
 "nbformat": 4,
 "nbformat_minor": 4
}
