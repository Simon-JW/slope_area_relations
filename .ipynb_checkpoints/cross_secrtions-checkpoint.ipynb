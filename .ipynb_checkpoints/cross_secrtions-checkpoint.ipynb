{
 "cells": [
  {
   "cell_type": "code",
   "execution_count": 2,
   "metadata": {
    "code_folding": [
     40
    ]
   },
   "outputs": [],
   "source": [
    "%%capture\n",
    "from jupyterthemes import jtplot\n",
    "jtplot.style()\n",
    "import numpy as np\n",
    "from landlab import FieldError\n",
    "from landlab.utils import get_watershed_mask\n",
    "import xarray as xr\n",
    "import pandas as pd\n",
    "import scipy\n",
    "import gdal\n",
    "from scipy import ndimage\n",
    "from scipy.ndimage.filters import *\n",
    "import os\n",
    "import math\n",
    "from osgeo import osr\n",
    "from fractions import Fraction\n",
    "import timeit\n",
    "import matplotlib.pyplot as plt\n",
    "%matplotlib inline\n",
    "import random\n",
    "# import plotting tools\n",
    "from mpl_toolkits.mplot3d import Axes3D\n",
    "import matplotlib.pyplot as plt\n",
    "from matplotlib import cm\n",
    "from matplotlib.ticker import LinearLocator, FormatStrFormatter\n",
    "import matplotlib as mpl\n",
    "from landlab.plot.imshow import imshow_grid \n",
    "# import necessary landlab components\n",
    "from landlab import RasterModelGrid, HexModelGrid\n",
    "from landlab.components import FlowAccumulator, FlowRouter, LakeMapperBarnes, SinkFillerBarnes\n",
    "from landlab.components import(FlowDirectorD8, \n",
    "                               FlowDirectorDINF, \n",
    "                               FlowDirectorMFD, \n",
    "                               FlowDirectorSteepest)\n",
    "from landlab.components import DepressionFinderAndRouter\n",
    "# import landlab plotting functionality\n",
    "from landlab.plot.drainage_plot import drainage_plot\n",
    "from pylab import show, figure\n",
    "\n",
    "# create a plotting routine to make a 3d plot of our surface. \n",
    "def surf_plot(mg, surface='topographic__elevation', \n",
    "              title='Surface plot of topography', colormap = cm.gray):\n",
    "    \n",
    "    fig = plt.figure()\n",
    "    ax = fig.gca(projection='3d')\n",
    "\n",
    "    # Plot the surface.\n",
    "    Z = (mg.at_node[surface].reshape(mg.shape))#[y1:y2, x1:x2]\n",
    "    color = colormap((Z-Z.min())/(Z.max()-Z.min()))\n",
    "    surf = ax.plot_surface(mg.node_x.reshape(mg.shape),#[y1:y2, x1:x2]\n",
    "                           mg.node_y.reshape(mg.shape),#[y1:y2, x1:x2]\n",
    "                           Z,\n",
    "                           rstride=1, cstride=1,\n",
    "                           facecolors=color,\n",
    "                           linewidth=0.,\n",
    "                           antialiased=False)\n",
    "    ax.view_init(elev=35, azim=-120)\n",
    "    ax.set_xlabel('X axis')\n",
    "    ax.set_ylabel('Y axis')\n",
    "    ax.set_zlabel('Elevation')\n",
    "    plt.title(title)\n",
    "    plt.show()"
   ]
  },
  {
   "cell_type": "code",
   "execution_count": 11,
   "metadata": {},
   "outputs": [],
   "source": [
    "location = (r'C:/PhD/junk')\n",
    "os.chdir(location)\n",
    "input_geotiff = gdal.Open('a_fan.tif')\n",
    "x = np.array(input_geotiff.GetRasterBand(1).ReadAsArray())\n",
    "input_DEM = x\n",
    "\n",
    "input_line = gdal.Open('a_fan_x_sectr.tif')\n",
    "y = np.array(input_line.GetRasterBand(1).ReadAsArray())\n",
    "cross_sect = 1 - y\n"
   ]
  },
  {
   "cell_type": "code",
   "execution_count": 39,
   "metadata": {},
   "outputs": [],
   "source": [
    "point_list = []\n",
    "for i in range(cross_sect.shape[1]):\n",
    "    point_list.append(np.amax(points[:,i]))\n",
    "    #print(np.amax(points[:,i]))\n",
    "    "
   ]
  },
  {
   "cell_type": "code",
   "execution_count": 43,
   "metadata": {},
   "outputs": [],
   "source": [
    "point_array = np.array(point_list)"
   ]
  },
  {
   "cell_type": "code",
   "execution_count": 44,
   "metadata": {},
   "outputs": [
    {
     "data": {
      "text/plain": [
       "(150,)"
      ]
     },
     "execution_count": 44,
     "metadata": {},
     "output_type": "execute_result"
    }
   ],
   "source": [
    "point_array.shape"
   ]
  },
  {
   "cell_type": "code",
   "execution_count": 35,
   "metadata": {},
   "outputs": [
    {
     "data": {
      "image/png": "[encoded data removed]",
      "text/plain": [
       "<Figure size 432x288 with 2 Axes>"
      ]
     },
     "metadata": {
      "needs_background": "dark"
     },
     "output_type": "display_data"
    }
   ],
   "source": [
    "plt.imshow(points, cmap=\"gist_earth_r\");\n",
    "plt.colorbar();"
   ]
  },
  {
   "cell_type": "code",
   "execution_count": 13,
   "metadata": {},
   "outputs": [],
   "source": [
    "points = np.multiply(cross_sect, input_DEM)"
   ]
  },
  {
   "cell_type": "code",
   "execution_count": 16,
   "metadata": {},
   "outputs": [],
   "source": [
    "cross_sect_values = np.unique(points)"
   ]
  },
  {
   "cell_type": "code",
   "execution_count": 42,
   "metadata": {},
   "outputs": [
    {
     "data": {
      "text/plain": [
       "(150,)"
      ]
     },
     "execution_count": 42,
     "metadata": {},
     "output_type": "execute_result"
    }
   ],
   "source": [
    "m = np.arange(1,151)\n",
    "m.shape"
   ]
  },
  {
   "cell_type": "code",
   "execution_count": 46,
   "metadata": {},
   "outputs": [
    {
     "data": {
      "text/plain": [
       "array([   0.     ,    0.     ,    0.     ,    0.     ,    0.     ,\n",
       "          0.     ,    0.     ,    0.     ,    0.     ,    0.     ,\n",
       "          0.     ,    0.     ,    0.     ,    0.     ,    0.     ,\n",
       "          0.     ,    0.     ,    0.     ,    0.     ,    0.     ,\n",
       "          0.     ,    0.     ,    0.     ,    0.     ,    0.     ,\n",
       "          0.     ,    0.     ,    0.     ,    0.     ,    0.     ,\n",
       "          0.     ,    0.     ,    0.     ,    0.     ,    0.     ,\n",
       "          0.     ,    0.     ,    0.     ,    0.     ,    0.     ,\n",
       "          0.     ,  244.628  ,  244.6531 ,  244.6137 ,  244.58212,\n",
       "        244.58029,  244.54048,  244.52802,  244.50641,  244.48743,\n",
       "        244.45895,  244.44014,  244.41142,  244.39258,  244.36841,\n",
       "        244.35275,  244.3314 ,  244.31764,  244.31416,  244.32478,\n",
       "        244.23593,  244.225  ,  244.23395,  244.31941,  244.2811 ,\n",
       "        244.19743,  244.15047,  244.0989 ,  244.0707 ,  244.06818,\n",
       "        244.04454,  244.0309 ,  244.05006,  244.00679,  243.99232,\n",
       "        243.98776,  244.00291,  243.98918,  243.91496,  243.88882,\n",
       "        243.8795 ,  243.88103,  243.87254,  243.88127,  243.87177,\n",
       "        243.88535,  243.89305,  243.89893,  243.90466,  243.89557,\n",
       "        243.9    ,  243.89091,  243.91574,  243.94044,  243.96645,\n",
       "        243.97269,  243.97461,  243.97937,  243.99252,  244.02061,\n",
       "        244.03238,  244.05154,  244.07335,  244.10304,  244.1031 ,\n",
       "        244.12433,  244.145  ,  244.16048,  244.19066,  244.2265 ,\n",
       "        244.21796,  244.26466,  244.29486,  244.33632,  244.34499,\n",
       "        244.36978,  244.3876 ,  244.41255,  244.46358,  244.44977,\n",
       "        244.49002,  244.51112,  244.4957 ,  244.5056 ,  244.50798,\n",
       "        244.51093,  244.50348,  244.48851,  244.49167,  244.48093,\n",
       "        244.47855,  244.48497,  244.47958,  244.46664,  244.45941,\n",
       "        244.46007,    0.     ,    0.     ,    0.     ,    0.     ,\n",
       "          0.     ,    0.     ,    0.     ,    0.     ,    0.     ,\n",
       "          0.     ,    0.     ,    0.     ,    0.     ,    0.     ], dtype=float32)"
      ]
     },
     "execution_count": 46,
     "metadata": {},
     "output_type": "execute_result"
    }
   ],
   "source": [
    "point_array"
   ]
  },
  {
   "cell_type": "code",
   "execution_count": 48,
   "metadata": {},
   "outputs": [
    {
     "data": {
      "image/png": "[encoded data removed]",
      "text/plain": [
       "<Figure size 432x288 with 1 Axes>"
      ]
     },
     "metadata": {
      "needs_background": "dark"
     },
     "output_type": "display_data"
    }
   ],
   "source": [
    "plt.scatter(m[41:-15], point_array[41:-15])\n",
    "plt.show()"
   ]
  },
  {
   "cell_type": "code",
   "execution_count": 4,
   "metadata": {
    "code_folding": [
     0,
     7,
     20,
     45,
     64,
     78,
     92,
     99,
     111,
     121,
     130,
     145,
     156,
     187
    ]
   },
   "outputs": [],
   "source": [
    "def rectangleWindow(m, n):\n",
    "    \"\"\"Takes a value for number of rows (m) and number of columns (n) such that\n",
    "       m and n are both positive real numbers and creates a rectangle of \n",
    "       boolian 'True' values.\"\"\"\n",
    "    rectangle = np.ones((m, n), dtype=bool) \n",
    "    return rectangle\n",
    "\n",
    "def number_of_values(Window):\n",
    "    \"\"\"This funciton takes the shape function as an input and returns a number \n",
    "        of values present in the specified shape. \n",
    "        \n",
    "        This can be different for a different window shape and to initialize\n",
    "        requires the specification of the function for the given window type and \n",
    "        parameter values required for that input function.\n",
    "        \n",
    "        To initialize this function for shape == rectangle type 'number_of_values(rectangleWindow(m,n)) \n",
    "        where m and n are any positive real number as per the rectangleWindow function.\"\"\"\n",
    "    denominator = sum(sum(Window > 0))\n",
    "    return denominator\n",
    "\n",
    "def slopeWindow(DEM_slope, x_cellsize, y_cellsize):\n",
    "    \"\"\"This function implements slope calculation using the same algorithm\n",
    "       as ARCGIS (Outlined on the page 'How Slope Works').\n",
    "       This particular example of the function is written such that it\n",
    "       will only work if called within the ndimage generic_filter (as the first input).\n",
    "       This is because the index arguments for a-e are given for the 1d array created\n",
    "       by the generic_filter function after extracting values from the 3,3 rectangle window.\n",
    "       NOTE: THIS FUNCTION ONLY WORKS WITH A 3x3 RECTANGLE WINDOW.\"\"\"\n",
    "    a = DEM_slope[0]; b = DEM_slope[1]; c = DEM_slope[2]\n",
    "    d = DEM_slope[3]; e = DEM_slope[4]; f = DEM_slope[5]\n",
    "    g = DEM_slope[6]; h = DEM_slope[7]; i = DEM_slope[8]\n",
    "    dzdx = ((c + (2*f) + i) - (a + (2*d) + g)) / (8 * x_cellsize)\n",
    "    dzdy = ((g + (2*h) + i) - (a + (2*b) + c)) / (8 * y_cellsize)\n",
    "    rise_run = np.sqrt(dzdx**2 + dzdy**2)\n",
    "    slope_degrees = np.arctan(rise_run) * (180/math.pi)\n",
    "    slope_percent = rise_run * 100\n",
    "    #Can also ask it to return slope_degrees but askinh for both causes it to throw and error.\n",
    "    return slope_percent\n",
    "\n",
    "# The 'extra_arguments' variable requires a value that represents r in the PCTL function defined above.\n",
    "# The reason it need to be assigned to a seperate variable is that the generic_filter function only allows the\n",
    "# input function (PCTL in this case) to take one argument (S1). Then, if the input function normally \n",
    "# takes more than one argument the 'extra_arguments' variable needs to be defined as a tuple \n",
    "# (hence (3,) instead of (3)).\n",
    "\n",
    "def slopeWindowDegrees(DEM, x_cellsize, y_cellsize):\n",
    "    \"\"\"This function implements slope calculation using the same algorithm\n",
    "       as ARCGIS (Outlined on the page 'How Slope Works').\n",
    "       This particular example of the function is written such that it\n",
    "       will only work if called within the ndimage generic_filter (as the first input).\n",
    "       This is because the index arguments for a-e are given for the 1d array created\n",
    "       by the generic_filter function after extracting values from the 3,3 rectangle window.\n",
    "       NOTE: THIS FUNCTION ONLY WORKS WITH A 3x3 RECTANGLE WINDOW.\"\"\"\n",
    "    a = DEM[0]; b = DEM[1]; c = DEM[2]\n",
    "    d = DEM[3]; e = DEM[4]; f = DEM[5]\n",
    "    g = DEM[6]; h = DEM[7]; i = DEM[8]\n",
    "    dzdx = ((c + (2*f) + i) - (a + (2*d) + g)) / (8 * x_cellsize)\n",
    "    dzdy = ((g + (2*h) + i) - (a + (2*b) + c)) / (8 * y_cellsize)\n",
    "    rise_run = np.sqrt(dzdx**2 + dzdy**2)\n",
    "    slope_degrees = np.arctan(rise_run) * (180/math.pi)\n",
    "    slope_percent = rise_run * 100\n",
    "    #Can also ask it to return slope_degrees but asking for both causes it to throw and error.\n",
    "    return slope_degrees\n",
    "\n",
    "def planCurvature(DEM, cellsize):\n",
    "    \"\"\"This process is taken from Change (2014, Introduction to Geographic Information\n",
    "    systems, Page 284).\"\"\"\n",
    "    Z1 = DEM[0]; Z2 = DEM[1]; Z3 = DEM[2]\n",
    "    Z4 = DEM[3]; Z0 = DEM[4]; Z5 = DEM[5]\n",
    "    Z6 = DEM[6]; Z7 = DEM[7]; Z8 = DEM[8]\n",
    "    D = (((Z4 + Z5)/2) - Z0) / cellsize**2\n",
    "    E = (((Z2 + Z7)/2) - Z0) / cellsize**2\n",
    "    F = (Z3 - Z1 + Z6 - Z8)/ (4 * cellsize**2)\n",
    "    G = (Z5 - Z4) / (2 * cellsize)\n",
    "    H = (Z2 - Z7) / (2 * cellsize)\n",
    "    plan_curvature = (2 * (D*(H**2) + E*(G**2) - (F*G*H))) / (G**2 + H**2)\n",
    "    return plan_curvature\n",
    "\n",
    "def profileCurvature(DEM, cellsize):\n",
    "    \"\"\"This process is taken from Change (2014, Introduction to Geographic Information\n",
    "       systems, Page 284).\"\"\"\n",
    "    Z1 = DEM[0]; Z2 = DEM[1]; Z3 = DEM[2]\n",
    "    Z4 = DEM[3]; Z0 = DEM[4]; Z5 = DEM[5]\n",
    "    Z6 = DEM[6]; Z7 = DEM[7]; Z8 = DEM[8]\n",
    "    D = (((Z4 + Z5)/2) - Z0) / cellsize**2\n",
    "    E = (((Z2 + Z7)/2) - Z0) / cellsize**2\n",
    "    F = (Z3 - Z1 + Z6 - Z8)/ (4 * cellsize**2)\n",
    "    G = (Z5 - Z4) / (2 * cellsize)\n",
    "    H = (Z2 - Z7) / (2 * cellsize)\n",
    "    profile_curvature = (-2 * (D*(G**2) + E*(H**2) + (F*G*H))) / (G**2 + H**2)\n",
    "    return profile_curvature\n",
    "\n",
    "def circleWindow(radius):\n",
    "    \"\"\"Takes a value for radius (r where r is any positive real number) and creates \n",
    "       a circular window using that radius.\"\"\"\n",
    "    y, x = np.ogrid[-radius: radius + 1, -radius: radius + 1]\n",
    "    circle = x**2 + y**2 <= radius**2\n",
    "    return circle\n",
    "\n",
    "def find_median_value(Window):\n",
    "    \"\"\"This function takes the shape function and returns the median value \n",
    "        for all valid values (values that fall in the circle) arranged into a \n",
    "        1d array. The function also takes the number_of_values function as an input.\n",
    "        To execute this function type 'find_median_value(shape(r)) where r is any integer.\n",
    "        #Note: using median like this only gives the correct value for circles with odd \n",
    "        radius values.\"\"\"\n",
    "    no_values = number_of_values(Window)\n",
    "    value_range = np.arange(0, no_values + 1)\n",
    "    central_value = int(np.median(value_range))\n",
    "    return central_value\n",
    "\n",
    "def difference_from_mean_elevation(elev):\n",
    "    \"\"\"This function only works as an inside function to generic_filter function below. This\n",
    "       is because generic_filter will take a 2d array and reshape it into a 1d array. Without this \n",
    "       step the 'central_value' variable will be outside of the array dimensions. \n",
    "       x = input DEM and r = radius of search window \"\"\"\n",
    "    centroid = elev[central_value]                        \n",
    "    mean = np.nanmean(elev)#Count number of values greater than centroid value\n",
    "    diff = centroid - mean\n",
    "    return diff\n",
    "\n",
    "def PCTL(x):\n",
    "    \"\"\"This function only works as an inside function to generic_filter function below. This\n",
    "       is because generic_filter will take a 2d array and reshape it into a 1d array. Without this \n",
    "       step the 'central_value' variable will be outside of the array dimensions. \n",
    "       x = input DEM and r = radius of search window \"\"\"\n",
    "    centroid = x[central_value]                        \n",
    "    y = np.sum(x < centroid)/num_values#Count number of values greater than centroid value\n",
    "    return y\n",
    "\n",
    "def TWI(slope, As):\n",
    "    \"\"\"Calculates Topographic Wetness Index (TWI) taking a slope layer in degrees,\n",
    "    the catchment area of the cell calculated using a chosen flow routing algorithm and \n",
    "    the cell resolution of the slope and catchment area layers input as an integer.\"\"\"\n",
    "    tolerance = 1e-16\n",
    "    slope_radians = np.deg2rad(slope)\n",
    "    tanB = np.tan(slope_radians)\n",
    "    tanB[tanB < tolerance] = tolerance\n",
    "    sca = np.asarray(As)\n",
    "    sca[sca < tolerance] = tolerance\n",
    "    W = np.log(np.divide(sca, tanB))\n",
    "    TWI = np.asarray(W)\n",
    "    TWI[TWI < tolerance] = 0\n",
    "    return TWI\n",
    "\n",
    "def SPI(slope, As):\n",
    "    \"\"\"Calculates Compound Topographic Index (TWI) taking a slope layer in degrees and\n",
    "    the catchment area of the cell calculated using a chosen flow routing algorithm.\"\"\"\n",
    "    tolerance = 1e-16\n",
    "    slope_radians = np.deg2rad(slope)\n",
    "    tanB = np.tan(slope_radians)\n",
    "    tanB[tanB < tolerance] = tolerance\n",
    "    C = np.multiply(As, tanB)\n",
    "    C_N = np.nan_to_num(C)\n",
    "    return C_N\n",
    "\n",
    "def flow_dir_dataset(flow_receivers, grid_node_values, drainage_area,\n",
    "                     grid_x_axis_length, grid_resolution, grid_shape):\n",
    "    \"\"\"Decomposes flow directions into 8 grids of single direction and uses those \n",
    "    grids to calculate specific catchment area.\"\"\"\n",
    "    array_direction = xr.Dataset();\n",
    "    # In order - East, North, West, South, Nothwest, Northeast, Southwest, Southeast.\n",
    "    possible_directions = [1, grid_x_axis_length, -1, -grid_x_axis_length,\n",
    "                          grid_x_axis_length + 1, grid_x_axis_length - 1,\n",
    "                            -(grid_x_axis_length + 1), -(grid_x_axis_length -1)]\n",
    "    for i in range(0,8):\n",
    "        # Reset the flow_direction grid for each run.\n",
    "        flow_direction = np.subtract(flow_receivers, grid_node_values);\n",
    "        # Extract only grids cells with a specific flow direction.\n",
    "        isolate_direction = flow_direction == possible_directions[i]\n",
    "        reshape_direction = isolate_direction.reshape(grid_shape)\n",
    "        weighted_direction = xr.DataArray((np.multiply(drainage_area, reshape_direction)), \n",
    "                                          dims = ['lat', 'lon'])\n",
    "        array_direction[direction_list[i]] = weighted_direction\n",
    "        \n",
    "    E, N, W, S, NE, NW, SW, SE = (array_direction['East'],array_direction['North'], \n",
    "                                  array_direction['West'], array_direction['South'], \n",
    "                                  array_direction['North East'], array_direction['North West'],\n",
    "                                  array_direction['South West'],array_direction['South East'])\n",
    "\n",
    "    flow_dirs = xr.concat([E, N, W, S, NE, NW, SW, SE], 'direction')\n",
    "    flow_dirs.name = 'flow_directions'\n",
    "    flow_dirs.attrs['grid cell resolution'] = grid_resolution\n",
    "    flow_directions = flow_dirs.assign_coords(direction=(['East','North','West','South',\n",
    "                                   'North East', 'North West','South West', 'South East']))\n",
    "    return flow_directions\n",
    "\n",
    "def calculate_specific_catchment_area(dir_list):\n",
    "    sca_dataset = xr.Dataset()\n",
    "    dir_dicts = [{'Direction': 'East', 'x1': 1, 'x2': -1, 'y1': 2, 'y2': None}, \n",
    "                {'Direction': 'North','x1': 2, 'x2': None, 'y1': 1, 'y2': -1},\n",
    "                {'Direction': 'West' , 'x1': 1, 'x2': -1, 'y1': None, 'y2': -2},\n",
    "                {'Direction': 'South' ,'x1': None, 'x2': -2, 'y1': 1, 'y2': -1} ,\n",
    "                {'Direction': 'North East' , 'x1': 2, 'x2': None, 'y1': 2, 'y2': None},\n",
    "                {'Direction': 'North West' , 'x1': 2, 'x2': None, 'y1': None, 'y2': -2},\n",
    "                {'Direction': 'South West' , 'x1': None, 'x2': -2, 'y1': None, 'y2': -2},\n",
    "                {'Direction': 'South East', 'x1': None, 'x2': -2, 'y1': 2, 'y2': None}]\n",
    "\n",
    "    for varname, ds in catchment_area_grids.data_vars.items():\n",
    "        loop_temp_ds = xr.Dataset();\n",
    "        for i in range(0,8):\n",
    "                buffer = ds.sel(direction = dir_list[i]);\n",
    "                resolution = buffer.attrs['grid cell resolution'];\n",
    "                if i < 4:\n",
    "                    flow_width_factor = np.divide(1, np.float(resolution));\n",
    "                else: \n",
    "                    flow_width_factor = np.divide(1, math.sqrt(2) * resolution);\n",
    "                \n",
    "                lat = buffer.shape[0]; lon = buffer.shape[1];\n",
    "                exp = np.zeros((lat + 2,lon + 2));\n",
    "                exp[dir_dicts[i]['x1']:dir_dicts[i]['x2'],\n",
    "                dir_dicts[i]['y1']:dir_dicts[i]['y2']] = np.multiply(buffer, flow_width_factor);\n",
    "                spca_shell = np.flip(exp [1:-1,1:-1], 0);\n",
    "                spca = xr.DataArray(spca_shell, dims = ['lat', 'lon']);\n",
    "                loop_temp_ds[dir_list[i]] = spca\n",
    "                \n",
    "        E, N, W, S, NE, NW, SW, SE = (loop_temp_ds['East'], loop_temp_ds['North'],\n",
    "                                loop_temp_ds['West'], loop_temp_ds['South'],\n",
    "                                loop_temp_ds['North East'], loop_temp_ds['North West'],\n",
    "                                loop_temp_ds['South West'], loop_temp_ds['South East']);\n",
    "\n",
    "        spca_dirs = xr.concat([E, N, W, S, NE, NW, SW, SE], 'direction');\n",
    "        specific_ca = spca_dirs.sum('direction');\n",
    "        specific_ca.attrs['grid cell resolution'] = resolution\n",
    "        sca_dataset['sca' + '_' + varname] = specific_ca\n",
    "        \n",
    "    return sca_dataset"
   ]
  },
  {
   "cell_type": "code",
   "execution_count": 5,
   "metadata": {},
   "outputs": [],
   "source": [
    "slope_degree = generic_filter(input_DEM, slopeWindowDegrees,\n",
    "                  footprint= rectangleWindow(3,3),\n",
    "                  mode='constant', extra_arguments = (1,1,));"
   ]
  },
  {
   "cell_type": "code",
   "execution_count": 6,
   "metadata": {},
   "outputs": [
    {
     "name": "stderr",
     "output_type": "stream",
     "text": [
      "C:\\Users\\sjwal\\Anaconda3\\lib\\site-packages\\ipykernel_launcher.py:90: RuntimeWarning: invalid value encountered in double_scalars\n"
     ]
    }
   ],
   "source": [
    "profile_curvature = generic_filter(input_DEM, profileCurvature, \n",
    "                footprint= rectangleWindow(3,3), \n",
    "                mode='constant', extra_arguments = (1,));"
   ]
  },
  {
   "cell_type": "code",
   "execution_count": 7,
   "metadata": {},
   "outputs": [
    {
     "name": "stderr",
     "output_type": "stream",
     "text": [
      "C:\\Users\\sjwal\\Anaconda3\\lib\\site-packages\\ipykernel_launcher.py:1: RuntimeWarning: invalid value encountered in greater\n",
      "  \"\"\"Entry point for launching an IPython kernel.\n",
      "C:\\Users\\sjwal\\Anaconda3\\lib\\site-packages\\ipykernel_launcher.py:2: RuntimeWarning: invalid value encountered in less\n",
      "  \n"
     ]
    }
   ],
   "source": [
    "profile_curvature[profile_curvature > 0.1] = 0.1\n",
    "profile_curvature[profile_curvature < -0.1] = -0.1"
   ]
  },
  {
   "cell_type": "code",
   "execution_count": 8,
   "metadata": {},
   "outputs": [],
   "source": [
    "central_value = find_median_value(circleWindow(3))\n",
    "num_values = number_of_values(circleWindow(3))"
   ]
  },
  {
   "cell_type": "code",
   "execution_count": 9,
   "metadata": {},
   "outputs": [],
   "source": [
    "DFME = generic_filter(input_DEM, difference_from_mean_elevation, \n",
    "                        footprint= circleWindow(3), mode='nearest');"
   ]
  },
  {
   "cell_type": "code",
   "execution_count": 10,
   "metadata": {},
   "outputs": [],
   "source": [
    "DFME[DFME > 1.0] = 1.0\n",
    "DFME[DFME < -1.0] = -1.0"
   ]
  },
  {
   "cell_type": "code",
   "execution_count": 16,
   "metadata": {},
   "outputs": [
    {
     "data": {
      "image/png": "[encoded data removed]",
      "text/plain": [
       "<Figure size 432x288 with 2 Axes>"
      ]
     },
     "metadata": {
      "needs_background": "dark"
     },
     "output_type": "display_data"
    }
   ],
   "source": [
    "plt.imshow(slope_degree[500:1500, 1000:], cmap=\"gist_earth_r\");\n",
    "plt.colorbar();"
   ]
  },
  {
   "cell_type": "code",
   "execution_count": 11,
   "metadata": {
    "code_folding": [
     0
    ]
   },
   "outputs": [],
   "source": [
    "def np_array_to_Geotiff(newfile, original_tiff, np_array, dtype):\n",
    "    \n",
    "    cols = np_array.shape[1]\n",
    "    rows = np_array.shape[0]\n",
    "    originX, pixelWidth, b, originY, d, pixelHeight = original_tiff.GetGeoTransform() \n",
    "    driver = gdal.GetDriverByName('GTiff')\n",
    "    GDT_dtype = gdal.GDT_Unknown\n",
    "    if dtype == \"Float64\": \n",
    "        GDT_dtype = gdal.GDT_Float64\n",
    "    elif dtype == \"Float32\":\n",
    "        GDT_dtype = gdal.GDT_Float32\n",
    "    else:\n",
    "        print(\"Not supported data type.\")\n",
    "    \n",
    "    if np_array.ndim == 2:\n",
    "        band_num = 1\n",
    "    else:\n",
    "        band_num = np_array.shape[2]\n",
    "\n",
    "    outRaster = driver.Create(newfile, cols, rows, band_num, GDT_dtype)\n",
    "    outRaster.SetGeoTransform((originX, pixelWidth, 0, originY, 0, pixelHeight))\n",
    "    \n",
    "    # Loop over all bands.\n",
    "    for b in range(band_num):\n",
    "        outband = outRaster.GetRasterBand(b + 1)\n",
    "    \n",
    "        # Read in the band's data into the third dimension of our array\n",
    "        if band_num == 1:\n",
    "            outband.WriteArray(np_array)\n",
    "        else:\n",
    "            outband.WriteArray(np_array[:,:,b])\n",
    "\n",
    "    # setteing srs from input tif file.\n",
    "    prj=original_tiff.GetProjection()\n",
    "    outRasterSRS = osr.SpatialReference(wkt=prj)\n",
    "    outRaster.SetProjection(outRasterSRS.ExportToWkt())\n",
    "    outband.FlushCache()\n",
    "    outRaster = None\n",
    "    \n",
    "    return outRaster"
   ]
  },
  {
   "cell_type": "code",
   "execution_count": 14,
   "metadata": {},
   "outputs": [
    {
     "name": "stderr",
     "output_type": "stream",
     "text": [
      "C:\\Users\\sjwal\\Anaconda3\\lib\\site-packages\\ipykernel_launcher.py:8: DeprecationWarning: Numeric-style type codes are deprecated and will result in an error in the future.\n",
      "  \n",
      "C:\\Users\\sjwal\\Anaconda3\\lib\\site-packages\\ipykernel_launcher.py:10: DeprecationWarning: Numeric-style type codes are deprecated and will result in an error in the future.\n",
      "  # Remove the CWD from sys.path while we load stuff.\n"
     ]
    }
   ],
   "source": [
    "np_array_to_Geotiff('fann_1_slope.tif', input_geotiff, slope_degree, \n",
    "                    input_DEM.dtype)"
   ]
  },
  {
   "cell_type": "code",
   "execution_count": null,
   "metadata": {},
   "outputs": [],
   "source": []
  }
 ],
 "metadata": {
  "kernelspec": {
   "display_name": "Python 3",
   "language": "python",
   "name": "python3"
  },
  "language_info": {
   "codemirror_mode": {
    "name": "ipython",
    "version": 3
   },
   "file_extension": ".py",
   "mimetype": "text/x-python",
   "name": "python",
   "nbconvert_exporter": "python",
   "pygments_lexer": "ipython3",
   "version": "3.7.3"
  }
 },
 "nbformat": 4,
 "nbformat_minor": 2
}
