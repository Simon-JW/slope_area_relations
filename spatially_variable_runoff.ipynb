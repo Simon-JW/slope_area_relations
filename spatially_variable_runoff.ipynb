{
 "cells": [
  {
   "cell_type": "code",
   "execution_count": 42,
   "metadata": {
    "code_folding": [
     40
    ]
   },
   "outputs": [],
   "source": [
    "%%capture\n",
    "from jupyterthemes import jtplot\n",
    "jtplot.style()\n",
    "import numpy as np\n",
    "from landlab import FieldError\n",
    "from landlab.utils import get_watershed_mask\n",
    "import xarray as xr\n",
    "import pandas as pd\n",
    "import scipy\n",
    "import gdal\n",
    "from scipy import ndimage\n",
    "from scipy.ndimage.filters import *\n",
    "import os\n",
    "import math\n",
    "from osgeo import osr\n",
    "from fractions import Fraction\n",
    "import timeit\n",
    "import matplotlib.pyplot as plt\n",
    "%matplotlib inline\n",
    "import random\n",
    "# import plotting tools\n",
    "from mpl_toolkits.mplot3d import Axes3D\n",
    "import matplotlib.pyplot as plt\n",
    "from matplotlib import cm\n",
    "from matplotlib.ticker import LinearLocator, FormatStrFormatter\n",
    "import matplotlib as mpl\n",
    "from landlab.plot.imshow import imshow_grid \n",
    "# import necessary landlab components\n",
    "from landlab import RasterModelGrid, HexModelGrid\n",
    "from landlab.components import FlowAccumulator, FlowRouter, LakeMapperBarnes, SinkFillerBarnes\n",
    "from landlab.components import(FlowDirectorD8, \n",
    "                               FlowDirectorDINF, \n",
    "                               FlowDirectorMFD, \n",
    "                               FlowDirectorSteepest)\n",
    "from landlab.components import DepressionFinderAndRouter\n",
    "# import landlab plotting functionality\n",
    "from landlab.plot.drainage_plot import drainage_plot\n",
    "from pylab import show, figure\n",
    "\n",
    "# create a plotting routine to make a 3d plot of our surface. \n",
    "def surf_plot(mg, surface='topographic__elevation', \n",
    "              title='Surface plot of topography', colormap = cm.gray):\n",
    "    \n",
    "    fig = plt.figure()\n",
    "    ax = fig.gca(projection='3d')\n",
    "\n",
    "    # Plot the surface.\n",
    "    Z = (mg.at_node[surface].reshape(mg.shape))#[y1:y2, x1:x2]\n",
    "    color = colormap((Z-Z.min())/(Z.max()-Z.min()))\n",
    "    surf = ax.plot_surface(mg.node_x.reshape(mg.shape),#[y1:y2, x1:x2]\n",
    "                           mg.node_y.reshape(mg.shape),#[y1:y2, x1:x2]\n",
    "                           Z,\n",
    "                           rstride=1, cstride=1,\n",
    "                           facecolors=color,\n",
    "                           linewidth=0.,\n",
    "                           antialiased=False)\n",
    "    ax.view_init(elev=35, azim=-120)\n",
    "    ax.set_xlabel('X axis')\n",
    "    ax.set_ylabel('Y axis')\n",
    "    ax.set_zlabel('Elevation')\n",
    "    plt.title(title)\n",
    "    plt.show()"
   ]
  },
  {
   "cell_type": "code",
   "execution_count": 2,
   "metadata": {},
   "outputs": [],
   "source": [
    "location = (r'C:/PhD/junk')\n",
    "os.chdir(location)\n",
    "\n",
    "input_geotiff = gdal.Open('fann_2013_1ma.tif')\n",
    "initial_resolution = 1\n",
    "x = np.array(input_geotiff.GetRasterBand(1).ReadAsArray())\n",
    "input_DEM = x[1500:2000, 2000:3000]\n",
    "\n",
    "input_outlets = gdal.Open('gully_1_a.tif')\n",
    "initial_resolution = 1\n",
    "o = np.array(input_outlets.GetRasterBand(1).ReadAsArray())\n",
    "outlets = o[1500:2000, 2000:3000]"
   ]
  },
  {
   "cell_type": "code",
   "execution_count": 43,
   "metadata": {},
   "outputs": [
    {
     "name": "stderr",
     "output_type": "stream",
     "text": [
      "C:\\Users\\sjwal\\Anaconda3\\lib\\site-packages\\ipykernel_launcher.py:9: DeprecationWarning: Numeric-style type codes are deprecated and will result in an error in the future.\n",
      "  if __name__ == '__main__':\n"
     ]
    }
   ],
   "source": [
    "input_DEM = np.array([[100, 100, 100, 100, 100, 100, 100, 100, 100],\n",
    "                      [90, 80, 70, 50, 30, 50, 70, 80, 90],\n",
    "                      [80, 60, 40, 30, 20, 30, 40, 60, 80],\n",
    "                      [70, 55, 35, 25, 0, 25, 35, 55, 70],\n",
    "                      [60, 45, 25, 20, 10, 20, 25, 45, 60],\n",
    "                      [50, 35, 15, 0, 0, 10, 15, 35, 50],\n",
    "                      [40, 25, 10, 7, 0, 7, 10, 25, 40],\n",
    "                      [30, 15,  5, 4, 1,  4,  5, 15, 30],\n",
    "                      [20,  5, 3,  3, 2,  3,  3,  5, 20]], dtype = 'Float64')"
   ]
  },
  {
   "cell_type": "code",
   "execution_count": 44,
   "metadata": {},
   "outputs": [
    {
     "data": {
      "image/png": "[encoded data removed]",
      "text/plain": [
       "<Figure size 432x288 with 2 Axes>"
      ]
     },
     "metadata": {
      "needs_background": "dark"
     },
     "output_type": "display_data"
    }
   ],
   "source": [
    "plt.imshow(input_DEM, cmap=\"gist_earth_r\");\n",
    "plt.colorbar();"
   ]
  },
  {
   "cell_type": "code",
   "execution_count": 45,
   "metadata": {
    "code_folding": [
     0,
     6,
     18,
     41,
     59,
     72,
     85,
     91,
     102,
     111,
     119,
     133,
     143,
     173,
     213
    ]
   },
   "outputs": [],
   "source": [
    "def rectangleWindow(m, n):\n",
    "    \"\"\"Takes a value for number of rows (m) and number of columns (n) such that\n",
    "       m and n are both positive real numbers and creates a rectangle of \n",
    "       boolian 'True' values.\"\"\"\n",
    "    rectangle = np.ones((m, n), dtype=bool) \n",
    "    return rectangle\n",
    "def number_of_values(Window):\n",
    "    \"\"\"This funciton takes the shape function as an input and returns a number \n",
    "        of values present in the specified shape. \n",
    "        \n",
    "        This can be different for a different window shape and to initialize\n",
    "        requires the specification of the function for the given window type and \n",
    "        parameter values required for that input function.\n",
    "        \n",
    "        To initialize this function for shape == rectangle type 'number_of_values(rectangleWindow(m,n)) \n",
    "        where m and n are any positive real number as per the rectangleWindow function.\"\"\"\n",
    "    denominator = sum(sum(Window > 0))\n",
    "    return denominator\n",
    "def slopeWindow(DEM_slope, x_cellsize, y_cellsize):\n",
    "    \"\"\"This function implements slope calculation using the same algorithm\n",
    "       as ARCGIS (Outlined on the page 'How Slope Works').\n",
    "       This particular example of the function is written such that it\n",
    "       will only work if called within the ndimage generic_filter (as the first input).\n",
    "       This is because the index arguments for a-e are given for the 1d array created\n",
    "       by the generic_filter function after extracting values from the 3,3 rectangle window.\n",
    "       NOTE: THIS FUNCTION ONLY WORKS WITH A 3x3 RECTANGLE WINDOW.\"\"\"\n",
    "    a = DEM_slope[0]; b = DEM_slope[1]; c = DEM_slope[2]\n",
    "    d = DEM_slope[3]; e = DEM_slope[4]; f = DEM_slope[5]\n",
    "    g = DEM_slope[6]; h = DEM_slope[7]; i = DEM_slope[8]\n",
    "    dzdx = ((c + (2*f) + i) - (a + (2*d) + g)) / (8 * x_cellsize)\n",
    "    dzdy = ((g + (2*h) + i) - (a + (2*b) + c)) / (8 * y_cellsize)\n",
    "    rise_run = np.sqrt(dzdx**2 + dzdy**2)\n",
    "    slope_degrees = np.arctan(rise_run) * (180/math.pi)\n",
    "    slope_percent = rise_run * 100\n",
    "    #Can also ask it to return slope_degrees but askinh for both causes it to throw and error.\n",
    "    return slope_percent\n",
    "# The 'extra_arguments' variable requires a value that represents r in the PCTL function defined above.\n",
    "# The reason it need to be assigned to a seperate variable is that the generic_filter function only allows the\n",
    "# input function (PCTL in this case) to take one argument (S1). Then, if the input function normally \n",
    "# takes more than one argument the 'extra_arguments' variable needs to be defined as a tuple \n",
    "# (hence (3,) instead of (3)).\n",
    "def slopeWindowDegrees(DEM, x_cellsize, y_cellsize):\n",
    "    \"\"\"This function implements slope calculation using the same algorithm\n",
    "       as ARCGIS (Outlined on the page 'How Slope Works').\n",
    "       This particular example of the function is written such that it\n",
    "       will only work if called within the ndimage generic_filter (as the first input).\n",
    "       This is because the index arguments for a-e are given for the 1d array created\n",
    "       by the generic_filter function after extracting values from the 3,3 rectangle window.\n",
    "       NOTE: THIS FUNCTION ONLY WORKS WITH A 3x3 RECTANGLE WINDOW.\"\"\"\n",
    "    a = DEM[0]; b = DEM[1]; c = DEM[2]\n",
    "    d = DEM[3]; e = DEM[4]; f = DEM[5]\n",
    "    g = DEM[6]; h = DEM[7]; i = DEM[8]\n",
    "    dzdx = ((c + (2*f) + i) - (a + (2*d) + g)) / (8 * x_cellsize)\n",
    "    dzdy = ((g + (2*h) + i) - (a + (2*b) + c)) / (8 * y_cellsize)\n",
    "    rise_run = np.sqrt(dzdx**2 + dzdy**2)\n",
    "    slope_degrees = np.arctan(rise_run) * (180/math.pi)\n",
    "    slope_percent = rise_run * 100\n",
    "    #Can also ask it to return slope_degrees but asking for both causes it to throw and error.\n",
    "    return slope_degrees\n",
    "def planCurvature(DEM, cellsize):\n",
    "    \"\"\"This process is taken from Change (2014, Introduction to Geographic Information\n",
    "    systems, Page 284).\"\"\"\n",
    "    Z1 = DEM[0]; Z2 = DEM[1]; Z3 = DEM[2]\n",
    "    Z4 = DEM[3]; Z0 = DEM[4]; Z5 = DEM[5]\n",
    "    Z6 = DEM[6]; Z7 = DEM[7]; Z8 = DEM[8]\n",
    "    D = (((Z4 + Z5)/2) - Z0) / cellsize**2\n",
    "    E = (((Z2 + Z7)/2) - Z0) / cellsize**2\n",
    "    F = (Z3 - Z1 + Z6 - Z8)/ (4 * cellsize**2)\n",
    "    G = (Z5 - Z4) / (2 * cellsize)\n",
    "    H = (Z2 - Z7) / (2 * cellsize)\n",
    "    plan_curvature = (2 * (D*(H**2) + E*(G**2) - (F*G*H))) / (G**2 + H**2)\n",
    "    return plan_curvature\n",
    "def profileCurvature(DEM, cellsize):\n",
    "    \"\"\"This process is taken from Change (2014, Introduction to Geographic Information\n",
    "       systems, Page 284).\"\"\"\n",
    "    Z1 = DEM[0]; Z2 = DEM[1]; Z3 = DEM[2]\n",
    "    Z4 = DEM[3]; Z0 = DEM[4]; Z5 = DEM[5]\n",
    "    Z6 = DEM[6]; Z7 = DEM[7]; Z8 = DEM[8]\n",
    "    D = (((Z4 + Z5)/2) - Z0) / cellsize**2\n",
    "    E = (((Z2 + Z7)/2) - Z0) / cellsize**2\n",
    "    F = (Z3 - Z1 + Z6 - Z8)/ (4 * cellsize**2)\n",
    "    G = (Z5 - Z4) / (2 * cellsize)\n",
    "    H = (Z2 - Z7) / (2 * cellsize)\n",
    "    profile_curvature = (-2 * (D*(G**2) + E*(H**2) + (F*G*H))) / (G**2 + H**2)\n",
    "    return profile_curvature\n",
    "def circleWindow(radius):\n",
    "    \"\"\"Takes a value for radius (r where r is any positive real number) and creates \n",
    "       a circular window using that radius.\"\"\"\n",
    "    y, x = np.ogrid[-radius: radius + 1, -radius: radius + 1]\n",
    "    circle = x**2 + y**2 <= radius**2\n",
    "    return circle\n",
    "def find_median_value(Window):\n",
    "    \"\"\"This function takes the shape function and returns the median value \n",
    "        for all valid values (values that fall in the circle) arranged into a \n",
    "        1d array. The function also takes the number_of_values function as an input.\n",
    "        To execute this function type 'find_median_value(shape(r)) where r is any integer.\n",
    "        #Note: using median like this only gives the correct value for circles with odd \n",
    "        radius values.\"\"\"\n",
    "    no_values = number_of_values(Window)\n",
    "    value_range = np.arange(0, no_values + 1)\n",
    "    central_value = int(np.median(value_range))\n",
    "    return central_value\n",
    "def DFME(elev):\n",
    "    \"\"\"This function only works as an inside function to generic_filter function below. This\n",
    "       is because generic_filter will take a 2d array and reshape it into a 1d array. Without this \n",
    "       step the 'central_value' variable will be outside of the array dimensions. \n",
    "       x = input DEM and r = radius of search window \"\"\"\n",
    "    centroid = elev[central_value]                        \n",
    "    mean = np.nanmean(elev)#Count number of values greater than centroid value\n",
    "    diff = centroid - mean\n",
    "    return diff\n",
    "def PCTL(x):\n",
    "    \"\"\"This function only works as an inside function to generic_filter function below. This\n",
    "       is because generic_filter will take a 2d array and reshape it into a 1d array. Without this \n",
    "       step the 'central_value' variable will be outside of the array dimensions. \n",
    "       x = input DEM and r = radius of search window \"\"\"\n",
    "    centroid = x[central_value]                        \n",
    "    y = np.sum(x < centroid)/num_values#Count number of values greater than centroid value\n",
    "    return y\n",
    "def TWI(slope, As):\n",
    "    \"\"\"Calculates Topographic Wetness Index (TWI) taking a slope layer in degrees,\n",
    "    the catchment area of the cell calculated using a chosen flow routing algorithm and \n",
    "    the cell resolution of the slope and catchment area layers input as an integer.\"\"\"\n",
    "    tolerance = 1e-16\n",
    "    slope_radians = np.deg2rad(slope)\n",
    "    tanB = np.tan(slope_radians)\n",
    "    tanB[tanB < tolerance] = tolerance\n",
    "    sca = np.asarray(As)\n",
    "    sca[sca < tolerance] = tolerance\n",
    "    W = np.log(np.divide(sca, tanB))\n",
    "    TWI = np.asarray(W)\n",
    "    TWI[TWI < tolerance] = 0\n",
    "    return TWI\n",
    "def SPI(slope, As):\n",
    "    \"\"\"Calculates Compound Topographic Index (TWI) taking a slope layer in degrees and\n",
    "    the catchment area of the cell calculated using a chosen flow routing algorithm.\"\"\"\n",
    "    tolerance = 1e-16\n",
    "    slope_radians = np.deg2rad(slope)\n",
    "    tanB = np.tan(slope_radians)\n",
    "    tanB[tanB < tolerance] = tolerance\n",
    "    C = np.multiply(As, tanB)\n",
    "    C_N = np.nan_to_num(C)\n",
    "    return C_N\n",
    "def flow_dir_dataset(flow_receivers, grid_node_values, drainage_area,\n",
    "                     grid_x_axis_length, grid_resolution, grid_shape):\n",
    "    \"\"\"Decomposes flow directions into 8 grids of single direction and uses those \n",
    "    grids to calculate specific catchment area.\"\"\"\n",
    "    array_direction = xr.Dataset();\n",
    "    # In order - East, North, West, South, Nothwest, Northeast, Southwest, Southeast.\n",
    "    possible_directions = [1, grid_x_axis_length, -1, -grid_x_axis_length,\n",
    "                          grid_x_axis_length + 1, grid_x_axis_length - 1,\n",
    "                            -(grid_x_axis_length + 1), -(grid_x_axis_length -1)]\n",
    "    for i in range(0,8):\n",
    "        # Reset the flow_direction grid for each run.\n",
    "        flow_direction = np.subtract(flow_receivers, grid_node_values);\n",
    "        # Extract only grids cells with a specific flow direction.\n",
    "        isolate_direction = flow_direction == possible_directions[i]\n",
    "        reshape_direction = isolate_direction.reshape(grid_shape)\n",
    "        weighted_direction = xr.DataArray((np.multiply(drainage_area, reshape_direction)), \n",
    "                                          dims = ['lat', 'lon'])\n",
    "        array_direction[direction_list[i]] = weighted_direction\n",
    "        \n",
    "    E, N, W, S, NE, NW, SW, SE = (array_direction['East'],array_direction['North'], \n",
    "                                  array_direction['West'], array_direction['South'], \n",
    "                                  array_direction['North East'], array_direction['North West'],\n",
    "                                  array_direction['South West'],array_direction['South East'])\n",
    "\n",
    "    flow_dirs = xr.concat([E, N, W, S, NE, NW, SW, SE], 'direction')\n",
    "    flow_dirs.name = 'flow_directions'\n",
    "    flow_dirs.attrs['grid cell resolution'] = grid_resolution\n",
    "    flow_directions = flow_dirs.assign_coords(direction=(['East','North','West','South',\n",
    "                                   'North East', 'North West','South West', 'South East']))\n",
    "    return flow_directions\n",
    "def calculate_specific_catchment_area(dir_list):\n",
    "    sca_dataset = xr.Dataset()\n",
    "    dir_dicts = [{'Direction': 'East', 'x1': 1, 'x2': -1, 'y1': 2, 'y2': None}, \n",
    "                {'Direction': 'North','x1': 2, 'x2': None, 'y1': 1, 'y2': -1},\n",
    "                {'Direction': 'West' , 'x1': 1, 'x2': -1, 'y1': None, 'y2': -2},\n",
    "                {'Direction': 'South' ,'x1': None, 'x2': -2, 'y1': 1, 'y2': -1} ,\n",
    "                {'Direction': 'North East' , 'x1': 2, 'x2': None, 'y1': 2, 'y2': None},\n",
    "                {'Direction': 'North West' , 'x1': 2, 'x2': None, 'y1': None, 'y2': -2},\n",
    "                {'Direction': 'South West' , 'x1': None, 'x2': -2, 'y1': None, 'y2': -2},\n",
    "                {'Direction': 'South East', 'x1': None, 'x2': -2, 'y1': 2, 'y2': None}]\n",
    "\n",
    "    for varname, ds in catchment_area_grids.data_vars.items():\n",
    "        loop_temp_ds = xr.Dataset();\n",
    "        for i in range(0,8):\n",
    "                buffer = ds.sel(direction = dir_list[i]);\n",
    "                resolution = buffer.attrs['grid cell resolution'];\n",
    "                if i < 4:\n",
    "                    flow_width_factor = np.divide(1, np.float(resolution));\n",
    "                else: \n",
    "                    flow_width_factor = np.divide(1, math.sqrt(2) * resolution);\n",
    "                \n",
    "                lat = buffer.shape[0]; lon = buffer.shape[1];\n",
    "                exp = np.zeros((lat + 2,lon + 2));\n",
    "                exp[dir_dicts[i]['x1']:dir_dicts[i]['x2'],\n",
    "                dir_dicts[i]['y1']:dir_dicts[i]['y2']] = np.multiply(buffer, flow_width_factor);\n",
    "                spca_shell = np.flip(exp [1:-1,1:-1], 0);\n",
    "                spca = xr.DataArray(spca_shell, dims = ['lat', 'lon']);\n",
    "                loop_temp_ds[dir_list[i]] = spca\n",
    "                \n",
    "        E, N, W, S, NE, NW, SW, SE = (loop_temp_ds['East'], loop_temp_ds['North'],\n",
    "                                loop_temp_ds['West'], loop_temp_ds['South'],\n",
    "                                loop_temp_ds['North East'], loop_temp_ds['North West'],\n",
    "                                loop_temp_ds['South West'], loop_temp_ds['South East']);\n",
    "\n",
    "        spca_dirs = xr.concat([E, N, W, S, NE, NW, SW, SE], 'direction');\n",
    "        specific_ca = spca_dirs.sum('direction');\n",
    "        specific_ca.attrs['grid cell resolution'] = resolution\n",
    "        sca_dataset['sca' + '_' + varname] = specific_ca\n",
    "        \n",
    "    return sca_dataset\n",
    "def compile_flow_width_grid(flow_direction_grids, resolution, grid_shape):\n",
    "    discharge_factor = np.zeros(grid_shape)\n",
    "    for i in range(0, 8):\n",
    "        if i < 4:\n",
    "            flow_width_factor = np.divide(1, np.float(resolution));\n",
    "        else: \n",
    "            flow_width_factor = np.divide(1, math.sqrt(2) * resolution);\n",
    "        isolate_direction = flow_direction_grids[i,:,:] != 0;\n",
    "        flow_width = np.multiply(isolate_direction, flow_width_factor);\n",
    "        discharge_factor += flow_width\n",
    "    return discharge_factor     "
   ]
  },
  {
   "cell_type": "markdown",
   "metadata": {},
   "source": [
    "# First extract a grid of flow widths"
   ]
  },
  {
   "cell_type": "code",
   "execution_count": 46,
   "metadata": {},
   "outputs": [],
   "source": [
    "flow_acc_surf = np.copy(input_DEM).astype('float64');\n",
    "rows = flow_acc_surf.shape[0];\n",
    "cols = flow_acc_surf.shape[1];\n",
    "mg = RasterModelGrid((rows,cols), 1);\n",
    "z1 = mg.add_field('topographic__elevation', flow_acc_surf, at = 'node');"
   ]
  },
  {
   "cell_type": "code",
   "execution_count": null,
   "metadata": {},
   "outputs": [],
   "source": [
    "#mg.set_watershed_boundary_condition(z1)"
   ]
  },
  {
   "cell_type": "code",
   "execution_count": null,
   "metadata": {},
   "outputs": [],
   "source": [
    "#mg.set_watershed_boundary_condition_outlet_id(605000, z1)"
   ]
  },
  {
   "cell_type": "code",
   "execution_count": null,
   "metadata": {},
   "outputs": [],
   "source": [
    "#imshow_grid(mg, mg.status_at_node, color_for_closed='blue')"
   ]
  },
  {
   "cell_type": "code",
   "execution_count": 47,
   "metadata": {},
   "outputs": [],
   "source": [
    "sfb = SinkFillerBarnes(mg, method = 'Steepest', ignore_overfill = True);\n",
    "sfb.run_one_step();\n",
    "fa = FlowAccumulator(mg,\n",
    "                    surface = 'topographic__elevation',\n",
    "                    flow_director = 'FlowDirectorD8');\n",
    "(flow_acc, q) = fa.accumulate_flow();\n",
    "#fa.run_one_step()\n",
    "fd = FlowDirectorD8(mg, 'topographic__elevation');\n",
    "fd.direct_flow();\n",
    "#fd.run_one_step()"
   ]
  },
  {
   "cell_type": "code",
   "execution_count": 48,
   "metadata": {},
   "outputs": [
    {
     "data": {
      "text/plain": [
       "dict_keys(['topographic__elevation', 'sediment_fill__depth', 'water__unit_flux_in', 'flow__sink_flag', 'flow__receiver_node', 'topographic__steepest_slope', 'flow__link_to_receiver_node', 'drainage_area', 'surface_water__discharge', 'flow__upstream_node_order', 'flow__data_structure_delta'])"
      ]
     },
     "execution_count": 48,
     "metadata": {},
     "output_type": "execute_result"
    }
   ],
   "source": [
    "mg.at_node.keys()"
   ]
  },
  {
   "cell_type": "code",
   "execution_count": 49,
   "metadata": {},
   "outputs": [],
   "source": [
    "da = np.array(mg.at_node['drainage_area'].round(4));\n",
    "frn = mg.at_node['flow__receiver_node'];\n",
    "drainage_area = da.reshape(mg.shape).astype('float64');\n",
    "grid_nodes = (mg.nodes).reshape(mg.shape[0] * mg.shape[1],);\n",
    "grid_nodes_outlet = np.array(mg.nodes.reshape(mg.shape))\n",
    "flow_rec_surf_rows = cols * rows;"
   ]
  },
  {
   "cell_type": "code",
   "execution_count": 50,
   "metadata": {},
   "outputs": [
    {
     "name": "stdout",
     "output_type": "stream",
     "text": [
      "Time taken =  0.01692200000070443 seconds\n"
     ]
    }
   ],
   "source": [
    "start = timeit.default_timer()\n",
    "direction_list = ['East', 'North', 'West', 'South',\n",
    "                  'North East', 'North West', 'South West', 'South East'];\n",
    "fdr = flow_dir_dataset(frn, grid_nodes, drainage_area, mg.shape[1], 1, mg.shape)\n",
    "stop=timeit.default_timer();\n",
    "time = stop - start\n",
    "print('Time taken' + ' = ', time, 'seconds')"
   ]
  },
  {
   "cell_type": "code",
   "execution_count": 51,
   "metadata": {},
   "outputs": [],
   "source": [
    "grid_of_flow_widths = compile_flow_width_grid(fdr, 1, mg.shape);"
   ]
  },
  {
   "cell_type": "code",
   "execution_count": 52,
   "metadata": {},
   "outputs": [
    {
     "ename": "ValueError",
     "evalue": "operands could not be broadcast together with shapes (9,9) (500,1000) ",
     "output_type": "error",
     "traceback": [
      "\u001b[1;31m---------------------------------------------------------------------------\u001b[0m",
      "\u001b[1;31mValueError\u001b[0m                                Traceback (most recent call last)",
      "\u001b[1;32m<ipython-input-52-ed9a3a2613eb>\u001b[0m in \u001b[0;36m<module>\u001b[1;34m\u001b[0m\n\u001b[1;32m----> 1\u001b[1;33m \u001b[0mfind_outlet_ids\u001b[0m \u001b[1;33m=\u001b[0m \u001b[0mgrid_nodes_outlet\u001b[0m \u001b[1;33m*\u001b[0m \u001b[0moutlets\u001b[0m\u001b[1;33m\u001b[0m\u001b[1;33m\u001b[0m\u001b[0m\n\u001b[0m",
      "\u001b[1;31mValueError\u001b[0m: operands could not be broadcast together with shapes (9,9) (500,1000) "
     ]
    }
   ],
   "source": [
    "find_outlet_ids = grid_nodes_outlet * outlets"
   ]
  },
  {
   "cell_type": "code",
   "execution_count": 53,
   "metadata": {},
   "outputs": [
    {
     "data": {
      "text/plain": [
       "array([     0, 321480, 322480])"
      ]
     },
     "execution_count": 53,
     "metadata": {},
     "output_type": "execute_result"
    }
   ],
   "source": [
    "np.unique(find_outlet_ids)"
   ]
  },
  {
   "cell_type": "markdown",
   "metadata": {},
   "source": [
    "### Extract the watershed mask"
   ]
  },
  {
   "cell_type": "code",
   "execution_count": 14,
   "metadata": {},
   "outputs": [],
   "source": [
    "# The second argument to get_watershed_mask is one of the node IDs found above.\n",
    "watershed_mask = np.array(get_watershed_mask(mg, 322480).reshape(mg.shape).astype(int))"
   ]
  },
  {
   "cell_type": "code",
   "execution_count": 15,
   "metadata": {},
   "outputs": [],
   "source": [
    "watershed_D8 = watershed_mask * drainage_area"
   ]
  },
  {
   "cell_type": "code",
   "execution_count": 16,
   "metadata": {},
   "outputs": [
    {
     "data": {
      "image/png": "[encoded data removed]",
      "text/plain": [
       "<Figure size 432x288 with 2 Axes>"
      ]
     },
     "metadata": {},
     "output_type": "display_data"
    }
   ],
   "source": [
    "fig, ax = plt.subplots()\n",
    "\n",
    "cax = ax.imshow(watershed_D8[250:400, 450:700], interpolation='nearest', \n",
    "                cmap='gist_earth_r', vmax = 1000)\n",
    "ax.set_title('D8 Drainage Area (m$^2$)', color = 'Black')\n",
    "\n",
    "cbar = fig.colorbar(cax, ticks=[0, 500, 1000], orientation='horizontal')\n",
    "cbar.ax.set_xticklabels(['0', '500', '>1000'], color = 'Black')\n",
    "plt.axis('off')\n",
    "plt.show()"
   ]
  },
  {
   "cell_type": "code",
   "execution_count": 17,
   "metadata": {},
   "outputs": [],
   "source": [
    "np.flip(grid_of_flow_widths, 0).round(2);"
   ]
  },
  {
   "cell_type": "markdown",
   "metadata": {},
   "source": [
    "# Run with variable runoff rate set by flow width (D8)"
   ]
  },
  {
   "cell_type": "code",
   "execution_count": 54,
   "metadata": {},
   "outputs": [],
   "source": [
    "flow_acc_surf = np.copy(input_DEM).astype('float64');\n",
    "rows = flow_acc_surf.shape[0];\n",
    "cols = flow_acc_surf.shape[1];\n",
    "mg1 = RasterModelGrid((rows,cols), 1);\n",
    "z2 = mg1.add_field('topographic__elevation', flow_acc_surf, at = 'node');\n",
    "runoff_rate = grid_of_flow_widths\n",
    "_ = mg1.add_field('node', 'water__unit_flux_in', runoff_rate, noclobber=False)"
   ]
  },
  {
   "cell_type": "code",
   "execution_count": 79,
   "metadata": {},
   "outputs": [],
   "source": [
    "mg1.set_watershed_boundary_condition(z2)"
   ]
  },
  {
   "cell_type": "code",
   "execution_count": 20,
   "metadata": {},
   "outputs": [],
   "source": [
    "#mg1.set_watershed_boundary_condition_outlet_id(605000, z2)"
   ]
  },
  {
   "cell_type": "code",
   "execution_count": null,
   "metadata": {},
   "outputs": [],
   "source": [
    "#imshow_grid(mg1, mg.status_at_node, color_for_closed='blue')"
   ]
  },
  {
   "cell_type": "code",
   "execution_count": 80,
   "metadata": {},
   "outputs": [],
   "source": [
    "sfb = SinkFillerBarnes(mg1, method = 'Steepest', ignore_overfill = True);\n",
    "sfb.run_one_step();\n",
    "fa = FlowAccumulator(mg1,\n",
    "                    surface = 'topographic__elevation',\n",
    "                    flow_director = 'FlowDirectorD8');\n",
    "(flow_acc, q) = fa.accumulate_flow();\n",
    "#fa.run_one_step()\n",
    "fd = FlowDirectorD8(mg1, 'topographic__elevation');\n",
    "fd.direct_flow();\n",
    "#fd.run_one_step()"
   ]
  },
  {
   "cell_type": "code",
   "execution_count": 81,
   "metadata": {},
   "outputs": [],
   "source": [
    "mg1.at_node.keys();"
   ]
  },
  {
   "cell_type": "code",
   "execution_count": 82,
   "metadata": {},
   "outputs": [],
   "source": [
    "da1 = np.array(mg1.at_node['drainage_area'].round(4));\n",
    "frn1 = mg1.at_node['flow__receiver_node'];\n",
    "swd = mg1.at_node['surface_water__discharge'];\n",
    "Q = swd.reshape(mg.shape).round(2)\n",
    "drainage_area_mg1 = da1.reshape(mg1.shape).astype('float64');\n",
    "grid_nodes = (mg1.nodes).reshape(mg1.shape[0] * mg1.shape[1],);\n",
    "flow_rec_surf_rows = cols * rows;"
   ]
  },
  {
   "cell_type": "code",
   "execution_count": 62,
   "metadata": {},
   "outputs": [
    {
     "data": {
      "image/png": "[encoded data removed]",
      "text/plain": [
       "<Figure size 432x288 with 3 Axes>"
      ]
     },
     "metadata": {
      "needs_background": "dark"
     },
     "output_type": "display_data"
    }
   ],
   "source": [
    "plt.figure()\n",
    "drainage_plot(mg1, 'drainage_area')"
   ]
  },
  {
   "cell_type": "code",
   "execution_count": 83,
   "metadata": {},
   "outputs": [
    {
     "data": {
      "text/plain": [
       "array([[  0.,   0.,   0.,   0.,  49.,   0.,   0.,   0.,   0.],\n",
       "       [  0.,   1.,   2.,   3.,  49.,   5.,   4.,   1.,   0.],\n",
       "       [  0.,   1.,   2.,   1.,  40.,   4.,   2.,   1.,   0.],\n",
       "       [  0.,   1.,   3.,  10.,  24.,   3.,   3.,   1.,   0.],\n",
       "       [  0.,   1.,   2.,   2.,  18.,   2.,   2.,   1.,   0.],\n",
       "       [  0.,   1.,   1.,   5.,  17.,   5.,   1.,   1.,   0.],\n",
       "       [  0.,   1.,   4.,   1.,   4.,   1.,   4.,   1.,   0.],\n",
       "       [  0.,   1.,   1.,   1.,   1.,   1.,   1.,   1.,   0.],\n",
       "       [  0.,   0.,   0.,   0.,   0.,   0.,   0.,   0.,   0.]])"
      ]
     },
     "execution_count": 83,
     "metadata": {},
     "output_type": "execute_result"
    }
   ],
   "source": [
    "np.flip(drainage_area_mg1, 0)"
   ]
  },
  {
   "cell_type": "code",
   "execution_count": 84,
   "metadata": {},
   "outputs": [
    {
     "data": {
      "text/plain": [
       "array([[  0. ,   0. ,   0. ,   0. ,  43.1,   0. ,   0. ,   0. ,   0. ],\n",
       "       [  0. ,   1. ,   2. ,   3. ,  43.1,   5. ,   4. ,   1. ,   0. ],\n",
       "       [  0. ,   1. ,   1.7,   1. ,  34.1,   3.4,   2. ,   1. ,   0. ],\n",
       "       [  0. ,   1. ,   2.7,   8.2,  20.5,   2.4,   2.4,   1. ,   0. ],\n",
       "       [  0. ,   0.7,   1.4,   1.7,  15.7,   1.4,   1.4,   0.7,   0. ],\n",
       "       [  0. ,   0.7,   0.7,   4.4,  14.7,   4.4,   0.7,   0.7,   0. ],\n",
       "       [  0. ,   1. ,   3.4,   0.7,   3.4,   0.7,   3.4,   1. ,   0. ],\n",
       "       [  0. ,   0.7,   1. ,   0.7,   1. ,   0.7,   1. ,   0.7,   0. ],\n",
       "       [  0. ,   0. ,   0. ,   0. ,   0. ,   0. ,   0. ,   0. ,   0. ]])"
      ]
     },
     "execution_count": 84,
     "metadata": {},
     "output_type": "execute_result"
    }
   ],
   "source": [
    "np.flip(Q.round(1), 0)"
   ]
  },
  {
   "cell_type": "code",
   "execution_count": 39,
   "metadata": {},
   "outputs": [],
   "source": [
    "gully_discharge = drainage_area_mg1 * wsm\n",
    "gully_discharge_sca = Q * wsm"
   ]
  },
  {
   "cell_type": "code",
   "execution_count": 41,
   "metadata": {},
   "outputs": [
    {
     "data": {
      "text/plain": [
       "13302.040000000001"
      ]
     },
     "execution_count": 41,
     "metadata": {},
     "output_type": "execute_result"
    }
   ],
   "source": [
    "np.amax(gully_discharge_sca)"
   ]
  },
  {
   "cell_type": "code",
   "execution_count": 36,
   "metadata": {},
   "outputs": [
    {
     "data": {
      "image/png": "[encoded data removed]",
      "text/plain": [
       "<Figure size 432x288 with 2 Axes>"
      ]
     },
     "metadata": {},
     "output_type": "display_data"
    }
   ],
   "source": [
    "fig, ax = plt.subplots()\n",
    "\n",
    "cax = ax.imshow(test[250:400, 450:700], interpolation='nearest', \n",
    "                cmap='gist_earth_r', vmax = 100)\n",
    "ax.set_title('D8 Drainage Area (m$^2$)', color = 'Black')\n",
    "\n",
    "cbar = fig.colorbar(cax, ticks=[0, 50, 100], orientation='horizontal')\n",
    "cbar.ax.set_xticklabels(['0', '50', '>100'], color = 'Black')\n",
    "plt.axis('off')\n",
    "plt.show()"
   ]
  },
  {
   "cell_type": "markdown",
   "metadata": {},
   "source": [
    "# Find flow__receiver_proportions using (M8)"
   ]
  },
  {
   "cell_type": "markdown",
   "metadata": {},
   "source": [
    "In the D8 case runoff_rate is set by the array grid_of_flow_widths because it is simply an array that considers the width of flow for either diagonal or cardinal. In the M8 case below, the array to be used as an input to runoff_rate is called width_factor. This difference in terminology reflects the difference in what the values determining runoff_rate actually represent.\n",
    "\n",
    "M8 can have up to 8 directions of flow and in any combination of proportions summing to 1. This is handled by:\n",
    "1. -finding the receiver proportions of each grid cell, \n",
    "2. -multiplying each proportion by either 1/x for cardinals or 1/(sqrt(2)* x) for diagonals, \n",
    "3. -multiplying the result for each direction found from step 2 by the flow accumulation value of the given grid cell,\n",
    "4. -summing the results for all 8 directions (giving a new adjusted flow accumulation value),\n",
    "5. -dividing the value calculated in step 5 by the original flow accumulation value.\n",
    "\n",
    "This process will always return a fraction between 0 and 1 to be used as a runoff_rate coefficient. \n",
    "\n",
    "NOTE: The result from this is different to assigning flow in cardinal directions as 1/x and in diagonal directions as 1/sqrt(2) * x. Esentially it takes the increased flow width from the diagonal directions and distributes it to all directions."
   ]
  },
  {
   "cell_type": "code",
   "execution_count": 67,
   "metadata": {},
   "outputs": [],
   "source": [
    "flow_acc_surf = np.copy(input_DEM).astype('float64');\n",
    "rows = flow_acc_surf.shape[0];\n",
    "cols = flow_acc_surf.shape[1];\n",
    "mg2 = RasterModelGrid((rows,cols), 1);\n",
    "z3 = mg2.add_field('topographic__elevation', flow_acc_surf, at = 'node');"
   ]
  },
  {
   "cell_type": "code",
   "execution_count": 68,
   "metadata": {},
   "outputs": [],
   "source": [
    "#mg2.set_watershed_boundary_condition(z3)"
   ]
  },
  {
   "cell_type": "code",
   "execution_count": 69,
   "metadata": {},
   "outputs": [],
   "source": [
    "sfb = SinkFillerBarnes(mg2, method = 'Steepest', ignore_overfill = True);\n",
    "sfb.run_one_step();\n",
    "fa = FlowAccumulator(mg2,\n",
    "                    surface = 'topographic__elevation',\n",
    "                    flow_director = 'FlowDirectorMFD',\n",
    "                    diagonals = True);\n",
    "(flow_acc, q) = fa.accumulate_flow();\n",
    "#fa.run_one_step()\n",
    "fd = FlowDirectorMFD(mg2, 'topographic__elevation', diagonals = True);\n",
    "fd.direct_flow();\n",
    "#fd.run_one_step()"
   ]
  },
  {
   "cell_type": "code",
   "execution_count": 70,
   "metadata": {},
   "outputs": [],
   "source": [
    "da2 = np.array(mg2.at_node['drainage_area'].round(4));\n",
    "frn2 = mg2.at_node['flow__receiver_node'];\n",
    "frp2 = mg2.at_node['flow__receiver_proportions'];\n",
    "drainage_area_mg2 = da2.reshape(mg2.shape).astype('float64');\n",
    "grid_nodes = (mg2.nodes).reshape(mg2.shape[0] * mg2.shape[1],);\n",
    "flow_rec_surf_rows = cols * rows;"
   ]
  },
  {
   "cell_type": "code",
   "execution_count": 71,
   "metadata": {},
   "outputs": [],
   "source": [
    "width_array = np.copy(frp2);\n",
    "width_array[:,4:] = np.multiply(width_array[:,4:], 1/np.sqrt(2));\n",
    "width_factor = np.sum(width_array, 1);"
   ]
  },
  {
   "cell_type": "markdown",
   "metadata": {},
   "source": [
    "# Run M8 with runoff set by width_factor above."
   ]
  },
  {
   "cell_type": "code",
   "execution_count": 72,
   "metadata": {},
   "outputs": [],
   "source": [
    "flow_acc_surf = np.copy(input_DEM).astype('float64');\n",
    "rows = flow_acc_surf.shape[0];\n",
    "cols = flow_acc_surf.shape[1];\n",
    "mg3 = RasterModelGrid((rows,cols), 1);\n",
    "z4 = mg3.add_field('topographic__elevation', flow_acc_surf, at = 'node');\n",
    "runoff_rate = width_factor\n",
    "_ = mg3.add_field('node', 'water__unit_flux_in', runoff_rate, noclobber=False)"
   ]
  },
  {
   "cell_type": "code",
   "execution_count": 73,
   "metadata": {},
   "outputs": [],
   "source": [
    "mg3.set_watershed_boundary_condition(z4)"
   ]
  },
  {
   "cell_type": "code",
   "execution_count": 74,
   "metadata": {},
   "outputs": [],
   "source": [
    "sfb = SinkFillerBarnes(mg3, method = 'Steepest', ignore_overfill = True);\n",
    "sfb.run_one_step();\n",
    "fa = FlowAccumulator(mg3,\n",
    "                    surface = 'topographic__elevation',\n",
    "                    flow_director = 'FlowDirectorMFD',\n",
    "                    diagonals = True);\n",
    "(flow_acc, q) = fa.accumulate_flow();\n",
    "#fa.run_one_step()\n",
    "fd = FlowDirectorMFD(mg3, 'topographic__elevation', diagonals = True);\n",
    "fd.direct_flow();\n",
    "#fd.run_one_step()"
   ]
  },
  {
   "cell_type": "code",
   "execution_count": 147,
   "metadata": {},
   "outputs": [],
   "source": [
    "da3 = np.array(mg3.at_node['drainage_area'].round(4));\n",
    "frn3 = mg3.at_node['flow__receiver_node'];\n",
    "swd1 = mg3.at_node['surface_water__discharge'];\n",
    "Q1 = swd1.reshape(mg3.shape).round(2);\n",
    "drainage_area_mg3 = da3.reshape(mg3.shape).astype('float64');\n",
    "grid_nodes = (mg3.nodes).reshape(mg3.shape[0] * mg3.shape[1],);\n",
    "flow_rec_surf_rows = cols * rows;"
   ]
  },
  {
   "cell_type": "code",
   "execution_count": 149,
   "metadata": {},
   "outputs": [
    {
     "data": {
      "image/png": "[encoded data removed]",
      "text/plain": [
       "<Figure size 432x288 with 2 Axes>"
      ]
     },
     "metadata": {
      "needs_background": "dark"
     },
     "output_type": "display_data"
    }
   ],
   "source": [
    "plt.imshow(Q1, cmap=\"gist_earth_r\");\n",
    "plt.colorbar();"
   ]
  },
  {
   "cell_type": "markdown",
   "metadata": {},
   "source": [
    "# Extract watershed and compare results of four alternatives above."
   ]
  },
  {
   "cell_type": "code",
   "execution_count": null,
   "metadata": {},
   "outputs": [],
   "source": []
  },
  {
   "cell_type": "code",
   "execution_count": null,
   "metadata": {},
   "outputs": [],
   "source": []
  },
  {
   "cell_type": "code",
   "execution_count": null,
   "metadata": {},
   "outputs": [],
   "source": []
  },
  {
   "cell_type": "code",
   "execution_count": null,
   "metadata": {
    "code_folding": [
     0
    ]
   },
   "outputs": [],
   "source": [
    "def np_array_to_Geotiff(newfile, original_tiff, np_array, dtype):\n",
    "    \n",
    "    cols = np_array.shape[1]\n",
    "    rows = np_array.shape[0]\n",
    "    originX, pixelWidth, b, originY, d, pixelHeight = original_tiff.GetGeoTransform() \n",
    "    driver = gdal.GetDriverByName('GTiff')\n",
    "    GDT_dtype = gdal.GDT_Unknown\n",
    "    if dtype == \"Float64\": \n",
    "        GDT_dtype = gdal.GDT_Float64\n",
    "    elif dtype == \"Float32\":\n",
    "        GDT_dtype = gdal.GDT_Float32\n",
    "    else:\n",
    "        print(\"Not supported data type.\")\n",
    "    \n",
    "    if np_array.ndim == 2:\n",
    "        band_num = 1\n",
    "    else:\n",
    "        band_num = np_array.shape[2]\n",
    "\n",
    "    outRaster = driver.Create(newfile, cols, rows, band_num, GDT_dtype)\n",
    "    outRaster.SetGeoTransform((originX, pixelWidth, 0, originY, 0, pixelHeight))\n",
    "    \n",
    "    # Loop over all bands.\n",
    "    for b in range(band_num):\n",
    "        outband = outRaster.GetRasterBand(b + 1)\n",
    "    \n",
    "        # Read in the band's data into the third dimension of our array\n",
    "        if band_num == 1:\n",
    "            outband.WriteArray(np_array)\n",
    "        else:\n",
    "            outband.WriteArray(np_array[:,:,b])\n",
    "\n",
    "    # setteing srs from input tif file.\n",
    "    prj=original_tiff.GetProjection()\n",
    "    outRasterSRS = osr.SpatialReference(wkt=prj)\n",
    "    outRaster.SetProjection(outRasterSRS.ExportToWkt())\n",
    "    outband.FlushCache()\n",
    "    outRaster = None\n",
    "    \n",
    "    return outRaster"
   ]
  },
  {
   "cell_type": "code",
   "execution_count": null,
   "metadata": {},
   "outputs": [],
   "source": [
    "np_array_to_Geotiff('fann_0_D8_sca.tif', input_geotiff, specific_catchment_area, drainage_area.dtype)"
   ]
  },
  {
   "cell_type": "code",
   "execution_count": null,
   "metadata": {},
   "outputs": [],
   "source": []
  }
 ],
 "metadata": {
  "kernelspec": {
   "display_name": "Python 3",
   "language": "python",
   "name": "python3"
  },
  "language_info": {
   "codemirror_mode": {
    "name": "ipython",
    "version": 3
   },
   "file_extension": ".py",
   "mimetype": "text/x-python",
   "name": "python",
   "nbconvert_exporter": "python",
   "pygments_lexer": "ipython3",
   "version": "3.7.3"
  }
 },
 "nbformat": 4,
 "nbformat_minor": 2
}
