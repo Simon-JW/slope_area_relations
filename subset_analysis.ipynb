{
 "cells": [
  {
   "cell_type": "code",
   "execution_count": 1,
   "metadata": {
    "code_folding": [
     44
    ]
   },
   "outputs": [],
   "source": [
    "%%capture\n",
    "#from jupyterthemes import jtplot\n",
    "#jtplot.style()\n",
    "import numpy as np\n",
    "import operator\n",
    "import seaborn as sns; sns.set()\n",
    "from landlab import FieldError\n",
    "from landlab.utils import get_watershed_mask\n",
    "import xarray as xr\n",
    "import pandas as pd\n",
    "import scipy\n",
    "import gdal\n",
    "from scipy import ndimage\n",
    "from scipy.ndimage.filters import *\n",
    "from scipy import stats\n",
    "from scipy.stats import sem\n",
    "import os\n",
    "import math\n",
    "from osgeo import osr\n",
    "from fractions import Fraction\n",
    "import timeit\n",
    "import matplotlib.pyplot as plt\n",
    "%matplotlib inline\n",
    "import random\n",
    "# import plotting tools\n",
    "from mpl_toolkits.mplot3d import Axes3D\n",
    "import matplotlib.pyplot as plt\n",
    "from matplotlib import cm\n",
    "from matplotlib.ticker import LinearLocator, FormatStrFormatter\n",
    "import matplotlib as mpl\n",
    "from pylab import show, figure\n",
    "from landlab.plot.imshow import imshow_grid \n",
    "\n",
    "# import necessary landlab components\n",
    "from landlab import RasterModelGrid, HexModelGrid\n",
    "from landlab.components import FlowAccumulator, LakeMapperBarnes, SinkFillerBarnes\n",
    "from landlab.components import(FlowDirectorD8, \n",
    "                               FlowDirectorDINF, \n",
    "                               FlowDirectorMFD, \n",
    "                               FlowDirectorSteepest)\n",
    "from landlab.components import DepressionFinderAndRouter\n",
    "# import landlab plotting functionality\n",
    "from landlab.plot.drainage_plot import drainage_plot\n",
    "from pylab import show, figure\n",
    "from matplotlib.lines import Line2D\n",
    "# create a plotting routine to make a 3d plot of our surface. \n",
    "def surf_plot(mg, surface='topographic__elevation', \n",
    "              title='Surface plot of topography', colormap = cm.gray):\n",
    "    \n",
    "    fig = plt.figure()\n",
    "    ax = fig.gca(projection='3d')\n",
    "\n",
    "    # Plot the surface.\n",
    "    Z = (mg.at_node[surface].reshape(mg.shape))#[y1:y2, x1:x2]\n",
    "    color = colormap((Z-Z.min())/(Z.max()-Z.min()))\n",
    "    surf = ax.plot_surface(mg.node_x.reshape(mg.shape),#[y1:y2, x1:x2]\n",
    "                           mg.node_y.reshape(mg.shape),#[y1:y2, x1:x2]\n",
    "                           Z,\n",
    "                           rstride=1, cstride=1,\n",
    "                           facecolors=color,\n",
    "                           linewidth=0.,\n",
    "                           antialiased=False)\n",
    "    ax.view_init(elev=35, azim=-120)\n",
    "    ax.set_xlabel('X axis')\n",
    "    ax.set_ylabel('Y axis')\n",
    "    ax.set_zlabel('Elevation')\n",
    "    plt.title(title)\n",
    "    plt.show()\n",
    "from statsmodels.formula.api import ols\n",
    "from scipy.stats import t\n",
    "from sklearn.model_selection import train_test_split \n",
    "from sklearn.linear_model import LinearRegression\n",
    "from sklearn import metrics\n",
    "\n",
    "from scipy.ndimage import gaussian_filter\n",
    "from statsmodels.formula.api import ols\n",
    "\n",
    "from landlab.utils.flow__distance import calculate_flow__distance\n",
    "from landlab.utils import watershed\n",
    "from scipy.odr import *"
   ]
  },
  {
   "cell_type": "code",
   "execution_count": 2,
   "metadata": {
    "code_folding": [
     0,
     6,
     18,
     24,
     35,
     53,
     71,
     82,
     115,
     246,
     440
    ]
   },
   "outputs": [],
   "source": [
    "def rectangleWindow(m, n):\n",
    "    \"\"\"Takes a value for number of rows (m) and number of columns (n) such that\n",
    "       m and n are both positive real numbers and creates a rectangle of \n",
    "       boolian 'True' values.\"\"\"\n",
    "    rectangle = np.ones((m, n), dtype=bool) \n",
    "    return rectangle\n",
    "def number_of_values(Window):\n",
    "    \"\"\"This funciton takes the shape function as an input and returns a number \n",
    "        of values present in the specified shape. \n",
    "        \n",
    "        This can be different for a different window shape and to initialize\n",
    "        requires the specification of the function for the given window type and \n",
    "        parameter values required for that input function.\n",
    "        \n",
    "        To initialize this function for shape == rectangle type 'number_of_values(rectangleWindow(m,n)) \n",
    "        where m and n are any positive real number as per the rectangleWindow function.\"\"\"\n",
    "    denominator = sum(sum(Window > 0))\n",
    "    return denominator\n",
    "def circleWindow(radius):\n",
    "    \"\"\"Takes a value for radius (r where r is any positive real number) and creates \n",
    "       a circular window using that radius.\"\"\"\n",
    "    y, x = np.ogrid[-radius: radius + 1, -radius: radius + 1]\n",
    "    circle = x**2 + y**2 <= radius**2\n",
    "    return circle\n",
    "def find_median_value(Window):\n",
    "    \"\"\"This function takes the shape function and returns the median value \n",
    "        for all valid values (values that fall in the circle) arranged into a \n",
    "        1d array. The function also takes the number_of_values function as an input.\n",
    "        To execute this function type 'find_median_value(shape(r)) where r is any integer.\n",
    "        #Note: using median like this only gives the correct value for circles with odd \n",
    "        radius values.\"\"\"\n",
    "    no_values = number_of_values(Window)\n",
    "    value_range = np.arange(0, no_values + 1)\n",
    "    central_value = int(np.median(value_range))\n",
    "    return central_value\n",
    "def slopeWindowDegrees(DEM, x_cellsize, y_cellsize):\n",
    "    \"\"\"This function implements slope calculation using the same algorithm\n",
    "       as ARCGIS (Outlined on the page 'How Slope Works').\n",
    "       This particular example of the function is written such that it\n",
    "       will only work if called within the ndimage generic_filter (as the first input).\n",
    "       This is because the index arguments for a-e are given for the 1d array created\n",
    "       by the generic_filter function after extracting values from the 3,3 rectangle window.\n",
    "       NOTE: THIS FUNCTION ONLY WORKS WITH A 3x3 RECTANGLE WINDOW.\"\"\"\n",
    "    a = DEM[0]; b = DEM[1]; c = DEM[2]\n",
    "    d = DEM[3]; e = DEM[4]; f = DEM[5]\n",
    "    g = DEM[6]; h = DEM[7]; i = DEM[8]\n",
    "    dzdx = ((c + (2*f) + i) - (a + (2*d) + g)) / (8 * x_cellsize)\n",
    "    dzdy = ((g + (2*h) + i) - (a + (2*b) + c)) / (8 * y_cellsize)\n",
    "    rise_run = np.sqrt(dzdx**2 + dzdy**2)\n",
    "    slope_degrees = np.arctan(rise_run) * (180/math.pi)\n",
    "    slope_percent = rise_run * 100\n",
    "    #Can also ask it to return slope_degrees but asking for both causes it to throw and error.\n",
    "    return slope_degrees\n",
    "def slopeWindowMperM(DEM, x_cellsize, y_cellsize):\n",
    "    \"\"\"This function implements slope calculation using the same algorithm\n",
    "       as ARCGIS (Outlined on the page 'How Slope Works').\n",
    "       This particular example of the function is written such that it\n",
    "       will only work if called within the ndimage generic_filter (as the first input).\n",
    "       This is because the index arguments for a-e are given for the 1d array created\n",
    "       by the generic_filter function after extracting values from the 3,3 rectangle window.\n",
    "       NOTE: THIS FUNCTION ONLY WORKS WITH A 3x3 RECTANGLE WINDOW.\"\"\"\n",
    "    a = DEM[0]; b = DEM[1]; c = DEM[2]\n",
    "    d = DEM[3]; e = DEM[4]; f = DEM[5]\n",
    "    g = DEM[6]; h = DEM[7]; i = DEM[8]\n",
    "    dzdx = ((c + (2*f) + i) - (a + (2*d) + g)) / (8 * x_cellsize)\n",
    "    dzdy = ((g + (2*h) + i) - (a + (2*b) + c)) / (8 * y_cellsize)\n",
    "    rise_run = np.sqrt(dzdx**2 + dzdy**2)\n",
    "    slope_degrees = np.arctan(rise_run) * (180/math.pi)\n",
    "    slope_m_per_m = rise_run\n",
    "    #Can also ask it to return slope_degrees but asking for both causes it to throw and error.\n",
    "    return slope_m_per_m\n",
    "def catchmentDicts(area_grid, gn, gh_nodes):\n",
    "    \"\"\"Creates a dictionary of node ID:catcment area values.\"\"\"\n",
    "    area_dict = {}\n",
    "    nodes = gh_nodes\n",
    "    x_axis_length = gn.shape[1]\n",
    "    for i in nodes:\n",
    "        row = int(np.floor(i / x_axis_length))\n",
    "        col = int(i - (row*x_axis_length))\n",
    "        area = area_grid[row,col]\n",
    "        area_dict[i] = area\n",
    "    return area_dict\n",
    "def upslopeDivergence(catchment_area_list, change_detection_factor, step_size, comparison_distance):\n",
    "    \n",
    "    \"\"\"\"Looks at whether catchment area is increasing at any point upstream of a gully head.\n",
    "    \n",
    "    - 'catchment_area_list' is an ordered list of node catchment areas moving upstream.\n",
    "    \n",
    "    - 'change_detection_factor' is the percentage increase required for the function to consider the change\n",
    "    to represent a point of divergent flow.\n",
    "    \n",
    "    - 'step_size' is the number of grid cells to be compared in downstream to upstream groups. E.g. step_size == 1 \n",
    "    will compare node 1 and node 2, but step_size == 2 will compare node 1 and 2 to node 3 and 4.\n",
    "    \n",
    "    - 'comparison_distance' is the distance between the downstream nodes being compared to upstream nodes.\"\"\"\n",
    "    \n",
    "    max_value_length = len(catchment_area_list) - step_size - comparison_distance - step_size\n",
    "    for i in range(0, max_value_length):\n",
    "                \n",
    "        start_of_downstream_nodes = i\n",
    "        end_of_downstream_nodes = i + step_size       \n",
    "        downstream_nodes = catchment_area_list[start_of_downstream_nodes:end_of_downstream_nodes]\n",
    "        \n",
    "        start_of_upstream_nodes = i + step_size + comparison_distance\n",
    "        end_of_usptreat_nodes = start_of_upstream_nodes + step_size\n",
    "        upstream_nodes = catchment_area_list[start_of_upstream_nodes:end_of_usptreat_nodes]\n",
    "        \n",
    "        required_catchment_area_increase = max(downstream_nodes) + (max(downstream_nodes) * change_detection_factor)\n",
    "        \n",
    "        if all(nodes >= required_catchment_area_increase for nodes in upstream_nodes):\n",
    "            divergence = 1\n",
    "            break\n",
    "        else:\n",
    "            divergence = 0\n",
    "    return divergence\n",
    "def findGullyHeadNode(gully_heads, grid_nodes, DEM, ca, input_DEM_resolution, \n",
    "                      distance_from_node, contributing_fraction, required_ca):\n",
    "    \n",
    "    catchment_area_dict = {}\n",
    "    catchment_area_node_list = []\n",
    "    distance_from_node = int(np.ceil(distance_from_node/input_DEM_resolution))\n",
    "\n",
    "    for i in gully_heads:\n",
    "\n",
    "        result = np.where(grid_nodes == i)\n",
    "        #################################################################################################\n",
    "        # Find the index position (in the whole DEM) that corresponds to the current gully head point in the list.\n",
    "        row_index = result[0][0];\n",
    "        col_index = result[1][0];\n",
    "        #################################################################################################\n",
    "        # Create a subset based on above. Plus 1 to bottom abnd right so that the currenmmt gully ead node is always the \n",
    "        # centraL grid node of the subset.\n",
    "        subset_row_top = int(row_index - distance_from_node)\n",
    "        subset_row_bot = int(row_index + distance_from_node) + 1\n",
    "        subset_col_left = int(col_index - distance_from_node)\n",
    "        subset_col_right = int(col_index + distance_from_node) + 1\n",
    "        #################################################################################################\n",
    "        # Restrict the size of the subset in cases where it is on the edge of a DEM.\n",
    "        subset_row_top_adjusted = max(subset_row_top, 0);\n",
    "        subset_row_bot_adjusted = min(subset_row_bot, DEM.shape[0]);\n",
    "        subset_col_left_adjusted = max(subset_col_left, 0);\n",
    "        subset_col_right_adjusted = min(subset_col_right, DEM.shape[1]);\n",
    "        #################################################################################################\n",
    "        # Find the offset required by restricting the size of the subset around DEM edges.\n",
    "        # This offset is needed to find the new location of the current gully head grid cell (no longer center of the subset).\n",
    "        offset_row_top = int(np.sqrt((subset_row_top - subset_row_top_adjusted)**2)) * -1;\n",
    "        offset_row_bot = int(np.sqrt((subset_row_bot - subset_row_bot_adjusted)**2));\n",
    "        offset_col_left = int(np.sqrt((subset_col_left - subset_col_left_adjusted)**2)) * -1;\n",
    "        offset_col_right = int(np.sqrt((subset_col_right - subset_col_right_adjusted)**2));\n",
    "        #################################################################################################\n",
    "        # Create subset around the current gully head grid node. \n",
    "        dem_subset = DEM[subset_row_top_adjusted:subset_row_bot_adjusted, \n",
    "                                     subset_col_left_adjusted:subset_col_right_adjusted]\n",
    "\n",
    "        #################################################################################################\n",
    "        ca_subset = ca[subset_row_top_adjusted:subset_row_bot_adjusted, \n",
    "                             subset_col_left_adjusted:subset_col_right_adjusted]\n",
    "        print('max ca: ', np.amax(ca_subset))\n",
    "        #################################################################################################\n",
    "        # Find the latitude and longitude index positions of the gully head node in the subset DEM.\n",
    "        node_lat = distance_from_node + offset_row_top\n",
    "        node_lon = distance_from_node + offset_col_left\n",
    "        #################################################################################################  \n",
    "        # Run M8 for the subset DEM.\n",
    "        flow_acc_surf_sub = np.copy(dem_subset).astype('float64');\n",
    "\n",
    "        rows_sub = flow_acc_surf_sub.shape[0];\n",
    "        cols_sub = flow_acc_surf_sub.shape[1];\n",
    "        mg1 = RasterModelGrid((rows_sub,cols_sub), 1);\n",
    "        z1 = mg1.add_field('topographic__elevation', flow_acc_surf_sub, at = 'node');\n",
    "        sfb = SinkFillerBarnes(mg1, method = 'Steepest', ignore_overfill = True);\n",
    "        sfb.run_one_step();\n",
    "        fa = FlowAccumulator(mg1,\n",
    "                            surface = 'topographic__elevation',\n",
    "                            flow_director = 'FlowDirectorMFD',\n",
    "                            diagonals = True);\n",
    "        fa.run_one_step()\n",
    "        fd = FlowDirectorMFD(mg1, 'topographic__elevation', diagonals = True);\n",
    "        fd.run_one_step()\n",
    "        #################################################################################################\n",
    "        # Extract required grid properties\n",
    "        da = np.array(mg1.at_node['drainage_area'].round(4)); # Drainage area.\n",
    "        frn = mg1.at_node['flow__receiver_node'];# Flow receiver nodes.\n",
    "        drainage_area = da.reshape(mg1.shape);\n",
    "        frp = np.array(mg1.at_node['flow__receiver_proportions']);# Flow receiver proportions\n",
    "        flow_rec_surf_rows = cols_sub * rows_sub;\n",
    "        flow_rec_surf = frp.reshape(flow_rec_surf_rows,8);\n",
    "        all_receiver_proportions = np.copy(frp);\n",
    "        grid_nodes_sub = np.array(mg1.nodes.reshape(mg1.shape));\n",
    "        #################################################################################################\n",
    "        central_node = grid_nodes_sub[node_lat, node_lon]\n",
    "        # Specific the size of the area to be checked. This represents a physical distance from the \n",
    "        # outlet but has no unit of measure. Its maximum size is the size of the 'distance_from_node' variable.\n",
    "\n",
    "        # This value is used to initialise the search.\n",
    "        catchment_outlet_id = central_node\n",
    "\n",
    "        # Initate an outer loop that iterates through every distance interval from the outlet. Each iteration checks whether \n",
    "        # an area equal to the 'contributing_fraction' variable below is being directed in only one direction (converging).\n",
    "        # Otherwise it moves to the nect grid cell downslope in the direction of steepest slope.\n",
    "\n",
    "        # Create a grid of node value sfor the subset DEM.\n",
    "        node_location = mg1.nodes.reshape(da.shape);\n",
    "        for j in range(0, distance_from_node):\n",
    "            # Begin at the point (node) digitized as the intersection between the central flow line and the gully head.\n",
    "            if j == 0:\n",
    "                candidate_gridcell = catchment_outlet_id;\n",
    "            else:\n",
    "                candidate_gridcell = next_cell_downstream;\n",
    "            # Get all receiver nodes of the current node.\n",
    "            grid_cell_receiver_nodes = frp[candidate_gridcell,:];\n",
    "            # Check if there is a node that receives >= 'contributing_fraction' from the current node.\n",
    "            candidate_gridcell_list = [candidate_gridcell]\n",
    "            node_ca_int = catchmentDicts(ca_subset, grid_nodes_sub, candidate_gridcell_list) # Find the node's contributing area.\n",
    "            node_ca = node_ca_int[candidate_gridcell]\n",
    "            print('Node id: ', candidate_gridcell, 'Catchment area: ', node_ca)\n",
    "            if np.amax(grid_cell_receiver_nodes) < contributing_fraction or node_ca < required_ca:\n",
    "                # Check if this is the last possible grid cell in the subset that could meet the criteria. If so, then there\n",
    "                # is no suitable grid cell (node).\n",
    "                if j == distance_from_node - 1:\n",
    "                    catchment_area_dict[i] = 'No grid cell found'\n",
    "                else:\n",
    "                    # Otherwise, find the next downslope grid cell receiving the highest proportion of flow and check that \n",
    "                    # in the next iteration.\n",
    "                    index_next_cell_downstream = np.where(grid_cell_receiver_nodes == np.amax(grid_cell_receiver_nodes))[0][0];\n",
    "                    next_cell_downstream = frn[candidate_gridcell, index_next_cell_downstream];\n",
    "            else:\n",
    "                # Find the position of the gridcell (node) that meets the criteria both in the subset and in the whole DEM\n",
    "                # and record the node ID.\n",
    "                final_node_index_lat =  np.where(grid_nodes_sub == candidate_gridcell)[0][0]\n",
    "                final_node_index_lon =  np.where(grid_nodes_sub == candidate_gridcell)[1][0]\n",
    "                \n",
    "                # Find the offest between the index position of the node the loop ends on, and the index position of\n",
    "                # the node that it started on. \n",
    "                final_lat_offset = final_node_index_lat - node_lat\n",
    "                final_lon_offset = final_node_index_lon - node_lon\n",
    "                # Then apply this offest to the index position of the starting node with respect top the whole DEM to find the \n",
    "                # node ID of the grid cell that met the criteria above.\n",
    "                final_row_index = row_index + final_lat_offset\n",
    "                final_col_index = col_index + final_lon_offset\n",
    "                node_of_area_record = grid_nodes[final_row_index, final_col_index] # - this range is more than 1\n",
    "                catchment_area_dict[i] = node_of_area_record\n",
    "                catchment_area_node_list.append(node_of_area_record)\n",
    "                break\n",
    "                             \n",
    "    return catchment_area_dict, catchment_area_node_list\n",
    "def upstreamDrainageLine(meters_from_gully_head, input_DEM_resolution, grid_nodes, DEM, catchment_outlet_ids, \n",
    "                         step_size_m, comparison_distance_m, change_detection_factor, slope_above_head):\n",
    "    \n",
    "    \"\"\"This function works its way up the hillslope from a gully head recording \n",
    "    catchment area at each grid cell along the way. Then for each gully head it assesses whether divergence is occuring \n",
    "    at any point by using the upslopeDivergence function.\n",
    "    \n",
    "    meters_from_gully_head == distance upstream from gully head in meters.\n",
    "    input_DEM_resolution == grid resolution of the input DEM.\n",
    "    frn == flow receiver nodes stored on the model grid object.\n",
    "    catchment_outlet_ids == a list of grid cells found using the estimateCatchmentArea function.\n",
    "    drainage_area == drainage area stored on the model grid object.\n",
    "    grid_nodes == grid node values stored on the model grid object.\n",
    "    DEM == initial input_DEM\n",
    "    step_size_m and comparison_distance_m are both enetered in meters and are then adjusted automatically\n",
    "    to fit the resolution.\n",
    "    slope_above_head == the distance from the convergence point that slope is taken.\"\"\"\n",
    "    \n",
    "    catchment_area_node_list = []\n",
    "    distance_from_node = int(meters_from_gully_head / input_DEM_resolution)\n",
    "    upslope_divergence_dict = {}\n",
    "    slope_dict = {}\n",
    "    slope_at_head = {}\n",
    "    \n",
    "    step_size = int(np.round(step_size_m / input_DEM_resolution))\n",
    "    comparison_distance = int(np.round(comparison_distance_m / input_DEM_resolution))\n",
    "    \n",
    "    for i in catchment_outlet_ids:\n",
    "        \n",
    "        result = np.where(grid_nodes == i)\n",
    "        #################################################################################################\n",
    "        # Find the index position (in the whole DEM) that corresponds to the current gully head point in the list.\n",
    "        row_index = result[0][0];\n",
    "        col_index = result[1][0];\n",
    "        #################################################################################################\n",
    "        # Create a subset based on above. Plus 1 to bottom abnd right so that the currenmmt gully ead node is always the \n",
    "        # centraL grid node of the subset.\n",
    "        subset_row_top = int(row_index - distance_from_node)\n",
    "        subset_row_bot = int(row_index + distance_from_node) + 1\n",
    "        subset_col_left = int(col_index - distance_from_node)\n",
    "        subset_col_right = int(col_index + distance_from_node) + 1\n",
    "        #################################################################################################\n",
    "        # Restrict the size of the subset in cases where it is on the edge of a DEM.\n",
    "        subset_row_top_adjusted = max(subset_row_top, 0);\n",
    "        subset_row_bot_adjusted = min(subset_row_bot, DEM.shape[0]);\n",
    "        subset_col_left_adjusted = max(subset_col_left, 0);\n",
    "        subset_col_right_adjusted = min(subset_col_right, DEM.shape[1]);\n",
    "        #################################################################################################\n",
    "        # Find the offset required by restricting the size of the subset around DEM edges.\n",
    "        # This offset is needed to find the new location of the current gully head grid cell (no longer center of the subset).\n",
    "        offset_row_top = int(np.sqrt((subset_row_top - subset_row_top_adjusted)**2)) * -1;\n",
    "        offset_row_bot = int(np.sqrt((subset_row_bot - subset_row_bot_adjusted)**2));\n",
    "        offset_col_left = int(np.sqrt((subset_col_left - subset_col_left_adjusted)**2)) * -1;\n",
    "        offset_col_right = int(np.sqrt((subset_col_right - subset_col_right_adjusted)**2));\n",
    "        #################################################################################################\n",
    "        # Create subset around the current gully head grid node. \n",
    "        dem_subset_copy = np.copy(DEM);\n",
    "        dem_subset = dem_subset_copy[subset_row_top_adjusted:subset_row_bot_adjusted, \n",
    "                                     subset_col_left_adjusted:subset_col_right_adjusted]\n",
    "        #################################################################################################\n",
    "        # Find the latitude and longitude index positions of the gully head node in the subset DEM.\n",
    "        node_lat = distance_from_node + offset_row_top\n",
    "        node_lon = distance_from_node + offset_col_left\n",
    "        #################################################################################################  \n",
    "        # Run M8 for the subset DEM.\n",
    "        flow_acc_surf_sub = np.copy(dem_subset).astype('float64');\n",
    "        rows_sub = flow_acc_surf_sub.shape[0];\n",
    "        cols_sub = flow_acc_surf_sub.shape[1];\n",
    "        mg1 = RasterModelGrid((rows_sub,cols_sub), 1);\n",
    "        z1 = mg1.add_field('topographic__elevation', flow_acc_surf_sub, at = 'node');\n",
    "\n",
    "        sfb = SinkFillerBarnes(mg1, method = 'Steepest', ignore_overfill = True);\n",
    "        sfb.run_one_step();\n",
    "        fa = FlowAccumulator(mg1,\n",
    "                            surface = 'topographic__elevation',\n",
    "                            flow_director = 'FlowDirectorMFD',\n",
    "                            diagonals = True);\n",
    "\n",
    "        fa.run_one_step()\n",
    "        fd = FlowDirectorMFD(mg1, 'topographic__elevation', diagonals = True);\n",
    "        fd.run_one_step()\n",
    "        #################################################################################################\n",
    "        # Extract required grid properties\n",
    "        da = np.array(mg1.at_node['drainage_area'].round(4)); # Drainage area.\n",
    "        frn = mg1.at_node['flow__receiver_node'];# Flow receiver nodes.\n",
    "        drainage_area = da.reshape(mg1.shape);\n",
    "        frp = np.array(mg1.at_node['flow__receiver_proportions']);# Flow receiver proportions\n",
    "        flow_rec_surf_rows = cols_sub * rows_sub;\n",
    "        flow_rec_surf = frp.reshape(flow_rec_surf_rows,8);\n",
    "        all_receiver_proportions = np.copy(frp);\n",
    "        grid_nodes_sub = np.array(mg1.nodes.reshape(mg1.shape));\n",
    "        #################################################################################################\n",
    "        central_node = grid_nodes_sub[node_lat, node_lon]\n",
    "        # Specific the size of the area to be checked. This represents a physical distance from the \n",
    "        # outlet but has no unit of measure. Its maximum size is the size of the 'distance_from_node' variable.\n",
    "        slope = generic_filter(dem_subset, slopeWindowMperM,\n",
    "                      footprint= rectangleWindow(3,3),\n",
    "                      mode='constant', extra_arguments = (input_DEM_resolution,input_DEM_resolution,));\n",
    "\n",
    "        flattened_slope = slope.reshape(da.shape)\n",
    "\n",
    "        # This value is used to initialise the search.\n",
    "        catchment_outlet_id = central_node\n",
    "\n",
    "        # Initate an outer loop that iterates through every distance interval from the outlet. Each iteration checks whether \n",
    "        # an area equal to the 'contributing_fraction' variable below is being directed in only one direction (converging).\n",
    "        # Otherwise it moves to the nect grid cell downslope in the direction of steepest slope.\n",
    "\n",
    "        # Create a grid of node value sfor the subset DEM.\n",
    "        node_location = mg1.nodes.reshape(da.shape);\n",
    "        node_area_dict = {}\n",
    "        slope_mean_dict = {}\n",
    "        # This value is used to initialise the search.\n",
    "        # Initate an outer loop that iterates through every distance interval from the outlet.\n",
    "        watershed_grid_cells = []\n",
    "        ordered_node_list = []\n",
    "\n",
    "        for d in range(0, distance_from_node):\n",
    "            target_distance = int(np.floor(slope_above_head/input_DEM_resolution)) \n",
    "            # Just look at watershed grid cells here.\n",
    "            # Create a list initially containing only the outlet grid cell.\n",
    "            if d == 0:\n",
    "                candidate_gridcells = [catchment_outlet_id];\n",
    "            else:\n",
    "                candidate_gridcells = list(set(upstream_nodes));\n",
    "            # Empty the list of upsteam nodes.\n",
    "            upstream_node_dict = {};\n",
    "            upstream_slope_dict = {};\n",
    "            # Intiate a new loop to check every gridcell at the current interval distance.\n",
    "            for grid_cell in candidate_gridcells:\n",
    "                # Check each flow direction of the current grid cell.The second dimension of the \n",
    "                # flow__receiver_node object will always be size == 8.\n",
    "                for j in range(frn.shape[1]):\n",
    "                    # Return all rows (grid nodes) that send any flow to the target grid cell.\n",
    "                    # Note: This can only be one grid cell because the prgram is looping through\n",
    "                    # each direction one at a time so only one grid cell can be sending flow from any\n",
    "                    # one given direction.\n",
    "                    flow_from_whole_grid_cell = frn[np.where(frn[:,j] == grid_cell)];\n",
    "                    # Check if the current direction contributes flow. If not, do nothing. \n",
    "                    # Else, append to dictionary.\n",
    "                    if flow_from_whole_grid_cell.shape[0] == 0:\n",
    "                        pass\n",
    "                    else:\n",
    "                        # Below variable finds the row position of the flow_from_direction gridcell\n",
    "                        # in the flow__receiver_node array. This corresponds to the contributing\n",
    "                        # cell's node id.\n",
    "                        node_id_value = np.where(np.all(flow_from_whole_grid_cell==frn,axis=1))[0][0];\n",
    "                        #Find the proportion of flow leaving the donor node and heading toward \n",
    "                        # the current grid cell.\n",
    "                        proportion_of_flow = frp[node_id_value, j]\n",
    "                        # Create a boolean array to use as mask on drainage area.\n",
    "                        isolate_candidate_grid_cells = np.isin(node_location, node_id_value)\n",
    "                        node_drainage_area = np.amax(np.multiply(isolate_candidate_grid_cells, da))\n",
    "                        node_directional_drainage_area = node_drainage_area * proportion_of_flow\n",
    "                        upstream_node_dict.update({node_id_value:node_directional_drainage_area});\n",
    "                        node_slope = np.amax(np.multiply(isolate_candidate_grid_cells, flattened_slope))\n",
    "                        upstream_slope_dict.update({node_id_value:node_slope})\n",
    "\n",
    "                if len(upstream_node_dict) == 0:\n",
    "                    pass\n",
    "                else:\n",
    "                    primary_flow_direction_id = max(upstream_node_dict.items(), key=operator.itemgetter(1))[0]\n",
    "                    upstream_nodes = []\n",
    "                    upstream_nodes.append(primary_flow_direction_id);\n",
    "                    ordered_node_list.append(primary_flow_direction_id);\n",
    "                    watershed_grid_cells.append(primary_flow_direction_id);\n",
    "                    node_area_dict[primary_flow_direction_id] = upstream_node_dict[primary_flow_direction_id]\n",
    "                    slope_mean_dict[primary_flow_direction_id] = upstream_slope_dict[primary_flow_direction_id]\n",
    "                    distance_in_meters = int(d*input_DEM_resolution)\n",
    "                    if d == target_distance:\n",
    "                        print(target_distance, ' ', target_distance * input_DEM_resolution)\n",
    "                        slope_at_head[i] = [upstream_slope_dict[primary_flow_direction_id],i]\n",
    "                    else:\n",
    "                        pass    \n",
    "                    \n",
    "        area_along_central_drainage_line = []\n",
    "        for key, value in node_area_dict.items():\n",
    "            area_along_central_drainage_line.append(value)\n",
    "        median_area_along_central_drainage_line = ndimage.median_filter(area_along_central_drainage_line, size=step_size_m)\n",
    "        slope_along_central_drainage_line = []\n",
    "        for key, value in slope_mean_dict.items():\n",
    "            slope_along_central_drainage_line.append(value)\n",
    "        slope_mean_above_gully = np.mean(np.array(slope_along_central_drainage_line))\n",
    "        slope_dict[i] = slope_mean_above_gully\n",
    "        \n",
    "        required_number_of_grid_cells = step_size + comparison_distance + step_size + 1\n",
    "        if len(median_area_along_central_drainage_line) < required_number_of_grid_cells:\n",
    "            upslope_divergence_dict[i] = 'not enough grid cells'\n",
    "        else:\n",
    "            divergence_occuring = upslopeDivergence(median_area_along_central_drainage_line, change_detection_factor, \n",
    "                                                    step_size, comparison_distance)\n",
    "            upslope_divergence_dict[i] = divergence_occuring\n",
    "            \n",
    "    return upslope_divergence_dict, slope_dict, slope_at_head\n",
    "def thresholdLineOnlyCooks(regression_dataset, area_column_title, slope_column_title):\n",
    "    cooks_d_cutoff = 4 / len(regression_dataset)\n",
    "    if len(regression_dataset) < 3:\n",
    "        corrected_set = 'not enough data'\n",
    "        print('not enough data')\n",
    "        pass\n",
    "    else:\n",
    "        m = ols('log_slope ~ log_area',regression_dataset).fit()\n",
    "        infl = m.get_influence()\n",
    "        sm_fr = infl.summary_frame()\n",
    "        if np.any(sm_fr['cooks_d'] > cooks_d_cutoff):\n",
    "            high_value_list = sm_fr.index[sm_fr['cooks_d'] > cooks_d_cutoff].tolist()\n",
    "            corrected_set = regression_dataset.drop(high_value_list, axis='index')\n",
    "        else:\n",
    "            corrected_set = regression_dataset\n",
    "            \n",
    "    return corrected_set"
   ]
  },
  {
   "cell_type": "code",
   "execution_count": 3,
   "metadata": {},
   "outputs": [],
   "source": [
    "input_DEM_resolution = 1\n",
    "\n",
    "location = (r'C:\\PhD\\manuscript\\flow_routing_algorithms\\data\\fill_and_breach_dems')\n",
    "os.chdir(location)\n",
    "\n",
    "input_geotiff = gdal.Open('fann_sub_3.tif')\n",
    "input_DEM = np.array(input_geotiff.GetRasterBand(1).ReadAsArray())\n",
    "\n",
    "gully_head_layer = gdal.Open('fann_sub_3_gh.tif')\n",
    "gh = np.array(gully_head_layer.GetRasterBand(1).ReadAsArray()).astype('uint8')\n",
    "\n",
    "input_ca_grid = gdal.Open('fann_sub_3_m8.tif')\n",
    "ca_grid = np.array(input_ca_grid.GetRasterBand(1).ReadAsArray())"
   ]
  },
  {
   "cell_type": "code",
   "execution_count": 4,
   "metadata": {},
   "outputs": [],
   "source": [
    "flow_acc_surf = np.copy(input_DEM).astype('float64');\n",
    "rows = flow_acc_surf.shape[0];\n",
    "cols = flow_acc_surf.shape[1];\n",
    "mg = RasterModelGrid((rows,cols), 1);\n",
    "z1 = mg.add_field('topographic__elevation', flow_acc_surf, at = 'node');"
   ]
  },
  {
   "cell_type": "code",
   "execution_count": 5,
   "metadata": {},
   "outputs": [],
   "source": [
    "sfb = SinkFillerBarnes(mg, method = 'Steepest', ignore_overfill = True);\n",
    "sfb.run_one_step();"
   ]
  },
  {
   "cell_type": "code",
   "execution_count": 6,
   "metadata": {},
   "outputs": [],
   "source": [
    "filled_dem = z1.reshape(mg.shape)"
   ]
  },
  {
   "cell_type": "code",
   "execution_count": 7,
   "metadata": {},
   "outputs": [],
   "source": [
    "sinks =  filled_dem - input_DEM "
   ]
  },
  {
   "cell_type": "code",
   "execution_count": 8,
   "metadata": {},
   "outputs": [
    {
     "data": {
      "image/png": "[encoded data removed]",
      "text/plain": [
       "<Figure size 1080x864 with 2 Axes>"
      ]
     },
     "metadata": {
      "needs_background": "light"
     },
     "output_type": "display_data"
    }
   ],
   "source": [
    "plt.figure(figsize = (15,12))\n",
    "plt.imshow(sinks, cmap=\"Blues\", vmax = 0.01);\n",
    "plt.colorbar();"
   ]
  },
  {
   "cell_type": "code",
   "execution_count": 9,
   "metadata": {},
   "outputs": [
    {
     "data": {
      "text/plain": [
       "19411.0"
      ]
     },
     "execution_count": 9,
     "metadata": {},
     "output_type": "execute_result"
    }
   ],
   "source": [
    "sinks[sinks>0]=1\n",
    "np.sum(sinks)"
   ]
  },
  {
   "cell_type": "code",
   "execution_count": 10,
   "metadata": {},
   "outputs": [],
   "source": [
    "grid_nodes = np.array(mg.nodes.reshape(mg.shape))"
   ]
  },
  {
   "cell_type": "code",
   "execution_count": 11,
   "metadata": {},
   "outputs": [],
   "source": [
    "grid_nodes_float = grid_nodes.astype('float64')"
   ]
  },
  {
   "cell_type": "code",
   "execution_count": 12,
   "metadata": {},
   "outputs": [
    {
     "data": {
      "image/png": "[encoded data removed]",
      "text/plain": [
       "<Figure size 432x288 with 2 Axes>"
      ]
     },
     "metadata": {
      "needs_background": "light"
     },
     "output_type": "display_data"
    }
   ],
   "source": [
    "plt.imshow(ca_grid, cmap=\"terrain\");\n",
    "plt.colorbar();"
   ]
  },
  {
   "cell_type": "markdown",
   "metadata": {},
   "source": [
    "## Isolate all gully head nodes"
   ]
  },
  {
   "cell_type": "code",
   "execution_count": 13,
   "metadata": {},
   "outputs": [],
   "source": [
    "find_nodes = np.multiply(gh, grid_nodes);"
   ]
  },
  {
   "cell_type": "markdown",
   "metadata": {},
   "source": [
    "## Create array of only gully head nodes "
   ]
  },
  {
   "cell_type": "code",
   "execution_count": 14,
   "metadata": {},
   "outputs": [],
   "source": [
    "gh_array = np.unique(find_nodes);"
   ]
  },
  {
   "cell_type": "markdown",
   "metadata": {},
   "source": [
    "## Turn gully head node array into a list and remove the value 0"
   ]
  },
  {
   "cell_type": "code",
   "execution_count": 15,
   "metadata": {},
   "outputs": [],
   "source": [
    "gh_list = gh_array.tolist();\n",
    "gh_list.remove(0);"
   ]
  },
  {
   "cell_type": "code",
   "execution_count": 16,
   "metadata": {},
   "outputs": [
    {
     "data": {
      "text/plain": [
       "33"
      ]
     },
     "execution_count": 16,
     "metadata": {},
     "output_type": "execute_result"
    }
   ],
   "source": [
    "len(gh_list)"
   ]
  },
  {
   "cell_type": "markdown",
   "metadata": {},
   "source": [
    "## Work through list finding index positions of each node"
   ]
  },
  {
   "cell_type": "code",
   "execution_count": 17,
   "metadata": {
    "code_folding": []
   },
   "outputs": [
    {
     "name": "stdout",
     "output_type": "stream",
     "text": [
      "max ca:  0.72895522\n",
      "Node id:  220 Catchment area:  0.30602284\n",
      "Node id:  199 Catchment area:  0.60644443\n",
      "max ca:  1.37504849\n",
      "Node id:  220 Catchment area:  0.24569247\n",
      "Node id:  200 Catchment area:  0.2307672\n",
      "Node id:  179 Catchment area:  0.23085998\n",
      "Node id:  158 Catchment area:  0.28292664\n",
      "max ca:  1.07093324\n",
      "Node id:  220 Catchment area:  0.89212995\n",
      "max ca:  1.77514908\n",
      "Node id:  220 Catchment area:  0.14129187\n",
      "Node id:  198 Catchment area:  0.52312393\n",
      "Node id:  176 Catchment area:  0.68526293\n",
      "max ca:  0.51561054\n",
      "Node id:  220 Catchment area:  0.43809068\n",
      "max ca:  0.32445397\n",
      "Node id:  220 Catchment area:  0.27163086\n",
      "Node id:  241 Catchment area:  0.26203508\n",
      "max ca:  0.71422452\n",
      "Node id:  220 Catchment area:  0.27530378\n",
      "max ca:  0.50803781\n",
      "Node id:  220 Catchment area:  0.25933168\n",
      "Node id:  240 Catchment area:  0.19070128\n",
      "Node id:  261 Catchment area:  0.18364226\n",
      "Node id:  281 Catchment area:  0.2244313\n",
      "Node id:  301 Catchment area:  0.26367756\n",
      "Node id:  321 Catchment area:  0.29070476\n",
      "Node id:  341 Catchment area:  0.32405037\n",
      "max ca:  0.61389719\n",
      "Node id:  220 Catchment area:  0.38642717\n",
      "Node id:  241 Catchment area:  0.32618894\n",
      "Node id:  263 Catchment area:  0.49864543\n",
      "Node id:  285 Catchment area:  0.538946\n",
      "max ca:  0.58789639\n",
      "Node id:  220 Catchment area:  0.37393488\n",
      "max ca:  0.44440655\n",
      "Node id:  220 Catchment area:  0.2983639\n",
      "Node id:  240 Catchment area:  0.24511108\n",
      "Node id:  239 Catchment area:  0.2726356\n",
      "Node id:  238 Catchment area:  0.19018458\n",
      "Node id:  258 Catchment area:  0.20909775\n",
      "Node id:  257 Catchment area:  0.17295332\n",
      "Node id:  256 Catchment area:  0.19078806\n",
      "Node id:  255 Catchment area:  0.21090237\n",
      "Node id:  254 Catchment area:  0.2462725\n",
      "Node id:  253 Catchment area:  0.26729197\n",
      "max ca:  0.48845622\n",
      "Node id:  220 Catchment area:  0.29582437\n",
      "Node id:  241 Catchment area:  0.30942822\n",
      "Node id:  263 Catchment area:  0.36871863\n",
      "max ca:  1.59431744\n",
      "Node id:  220 Catchment area:  0.52801557\n",
      "Node id:  240 Catchment area:  1.10480064\n",
      "max ca:  0.99842772\n",
      "Node id:  220 Catchment area:  0.95793177\n",
      "Node id:  242 Catchment area:  0.56186121\n",
      "Node id:  263 Catchment area:  0.73202444\n",
      "Node id:  285 Catchment area:  0.65312294\n",
      "max ca:  0.53249162\n",
      "Node id:  220 Catchment area:  0.41822665\n",
      "Node id:  240 Catchment area:  0.26438421\n",
      "max ca:  1.27646111\n",
      "Node id:  220 Catchment area:  0.74884469\n",
      "Node id:  242 Catchment area:  1.03245662\n",
      "max ca:  0.85431381\n",
      "Node id:  220 Catchment area:  0.60614088\n",
      "max ca:  0.3014624\n",
      "Node id:  220 Catchment area:  0.02164147\n",
      "Node id:  241 Catchment area:  0.28073655\n",
      "max ca:  0.66034903\n",
      "Node id:  220 Catchment area:  0.3123333\n",
      "Node id:  241 Catchment area:  0.28208177\n",
      "Node id:  262 Catchment area:  0.23379497\n",
      "Node id:  263 Catchment area:  0.40090475\n",
      "max ca:  0.5067671\n",
      "Node id:  220 Catchment area:  0.35181434\n",
      "max ca:  9.14505667\n",
      "Node id:  220 Catchment area:  0.44639571\n",
      "Node id:  219 Catchment area:  0.91807002\n",
      "max ca:  9.14774677\n",
      "Node id:  220 Catchment area:  1.19885147\n",
      "Node id:  241 Catchment area:  1.02205881\n",
      "Node id:  262 Catchment area:  5.80736545\n",
      "Node id:  282 Catchment area:  5.54565533\n",
      "max ca:  2.30104716\n",
      "Node id:  220 Catchment area:  2.02349485\n",
      "max ca:  1.41481139\n",
      "Node id:  220 Catchment area:  0.02754248\n",
      "Node id:  219 Catchment area:  0.4888489\n",
      "Node id:  218 Catchment area:  1.24886891\n",
      "Node id:  238 Catchment area:  1.00296307\n",
      "max ca:  1.44910504\n",
      "Node id:  220 Catchment area:  0.49123698\n",
      "max ca:  1.4624811\n",
      "Node id:  220 Catchment area:  0.54857083\n",
      "Node id:  219 Catchment area:  1.05311857\n",
      "Node id:  218 Catchment area:  0.91754965\n",
      "Node id:  196 Catchment area:  1.28425276\n",
      "max ca:  0.67229501\n",
      "Node id:  220 Catchment area:  0.49448637\n",
      "Node id:  241 Catchment area:  0.45629962\n",
      "Node id:  262 Catchment area:  0.29858805\n",
      "Node id:  282 Catchment area:  0.58156116\n",
      "max ca:  25.87434965\n",
      "Node id:  220 Catchment area:  0.81768461\n",
      "max ca:  0.37378043\n",
      "Node id:  220 Catchment area:  0.30045402\n",
      "max ca:  0.69171365\n",
      "Node id:  220 Catchment area:  0.26158056\n",
      "Node id:  240 Catchment area:  0.50858405\n",
      "max ca:  3.09996765\n",
      "Node id:  220 Catchment area:  1.78926778\n",
      "Node id:  198 Catchment area:  2.67752043\n",
      "max ca:  2.02946737\n",
      "Node id:  220 Catchment area:  0.11834951\n",
      "Node id:  240 Catchment area:  0.16020848\n",
      "Node id:  260 Catchment area:  1.37830277\n",
      "Node id:  280 Catchment area:  0.90038853\n",
      "Node id:  301 Catchment area:  0.98052475\n",
      "Node id:  322 Catchment area:  0.71588131\n",
      "Node id:  343 Catchment area:  0.87839656\n",
      "Node id:  364 Catchment area:  1.30031668\n",
      "max ca:  1.09954304\n",
      "Node id:  220 Catchment area:  0.48647664\n",
      "Node id:  242 Catchment area:  0.39661142\n",
      "Node id:  264 Catchment area:  0.26505579\n",
      "Node id:  286 Catchment area:  0.15342751\n",
      "Node id:  308 Catchment area:  0.70584533\n"
     ]
    }
   ],
   "source": [
    "catchment_area_dict, catchment_area_node_list = findGullyHeadNode(gh_list, grid_nodes, input_DEM, ca_grid,\n",
    "                                                                  input_DEM_resolution, 10, 0.9, 0.25)                                                                                            "
   ]
  },
  {
   "cell_type": "code",
   "execution_count": 18,
   "metadata": {},
   "outputs": [
    {
     "data": {
      "text/plain": [
       "32"
      ]
     },
     "execution_count": 18,
     "metadata": {},
     "output_type": "execute_result"
    }
   ],
   "source": [
    "len(catchment_area_node_list)"
   ]
  },
  {
   "cell_type": "code",
   "execution_count": 19,
   "metadata": {},
   "outputs": [],
   "source": [
    "outlet_ids = np.isin(grid_nodes,catchment_area_node_list).astype('uint8')"
   ]
  },
  {
   "cell_type": "code",
   "execution_count": 343,
   "metadata": {},
   "outputs": [],
   "source": [
    "input_barnes_1 = gdal.Open('fs_3_fd8_0_5_fps.tif')\n",
    "fd8_1 = np.array(input_barnes_1.GetRasterBand(1).ReadAsArray())/10000\n",
    "\n",
    "input_barnes_1_1 = gdal.Open('fs_3_fd8_1_fps.tif')\n",
    "fd8_1_1 = np.array(input_barnes_1_1.GetRasterBand(1).ReadAsArray())/10000\n",
    "\n",
    "input_barnes_1_5 = gdal.Open('fs_3_fd8_1_1_fps.tif')\n",
    "fd8_1_5 = np.array(input_barnes_1_5.GetRasterBand(1).ReadAsArray())/10000\n",
    "\n",
    "input_barnes_5 = gdal.Open('fs_3_fd8_1_5_fps.tif')\n",
    "fd8_5 = np.array(input_barnes_5.GetRasterBand(1).ReadAsArray())/10000\n",
    "\n",
    "input_barnes_10 = gdal.Open('fs_3_fd8_2_fps.tif')\n",
    "fd8_10 = np.array(input_barnes_10.GetRasterBand(1).ReadAsArray())/10000\n",
    "\n",
    "input_barnes_20 = gdal.Open('fs_3_fd8_5_fps.tif')\n",
    "fd8_20 = np.array(input_barnes_20.GetRasterBand(1).ReadAsArray())/10000\n",
    "\n",
    "input_barnes_30 = gdal.Open('fs_3_fd8_10_fps.tif')\n",
    "fd8_30 = np.array(input_barnes_30.GetRasterBand(1).ReadAsArray())/10000\n"
   ]
  },
  {
   "cell_type": "code",
   "execution_count": 344,
   "metadata": {},
   "outputs": [],
   "source": [
    "fd8_1_dict = catchmentDicts(fd8_1, grid_nodes, catchment_area_node_list)\n",
    "fd8_1_1_dict = catchmentDicts(fd8_1_1, grid_nodes, catchment_area_node_list)\n",
    "fd8_1_5_dict = catchmentDicts(fd8_1_5, grid_nodes, catchment_area_node_list)\n",
    "fd8_5_dict = catchmentDicts(fd8_5, grid_nodes, catchment_area_node_list)\n",
    "fd8_10_dict = catchmentDicts(fd8_10, grid_nodes, catchment_area_node_list)\n",
    "fd8_20_dict = catchmentDicts(fd8_20, grid_nodes, catchment_area_node_list)\n",
    "fd8_30_dict = catchmentDicts(fd8_30, grid_nodes, catchment_area_node_list)"
   ]
  },
  {
   "cell_type": "code",
   "execution_count": 345,
   "metadata": {},
   "outputs": [],
   "source": [
    "ds = [fd8_1_dict, fd8_1_1_dict, fd8_1_5_dict, fd8_5_dict, fd8_10_dict,fd8_20_dict,fd8_30_dict]\n",
    "d = {}\n",
    "for k in fd8_1_dict.keys():\n",
    "    d[k] = tuple(d[k] for d in ds)"
   ]
  },
  {
   "cell_type": "code",
   "execution_count": 346,
   "metadata": {},
   "outputs": [],
   "source": [
    "catchment_areas = pd.DataFrame.from_dict(d, orient='index')"
   ]
  },
  {
   "cell_type": "code",
   "execution_count": 347,
   "metadata": {},
   "outputs": [],
   "source": [
    "catchment_areas.rename(columns={0: 'fd8_1', 1: 'fd8_1_1', 2: 'fd8_1_5', \n",
    "                                3: 'fd8_5', 4: 'fd8_10', 5: 'fd8_20', 6: 'fd8_30'}, inplace=True)"
   ]
  },
  {
   "cell_type": "code",
   "execution_count": 348,
   "metadata": {},
   "outputs": [],
   "source": [
    "node_id_column = np.array(catchment_areas.index)"
   ]
  },
  {
   "cell_type": "code",
   "execution_count": 349,
   "metadata": {},
   "outputs": [],
   "source": [
    "catchment_areas['node_id'] = node_id_column"
   ]
  },
  {
   "cell_type": "code",
   "execution_count": 350,
   "metadata": {},
   "outputs": [
    {
     "data": {
      "text/html": [
       "<div>\n",
       "<style scoped>\n",
       "    .dataframe tbody tr th:only-of-type {\n",
       "        vertical-align: middle;\n",
       "    }\n",
       "\n",
       "    .dataframe tbody tr th {\n",
       "        vertical-align: top;\n",
       "    }\n",
       "\n",
       "    .dataframe thead th {\n",
       "        text-align: right;\n",
       "    }\n",
       "</style>\n",
       "<table border=\"1\" class=\"dataframe\">\n",
       "  <thead>\n",
       "    <tr style=\"text-align: right;\">\n",
       "      <th></th>\n",
       "      <th>fd8_1</th>\n",
       "      <th>fd8_1_1</th>\n",
       "      <th>fd8_1_5</th>\n",
       "      <th>fd8_5</th>\n",
       "      <th>fd8_10</th>\n",
       "      <th>fd8_20</th>\n",
       "      <th>fd8_30</th>\n",
       "      <th>node_id</th>\n",
       "    </tr>\n",
       "  </thead>\n",
       "  <tbody>\n",
       "    <tr>\n",
       "      <th>44923</th>\n",
       "      <td>0.329092</td>\n",
       "      <td>0.371702</td>\n",
       "      <td>0.377801</td>\n",
       "      <td>0.393905</td>\n",
       "      <td>0.392841</td>\n",
       "      <td>0.170695</td>\n",
       "      <td>0.037868</td>\n",
       "      <td>44923</td>\n",
       "    </tr>\n",
       "    <tr>\n",
       "      <th>74090</th>\n",
       "      <td>0.309549</td>\n",
       "      <td>0.292795</td>\n",
       "      <td>0.290166</td>\n",
       "      <td>0.278217</td>\n",
       "      <td>0.259962</td>\n",
       "      <td>0.266000</td>\n",
       "      <td>0.155042</td>\n",
       "      <td>74090</td>\n",
       "    </tr>\n",
       "    <tr>\n",
       "      <th>82422</th>\n",
       "      <td>0.483070</td>\n",
       "      <td>0.545455</td>\n",
       "      <td>0.558870</td>\n",
       "      <td>0.615543</td>\n",
       "      <td>0.691230</td>\n",
       "      <td>1.012950</td>\n",
       "      <td>1.269693</td>\n",
       "      <td>82422</td>\n",
       "    </tr>\n",
       "    <tr>\n",
       "      <th>136196</th>\n",
       "      <td>0.458657</td>\n",
       "      <td>0.476231</td>\n",
       "      <td>0.477882</td>\n",
       "      <td>0.480056</td>\n",
       "      <td>0.475441</td>\n",
       "      <td>0.398437</td>\n",
       "      <td>0.316106</td>\n",
       "      <td>136196</td>\n",
       "    </tr>\n",
       "    <tr>\n",
       "      <th>202814</th>\n",
       "      <td>0.273272</td>\n",
       "      <td>0.263510</td>\n",
       "      <td>0.261782</td>\n",
       "      <td>0.255039</td>\n",
       "      <td>0.245908</td>\n",
       "      <td>0.192084</td>\n",
       "      <td>0.189848</td>\n",
       "      <td>202814</td>\n",
       "    </tr>\n",
       "  </tbody>\n",
       "</table>\n",
       "</div>"
      ],
      "text/plain": [
       "           fd8_1   fd8_1_1   fd8_1_5     fd8_5    fd8_10    fd8_20    fd8_30  \\\n",
       "44923   0.329092  0.371702  0.377801  0.393905  0.392841  0.170695  0.037868   \n",
       "74090   0.309549  0.292795  0.290166  0.278217  0.259962  0.266000  0.155042   \n",
       "82422   0.483070  0.545455  0.558870  0.615543  0.691230  1.012950  1.269693   \n",
       "136196  0.458657  0.476231  0.477882  0.480056  0.475441  0.398437  0.316106   \n",
       "202814  0.273272  0.263510  0.261782  0.255039  0.245908  0.192084  0.189848   \n",
       "\n",
       "        node_id  \n",
       "44923     44923  \n",
       "74090     74090  \n",
       "82422     82422  \n",
       "136196   136196  \n",
       "202814   202814  "
      ]
     },
     "execution_count": 350,
     "metadata": {},
     "output_type": "execute_result"
    }
   ],
   "source": [
    "catchment_areas.head()"
   ]
  },
  {
   "cell_type": "code",
   "execution_count": 351,
   "metadata": {},
   "outputs": [
    {
     "name": "stdout",
     "output_type": "stream",
     "text": [
      "10   10\n",
      "10   10\n",
      "10   10\n",
      "10   10\n",
      "10   10\n",
      "10   10\n",
      "10   10\n",
      "10   10\n",
      "10   10\n",
      "10   10\n",
      "10   10\n",
      "10   10\n",
      "10   10\n",
      "10   10\n",
      "10   10\n",
      "10   10\n",
      "10   10\n",
      "10   10\n",
      "10   10\n",
      "10   10\n",
      "10   10\n",
      "10   10\n",
      "10   10\n",
      "10   10\n",
      "10   10\n",
      "10   10\n",
      "10   10\n",
      "10   10\n",
      "10   10\n",
      "10   10\n",
      "10   10\n",
      "10   10\n"
     ]
    }
   ],
   "source": [
    "divergence_dict, slope_dict, slope_area_data = upstreamDrainageLine(100, input_DEM_resolution, grid_nodes, \n",
    "                                       input_DEM, catchment_area_node_list, 5, 5, 0.5, 10)"
   ]
  },
  {
   "cell_type": "code",
   "execution_count": 352,
   "metadata": {},
   "outputs": [
    {
     "data": {
      "text/plain": [
       "32"
      ]
     },
     "execution_count": 352,
     "metadata": {},
     "output_type": "execute_result"
    }
   ],
   "source": [
    "len(slope_area_data)"
   ]
  },
  {
   "cell_type": "code",
   "execution_count": 353,
   "metadata": {},
   "outputs": [],
   "source": [
    "upstream_divergence = pd.DataFrame.from_dict(divergence_dict, orient='index')"
   ]
  },
  {
   "cell_type": "code",
   "execution_count": 354,
   "metadata": {},
   "outputs": [],
   "source": [
    "upstream_divergence.columns = ['DC']"
   ]
  },
  {
   "cell_type": "code",
   "execution_count": 355,
   "metadata": {},
   "outputs": [],
   "source": [
    "slope_area_dataframe = pd.DataFrame.from_dict(slope_area_data, orient='index')"
   ]
  },
  {
   "cell_type": "code",
   "execution_count": 356,
   "metadata": {},
   "outputs": [],
   "source": [
    "slope_area_dataframe.rename(columns={0: 'SA', 1: 'node_id'}, inplace=True)"
   ]
  },
  {
   "cell_type": "code",
   "execution_count": 357,
   "metadata": {
    "scrolled": true
   },
   "outputs": [
    {
     "data": {
      "text/html": [
       "<div>\n",
       "<style scoped>\n",
       "    .dataframe tbody tr th:only-of-type {\n",
       "        vertical-align: middle;\n",
       "    }\n",
       "\n",
       "    .dataframe tbody tr th {\n",
       "        vertical-align: top;\n",
       "    }\n",
       "\n",
       "    .dataframe thead th {\n",
       "        text-align: right;\n",
       "    }\n",
       "</style>\n",
       "<table border=\"1\" class=\"dataframe\">\n",
       "  <thead>\n",
       "    <tr style=\"text-align: right;\">\n",
       "      <th></th>\n",
       "      <th>SA</th>\n",
       "      <th>node_id</th>\n",
       "    </tr>\n",
       "  </thead>\n",
       "  <tbody>\n",
       "    <tr>\n",
       "      <th>44923</th>\n",
       "      <td>0.061763</td>\n",
       "      <td>44923</td>\n",
       "    </tr>\n",
       "    <tr>\n",
       "      <th>74090</th>\n",
       "      <td>0.038220</td>\n",
       "      <td>74090</td>\n",
       "    </tr>\n",
       "    <tr>\n",
       "      <th>82422</th>\n",
       "      <td>0.055444</td>\n",
       "      <td>82422</td>\n",
       "    </tr>\n",
       "    <tr>\n",
       "      <th>136196</th>\n",
       "      <td>0.045901</td>\n",
       "      <td>136196</td>\n",
       "    </tr>\n",
       "    <tr>\n",
       "      <th>202814</th>\n",
       "      <td>0.058907</td>\n",
       "      <td>202814</td>\n",
       "    </tr>\n",
       "    <tr>\n",
       "      <th>245356</th>\n",
       "      <td>0.052227</td>\n",
       "      <td>245356</td>\n",
       "    </tr>\n",
       "    <tr>\n",
       "      <th>262017</th>\n",
       "      <td>0.039869</td>\n",
       "      <td>262017</td>\n",
       "    </tr>\n",
       "    <tr>\n",
       "      <th>270376</th>\n",
       "      <td>0.105330</td>\n",
       "      <td>270376</td>\n",
       "    </tr>\n",
       "    <tr>\n",
       "      <th>320216</th>\n",
       "      <td>0.063087</td>\n",
       "      <td>320216</td>\n",
       "    </tr>\n",
       "    <tr>\n",
       "      <th>325963</th>\n",
       "      <td>0.044770</td>\n",
       "      <td>325963</td>\n",
       "    </tr>\n",
       "    <tr>\n",
       "      <th>461034</th>\n",
       "      <td>0.046851</td>\n",
       "      <td>461034</td>\n",
       "    </tr>\n",
       "    <tr>\n",
       "      <th>480529</th>\n",
       "      <td>0.036340</td>\n",
       "      <td>480529</td>\n",
       "    </tr>\n",
       "    <tr>\n",
       "      <th>507576</th>\n",
       "      <td>0.068421</td>\n",
       "      <td>507576</td>\n",
       "    </tr>\n",
       "    <tr>\n",
       "      <th>534017</th>\n",
       "      <td>0.082626</td>\n",
       "      <td>534017</td>\n",
       "    </tr>\n",
       "    <tr>\n",
       "      <th>547799</th>\n",
       "      <td>0.082085</td>\n",
       "      <td>547799</td>\n",
       "    </tr>\n",
       "    <tr>\n",
       "      <th>610481</th>\n",
       "      <td>0.066192</td>\n",
       "      <td>610481</td>\n",
       "    </tr>\n",
       "    <tr>\n",
       "      <th>614560</th>\n",
       "      <td>0.073293</td>\n",
       "      <td>614560</td>\n",
       "    </tr>\n",
       "    <tr>\n",
       "      <th>651566</th>\n",
       "      <td>0.019719</td>\n",
       "      <td>651566</td>\n",
       "    </tr>\n",
       "    <tr>\n",
       "      <th>677965</th>\n",
       "      <td>0.042026</td>\n",
       "      <td>677965</td>\n",
       "    </tr>\n",
       "    <tr>\n",
       "      <th>698722</th>\n",
       "      <td>0.021679</td>\n",
       "      <td>698722</td>\n",
       "    </tr>\n",
       "    <tr>\n",
       "      <th>705666</th>\n",
       "      <td>0.024941</td>\n",
       "      <td>705666</td>\n",
       "    </tr>\n",
       "    <tr>\n",
       "      <th>715205</th>\n",
       "      <td>0.032530</td>\n",
       "      <td>715205</td>\n",
       "    </tr>\n",
       "    <tr>\n",
       "      <th>746346</th>\n",
       "      <td>0.049077</td>\n",
       "      <td>746346</td>\n",
       "    </tr>\n",
       "    <tr>\n",
       "      <th>751532</th>\n",
       "      <td>0.025249</td>\n",
       "      <td>751532</td>\n",
       "    </tr>\n",
       "    <tr>\n",
       "      <th>828222</th>\n",
       "      <td>0.055804</td>\n",
       "      <td>828222</td>\n",
       "    </tr>\n",
       "    <tr>\n",
       "      <th>920723</th>\n",
       "      <td>0.048236</td>\n",
       "      <td>920723</td>\n",
       "    </tr>\n",
       "    <tr>\n",
       "      <th>975234</th>\n",
       "      <td>0.018898</td>\n",
       "      <td>975234</td>\n",
       "    </tr>\n",
       "    <tr>\n",
       "      <th>978983</th>\n",
       "      <td>0.042899</td>\n",
       "      <td>978983</td>\n",
       "    </tr>\n",
       "    <tr>\n",
       "      <th>998511</th>\n",
       "      <td>0.033145</td>\n",
       "      <td>998511</td>\n",
       "    </tr>\n",
       "    <tr>\n",
       "      <th>1060646</th>\n",
       "      <td>0.006917</td>\n",
       "      <td>1060646</td>\n",
       "    </tr>\n",
       "    <tr>\n",
       "      <th>1076966</th>\n",
       "      <td>0.123554</td>\n",
       "      <td>1076966</td>\n",
       "    </tr>\n",
       "    <tr>\n",
       "      <th>1099138</th>\n",
       "      <td>0.030859</td>\n",
       "      <td>1099138</td>\n",
       "    </tr>\n",
       "  </tbody>\n",
       "</table>\n",
       "</div>"
      ],
      "text/plain": [
       "               SA  node_id\n",
       "44923    0.061763    44923\n",
       "74090    0.038220    74090\n",
       "82422    0.055444    82422\n",
       "136196   0.045901   136196\n",
       "202814   0.058907   202814\n",
       "245356   0.052227   245356\n",
       "262017   0.039869   262017\n",
       "270376   0.105330   270376\n",
       "320216   0.063087   320216\n",
       "325963   0.044770   325963\n",
       "461034   0.046851   461034\n",
       "480529   0.036340   480529\n",
       "507576   0.068421   507576\n",
       "534017   0.082626   534017\n",
       "547799   0.082085   547799\n",
       "610481   0.066192   610481\n",
       "614560   0.073293   614560\n",
       "651566   0.019719   651566\n",
       "677965   0.042026   677965\n",
       "698722   0.021679   698722\n",
       "705666   0.024941   705666\n",
       "715205   0.032530   715205\n",
       "746346   0.049077   746346\n",
       "751532   0.025249   751532\n",
       "828222   0.055804   828222\n",
       "920723   0.048236   920723\n",
       "975234   0.018898   975234\n",
       "978983   0.042899   978983\n",
       "998511   0.033145   998511\n",
       "1060646  0.006917  1060646\n",
       "1076966  0.123554  1076966\n",
       "1099138  0.030859  1099138"
      ]
     },
     "execution_count": 357,
     "metadata": {},
     "output_type": "execute_result"
    }
   ],
   "source": [
    "slope_area_dataframe"
   ]
  },
  {
   "cell_type": "code",
   "execution_count": 358,
   "metadata": {},
   "outputs": [],
   "source": [
    "mean_slope = pd.DataFrame.from_dict(slope_dict, orient='index')"
   ]
  },
  {
   "cell_type": "code",
   "execution_count": 359,
   "metadata": {},
   "outputs": [],
   "source": [
    "mean_slope.columns = ['Slope']"
   ]
  },
  {
   "cell_type": "code",
   "execution_count": 360,
   "metadata": {},
   "outputs": [],
   "source": [
    "merge_all = pd.concat([catchment_areas, upstream_divergence, mean_slope, slope_area_dataframe], axis=1, sort=False)"
   ]
  },
  {
   "cell_type": "code",
   "execution_count": 361,
   "metadata": {},
   "outputs": [],
   "source": [
    "merge_all['Resolution'] = input_DEM_resolution"
   ]
  },
  {
   "cell_type": "code",
   "execution_count": 362,
   "metadata": {},
   "outputs": [],
   "source": [
    "all_data_1m = merge_all"
   ]
  },
  {
   "cell_type": "code",
   "execution_count": 363,
   "metadata": {},
   "outputs": [],
   "source": [
    "convergent_gullies = all_data_1m.loc[all_data_1m['DC'] == 0]"
   ]
  },
  {
   "cell_type": "code",
   "execution_count": 364,
   "metadata": {},
   "outputs": [],
   "source": [
    "divergent_gullies = all_data_1m.loc[all_data_1m['DC'] == 1]"
   ]
  },
  {
   "cell_type": "code",
   "execution_count": 365,
   "metadata": {},
   "outputs": [
    {
     "name": "stderr",
     "output_type": "stream",
     "text": [
      "C:\\Users\\sjwal\\Anaconda3\\lib\\site-packages\\ipykernel_launcher.py:1: SettingWithCopyWarning: \n",
      "A value is trying to be set on a copy of a slice from a DataFrame.\n",
      "Try using .loc[row_indexer,col_indexer] = value instead\n",
      "\n",
      "See the caveats in the documentation: https://pandas.pydata.org/pandas-docs/stable/user_guide/indexing.html#returning-a-view-versus-a-copy\n",
      "  \"\"\"Entry point for launching an IPython kernel.\n"
     ]
    }
   ],
   "source": [
    "convergent_gullies['Flow'] = convergent_gullies.count()[0]"
   ]
  },
  {
   "cell_type": "code",
   "execution_count": 366,
   "metadata": {},
   "outputs": [
    {
     "name": "stderr",
     "output_type": "stream",
     "text": [
      "C:\\Users\\sjwal\\Anaconda3\\lib\\site-packages\\ipykernel_launcher.py:1: SettingWithCopyWarning: \n",
      "A value is trying to be set on a copy of a slice from a DataFrame.\n",
      "Try using .loc[row_indexer,col_indexer] = value instead\n",
      "\n",
      "See the caveats in the documentation: https://pandas.pydata.org/pandas-docs/stable/user_guide/indexing.html#returning-a-view-versus-a-copy\n",
      "  \"\"\"Entry point for launching an IPython kernel.\n"
     ]
    }
   ],
   "source": [
    "divergent_gullies['Flow'] = divergent_gullies.count()[0]"
   ]
  },
  {
   "cell_type": "code",
   "execution_count": 367,
   "metadata": {},
   "outputs": [],
   "source": [
    "gully_types = [divergent_gullies, convergent_gullies]"
   ]
  },
  {
   "cell_type": "code",
   "execution_count": 368,
   "metadata": {},
   "outputs": [],
   "source": [
    "data_with_counts = pd.concat(gully_types)"
   ]
  },
  {
   "cell_type": "code",
   "execution_count": 369,
   "metadata": {},
   "outputs": [],
   "source": [
    "all_data_1m_dataframe = data_with_counts.loc[:,~data_with_counts.columns.duplicated()]"
   ]
  },
  {
   "cell_type": "code",
   "execution_count": 370,
   "metadata": {},
   "outputs": [],
   "source": [
    "c = all_data_1m_dataframe.loc[all_data_1m_dataframe['DC'] == 0]"
   ]
  },
  {
   "cell_type": "code",
   "execution_count": 371,
   "metadata": {},
   "outputs": [],
   "source": [
    "c_id = np.array(c['node_id'])\n",
    "c_list = c_id.tolist()"
   ]
  },
  {
   "cell_type": "code",
   "execution_count": 372,
   "metadata": {},
   "outputs": [],
   "source": [
    "d = all_data_1m_dataframe.loc[all_data_1m_dataframe['DC'] == 1]"
   ]
  },
  {
   "cell_type": "code",
   "execution_count": 373,
   "metadata": {},
   "outputs": [],
   "source": [
    "d_id = np.array(d['node_id'])\n",
    "d_list = d_id.tolist()"
   ]
  },
  {
   "cell_type": "code",
   "execution_count": 374,
   "metadata": {
    "scrolled": true
   },
   "outputs": [
    {
     "data": {
      "text/html": [
       "<div>\n",
       "<style scoped>\n",
       "    .dataframe tbody tr th:only-of-type {\n",
       "        vertical-align: middle;\n",
       "    }\n",
       "\n",
       "    .dataframe tbody tr th {\n",
       "        vertical-align: top;\n",
       "    }\n",
       "\n",
       "    .dataframe thead th {\n",
       "        text-align: right;\n",
       "    }\n",
       "</style>\n",
       "<table border=\"1\" class=\"dataframe\">\n",
       "  <thead>\n",
       "    <tr style=\"text-align: right;\">\n",
       "      <th></th>\n",
       "      <th>fd8_1</th>\n",
       "      <th>fd8_1_1</th>\n",
       "      <th>fd8_1_5</th>\n",
       "      <th>fd8_5</th>\n",
       "      <th>fd8_10</th>\n",
       "      <th>fd8_20</th>\n",
       "      <th>fd8_30</th>\n",
       "      <th>node_id</th>\n",
       "      <th>DC</th>\n",
       "      <th>Slope</th>\n",
       "      <th>SA</th>\n",
       "      <th>Resolution</th>\n",
       "      <th>Flow</th>\n",
       "    </tr>\n",
       "  </thead>\n",
       "  <tbody>\n",
       "    <tr>\n",
       "      <th>44923</th>\n",
       "      <td>0.329092</td>\n",
       "      <td>0.371702</td>\n",
       "      <td>0.377801</td>\n",
       "      <td>0.393905</td>\n",
       "      <td>0.392841</td>\n",
       "      <td>0.170695</td>\n",
       "      <td>0.037868</td>\n",
       "      <td>44923</td>\n",
       "      <td>1</td>\n",
       "      <td>0.037145</td>\n",
       "      <td>0.061763</td>\n",
       "      <td>1</td>\n",
       "      <td>17</td>\n",
       "    </tr>\n",
       "    <tr>\n",
       "      <th>82422</th>\n",
       "      <td>0.483070</td>\n",
       "      <td>0.545455</td>\n",
       "      <td>0.558870</td>\n",
       "      <td>0.615543</td>\n",
       "      <td>0.691230</td>\n",
       "      <td>1.012950</td>\n",
       "      <td>1.269693</td>\n",
       "      <td>82422</td>\n",
       "      <td>1</td>\n",
       "      <td>0.038900</td>\n",
       "      <td>0.055444</td>\n",
       "      <td>1</td>\n",
       "      <td>17</td>\n",
       "    </tr>\n",
       "    <tr>\n",
       "      <th>136196</th>\n",
       "      <td>0.458657</td>\n",
       "      <td>0.476231</td>\n",
       "      <td>0.477882</td>\n",
       "      <td>0.480056</td>\n",
       "      <td>0.475441</td>\n",
       "      <td>0.398437</td>\n",
       "      <td>0.316106</td>\n",
       "      <td>136196</td>\n",
       "      <td>1</td>\n",
       "      <td>0.063849</td>\n",
       "      <td>0.045901</td>\n",
       "      <td>1</td>\n",
       "      <td>17</td>\n",
       "    </tr>\n",
       "    <tr>\n",
       "      <th>245356</th>\n",
       "      <td>0.279543</td>\n",
       "      <td>0.288341</td>\n",
       "      <td>0.289443</td>\n",
       "      <td>0.292537</td>\n",
       "      <td>0.295528</td>\n",
       "      <td>0.298721</td>\n",
       "      <td>0.262867</td>\n",
       "      <td>245356</td>\n",
       "      <td>1</td>\n",
       "      <td>0.039216</td>\n",
       "      <td>0.052227</td>\n",
       "      <td>1</td>\n",
       "      <td>17</td>\n",
       "    </tr>\n",
       "    <tr>\n",
       "      <th>262017</th>\n",
       "      <td>0.409922</td>\n",
       "      <td>0.369842</td>\n",
       "      <td>0.362462</td>\n",
       "      <td>0.335979</td>\n",
       "      <td>0.309525</td>\n",
       "      <td>0.234010</td>\n",
       "      <td>0.216305</td>\n",
       "      <td>262017</td>\n",
       "      <td>1</td>\n",
       "      <td>0.057573</td>\n",
       "      <td>0.039869</td>\n",
       "      <td>1</td>\n",
       "      <td>17</td>\n",
       "    </tr>\n",
       "    <tr>\n",
       "      <th>320216</th>\n",
       "      <td>0.387212</td>\n",
       "      <td>0.409557</td>\n",
       "      <td>0.414095</td>\n",
       "      <td>0.431693</td>\n",
       "      <td>0.450382</td>\n",
       "      <td>0.480327</td>\n",
       "      <td>0.361414</td>\n",
       "      <td>320216</td>\n",
       "      <td>1</td>\n",
       "      <td>0.033140</td>\n",
       "      <td>0.063087</td>\n",
       "      <td>1</td>\n",
       "      <td>17</td>\n",
       "    </tr>\n",
       "    <tr>\n",
       "      <th>610481</th>\n",
       "      <td>0.241210</td>\n",
       "      <td>0.290889</td>\n",
       "      <td>0.298094</td>\n",
       "      <td>0.313437</td>\n",
       "      <td>0.301190</td>\n",
       "      <td>0.105549</td>\n",
       "      <td>0.026914</td>\n",
       "      <td>610481</td>\n",
       "      <td>1</td>\n",
       "      <td>0.034256</td>\n",
       "      <td>0.066192</td>\n",
       "      <td>1</td>\n",
       "      <td>17</td>\n",
       "    </tr>\n",
       "    <tr>\n",
       "      <th>698722</th>\n",
       "      <td>2.093269</td>\n",
       "      <td>2.535666</td>\n",
       "      <td>2.615444</td>\n",
       "      <td>2.919652</td>\n",
       "      <td>3.277531</td>\n",
       "      <td>4.534229</td>\n",
       "      <td>5.096706</td>\n",
       "      <td>698722</td>\n",
       "      <td>1</td>\n",
       "      <td>0.051489</td>\n",
       "      <td>0.021679</td>\n",
       "      <td>1</td>\n",
       "      <td>17</td>\n",
       "    </tr>\n",
       "    <tr>\n",
       "      <th>705666</th>\n",
       "      <td>0.000332</td>\n",
       "      <td>0.000277</td>\n",
       "      <td>0.000275</td>\n",
       "      <td>0.000271</td>\n",
       "      <td>0.000268</td>\n",
       "      <td>0.000279</td>\n",
       "      <td>0.000295</td>\n",
       "      <td>705666</td>\n",
       "      <td>1</td>\n",
       "      <td>0.048223</td>\n",
       "      <td>0.024941</td>\n",
       "      <td>1</td>\n",
       "      <td>17</td>\n",
       "    </tr>\n",
       "    <tr>\n",
       "      <th>715205</th>\n",
       "      <td>1.886775</td>\n",
       "      <td>1.992079</td>\n",
       "      <td>1.996523</td>\n",
       "      <td>1.988290</td>\n",
       "      <td>1.947600</td>\n",
       "      <td>1.721289</td>\n",
       "      <td>1.679940</td>\n",
       "      <td>715205</td>\n",
       "      <td>1</td>\n",
       "      <td>0.050359</td>\n",
       "      <td>0.032530</td>\n",
       "      <td>1</td>\n",
       "      <td>17</td>\n",
       "    </tr>\n",
       "    <tr>\n",
       "      <th>746346</th>\n",
       "      <td>0.917812</td>\n",
       "      <td>0.948832</td>\n",
       "      <td>0.958219</td>\n",
       "      <td>0.991999</td>\n",
       "      <td>1.015187</td>\n",
       "      <td>0.966066</td>\n",
       "      <td>0.812956</td>\n",
       "      <td>746346</td>\n",
       "      <td>1</td>\n",
       "      <td>0.050265</td>\n",
       "      <td>0.049077</td>\n",
       "      <td>1</td>\n",
       "      <td>17</td>\n",
       "    </tr>\n",
       "    <tr>\n",
       "      <th>751532</th>\n",
       "      <td>0.281400</td>\n",
       "      <td>0.291284</td>\n",
       "      <td>0.294247</td>\n",
       "      <td>0.310005</td>\n",
       "      <td>0.334293</td>\n",
       "      <td>0.192364</td>\n",
       "      <td>0.092648</td>\n",
       "      <td>751532</td>\n",
       "      <td>1</td>\n",
       "      <td>0.040345</td>\n",
       "      <td>0.025249</td>\n",
       "      <td>1</td>\n",
       "      <td>17</td>\n",
       "    </tr>\n",
       "    <tr>\n",
       "      <th>975234</th>\n",
       "      <td>0.590317</td>\n",
       "      <td>0.679945</td>\n",
       "      <td>0.690738</td>\n",
       "      <td>0.718571</td>\n",
       "      <td>0.729174</td>\n",
       "      <td>0.521840</td>\n",
       "      <td>0.328873</td>\n",
       "      <td>975234</td>\n",
       "      <td>1</td>\n",
       "      <td>0.029945</td>\n",
       "      <td>0.018898</td>\n",
       "      <td>1</td>\n",
       "      <td>17</td>\n",
       "    </tr>\n",
       "    <tr>\n",
       "      <th>978983</th>\n",
       "      <td>0.097000</td>\n",
       "      <td>0.116550</td>\n",
       "      <td>0.122728</td>\n",
       "      <td>0.155583</td>\n",
       "      <td>0.210983</td>\n",
       "      <td>0.282335</td>\n",
       "      <td>0.090820</td>\n",
       "      <td>978983</td>\n",
       "      <td>1</td>\n",
       "      <td>0.045477</td>\n",
       "      <td>0.042899</td>\n",
       "      <td>1</td>\n",
       "      <td>17</td>\n",
       "    </tr>\n",
       "    <tr>\n",
       "      <th>998511</th>\n",
       "      <td>0.230064</td>\n",
       "      <td>0.248751</td>\n",
       "      <td>0.255352</td>\n",
       "      <td>0.283646</td>\n",
       "      <td>0.313068</td>\n",
       "      <td>0.393405</td>\n",
       "      <td>0.439096</td>\n",
       "      <td>998511</td>\n",
       "      <td>1</td>\n",
       "      <td>0.035241</td>\n",
       "      <td>0.033145</td>\n",
       "      <td>1</td>\n",
       "      <td>17</td>\n",
       "    </tr>\n",
       "    <tr>\n",
       "      <th>1060646</th>\n",
       "      <td>3.002117</td>\n",
       "      <td>2.970666</td>\n",
       "      <td>2.961005</td>\n",
       "      <td>2.915708</td>\n",
       "      <td>2.854599</td>\n",
       "      <td>2.652997</td>\n",
       "      <td>2.588959</td>\n",
       "      <td>1060646</td>\n",
       "      <td>1</td>\n",
       "      <td>0.026136</td>\n",
       "      <td>0.006917</td>\n",
       "      <td>1</td>\n",
       "      <td>17</td>\n",
       "    </tr>\n",
       "    <tr>\n",
       "      <th>1076966</th>\n",
       "      <td>0.001081</td>\n",
       "      <td>0.000609</td>\n",
       "      <td>0.000572</td>\n",
       "      <td>0.000481</td>\n",
       "      <td>0.000423</td>\n",
       "      <td>0.000276</td>\n",
       "      <td>0.000207</td>\n",
       "      <td>1076966</td>\n",
       "      <td>1</td>\n",
       "      <td>0.053770</td>\n",
       "      <td>0.123554</td>\n",
       "      <td>1</td>\n",
       "      <td>17</td>\n",
       "    </tr>\n",
       "    <tr>\n",
       "      <th>74090</th>\n",
       "      <td>0.309549</td>\n",
       "      <td>0.292795</td>\n",
       "      <td>0.290166</td>\n",
       "      <td>0.278217</td>\n",
       "      <td>0.259962</td>\n",
       "      <td>0.266000</td>\n",
       "      <td>0.155042</td>\n",
       "      <td>74090</td>\n",
       "      <td>0</td>\n",
       "      <td>0.041730</td>\n",
       "      <td>0.038220</td>\n",
       "      <td>1</td>\n",
       "      <td>15</td>\n",
       "    </tr>\n",
       "    <tr>\n",
       "      <th>202814</th>\n",
       "      <td>0.273272</td>\n",
       "      <td>0.263510</td>\n",
       "      <td>0.261782</td>\n",
       "      <td>0.255039</td>\n",
       "      <td>0.245908</td>\n",
       "      <td>0.192084</td>\n",
       "      <td>0.189848</td>\n",
       "      <td>202814</td>\n",
       "      <td>0</td>\n",
       "      <td>0.032971</td>\n",
       "      <td>0.058907</td>\n",
       "      <td>1</td>\n",
       "      <td>15</td>\n",
       "    </tr>\n",
       "    <tr>\n",
       "      <th>270376</th>\n",
       "      <td>0.270257</td>\n",
       "      <td>0.271924</td>\n",
       "      <td>0.272372</td>\n",
       "      <td>0.273561</td>\n",
       "      <td>0.272866</td>\n",
       "      <td>0.227272</td>\n",
       "      <td>0.168474</td>\n",
       "      <td>270376</td>\n",
       "      <td>0</td>\n",
       "      <td>0.036833</td>\n",
       "      <td>0.105330</td>\n",
       "      <td>1</td>\n",
       "      <td>15</td>\n",
       "    </tr>\n",
       "    <tr>\n",
       "      <th>325963</th>\n",
       "      <td>0.504574</td>\n",
       "      <td>0.434795</td>\n",
       "      <td>0.421963</td>\n",
       "      <td>0.375376</td>\n",
       "      <td>0.328543</td>\n",
       "      <td>0.223044</td>\n",
       "      <td>0.180030</td>\n",
       "      <td>325963</td>\n",
       "      <td>0</td>\n",
       "      <td>0.038255</td>\n",
       "      <td>0.044770</td>\n",
       "      <td>1</td>\n",
       "      <td>15</td>\n",
       "    </tr>\n",
       "    <tr>\n",
       "      <th>461034</th>\n",
       "      <td>0.236966</td>\n",
       "      <td>0.259327</td>\n",
       "      <td>0.263930</td>\n",
       "      <td>0.282776</td>\n",
       "      <td>0.305834</td>\n",
       "      <td>0.399262</td>\n",
       "      <td>0.477521</td>\n",
       "      <td>461034</td>\n",
       "      <td>0</td>\n",
       "      <td>0.038437</td>\n",
       "      <td>0.046851</td>\n",
       "      <td>1</td>\n",
       "      <td>15</td>\n",
       "    </tr>\n",
       "    <tr>\n",
       "      <th>480529</th>\n",
       "      <td>0.460502</td>\n",
       "      <td>0.538474</td>\n",
       "      <td>0.556562</td>\n",
       "      <td>0.632425</td>\n",
       "      <td>0.729178</td>\n",
       "      <td>1.129978</td>\n",
       "      <td>1.219894</td>\n",
       "      <td>480529</td>\n",
       "      <td>0</td>\n",
       "      <td>0.051511</td>\n",
       "      <td>0.036340</td>\n",
       "      <td>1</td>\n",
       "      <td>15</td>\n",
       "    </tr>\n",
       "    <tr>\n",
       "      <th>507576</th>\n",
       "      <td>0.906399</td>\n",
       "      <td>0.934929</td>\n",
       "      <td>0.940550</td>\n",
       "      <td>0.955998</td>\n",
       "      <td>0.956188</td>\n",
       "      <td>0.917085</td>\n",
       "      <td>0.831854</td>\n",
       "      <td>507576</td>\n",
       "      <td>0</td>\n",
       "      <td>0.050079</td>\n",
       "      <td>0.068421</td>\n",
       "      <td>1</td>\n",
       "      <td>15</td>\n",
       "    </tr>\n",
       "    <tr>\n",
       "      <th>534017</th>\n",
       "      <td>0.291153</td>\n",
       "      <td>0.230039</td>\n",
       "      <td>0.220983</td>\n",
       "      <td>0.194411</td>\n",
       "      <td>0.177576</td>\n",
       "      <td>0.123183</td>\n",
       "      <td>0.108878</td>\n",
       "      <td>534017</td>\n",
       "      <td>0</td>\n",
       "      <td>0.046372</td>\n",
       "      <td>0.082626</td>\n",
       "      <td>1</td>\n",
       "      <td>15</td>\n",
       "    </tr>\n",
       "    <tr>\n",
       "      <th>547799</th>\n",
       "      <td>0.001560</td>\n",
       "      <td>0.001185</td>\n",
       "      <td>0.001148</td>\n",
       "      <td>0.001063</td>\n",
       "      <td>0.001029</td>\n",
       "      <td>0.001062</td>\n",
       "      <td>0.001116</td>\n",
       "      <td>547799</td>\n",
       "      <td>0</td>\n",
       "      <td>0.069142</td>\n",
       "      <td>0.082085</td>\n",
       "      <td>1</td>\n",
       "      <td>15</td>\n",
       "    </tr>\n",
       "    <tr>\n",
       "      <th>614560</th>\n",
       "      <td>0.168210</td>\n",
       "      <td>0.161096</td>\n",
       "      <td>0.162506</td>\n",
       "      <td>0.178529</td>\n",
       "      <td>0.200347</td>\n",
       "      <td>0.365713</td>\n",
       "      <td>0.177899</td>\n",
       "      <td>614560</td>\n",
       "      <td>0</td>\n",
       "      <td>0.038949</td>\n",
       "      <td>0.073293</td>\n",
       "      <td>1</td>\n",
       "      <td>15</td>\n",
       "    </tr>\n",
       "    <tr>\n",
       "      <th>651566</th>\n",
       "      <td>0.320253</td>\n",
       "      <td>0.374253</td>\n",
       "      <td>0.380383</td>\n",
       "      <td>0.398743</td>\n",
       "      <td>0.416383</td>\n",
       "      <td>0.494063</td>\n",
       "      <td>0.527155</td>\n",
       "      <td>651566</td>\n",
       "      <td>0</td>\n",
       "      <td>0.051022</td>\n",
       "      <td>0.019719</td>\n",
       "      <td>1</td>\n",
       "      <td>15</td>\n",
       "    </tr>\n",
       "    <tr>\n",
       "      <th>677965</th>\n",
       "      <td>0.163752</td>\n",
       "      <td>0.176763</td>\n",
       "      <td>0.178245</td>\n",
       "      <td>0.180234</td>\n",
       "      <td>0.175245</td>\n",
       "      <td>0.128776</td>\n",
       "      <td>0.102621</td>\n",
       "      <td>677965</td>\n",
       "      <td>0</td>\n",
       "      <td>0.039981</td>\n",
       "      <td>0.042026</td>\n",
       "      <td>1</td>\n",
       "      <td>15</td>\n",
       "    </tr>\n",
       "    <tr>\n",
       "      <th>828222</th>\n",
       "      <td>0.927414</td>\n",
       "      <td>1.124378</td>\n",
       "      <td>1.159714</td>\n",
       "      <td>1.284253</td>\n",
       "      <td>1.395650</td>\n",
       "      <td>1.751591</td>\n",
       "      <td>2.139052</td>\n",
       "      <td>828222</td>\n",
       "      <td>0</td>\n",
       "      <td>0.044407</td>\n",
       "      <td>0.055804</td>\n",
       "      <td>1</td>\n",
       "      <td>15</td>\n",
       "    </tr>\n",
       "    <tr>\n",
       "      <th>920723</th>\n",
       "      <td>0.406367</td>\n",
       "      <td>0.413898</td>\n",
       "      <td>0.414395</td>\n",
       "      <td>0.417625</td>\n",
       "      <td>0.423777</td>\n",
       "      <td>0.414004</td>\n",
       "      <td>0.369662</td>\n",
       "      <td>920723</td>\n",
       "      <td>0</td>\n",
       "      <td>0.039075</td>\n",
       "      <td>0.048236</td>\n",
       "      <td>1</td>\n",
       "      <td>15</td>\n",
       "    </tr>\n",
       "    <tr>\n",
       "      <th>1099138</th>\n",
       "      <td>0.621830</td>\n",
       "      <td>0.727142</td>\n",
       "      <td>0.745034</td>\n",
       "      <td>0.800598</td>\n",
       "      <td>0.835600</td>\n",
       "      <td>0.798022</td>\n",
       "      <td>0.515249</td>\n",
       "      <td>1099138</td>\n",
       "      <td>0</td>\n",
       "      <td>0.055681</td>\n",
       "      <td>0.030859</td>\n",
       "      <td>1</td>\n",
       "      <td>15</td>\n",
       "    </tr>\n",
       "  </tbody>\n",
       "</table>\n",
       "</div>"
      ],
      "text/plain": [
       "            fd8_1   fd8_1_1   fd8_1_5     fd8_5    fd8_10    fd8_20    fd8_30  \\\n",
       "44923    0.329092  0.371702  0.377801  0.393905  0.392841  0.170695  0.037868   \n",
       "82422    0.483070  0.545455  0.558870  0.615543  0.691230  1.012950  1.269693   \n",
       "136196   0.458657  0.476231  0.477882  0.480056  0.475441  0.398437  0.316106   \n",
       "245356   0.279543  0.288341  0.289443  0.292537  0.295528  0.298721  0.262867   \n",
       "262017   0.409922  0.369842  0.362462  0.335979  0.309525  0.234010  0.216305   \n",
       "320216   0.387212  0.409557  0.414095  0.431693  0.450382  0.480327  0.361414   \n",
       "610481   0.241210  0.290889  0.298094  0.313437  0.301190  0.105549  0.026914   \n",
       "698722   2.093269  2.535666  2.615444  2.919652  3.277531  4.534229  5.096706   \n",
       "705666   0.000332  0.000277  0.000275  0.000271  0.000268  0.000279  0.000295   \n",
       "715205   1.886775  1.992079  1.996523  1.988290  1.947600  1.721289  1.679940   \n",
       "746346   0.917812  0.948832  0.958219  0.991999  1.015187  0.966066  0.812956   \n",
       "751532   0.281400  0.291284  0.294247  0.310005  0.334293  0.192364  0.092648   \n",
       "975234   0.590317  0.679945  0.690738  0.718571  0.729174  0.521840  0.328873   \n",
       "978983   0.097000  0.116550  0.122728  0.155583  0.210983  0.282335  0.090820   \n",
       "998511   0.230064  0.248751  0.255352  0.283646  0.313068  0.393405  0.439096   \n",
       "1060646  3.002117  2.970666  2.961005  2.915708  2.854599  2.652997  2.588959   \n",
       "1076966  0.001081  0.000609  0.000572  0.000481  0.000423  0.000276  0.000207   \n",
       "74090    0.309549  0.292795  0.290166  0.278217  0.259962  0.266000  0.155042   \n",
       "202814   0.273272  0.263510  0.261782  0.255039  0.245908  0.192084  0.189848   \n",
       "270376   0.270257  0.271924  0.272372  0.273561  0.272866  0.227272  0.168474   \n",
       "325963   0.504574  0.434795  0.421963  0.375376  0.328543  0.223044  0.180030   \n",
       "461034   0.236966  0.259327  0.263930  0.282776  0.305834  0.399262  0.477521   \n",
       "480529   0.460502  0.538474  0.556562  0.632425  0.729178  1.129978  1.219894   \n",
       "507576   0.906399  0.934929  0.940550  0.955998  0.956188  0.917085  0.831854   \n",
       "534017   0.291153  0.230039  0.220983  0.194411  0.177576  0.123183  0.108878   \n",
       "547799   0.001560  0.001185  0.001148  0.001063  0.001029  0.001062  0.001116   \n",
       "614560   0.168210  0.161096  0.162506  0.178529  0.200347  0.365713  0.177899   \n",
       "651566   0.320253  0.374253  0.380383  0.398743  0.416383  0.494063  0.527155   \n",
       "677965   0.163752  0.176763  0.178245  0.180234  0.175245  0.128776  0.102621   \n",
       "828222   0.927414  1.124378  1.159714  1.284253  1.395650  1.751591  2.139052   \n",
       "920723   0.406367  0.413898  0.414395  0.417625  0.423777  0.414004  0.369662   \n",
       "1099138  0.621830  0.727142  0.745034  0.800598  0.835600  0.798022  0.515249   \n",
       "\n",
       "         node_id  DC     Slope        SA  Resolution  Flow  \n",
       "44923      44923   1  0.037145  0.061763           1    17  \n",
       "82422      82422   1  0.038900  0.055444           1    17  \n",
       "136196    136196   1  0.063849  0.045901           1    17  \n",
       "245356    245356   1  0.039216  0.052227           1    17  \n",
       "262017    262017   1  0.057573  0.039869           1    17  \n",
       "320216    320216   1  0.033140  0.063087           1    17  \n",
       "610481    610481   1  0.034256  0.066192           1    17  \n",
       "698722    698722   1  0.051489  0.021679           1    17  \n",
       "705666    705666   1  0.048223  0.024941           1    17  \n",
       "715205    715205   1  0.050359  0.032530           1    17  \n",
       "746346    746346   1  0.050265  0.049077           1    17  \n",
       "751532    751532   1  0.040345  0.025249           1    17  \n",
       "975234    975234   1  0.029945  0.018898           1    17  \n",
       "978983    978983   1  0.045477  0.042899           1    17  \n",
       "998511    998511   1  0.035241  0.033145           1    17  \n",
       "1060646  1060646   1  0.026136  0.006917           1    17  \n",
       "1076966  1076966   1  0.053770  0.123554           1    17  \n",
       "74090      74090   0  0.041730  0.038220           1    15  \n",
       "202814    202814   0  0.032971  0.058907           1    15  \n",
       "270376    270376   0  0.036833  0.105330           1    15  \n",
       "325963    325963   0  0.038255  0.044770           1    15  \n",
       "461034    461034   0  0.038437  0.046851           1    15  \n",
       "480529    480529   0  0.051511  0.036340           1    15  \n",
       "507576    507576   0  0.050079  0.068421           1    15  \n",
       "534017    534017   0  0.046372  0.082626           1    15  \n",
       "547799    547799   0  0.069142  0.082085           1    15  \n",
       "614560    614560   0  0.038949  0.073293           1    15  \n",
       "651566    651566   0  0.051022  0.019719           1    15  \n",
       "677965    677965   0  0.039981  0.042026           1    15  \n",
       "828222    828222   0  0.044407  0.055804           1    15  \n",
       "920723    920723   0  0.039075  0.048236           1    15  \n",
       "1099138  1099138   0  0.055681  0.030859           1    15  "
      ]
     },
     "execution_count": 374,
     "metadata": {},
     "output_type": "execute_result"
    }
   ],
   "source": [
    "all_data_1m_dataframe"
   ]
  },
  {
   "cell_type": "code",
   "execution_count": 375,
   "metadata": {},
   "outputs": [],
   "source": [
    "data_to_plot = all_data_1m_dataframe"
   ]
  },
  {
   "cell_type": "code",
   "execution_count": 410,
   "metadata": {},
   "outputs": [],
   "source": [
    "slope_to_use = 'SA'\n",
    "area_to_use = 'fd8_5'"
   ]
  },
  {
   "cell_type": "code",
   "execution_count": 411,
   "metadata": {},
   "outputs": [],
   "source": [
    "data_to_plot['log_area'] = np.log10(data_to_plot[area_to_use])\n",
    "data_to_plot['log_slope'] = np.log10(data_to_plot[slope_to_use])"
   ]
  },
  {
   "cell_type": "code",
   "execution_count": 412,
   "metadata": {},
   "outputs": [
    {
     "name": "stderr",
     "output_type": "stream",
     "text": [
      "No handles with labels found to put in legend.\n"
     ]
    },
    {
     "data": {
      "image/png": "[encoded data removed]",
      "text/plain": [
       "<Figure size 864x576 with 1 Axes>"
      ]
     },
     "metadata": {},
     "output_type": "display_data"
    }
   ],
   "source": [
    "sns.set_style('whitegrid', {'grid.linestyle': '--'})\n",
    "# baby blue, pale pink\n",
    "data = data_to_plot\n",
    "colours = {0:'xkcd:very light blue', 1:'xkcd:pumpkin'}\n",
    "x_axis = area_to_use\n",
    "y_axis = slope_to_use\n",
    "\n",
    "fig = sns.relplot(x=x_axis, y=y_axis,  palette = colours, \n",
    "                 data=data, alpha = 0.6,  edgecolor='xkcd:black', \n",
    "                   markers=['o', 'o'])\n",
    "\n",
    "ax = fig.axes[0,0]\n",
    "ax.set_xlim(0.001,100)\n",
    "ax.set_ylim(0.001,10)\n",
    "ax.set_xlabel(x_axis, fontsize = 20)\n",
    "ax.set_ylabel(y_axis, fontsize = 20)\n",
    "leg = fig._legend\n",
    "plt.rcParams[\"axes.edgecolor\"] = \"0.15\"\n",
    "\n",
    "\n",
    "Div = Line2D([], [], color='xkcd:apricot', marker='o', linestyle='None',\n",
    "                          markersize=15, label='Divergent')\n",
    "Conv = Line2D([], [], color='xkcd:very light blue', marker='o', linestyle='None',\n",
    "                          markersize=15, label='Convergent')\n",
    "\n",
    "#ax.tick_params(axis='both', which='major', labelsize=15)\n",
    "ax.set_xlabel('Area (ha)', fontsize = 15)\n",
    "ax.set_ylabel(('Slope (m$\\cdot$m$^{-1}$)'), fontsize = 15)\n",
    "ax.set(xscale=\"log\", yscale=\"log\")\n",
    "#ax.set(xscale=\"log\")\n",
    "\n",
    "plt.legend(bbox_to_anchor=(1.05, 1), loc=2, borderaxespad=0.,fontsize='12')\n",
    "plt.setp(ax.get_legend().get_title(), fontsize='12') # for legend title\n",
    "plt.legend(handles=[Conv, Div],fontsize=13)\n",
    "fig.fig.set_size_inches(12,8)"
   ]
  },
  {
   "cell_type": "code",
   "execution_count": 413,
   "metadata": {},
   "outputs": [],
   "source": [
    "data_used_by_model = thresholdLineOnlyCooks(data_to_plot, area_to_use, slope_to_use)\n",
    "data_used_by_model2 = thresholdLineOnlyCooks(data_used_by_model, area_to_use, slope_to_use)"
   ]
  },
  {
   "cell_type": "code",
   "execution_count": null,
   "metadata": {},
   "outputs": [],
   "source": []
  },
  {
   "cell_type": "code",
   "execution_count": 414,
   "metadata": {},
   "outputs": [
    {
     "name": "stderr",
     "output_type": "stream",
     "text": [
      "No handles with labels found to put in legend.\n"
     ]
    },
    {
     "data": {
      "image/png": "[encoded data removed]",
      "text/plain": [
       "<Figure size 864x576 with 1 Axes>"
      ]
     },
     "metadata": {},
     "output_type": "display_data"
    }
   ],
   "source": [
    "sns.set_style('whitegrid', {'grid.linestyle': '--'})\n",
    "# baby blue, pale pink\n",
    "data = data_used_by_model2\n",
    "colours = {0:'xkcd:very light blue', 1:'xkcd:pumpkin'}\n",
    "x_axis = area_to_use\n",
    "y_axis = slope_to_use\n",
    "\n",
    "fig = sns.relplot(x=x_axis, y=y_axis,  palette = colours, \n",
    "                 data=data, alpha = 0.6,  edgecolor='xkcd:black', \n",
    "                   markers=['o', 'o'])\n",
    "\n",
    "ax = fig.axes[0,0]\n",
    "ax.set_xlim(0.001,100)\n",
    "ax.set_ylim(0.001,10)\n",
    "ax.set_xlabel(x_axis, fontsize = 20)\n",
    "ax.set_ylabel(y_axis, fontsize = 20)\n",
    "leg = fig._legend\n",
    "plt.rcParams[\"axes.edgecolor\"] = \"0.15\"\n",
    "\n",
    "\n",
    "Div = Line2D([], [], color='xkcd:apricot', marker='o', linestyle='None',\n",
    "                          markersize=15, label='Divergent')\n",
    "Conv = Line2D([], [], color='xkcd:very light blue', marker='o', linestyle='None',\n",
    "                          markersize=15, label='Convergent')\n",
    "\n",
    "#ax.tick_params(axis='both', which='major', labelsize=15)\n",
    "ax.set_xlabel('Area (ha)', fontsize = 15)\n",
    "ax.set_ylabel(('Slope (m$\\cdot$m$^{-1}$)'), fontsize = 15)\n",
    "ax.set(xscale=\"log\", yscale=\"log\")\n",
    "#ax.set(xscale=\"log\")\n",
    "\n",
    "plt.legend(bbox_to_anchor=(1.05, 1), loc=2, borderaxespad=0.,fontsize='12')\n",
    "plt.setp(ax.get_legend().get_title(), fontsize='12') # for legend title\n",
    "plt.legend(handles=[Conv, Div],fontsize=13)\n",
    "fig.fig.set_size_inches(12,8)"
   ]
  },
  {
   "cell_type": "code",
   "execution_count": 415,
   "metadata": {},
   "outputs": [],
   "source": [
    "orthogonal_regression_dataset = data_to_plot"
   ]
  },
  {
   "cell_type": "code",
   "execution_count": 416,
   "metadata": {},
   "outputs": [
    {
     "name": "stdout",
     "output_type": "stream",
     "text": [
      "Beta: [-0.09757278 -1.41949818]\n",
      "Beta Std Error: [ 0.04501836  0.04967229]\n",
      "Beta Covariance: [[ 0.03699594  0.02234246]\n",
      " [ 0.02234246  0.0450405 ]]\n",
      "Residual Variance: 0.05478039508260677\n",
      "Inverse Condition #: 0.4844857698810467\n",
      "Reason(s) for Halting:\n",
      "  Sum of squares convergence\n"
     ]
    }
   ],
   "source": [
    "# Initiate some data, giving some randomness using random.random().\n",
    "x = orthogonal_regression_dataset.loc[:,'log_area'].values\n",
    "y = orthogonal_regression_dataset.loc[:,'log_slope'].values\n",
    "\n",
    "# Define a function (quadratic in our case) to fit the data with.\n",
    "def linear_func(p, x):\n",
    "    m, c = p\n",
    "    return m*x + c\n",
    "   \n",
    "# Create a model for fitting.\n",
    "linear_model = Model(linear_func)\n",
    "\n",
    "# Create a RealData object using our initiated data from above.\n",
    "data = RealData(x, y)\n",
    "\n",
    "# Set up ODR with the model and data.\n",
    "odr = ODR(data, linear_model, beta0=[-0.4, -1])\n",
    "\n",
    "# Run the regression.\n",
    "out = odr.run()\n",
    "\n",
    "# Use the in-built pprint method to give us results.\n",
    "out.pprint()"
   ]
  },
  {
   "cell_type": "code",
   "execution_count": 417,
   "metadata": {},
   "outputs": [
    {
     "name": "stdout",
     "output_type": "stream",
     "text": [
      "b:  0.0975727848177\n",
      "k:  0.0380628949001\n"
     ]
    }
   ],
   "source": [
    "print('b: ', out.beta[0] *-1)\n",
    "print('k: ', 10**out.beta[1])"
   ]
  },
  {
   "cell_type": "code",
   "execution_count": 418,
   "metadata": {},
   "outputs": [],
   "source": [
    "b_orth = out.beta[0] \n",
    "k_orth = out.beta[1]"
   ]
  },
  {
   "cell_type": "code",
   "execution_count": 419,
   "metadata": {},
   "outputs": [],
   "source": [
    "k_adjustment_dataset = data_to_plot"
   ]
  },
  {
   "cell_type": "code",
   "execution_count": 420,
   "metadata": {},
   "outputs": [],
   "source": [
    "proportion_of_points_above_line = 0.9\n",
    "target_number_of_points_above_line = np.ceil(len(k_adjustment_dataset)*proportion_of_points_above_line).astype(int)\n",
    "adjustment = 0\n",
    "for u in range(0,100):\n",
    "    above_model_line = []\n",
    "    for j in k_adjustment_dataset.index:\n",
    "        measured_slope = k_adjustment_dataset['log_slope'].loc[j]\n",
    "        adjusted_intercept = k_orth - adjustment\n",
    "        model_slope = b_orth * k_adjustment_dataset['log_area'].loc[j] + adjusted_intercept\n",
    "        if  measured_slope > model_slope:\n",
    "            above_model_line.append(j)                \n",
    "        else:\n",
    "            pass\n",
    "    if len(above_model_line) >= target_number_of_points_above_line:\n",
    "        break\n",
    "    else:\n",
    "        adjustment += 0.01\n",
    "                \n",
    "\n",
    "#corrected_set = regression_dataset.drop(above_model_line, axis='index')"
   ]
  },
  {
   "cell_type": "code",
   "execution_count": 421,
   "metadata": {},
   "outputs": [],
   "source": [
    "exponent_b_to_use = b_orth*-1\n",
    "scalar_k_to_use = 10**adjusted_intercept"
   ]
  },
  {
   "cell_type": "code",
   "execution_count": 422,
   "metadata": {},
   "outputs": [],
   "source": [
    "graph_data = data_to_plot"
   ]
  },
  {
   "cell_type": "code",
   "execution_count": 423,
   "metadata": {},
   "outputs": [],
   "source": [
    "model_parameter_k = scalar_k_to_use\n",
    "model_parameter_b = exponent_b_to_use"
   ]
  },
  {
   "cell_type": "code",
   "execution_count": 424,
   "metadata": {},
   "outputs": [],
   "source": [
    "generate_area_values = np.arange(0.01, 10, 0.0001)\n",
    "model_slope = model_parameter_k * (generate_area_values**-model_parameter_b )\n",
    "df_model_area = pd.DataFrame(generate_area_values)\n",
    "df_model_area.rename(columns={0: area_to_use}, inplace=True)\n",
    "#graph_data['DC'] = 1\n",
    "reshaped_model_slope = model_slope.reshape(-1,1)\n",
    "df_model_slope = pd.DataFrame(reshaped_model_slope)\n",
    "df_model_slope.rename(columns={0: slope_to_use}, inplace=True)\n",
    "df_model = pd.concat([df_model_slope, df_model_area], axis=1, sort=False)\n",
    "df_model['DC'] = 3\n",
    "graph_data['Size'] = 500\n",
    "df_model['Size'] = 1\n",
    "\n",
    "df_all_1 = df_model.append(graph_data)"
   ]
  },
  {
   "cell_type": "code",
   "execution_count": 425,
   "metadata": {},
   "outputs": [],
   "source": [
    "pd.set_option('display.max_rows', 100)"
   ]
  },
  {
   "cell_type": "code",
   "execution_count": 426,
   "metadata": {},
   "outputs": [
    {
     "name": "stderr",
     "output_type": "stream",
     "text": [
      "No handles with labels found to put in legend.\n"
     ]
    },
    {
     "data": {
      "image/png": "[encoded data removed]",
      "text/plain": [
       "<Figure size 432x216 with 1 Axes>"
      ]
     },
     "metadata": {},
     "output_type": "display_data"
    }
   ],
   "source": [
    "sns.set_style('whitegrid', {'grid.linestyle': '--'})\n",
    "data = df_all_1\n",
    "colours = {0:'xkcd:ultramarine', 3:'xkcd:black', 1:'xkcd:burnt orange'}\n",
    "x_axis = area_to_use\n",
    "#x_axis_label = x_axis + ' Area (ha)'\n",
    "x_axis_label = ' Area (ha)'\n",
    "y_axis = slope_to_use\n",
    "fig = sns.relplot(x=x_axis, y=y_axis,  palette = colours, hue = 'DC', \n",
    "                 data=data, alpha = 0.7, legend = False, edgecolor=\"k\", \n",
    "                  style = 'DC', size = 'Size', sizes = (0.1,100), markers =['^', 'o', '.'])\n",
    "\n",
    "ax = fig.axes[0,0]\n",
    "\n",
    "ax.set_xlabel(x_axis, fontsize = 20)\n",
    "ax.set_ylabel(y_axis, fontsize = 20)\n",
    "\n",
    "fig.set(xlim = (0.09, 10))\n",
    "fig.set(ylim = (0.001, 1))\n",
    "\n",
    "leg = fig._legend\n",
    "plt.rcParams[\"axes.edgecolor\"] = \"0.15\"\n",
    "\n",
    "g1 = Line2D([], [], color='xkcd:burnt orange', marker='o', linestyle='None',\n",
    "                         markersize=10, label='Divergent')\n",
    "\n",
    "g2 = Line2D([], [], color='xkcd:ultramarine', marker='^', linestyle='None',\n",
    "                          markersize=10, label='Convergent')\n",
    "\n",
    "#ax.tick_params(axis='both', which='major', labelsize=15)\n",
    "ax.set_xlabel(x_axis_label, fontsize = 15)\n",
    "ax.set_ylabel(('Slope (m$\\cdot$m$^{-1}$)'), fontsize = 15)\n",
    "\n",
    "plt.legend(bbox_to_anchor=(1.05, 1),  borderaxespad=0.,fontsize='12')\n",
    "plt.setp(ax.get_legend().get_title(), fontsize='12') # for legend title\n",
    "plt.legend(handles=[g1, g2],fontsize=13, loc=1)\n",
    "#plt.legend(handles=[g1],fontsize=13, loc=1)\n",
    "\n",
    "ax.text(0.12, 0.4,'FPDEMS smoothed', fontsize=15) \n",
    "ax.text(0.12, 0.003,'k = ' + str(np.round(10**out.beta[1], 3)), fontsize=15) \n",
    "ax.text(0.12, 0.0015,'b = ' + str(np.round(model_parameter_b, 3)), fontsize=15)\n",
    "\n",
    "ax.set_xscale('log')\n",
    "ax.set_yscale('log')\n",
    "fig.fig.set_size_inches(6,3)"
   ]
  },
  {
   "cell_type": "markdown",
   "metadata": {},
   "source": [
    "## Setup regression training data taking the log10 of x and y so that a simple linear regression can be used to estimate the parameters k and a. "
   ]
  },
  {
   "cell_type": "markdown",
   "metadata": {},
   "source": [
    "## Bootstrap regression (one iteration but can be changed to two)."
   ]
  },
  {
   "cell_type": "code",
   "execution_count": null,
   "metadata": {},
   "outputs": [],
   "source": [
    "slope_area_montecarlo_dict = {}\n",
    "method = 'M8'\n",
    "gully_ids = np.array(d['node_id'])\n",
    "gully_head_list = gully_ids.tolist()\n",
    "sample_size = 30\n",
    "whole_dataset = all_data_1m_dataframe\n",
    "cooks_d_cutoff = 4 / sample_size\n",
    "\n",
    "for i in range(0,10000):\n",
    "    sample_number = 'Sample' + str(i)\n",
    "    all_gully_sample = random.sample(gully_head_list, sample_size)\n",
    "    all_sample_gullies = pd.DataFrame(all_gully_sample) \n",
    "    all_sample_gullies.rename(columns={0: 'node_id'}, inplace=True)\n",
    "    \n",
    "    all_gully_sample_set = pd.merge(all_sample_gullies, whole_dataset, on=['node_id'], how='inner')\n",
    "    all_gully_sample_set['log_area'] = np.log10(all_gully_sample_set[method])\n",
    "    all_gully_sample_set['log_slope'] = np.log10(all_gully_sample_set['SA'])\n",
    "\n",
    "    m = ols('log_area ~ log_slope',all_gully_sample_set).fit()\n",
    "    r_intercept = m.params[0]\n",
    "    r_slope = m.params[1]\n",
    "            \n",
    "    above_model_line = []\n",
    "    for j in range(0, len(all_gully_sample_set)):\n",
    "        measured_slope = all_gully_sample_set['log_slope'].iloc[j]\n",
    "        model_slope = r_slope * all_gully_sample_set['log_area'].iloc[j] + r_intercept\n",
    "        if  measured_slope > model_slope:\n",
    "            above_model_line.append(j)\n",
    "        else:\n",
    "            pass\n",
    "    \n",
    "    corrected_set = all_gully_sample_set.drop(above_model_line, axis='index')\n",
    " \n",
    "    if len(corrected_set) < 3:\n",
    "        pass\n",
    "    else:\n",
    "        lowest_points_m = ols('log_slope ~ log_area',corrected_set).fit()\n",
    "        infl = lowest_points_m.get_influence()\n",
    "        \n",
    "        sm_fr = infl.summary_frame()\n",
    "        if np.any(sm_fr['cooks_d'] > cooks_d_cutoff):\n",
    "            high_value_list = sm_fr.index[sm_fr['cooks_d'] > cooks_d_cutoff].tolist()\n",
    "            final_corrected_set = corrected_set.drop(high_value_list, axis='index')\n",
    "\n",
    "        else:\n",
    "            final_corrected_set = corrected_set\n",
    "        if len(final_corrected_set) < 3:\n",
    "            pass\n",
    "        else:\n",
    "            final_m = ols('log_slope ~ log_area',final_corrected_set).fit()\n",
    "            l_intercept = final_m.params[0]\n",
    "            l_slope = final_m.params[1]\n",
    "\n",
    "            intercept = 10**l_intercept\n",
    "\n",
    "            slope = l_slope * -1\n",
    "            print(sample_number)\n",
    "\n",
    "            slope_area_montecarlo_dict[sample_number] = ([slope, intercept])"
   ]
  },
  {
   "cell_type": "code",
   "execution_count": null,
   "metadata": {},
   "outputs": [],
   "source": [
    "div_curve = pd.DataFrame.from_dict(slope_area_montecarlo_dict, orient='index')"
   ]
  },
  {
   "cell_type": "code",
   "execution_count": null,
   "metadata": {},
   "outputs": [],
   "source": [
    "div_k_exclusion = []\n",
    "for index, row in div_curve.iterrows():\n",
    "    if row[1] > 1:\n",
    "        print('index: ',index, 'value: ', (row[1]))\n",
    "        div_k_exclusion.append(index)\n",
    "\n",
    "div_b_exclusion = []\n",
    "for index, row in div_curve.iterrows():\n",
    "    if row[0] > 1:\n",
    "        print('index: ',index, 'value: ', (row[0]))\n",
    "        div_b_exclusion.append(index)"
   ]
  },
  {
   "cell_type": "code",
   "execution_count": null,
   "metadata": {},
   "outputs": [],
   "source": [
    "corrected_div_k = div_curve[1].drop(div_k_exclusion, axis='index')\n",
    "corrected_div_b = div_curve[0].drop(div_b_exclusion, axis='index')"
   ]
  },
  {
   "cell_type": "code",
   "execution_count": null,
   "metadata": {},
   "outputs": [],
   "source": [
    "mean_div = np.round(np.mean(div_curve[0]),5)\n",
    "div_standard_error = np.round(sem(div_curve[0]),5)\n",
    "mean_div_int = np.round(np.mean(div_curve[1]),5)\n",
    "div_standard_error_int = np.round(sem(div_curve[1]),5)\n",
    "standard_deviation_divergent = np.std(np.array(corrected_div_b))\n",
    "standard_deviation_divergent_int = np.std(np.array(corrected_div_k))"
   ]
  },
  {
   "cell_type": "code",
   "execution_count": null,
   "metadata": {},
   "outputs": [],
   "source": [
    "conv_curve = pd.DataFrame.from_dict(slope_area_montecarlo_dict, orient='index')"
   ]
  },
  {
   "cell_type": "code",
   "execution_count": null,
   "metadata": {},
   "outputs": [],
   "source": [
    "conv_k_exclusion = []\n",
    "for index, row in conv_curve.iterrows():\n",
    "    if row[1] > 1:\n",
    "        conv_k_exclusion.append(index)\n",
    "        \n",
    "conv_b_exclusion = []\n",
    "for index, row in conv_curve.iterrows():\n",
    "    if row[0] > 1:\n",
    "        conv_b_exclusion.append(index)"
   ]
  },
  {
   "cell_type": "code",
   "execution_count": null,
   "metadata": {},
   "outputs": [],
   "source": [
    "corrected_conv_k = conv_curve[1].drop(conv_k_exclusion, axis='index')\n",
    "corrected_conv_b = conv_curve[0].drop(conv_b_exclusion, axis='index')"
   ]
  },
  {
   "cell_type": "code",
   "execution_count": null,
   "metadata": {},
   "outputs": [],
   "source": [
    "mean_conv = np.round(np.mean(conv_curve[0]),5)\n",
    "conv_standard_error = np.round(sem(conv_curve[0]),5)\n",
    "mean_conv_int = np.round(np.mean(conv_curve[1]),5)\n",
    "conv_standard_error_int = np.round(sem(conv_curve[1]),5)\n",
    "standard_deviation_convergent = np.std(np.array(corrected_conv_b))\n",
    "standard_deviation_convergent_int = np.std(np.array(corrected_conv_k))"
   ]
  },
  {
   "cell_type": "code",
   "execution_count": null,
   "metadata": {},
   "outputs": [],
   "source": []
  },
  {
   "cell_type": "code",
   "execution_count": null,
   "metadata": {},
   "outputs": [],
   "source": [
    "variance_over_df_conv_b = (np.std(np.array(conv_curve[0]))**2) / len(c_list)\n",
    "variance_over_df_div_b = (np.std(np.array(div_curve[0]))**2) / len(d_list)\n",
    "variance_over_df_conv_k = (np.std(np.array(conv_curve[1]))**2) / len(c_list)\n",
    "variance_over_df_div_k = (np.std(np.array(div_curve[1]))**2) / len(d_list)\n",
    "denominator_b = np.sqrt(variance_over_df_conv_b + variance_over_df_div_b)\n",
    "denominator_k = np.sqrt(variance_over_df_conv_k + variance_over_df_div_k)\n",
    "numerator_b = mean_conv - mean_div\n",
    "numerator_k = mean_conv_int - mean_div_int\n",
    "t_value_b = numerator_b / denominator_b\n",
    "t_value_k = numerator_k / denominator_k\n"
   ]
  },
  {
   "cell_type": "code",
   "execution_count": null,
   "metadata": {},
   "outputs": [],
   "source": [
    "print('div stdev b: ', standard_deviation_divergent)\n",
    "print('div stdev k: ', standard_deviation_divergent_int)\n",
    "print('conv stdev b: ', standard_deviation_convergent)\n",
    "print('conv stdev k: ', standard_deviation_convergent_int)\n"
   ]
  },
  {
   "cell_type": "code",
   "execution_count": null,
   "metadata": {},
   "outputs": [],
   "source": [
    "degrees_of_freedom = np.min([len(c_list), len(d_list)]) - 1"
   ]
  },
  {
   "cell_type": "code",
   "execution_count": null,
   "metadata": {},
   "outputs": [],
   "source": [
    "degrees_of_freedom"
   ]
  },
  {
   "cell_type": "code",
   "execution_count": null,
   "metadata": {},
   "outputs": [],
   "source": [
    "test_of_significance_b = t.sf(t_value_b, degrees_of_freedom) * 2\n",
    "test_of_significance_k = t.sf(t_value_k, degrees_of_freedom) * 2\n",
    "print('Significant difference b: ', test_of_significance_b)\n",
    "print('Significant difference k: ', test_of_significance_k)"
   ]
  },
  {
   "cell_type": "code",
   "execution_count": null,
   "metadata": {},
   "outputs": [],
   "source": [
    "if test_of_significance_b < 0.0005:\n",
    "    b_significance = '(***)'\n",
    "elif test_of_significance_b < 0.005:\n",
    "    b_significance = '(**)'\n",
    "elif test_of_significance_b < 0.05:\n",
    "    b_significance = '(*)'\n",
    "else:\n",
    "    b_significance= '(ns)'\n",
    "    "
   ]
  },
  {
   "cell_type": "code",
   "execution_count": null,
   "metadata": {},
   "outputs": [],
   "source": [
    "if test_of_significance_k < 0.0005:\n",
    "    k_significance = '(***)'\n",
    "elif test_of_significance_k < 0.005:\n",
    "    k_significance = '(**)'\n",
    "elif test_of_significance_k < 0.05:\n",
    "    k_significance = '(*)'\n",
    "else:\n",
    "    k_significance = '(ns)'\n",
    "    "
   ]
  },
  {
   "cell_type": "code",
   "execution_count": null,
   "metadata": {
    "scrolled": true
   },
   "outputs": [],
   "source": [
    "sns.set(style = 'ticks')\n",
    "fig, ax1 = plt.subplots(figsize = (8, 5))\n",
    "sns.distplot(corrected_conv_b, color = 'xkcd:royal blue', kde = False, hist_kws={\"histtype\": \"step\", \"linewidth\": 3,\n",
    "                            \"alpha\": 0.8}, bins = 600)\n",
    "ax1.set_ylabel('Count', fontsize=20)\n",
    "#ax1.lines[0].set_linestyle(\"--\")\n",
    "ax1.set_ylim(0, 1000)\n",
    "ax1.set_xlabel(str(method) + ' estimate of exponent (b)', fontsize = 20)\n",
    "ax1.legend(['Convergent: $\\mu$ = '+str(np.round(mean_conv,3))+' $\\pm$'+str(np.round(conv_standard_error,3))],\n",
    "           bbox_to_anchor=(0.5, 0.6, 0.5, 0.4),fontsize = 14)\n",
    "ax1.set_xlim(-0.2, 1)\n",
    "ax2 = ax1.twinx()\n",
    "ax2.set_ylim(0, 1000)\n",
    "ax2.set_xlim(-0.2, 1)\n",
    "ax2.axes.yaxis.set_visible(False)\n",
    "sns.distplot(corrected_div_b,  color='xkcd:burnt orange', kde = False,hist_kws={\"histtype\": \"step\", \"linewidth\": 3,\n",
    "                            \"alpha\": 0.8}, bins = 600)\n",
    "#ax2.set_ylabel('PC (rad / 100m)', fontsize = 15)\n",
    "ax2.legend(['Divergent: $\\mu$ = '+str(np.round(mean_div,3))+' $\\pm$'+str(np.round(div_standard_error,3))],\n",
    "           bbox_to_anchor=(0.5, 0.47, 0.5, 0.4),fontsize = 14)\n",
    "plt.axvline(x=mean_div, linewidth=1, color = 'xkcd:burnt orange', alpha = 1, linestyle = '--')\n",
    "plt.axvline(x=mean_conv, linewidth=1, color = 'xkcd:royal blue', alpha = 1, linestyle = '--')\n",
    "ax1.text(0.59, 650, r'$H_0$: $\\mu_{conv}$  $\\neq$ $\\mu_{div}$ ' + b_significance, fontsize=15, rotation = 0)\n",
    "\n",
    "#plt.title('Estimate of exponent (b)', fontsize = 12)"
   ]
  },
  {
   "cell_type": "code",
   "execution_count": null,
   "metadata": {},
   "outputs": [],
   "source": [
    "sns.set(style = 'ticks')\n",
    "fig, ax1 = plt.subplots(figsize = (8, 5))\n",
    "sns.distplot(corrected_conv_k, color = 'xkcd:royal blue', kde = False, hist_kws={\"histtype\": \"step\", \"linewidth\": 3,\n",
    "                            \"alpha\": 0.8}, bins = 400)\n",
    "ax1.set_ylabel('Count', fontsize=20)\n",
    "#ax1.lines[0].set_linestyle(\"--\")\n",
    "ax1.set_ylim(0, 1000)\n",
    "ax1.set_xlabel(str(method) + ' estimate of threshold coefficient (k)', fontsize = 20)\n",
    "ax1.legend(['Convergent: $\\mu$ = '+str(np.round(mean_conv_int, 3))+' $\\pm$'+str(np.round(conv_standard_error_int, 3))],\n",
    "           bbox_to_anchor=(0.5, 0.6, 0.5, 0.4),fontsize = 14)\n",
    "ax1.set_xlim(0, .1)\n",
    "ax2 = ax1.twinx()\n",
    "ax2.set_ylim(0, 1000)\n",
    "ax2.set_xlim(0, .1)\n",
    "ax2.axes.yaxis.set_visible(False)\n",
    "sns.distplot(corrected_div_k,  color='xkcd:burnt orange', kde = False,hist_kws={\"histtype\": \"step\", \"linewidth\": 3,\n",
    "                            \"alpha\": 0.8}, bins = 900)\n",
    "#ax2.set_ylabel('PC (rad / 100m)', fontsize = 15)\n",
    "ax2.legend(['Divergent: $\\mu$ = '+str(np.round(mean_div_int,3))+' $\\pm$'+str(np.round(div_standard_error_int, 3))],\n",
    "           bbox_to_anchor=(0.5, 0.47, 0.5, 0.4),fontsize = 14)\n",
    "plt.axvline(x=mean_div_int, linewidth=1, color = 'xkcd:burnt orange', alpha = 1, linestyle = '--')\n",
    "plt.axvline(x=mean_conv_int, linewidth=1, color = 'xkcd:royal blue', alpha = 1, linestyle = '--')\n",
    "ax1.text(0.065, 650, r'$H_0$: $\\mu_{conv}$  $\\neq$ $\\mu_{div}$ '+ k_significance, fontsize=15, rotation = 0)\n",
    "#plt.title('Estimate of exponent (b)', fontsize = 12)"
   ]
  },
  {
   "cell_type": "code",
   "execution_count": null,
   "metadata": {},
   "outputs": [],
   "source": [
    "np.round(div_standard_error_int, 4)"
   ]
  },
  {
   "cell_type": "code",
   "execution_count": null,
   "metadata": {},
   "outputs": [],
   "source": [
    "#divergent_gully = random.choice(d_list)\n",
    "divergent_gully = 62358126\n",
    "divergent_gully_2 = 61694828\n",
    "gully_sample = random.sample(c_list, 20)\n",
    "gully_sample.append(divergent_gully)\n",
    "gully_sample.append(divergent_gully_2)\n",
    "sample_gullies = pd.DataFrame(gully_sample) \n",
    "sample_gullies.rename(columns={0: 'node_id'}, inplace=True)\n",
    "gully_sample_set = pd.merge(sample_gullies, all_data_1m_dataframe, on=['node_id'], how='inner')\n"
   ]
  },
  {
   "cell_type": "code",
   "execution_count": null,
   "metadata": {},
   "outputs": [],
   "source": [
    "gully_sample_set['DC'].iloc[21] = 2\n"
   ]
  },
  {
   "cell_type": "code",
   "execution_count": null,
   "metadata": {},
   "outputs": [],
   "source": [
    "method = 'M4'"
   ]
  },
  {
   "cell_type": "code",
   "execution_count": null,
   "metadata": {},
   "outputs": [],
   "source": [
    "gully_sample_set['log_area'] = np.log10(gully_sample_set[method])\n",
    "gully_sample_set['log_slope'] = np.log10(gully_sample_set['SA'])\n",
    "test_m = ols('log_slope ~ log_area',gully_sample_set).fit()\n",
    "test_intercept = test_m.params[0]\n",
    "test_slope = test_m.params[1]"
   ]
  },
  {
   "cell_type": "code",
   "execution_count": null,
   "metadata": {},
   "outputs": [],
   "source": [
    "above_model_line = []\n",
    "for i in range(0, len(gully_sample_set)):\n",
    "    measured_slope = gully_sample_set['log_slope'].iloc[i]\n",
    "    model_slope = test_slope * gully_sample_set['log_area'].iloc[i] + test_intercept\n",
    "    if  measured_slope > model_slope:\n",
    "        above_model_line.append(i)\n",
    "    else:\n",
    "        pass    "
   ]
  },
  {
   "cell_type": "code",
   "execution_count": null,
   "metadata": {},
   "outputs": [],
   "source": [
    "corrected_set = gully_sample_set.drop(above_model_line, axis='index')"
   ]
  },
  {
   "cell_type": "code",
   "execution_count": null,
   "metadata": {},
   "outputs": [],
   "source": [
    "lowest_points_m = ols('log_slope ~ log_area',corrected_set).fit()\n",
    "l_intercept = lowest_points_m.params[0]\n",
    "l_slope = lowest_points_m.params[1]"
   ]
  },
  {
   "cell_type": "code",
   "execution_count": null,
   "metadata": {},
   "outputs": [],
   "source": [
    "index_position_list = []\n",
    "for index, row in corrected_set.iterrows():\n",
    "    index_position_list.append(index)\n"
   ]
  },
  {
   "cell_type": "code",
   "execution_count": null,
   "metadata": {},
   "outputs": [],
   "source": [
    "above_second_model_line = []\n",
    "for i in range(0, len(corrected_set)):\n",
    "    measured_slope = corrected_set['log_slope'].iloc[i]\n",
    "    model_slope = l_slope * corrected_set['log_area'].iloc[i] + l_intercept\n",
    "    if  measured_slope > model_slope:\n",
    "        above_second_model_line.append(index_position_list[i])\n",
    "    else:\n",
    "        pass\n",
    "    "
   ]
  },
  {
   "cell_type": "code",
   "execution_count": null,
   "metadata": {},
   "outputs": [],
   "source": [
    "corrected_set_2 = corrected_set.drop(above_second_model_line, axis='index')"
   ]
  },
  {
   "cell_type": "code",
   "execution_count": null,
   "metadata": {},
   "outputs": [],
   "source": [
    "corrected_set_2"
   ]
  },
  {
   "cell_type": "markdown",
   "metadata": {},
   "source": [
    "## Write the estimated slope and intercept parameters to variables.\n",
    "Note: The returned intercept will be in log10(a) form so we need to take the exponential $10^{k}$ to get back to the non-log10 value of the assumed function $s \\geq kA^{-b}$."
   ]
  },
  {
   "cell_type": "code",
   "execution_count": null,
   "metadata": {},
   "outputs": [],
   "source": [
    "second_lowest_points_m = ols('log_slope ~ log_area',corrected_set_2).fit()\n",
    "sl_intercept = second_lowest_points_m.params[0]\n",
    "sl_slope = second_lowest_points_m.params[1]"
   ]
  },
  {
   "cell_type": "code",
   "execution_count": null,
   "metadata": {},
   "outputs": [],
   "source": [
    "print('All data intercept: ', 10**test_intercept)\n",
    "print('All data slope: ', test_slope * -1)"
   ]
  },
  {
   "cell_type": "code",
   "execution_count": null,
   "metadata": {},
   "outputs": [],
   "source": [
    "print('Lowest data intercept: ', 10**l_intercept)\n",
    "print('Lowest data slope: ', l_slope * -1)"
   ]
  },
  {
   "cell_type": "code",
   "execution_count": null,
   "metadata": {},
   "outputs": [],
   "source": [
    "print('Second lowest data intercept: ', 10**sl_intercept)\n",
    "print('Second lowest data slope: ', sl_slope * -1)"
   ]
  },
  {
   "cell_type": "markdown",
   "metadata": {},
   "source": [
    "## Second model can either be l_slope or sl_slope."
   ]
  },
  {
   "cell_type": "code",
   "execution_count": null,
   "metadata": {},
   "outputs": [],
   "source": [
    "generate_area_values = np.arange(0.2, 10, 0.00001)\n",
    "model_slope = (10**test_intercept) * generate_area_values**(test_slope)\n",
    "model_slope_alt = (10**sl_intercept) * generate_area_values**(sl_slope)\n",
    "df_model_area = pd.DataFrame(generate_area_values)\n",
    "df_model_area.rename(columns={0: method}, inplace=True)"
   ]
  },
  {
   "cell_type": "markdown",
   "metadata": {},
   "source": [
    "## Reshape the slope array so we can put it into a pandas dataframe."
   ]
  },
  {
   "cell_type": "code",
   "execution_count": null,
   "metadata": {},
   "outputs": [],
   "source": [
    "reshaped_model_slope = model_slope.reshape(-1,1)\n",
    "df_model_slope = pd.DataFrame(reshaped_model_slope)\n",
    "df_model_slope.rename(columns={0: 'SA'}, inplace=True)\n",
    "df_model = pd.concat([df_model_slope, df_model_area], axis=1, sort=False)\n",
    "df_model['DC'] = 3"
   ]
  },
  {
   "cell_type": "code",
   "execution_count": null,
   "metadata": {},
   "outputs": [],
   "source": [
    "reshaped_model_slope_alt = model_slope_alt.reshape(-1,1)\n",
    "df_model_slope_alt = pd.DataFrame(reshaped_model_slope_alt)\n",
    "df_model_slope_alt.rename(columns={0: 'SA'}, inplace=True)\n",
    "df_model_alt = pd.concat([df_model_slope_alt, df_model_area], axis=1, sort=False)\n",
    "df_model_alt['DC'] = 4"
   ]
  },
  {
   "cell_type": "code",
   "execution_count": null,
   "metadata": {},
   "outputs": [],
   "source": [
    "gully_sample_set['Size'] = 1000\n",
    "df_model['Size'] = 1\n",
    "df_model_alt['Size'] = 1\n",
    "df_all_1 = df_model.append(df_model_alt)\n",
    "df_all_2 = df_all_1.append(gully_sample_set)"
   ]
  },
  {
   "cell_type": "code",
   "execution_count": null,
   "metadata": {},
   "outputs": [],
   "source": [
    "gully_sample_set"
   ]
  },
  {
   "cell_type": "code",
   "execution_count": null,
   "metadata": {},
   "outputs": [],
   "source": [
    "df_all_2"
   ]
  },
  {
   "cell_type": "code",
   "execution_count": null,
   "metadata": {},
   "outputs": [],
   "source": [
    "sns.set_style('whitegrid', {'grid.linestyle': '--'})\n",
    "data = df_all_2\n",
    "colours = {0:'xkcd:ultramarine', 1:'xkcd:orange', 2:'xkcd:scarlet', 3:'xkcd:black', 4:'xkcd:forest green'}\n",
    "x_axis = method\n",
    "x_axis_label = x_axis + ' Area (ha)'\n",
    "y_axis = 'SA'\n",
    "fig = sns.relplot(x=x_axis, y=y_axis,  palette = colours, hue = 'DC', \n",
    "                 data=data, alpha = 0.8, legend = False, edgecolor=\"k\", \n",
    "                  style = 'DC', size = 'Size', sizes = (0.1,100), markers =['^','s', 'o', '.', '.'])\n",
    "\n",
    "ax = fig.axes[0,0]\n",
    "\n",
    "ax.set_xlabel(x_axis, fontsize = 20)\n",
    "ax.set_ylabel(y_axis, fontsize = 20)\n",
    "\n",
    "fig.set(xlim = (0.1, 20))\n",
    "fig.set(ylim = (0.001, 0.2))\n",
    "\n",
    "leg = fig._legend\n",
    "plt.rcParams[\"axes.edgecolor\"] = \"0.15\"\n",
    "\n",
    "g1 = Line2D([], [], color='xkcd:orange', marker='s', linestyle='None',\n",
    "                          markersize=15, label='Gully head 1 (divergent)')\n",
    "\n",
    "rs = Line2D([], [], color='xkcd:royal blue', marker='^', linestyle='None',\n",
    "                          markersize=15, label='Random sample (convergent)')\n",
    "\n",
    "g2 = Line2D([], [], color='xkcd:scarlet', marker='o', linestyle='None',\n",
    "                          markersize=15, label='Gully head 2 (divergent)')\n",
    "\n",
    "#ax.tick_params(axis='both', which='major', labelsize=15)\n",
    "ax.set_xlabel(x_axis_label, fontsize = 15)\n",
    "ax.set_ylabel(('Slope (m$\\cdot$m$^{-1}$)'), fontsize = 15)\n",
    "\n",
    "plt.legend(bbox_to_anchor=(1.05, 1),  borderaxespad=0.,fontsize='12')\n",
    "plt.setp(ax.get_legend().get_title(), fontsize='12') # for legend title\n",
    "plt.legend(handles=[rs, g1, g2],fontsize=13, loc=3)\n",
    "\n",
    "ax.text(0.12, 0.005,'k = ' + str(np.round(10**sl_intercept, 2)), fontsize=15) \n",
    "ax.text(0.12, 0.004,'b = ' + str(np.round(sl_slope*-1, 2)), fontsize=15)  \n",
    "\n",
    "ax.set_xscale('log')\n",
    "ax.set_yscale('log')\n",
    "fig.fig.set_size_inches(5,5)"
   ]
  },
  {
   "cell_type": "markdown",
   "metadata": {},
   "source": [
    "## End of this section. Below is stuff that I think is duplicated in other notebooks."
   ]
  },
  {
   "cell_type": "code",
   "execution_count": null,
   "metadata": {},
   "outputs": [],
   "source": [
    "fig, ax = plt.subplots(figsize = (8, 8))\n",
    "g0 = sns.scatterplot(x=\"M8\", y=\"SA\", marker = 'x', edgecolor= 'xkcd:royal blue', legend = False, \n",
    "                     linewidth = 1,data=gsc)\n",
    "g1 = sns.scatterplot(x=\"M8\", y=\"SA\", marker = 'o',alpha=0.4, color='xkcd:orange', edgecolor= 'xkcd:black', \n",
    "                     linewidth = 1, data=gsd, s = 60, legend = False)\n",
    "g2 = sns.scatterplot(x=\"D8\", y=\"SA\", marker = 'D',alpha=0.4, color='xkcd:merlot', edgecolor= 'xkcd:black', \n",
    "                     linewidth = 1, data=gsd, s = 60, legend = False)\n",
    "g2 = sns.scatterplot(x=\"D8\", y=\"SA\", marker = 'D',alpha=0.4, color='xkcd:merlot', edgecolor= 'xkcd:black', \n",
    "                     linewidth = 1, data=gsd, s = 60, legend = False)\n",
    "g2 = sns.scatterplot(x=\"D8\", y=\"SA\", marker = 'D',alpha=0.4, color='xkcd:merlot', edgecolor= 'xkcd:black', \n",
    "                     linewidth = 1, data=gsd, s = 60, legend = False)\n",
    "g2 = sns.scatterplot(x=\"D8\", y=\"SA\", marker = 'D',alpha=0.4, color='xkcd:merlot', edgecolor= 'xkcd:black', \n",
    "                     linewidth = 1, data=gsd, s = 60, legend = False)\n",
    "plt.legend(bbox_to_anchor=(1.05, 1), loc=2, borderaxespad=0., title = '',fontsize='15')\n",
    "plt.setp(ax.get_legend().get_title(), fontsize='15') # for legend title\n",
    "#plt.plot([0, 10], [0, 10], linestyle='--', color = 'xkcd:apricot')\n",
    "#ax.set_ylim(-0.1,2)\n",
    "#ax.set_xlim(-0.1,2)"
   ]
  },
  {
   "cell_type": "code",
   "execution_count": null,
   "metadata": {},
   "outputs": [],
   "source": [
    "corr_1m_divergent = all_data_1m.loc[(all_data_1m['DC'] == 1)].drop(columns = ['node_id', 'DC', 'Slope', 'Resolution']).corr()\n",
    "corr_1m_convergent = all_data_1m.loc[(all_data_1m['DC'] == 0)].drop(columns = ['node_id', 'DC', 'Slope', 'Resolution']).corr()\n",
    "\n",
    "corr_2m_divergent = all_data_2m.loc[(all_data_2m['DC'] == 1)].drop(columns = ['node_id', 'DC', 'Slope', 'Resolution']).corr()\n",
    "corr_2m_convergent = all_data_2m.loc[(all_data_2m['DC'] == 0)].drop(columns = ['node_id', 'DC', 'Slope', 'Resolution']).corr()\n",
    "\n",
    "corr_3m_divergent = all_data_3m.loc[(all_data_3m['DC'] == 1)].drop(columns = ['node_id', 'DC', 'Slope', 'Resolution']).corr()\n",
    "corr_3m_convergent = all_data_3m.loc[(all_data_3m['DC'] == 0)].drop(columns = ['node_id', 'DC', 'Slope', 'Resolution']).corr()\n",
    "\n",
    "corr_4m_divergent = all_data_4m.loc[(all_data_4m['DC'] == 1)].drop(columns = ['node_id', 'DC', 'Slope', 'Resolution']).corr()\n",
    "corr_4m_convergent = all_data_4m.loc[(all_data_4m['DC'] == 0)].drop(columns = ['node_id', 'DC', 'Slope', 'Resolution']).corr()\n",
    "\n",
    "corr_5m_divergent = all_data_5m.loc[(all_data_5m['DC'] == 1)].drop(columns = ['node_id', 'DC', 'Slope', 'Resolution']).corr()\n",
    "corr_5m_convergent = all_data_5m.loc[(all_data_5m['DC'] == 0)].drop(columns = ['node_id', 'DC', 'Slope', 'Resolution']).corr()"
   ]
  },
  {
   "cell_type": "code",
   "execution_count": null,
   "metadata": {},
   "outputs": [],
   "source": [
    "corr_1m_divergent"
   ]
  },
  {
   "cell_type": "code",
   "execution_count": null,
   "metadata": {},
   "outputs": [],
   "source": [
    "corr_1m_convergent"
   ]
  },
  {
   "cell_type": "code",
   "execution_count": null,
   "metadata": {},
   "outputs": [],
   "source": [
    "corr_2m_divergent"
   ]
  },
  {
   "cell_type": "code",
   "execution_count": null,
   "metadata": {},
   "outputs": [],
   "source": [
    "corr_1m_convergent"
   ]
  },
  {
   "cell_type": "code",
   "execution_count": null,
   "metadata": {},
   "outputs": [],
   "source": [
    "sns.set(style = 'ticks')\n",
    "\n",
    "data = corr_1m_convergent\n",
    "\n",
    "mask = np.triu(np.ones_like(data, dtype=np.bool))\n",
    "\n",
    "comparison = sns.heatmap(data, xticklabels=data.columns, mask=mask,\n",
    "                         yticklabels=data.columns, annot = True,\n",
    "            cmap=sns.diverging_palette(220, 10, as_cmap=True), vmin = 0.5, vmax = 1, linecolor = 'white', linewidths = 3)\n",
    "\n",
    "comparison.set_xticklabels(comparison.get_xticklabels(), rotation=45)\n",
    "comparison.set_yticklabels(comparison.get_yticklabels(), rotation=0)"
   ]
  },
  {
   "cell_type": "code",
   "execution_count": null,
   "metadata": {},
   "outputs": [],
   "source": [
    "sns.set(style = 'ticks')\n",
    "\n",
    "data = corr_1m_divergent\n",
    "\n",
    "mask = np.triu(np.ones_like(data, dtype=np.bool))\n",
    "\n",
    "comparison = sns.heatmap(data, xticklabels=data.columns, mask=mask,\n",
    "                         yticklabels=data.columns, annot = True,\n",
    "            cmap=sns.diverging_palette(220, 10, as_cmap=True), vmin = 0.5, vmax = 1, linecolor = 'white', linewidths = 3)\n",
    "\n",
    "comparison.set_xticklabels(comparison.get_xticklabels(), rotation=45)\n",
    "comparison.set_yticklabels(comparison.get_yticklabels(), rotation=0)"
   ]
  },
  {
   "cell_type": "code",
   "execution_count": null,
   "metadata": {},
   "outputs": [],
   "source": [
    "correlation_dict_convergent = {}\n",
    "correlation_dict_divergent = {}"
   ]
  },
  {
   "cell_type": "code",
   "execution_count": null,
   "metadata": {},
   "outputs": [],
   "source": [
    "\n",
    "correlation_dict_convergent['D4-M8'] = [corr_1m_convergent.iloc[4,0], \n",
    "                             corr_2m_convergent.iloc[4,0], corr_3m_convergent.iloc[4,0], \n",
    "                             corr_4m_convergent.iloc[4,0], corr_5m_convergent.iloc[4,0]]\n",
    "\n",
    "correlation_dict_convergent['D8-M8'] = [corr_1m_convergent.iloc[4,1], \n",
    "                             corr_2m_convergent.iloc[4,1], corr_3m_convergent.iloc[4,1], \n",
    "                             corr_4m_convergent.iloc[4,1], corr_5m_convergent.iloc[4,1]]\n",
    "\n",
    "correlation_dict_convergent['Dinf-M8'] = [corr_1m_convergent.iloc[4,2], \n",
    "                               corr_2m_convergent.iloc[4,2], corr_3m_convergent.iloc[4,2], \n",
    "                               corr_4m_convergent.iloc[4,2], corr_5m_convergent.iloc[4,2]]\n",
    "correlation_dict_convergent['M4-M8'] = [corr_1m_convergent.iloc[4,3], \n",
    "                             corr_2m_convergent.iloc[4,3], corr_3m_convergent.iloc[4,3], \n",
    "                             corr_4m_convergent.iloc[4,3], corr_5m_convergent.iloc[4,3]]\n",
    "\n",
    "correlation_dict_divergent['D4-M8'] = [corr_1m_divergent.iloc[4,0], \n",
    "                             corr_2m_divergent.iloc[4,0], corr_3m_divergent.iloc[4,0], \n",
    "                             corr_4m_divergent.iloc[4,0], corr_5m_divergent.iloc[4,0]]\n",
    "\n",
    "correlation_dict_divergent['D8-M8'] = [corr_1m_divergent.iloc[4,1], \n",
    "                             corr_2m_divergent.iloc[4,1], corr_3m_divergent.iloc[4,1], \n",
    "                             corr_4m_divergent.iloc[4,1], corr_5m_divergent.iloc[4,1]]\n",
    "\n",
    "correlation_dict_divergent['Dinf-M8'] = [corr_1m_divergent.iloc[4,2], \n",
    "                               corr_2m_divergent.iloc[4,2], corr_3m_divergent.iloc[4,2], \n",
    "                               corr_4m_divergent.iloc[4,2], corr_5m_divergent.iloc[4,2]]\n",
    "correlation_dict_divergent['M4-M8'] = [corr_1m_divergent.iloc[4,3], \n",
    "                             corr_2m_divergent.iloc[4,3], corr_3m_divergent.iloc[4,3], \n",
    "                             corr_4m_divergent.iloc[4,3], corr_5m_divergent.iloc[4,3]]"
   ]
  },
  {
   "cell_type": "code",
   "execution_count": null,
   "metadata": {},
   "outputs": [],
   "source": [
    "correlation_convergent_dataframe = pd.DataFrame.from_dict(correlation_dict_convergent, orient='index')\n",
    "correlation_divergent_dataframe = pd.DataFrame.from_dict(correlation_dict_divergent, orient='index')\n",
    "    "
   ]
  },
  {
   "cell_type": "code",
   "execution_count": null,
   "metadata": {},
   "outputs": [],
   "source": [
    "correlation_convergent_dataframe.columns = ['1m', '2m', '3m', '4m', '5m']\n",
    "correlation_divergent_dataframe.columns = ['1m', '2m', '3m', '4m', '5m']"
   ]
  },
  {
   "cell_type": "code",
   "execution_count": null,
   "metadata": {},
   "outputs": [],
   "source": [
    "correlation_convergent_dataframe['Comparison'] = correlation_convergent_dataframe.index\n",
    "correlation_divergent_dataframe['Comparison'] = correlation_divergent_dataframe.index"
   ]
  },
  {
   "cell_type": "code",
   "execution_count": null,
   "metadata": {},
   "outputs": [],
   "source": [
    "melted_convergent_correlations = pd.melt(correlation_convergent_dataframe, id_vars=['Comparison'], var_name='Resolution')\n",
    "convergent_correlations = melted_convergent_correlations.rename(columns={'value': 'Correlation'})\n",
    "\n",
    "melted_divergent_correlations = pd.melt(correlation_divergent_dataframe, id_vars=['Comparison'], var_name='Resolution')\n",
    "divergent_correlations = melted_divergent_correlations.rename(columns={'value': 'Correlation'})"
   ]
  },
  {
   "cell_type": "code",
   "execution_count": null,
   "metadata": {},
   "outputs": [],
   "source": [
    "from matplotlib.lines import Line2D"
   ]
  },
  {
   "cell_type": "code",
   "execution_count": null,
   "metadata": {},
   "outputs": [],
   "source": [
    "sns.set(style = 'ticks')\n",
    "fig, ax = plt.subplots(figsize = (7, 7))\n",
    "jitter = 0.15\n",
    "data = convergent_correlations\n",
    "ylim_min = .2\n",
    "ylim_max = 1\n",
    "#plt.clf()\n",
    "D4p = data[(data['Comparison']=='D4-M8')]\n",
    "colors = ['burnt yellow']\n",
    "m = sns.stripplot('Resolution','Correlation',hue='Comparison',\n",
    "                  marker='o',data=D4p, jitter=jitter, \n",
    "                  palette=sns.xkcd_palette(colors),\n",
    "                  split=True,linewidth=2,edgecolor=\"black\", size = 15, alpha = 0.7)\n",
    "m.set(ylim = (ylim_min, ylim_max))\n",
    "D8p = data[(data['Comparison']=='D8-M8')]\n",
    "colors = ['merlot']\n",
    "n = sns.stripplot('Resolution','Correlation',hue='Comparison',\n",
    "                  marker='v',data=D8p, jitter=jitter, \n",
    "                  palette=sns.xkcd_palette(colors),\n",
    "                  split=True,linewidth=2,edgecolor=\"black\", size = 15, alpha = 0.7)\n",
    "\n",
    "Dinfp = data[(data['Comparison']=='Dinf-M8')]\n",
    "colors = ['dark sea green']\n",
    "o = sns.stripplot('Resolution','Correlation',hue='Comparison',\n",
    "                  marker='s',data=Dinfp, jitter=jitter, \n",
    "                  palette=sns.xkcd_palette(colors),\n",
    "                  split=True,linewidth=2,edgecolor=\"black\", size = 15, alpha = 0.7)\n",
    "\n",
    "M4p = data[(data['Comparison']=='M4-M8')]\n",
    "colors = ['cobalt blue']\n",
    "p = sns.stripplot('Resolution','Correlation',hue='Comparison',\n",
    "                  marker='D',data=M4p, jitter=jitter, \n",
    "                  palette=sns.xkcd_palette(colors),\n",
    "                  split=True,linewidth=2,edgecolor=\"black\", size = 15, alpha = 0.7)\n",
    "\n",
    "plt.grid(linestyle='--')\n",
    "plt.legend(bbox_to_anchor=(1.05, 1), loc=2, borderaxespad=0.)\n",
    "ax.set(ylim = (ylim_min, ylim_max))\n",
    "ax.set_xlabel('Resolution', fontsize = 15)\n",
    "ax.set_ylabel('Correlation', fontsize = 15)\n",
    "plt.setp(ax.get_legend().get_texts(), fontsize='15') # for legend text\n",
    "plt.setp(ax.get_legend().get_title(), fontsize='22') # for legend title\n",
    "\n",
    "D4l = Line2D([], [], color='xkcd:burnt yellow', marker='o', linestyle='None',\n",
    "                          markersize=15, label='D4-M8')\n",
    "D8l = Line2D([], [], color='xkcd:merlot', marker='v', linestyle='None',\n",
    "                          markersize=15, label='D8-M8')\n",
    "Dinfl = Line2D([], [], color='xkcd:dark sea green', marker='s', linestyle='None',\n",
    "                          markersize=15, label='Dinf-M8')\n",
    "M4l = Line2D([], [], color='xkcd:cobalt blue', marker='D', linestyle='None',\n",
    "                          markersize=15, label='M4-M8')\n",
    "\n",
    "ax.tick_params(axis='both', which='major', labelsize=15)\n",
    "ax.set_xlabel('Resolution', fontsize = 20)\n",
    "ax.set_ylabel('Correlation', fontsize = 20)\n",
    "\n",
    "\n",
    "plt.legend(bbox_to_anchor=(1.05, 1), loc=2, borderaxespad=0., title = 'Algorithm comparisons',fontsize='15')\n",
    "plt.setp(ax.get_legend().get_title(), fontsize='15') # for legend title\n",
    "plt.legend(handles=[D4l, D8l, Dinfl,M4l],fontsize=15)\n"
   ]
  },
  {
   "cell_type": "code",
   "execution_count": null,
   "metadata": {},
   "outputs": [],
   "source": [
    "exponent_b_divergent = pd.read_excel('exponent_b_divergent.xlsx')\n",
    "exponent_b_divergent['Flow'] = 'Divergent'\n",
    "exponent_b_convergent = pd.read_excel('exponent_b_convergent.xlsx')\n",
    "exponent_b_convergent['Flow'] = 'Convergent'"
   ]
  },
  {
   "cell_type": "code",
   "execution_count": null,
   "metadata": {},
   "outputs": [],
   "source": [
    "d4_mean = np.mean([exponent_b_convergent['D4'].to_numpy(),exponent_b_divergent['D4'].to_numpy()], axis = 0)\n",
    "d8_mean = np.mean([exponent_b_convergent['D8'].to_numpy(),exponent_b_divergent['D8'].to_numpy()], axis = 0)\n",
    "dinf_mean = np.mean([exponent_b_convergent['Dinf'].to_numpy(),exponent_b_divergent['Dinf'].to_numpy()], axis = 0)\n",
    "m4_mean = np.mean([exponent_b_convergent['M4'].to_numpy(),exponent_b_divergent['M4'].to_numpy()], axis = 0)\n",
    "m8_mean = np.mean([exponent_b_convergent['M8'].to_numpy(),exponent_b_divergent['M8'].to_numpy()], axis = 0)"
   ]
  },
  {
   "cell_type": "code",
   "execution_count": null,
   "metadata": {},
   "outputs": [],
   "source": [
    "exponent_b_mean = exponent_b_divergent.copy()"
   ]
  },
  {
   "cell_type": "code",
   "execution_count": null,
   "metadata": {},
   "outputs": [],
   "source": [
    "exponent_b_mean['D4'] = d4_mean\n",
    "exponent_b_mean['D8'] = d8_mean\n",
    "exponent_b_mean['Dinf'] = dinf_mean\n",
    "exponent_b_mean['M4'] = m4_mean\n",
    "exponent_b_mean['M8'] = m8_mean"
   ]
  },
  {
   "cell_type": "code",
   "execution_count": null,
   "metadata": {},
   "outputs": [],
   "source": [
    "mean_dataframe = pd.melt(exponent_b_mean, id_vars=['Resolution', 'Flow'], \n",
    "                               value_vars=['D4', 'D8', 'Dinf', 'M4', 'M8'], var_name = 'Method', value_name = 'b')"
   ]
  },
  {
   "cell_type": "code",
   "execution_count": null,
   "metadata": {},
   "outputs": [],
   "source": [
    "flow_datasets = [exponent_b_convergent, exponent_b_divergent]"
   ]
  },
  {
   "cell_type": "code",
   "execution_count": null,
   "metadata": {},
   "outputs": [],
   "source": [
    "conv_and_div = pd.concat(flow_datasets)"
   ]
  },
  {
   "cell_type": "code",
   "execution_count": null,
   "metadata": {},
   "outputs": [],
   "source": [
    "conv_dataframe = pd.melt(exponent_b_convergent, id_vars=['Resolution', 'Flow'], \n",
    "                               value_vars=['D4', 'D8', 'Dinf', 'M4', 'M8'], var_name = 'Method', value_name = 'b')"
   ]
  },
  {
   "cell_type": "code",
   "execution_count": null,
   "metadata": {},
   "outputs": [],
   "source": [
    "div_dataframe = pd.melt(exponent_b_divergent, id_vars=['Resolution', 'Flow'], \n",
    "                               value_vars=['D4', 'D8', 'Dinf', 'M4', 'M8'], var_name = 'Method', value_name = 'b')"
   ]
  },
  {
   "cell_type": "code",
   "execution_count": null,
   "metadata": {},
   "outputs": [],
   "source": [
    "scalar_k_divergent = pd.read_excel('scalar_k_divergent.xlsx')\n",
    "scalar_k_divergent['Flow'] = 'Divergent'\n",
    "scalar_k_convergent = pd.read_excel('scalar_k_convergent.xlsx')\n",
    "scalar_k_convergent['Flow'] = 'Convergent'"
   ]
  },
  {
   "cell_type": "code",
   "execution_count": null,
   "metadata": {},
   "outputs": [],
   "source": [
    "flow_datasets_k = [scalar_k_convergent, scalar_k_divergent]\n",
    "conv_and_div_k = pd.concat(flow_datasets_k)"
   ]
  },
  {
   "cell_type": "code",
   "execution_count": null,
   "metadata": {},
   "outputs": [],
   "source": [
    "conv_dataframe_k = pd.melt(scalar_k_convergent, id_vars=['Resolution', 'Flow'], \n",
    "                               value_vars=['D4', 'D8', 'Dinf', 'M4', 'M8'], var_name = 'Method', value_name = 'k')"
   ]
  },
  {
   "cell_type": "code",
   "execution_count": null,
   "metadata": {},
   "outputs": [],
   "source": [
    "div_dataframe_k = pd.melt(scalar_k_divergent, id_vars=['Resolution', 'Flow'], \n",
    "                               value_vars=['D4', 'D8', 'Dinf', 'M4', 'M8'], var_name = 'Method', value_name = 'k')"
   ]
  },
  {
   "cell_type": "code",
   "execution_count": null,
   "metadata": {},
   "outputs": [],
   "source": [
    "sns.set(style = 'ticks')\n",
    "fig, ax = plt.subplots(figsize = (7, 7))\n",
    "jitter = 0.15\n",
    "parameter = 'k'\n",
    "data = div_dataframe_k\n",
    "ylim_min = 0\n",
    "ylim_max = .05\n",
    "#plt.clf()\n",
    "D4p = data[(data['Method']=='D4')]\n",
    "colors = ['burnt yellow']\n",
    "m = sns.stripplot('Resolution',parameter,hue='Flow',\n",
    "                  marker='o',data=D4p, jitter=jitter, \n",
    "                  palette=sns.xkcd_palette(colors),\n",
    "                  split=True,linewidth=2,edgecolor=\"black\", size = 15, alpha = 0.7)\n",
    "m.set(ylim = (ylim_min, ylim_max))\n",
    "D8p = data[(data['Method']=='D8')]\n",
    "colors = ['merlot']\n",
    "n = sns.stripplot('Resolution',parameter,hue='Flow',\n",
    "                  marker='v',data=D8p, jitter=jitter, \n",
    "                  palette=sns.xkcd_palette(colors),\n",
    "                  split=True,linewidth=2,edgecolor=\"black\", size = 15, alpha = 0.7)\n",
    "\n",
    "Dinfp = data[(data['Method']=='Dinf')]\n",
    "colors = ['dark sea green']\n",
    "o = sns.stripplot('Resolution',parameter,hue='Flow',\n",
    "                  marker='s',data=Dinfp, jitter=jitter, \n",
    "                  palette=sns.xkcd_palette(colors),\n",
    "                  split=True,linewidth=2,edgecolor=\"black\", size = 15, alpha = 0.7)\n",
    "\n",
    "M4p = data[(data['Method']=='M4')]\n",
    "colors = ['cobalt blue']\n",
    "p = sns.stripplot('Resolution',parameter,hue='Flow',\n",
    "                  marker='D',data=M4p, jitter=jitter, \n",
    "                  palette=sns.xkcd_palette(colors),\n",
    "                  split=True,linewidth=2,edgecolor=\"black\", size = 15, alpha = 0.7)\n",
    "\n",
    "M8p = data[(data['Method']=='M8')]\n",
    "colors = ['dusty pink']\n",
    "p = sns.stripplot('Resolution',parameter,hue='Flow',\n",
    "                  marker='p',data=M8p, jitter=jitter, \n",
    "                  palette=sns.xkcd_palette(colors),\n",
    "                  split=True,linewidth=2,edgecolor=\"black\", size = 15, alpha = 0.7)\n",
    "\n",
    "plt.grid(linestyle='--')\n",
    "plt.legend(bbox_to_anchor=(1.05, 1), loc=2, borderaxespad=0.)\n",
    "ax.set(ylim = (ylim_min, ylim_max))\n",
    "ax.set_xlabel('Resolution', fontsize = 15)\n",
    "ax.set_ylabel('Correlation', fontsize = 15)\n",
    "plt.setp(ax.get_legend().get_texts(), fontsize='15') # for legend text\n",
    "plt.setp(ax.get_legend().get_title(), fontsize='22') # for legend title\n",
    "\n",
    "D4l = Line2D([], [], color='xkcd:burnt yellow', marker='o', linestyle='None',\n",
    "                          markersize=15, label='D4')\n",
    "D8l = Line2D([], [], color='xkcd:merlot', marker='v', linestyle='None',\n",
    "                          markersize=15, label='D8')\n",
    "Dinfl = Line2D([], [], color='xkcd:dark sea green', marker='s', linestyle='None',\n",
    "                          markersize=15, label='Dinf')\n",
    "M4l = Line2D([], [], color='xkcd:cobalt blue', marker='D', linestyle='None',\n",
    "                          markersize=15, label='M4')\n",
    "M8l = Line2D([], [], color='xkcd:dusty pink', marker='p', linestyle='None',\n",
    "                          markersize=15, label='M8')\n",
    "\n",
    "\n",
    "ax.tick_params(axis='both', which='major', labelsize=15)\n",
    "ax.set_xlabel('Resolution', fontsize = 20)\n",
    "ax.set_ylabel('Scalar (k)', fontsize = 20)\n",
    "\n",
    "\n",
    "plt.legend(bbox_to_anchor=(1.05, 1), loc=2, borderaxespad=0., fontsize='15')\n",
    "plt.setp(ax.get_legend().get_title(), fontsize='15') # for legend title\n",
    "plt.legend(handles=[D4l, D8l, Dinfl,M4l,M8l],fontsize=15)\n",
    "plt.title('Divergent', fontsize = 20)"
   ]
  },
  {
   "cell_type": "code",
   "execution_count": null,
   "metadata": {},
   "outputs": [],
   "source": [
    "sns.set(style = 'ticks')\n",
    "fig, ax = plt.subplots(figsize = (12, 7))\n",
    "jitter = 0.15\n",
    "data = conv_and_div_dataframe\n",
    "ylim_min = 0\n",
    "ylim_max = .4\n",
    "#plt.clf()\n",
    "D4p = data[(data['Method']=='D4')]\n",
    "m = sns.stripplot('Resolution','b',\n",
    "                  marker='o',data=D4p, jitter=jitter, \n",
    "                  split=True,linewidth=2,edgecolor=\"black\", size = 15, alpha = 0.7)\n",
    "m.set(ylim = (ylim_min, ylim_max))\n",
    "\n",
    "D8p = data[(data['Method']=='D8')]\n",
    "n = sns.stripplot('Resolution','b',\n",
    "                  marker='v',data=D8p, jitter=jitter, \n",
    "                  split=True,linewidth=2,edgecolor=\"black\", size = 15, alpha = 0.7)\n",
    "\n",
    "Dinfp = data[(data['Method']=='Dinf')]\n",
    "o = sns.stripplot('Resolution','b',\n",
    "                  marker='s',data=Dinfp, jitter=jitter, \n",
    "                  split=True,linewidth=2,edgecolor=\"black\", size = 15, alpha = 0.7)\n",
    "\n",
    "M4p = data[(data['Method']=='M4')]\n",
    "p = sns.stripplot('Resolution','b',\n",
    "                  marker='D',data=M4p, jitter=jitter, \n",
    "                  split=True,linewidth=2,edgecolor=\"black\", size = 15, alpha = 0.7)\n",
    "\n",
    "M8p = data[(data['Method']=='M8')]\n",
    "p = sns.stripplot('Resolution','b',\n",
    "                  marker='p',data=M8p, jitter=jitter, \n",
    "                  split=True,linewidth=2,edgecolor=\"black\", size = 15, alpha = 0.7)\n",
    "\n",
    "plt.grid(linestyle='--')\n",
    "plt.legend(bbox_to_anchor=(1.05, 1), loc=2, borderaxespad=0.)\n",
    "ax.set(ylim = (ylim_min, ylim_max))\n",
    "ax.set_xlabel('Resolution', fontsize = 15)\n",
    "ax.set_ylabel('Correlation', fontsize = 15)\n",
    "plt.setp(ax.get_legend().get_texts(), fontsize='15') # for legend text\n",
    "plt.setp(ax.get_legend().get_title(), fontsize='22') # for legend title\n",
    "\n",
    "D4l = Line2D([], [], color='xkcd:burnt yellow', marker='o', linestyle='None',\n",
    "                          markersize=15, label='D4')\n",
    "D8l = Line2D([], [], color='xkcd:merlot', marker='v', linestyle='None',\n",
    "                          markersize=15, label='D8')\n",
    "Dinfl = Line2D([], [], color='xkcd:dark sea green', marker='s', linestyle='None',\n",
    "                          markersize=15, label='Dinf')\n",
    "M4l = Line2D([], [], color='xkcd:cobalt blue', marker='D', linestyle='None',\n",
    "                          markersize=15, label='M4')\n",
    "M8l = Line2D([], [], color='xkcd:dusty pink', marker='p', linestyle='None',\n",
    "                          markersize=15, label='M8')\n",
    "\n",
    "\n",
    "ax.tick_params(axis='both', which='major', labelsize=15)\n",
    "ax.set_xlabel('Resolution', fontsize = 20)\n",
    "ax.set_ylabel('Correlation', fontsize = 20)\n",
    "\n",
    "\n",
    "plt.legend(bbox_to_anchor=(1.05, 1), loc=2, borderaxespad=0., title = 'Algorithm comparisons',fontsize='15')\n",
    "plt.setp(ax.get_legend().get_title(), fontsize='15') # for legend title\n",
    "plt.legend(handles=[D4l, D8l, Dinfl,M4l,M8l],fontsize=15)\n"
   ]
  },
  {
   "cell_type": "code",
   "execution_count": null,
   "metadata": {},
   "outputs": [],
   "source": [
    "j = all_data_1m.loc[(all_data_1m['DC'] == 1)].drop(columns = ['node_id', 'Slope', 'Resolution'])"
   ]
  },
  {
   "cell_type": "code",
   "execution_count": null,
   "metadata": {},
   "outputs": [],
   "source": [
    "r = all_data_1m[all_data_1m.DC != 'not enough grid cells'].drop(columns = ['node_id', 'Slope', 'Resolution'])"
   ]
  },
  {
   "cell_type": "code",
   "execution_count": null,
   "metadata": {},
   "outputs": [],
   "source": [
    "r"
   ]
  },
  {
   "cell_type": "code",
   "execution_count": null,
   "metadata": {},
   "outputs": [],
   "source": [
    "dr = r.drop(['SA'], axis=1).rename(columns = {'D4': 'D4 (ha)', 'D8': 'D8 (ha)', 'Dinf': 'Dinf (ha)',\n",
    "                                             'M4': 'M4 (ha)', 'M8': 'M8 (ha)'}, inplace = False)"
   ]
  },
  {
   "cell_type": "code",
   "execution_count": null,
   "metadata": {},
   "outputs": [],
   "source": [
    "\n",
    "sns.set(style = \"ticks\")\n",
    "colors = [\"xkcd:royal blue\", \"xkcd:pumpkin\"]\n",
    "data = dr\n",
    "def plot_unity(xdata, ydata, **kwargs):\n",
    "    mn = min(xdata.min(), ydata.min())\n",
    "    mx = max(xdata.max(), ydata.max())\n",
    "    points = np.linspace(mn, mx, 100)\n",
    "    plt.gca().plot(points, points, color = 'xkcd:chocolate', marker=None,\n",
    "            linestyle='--', linewidth=1.0)\n",
    "\n",
    "fig = sns.pairplot(data, palette = colors, hue = 'DC', markers=['x', 'o'])\n",
    "\n",
    "handles = fig._legend_data.values()\n",
    "labels = ['Convergent', 'Divergent']\n",
    "\n",
    "fig.fig.legend(handles=handles, labels=labels, loc='upper right', ncol=3, fontsize = 15)\n",
    "fig.fig.subplots_adjust(top=0.92, bottom=0.08)\n",
    "\n",
    "sns.plotting_context()\n",
    "fig.map_offdiag(plot_unity)\n",
    "\n",
    "fig.set(ylim=(-0.5,10))\n",
    "fig.set(xlim=(-0.5,10))\n",
    "plt.rcParams[\"axes.labelsize\"] = 15\n",
    "for ax in plt.gcf().axes:\n",
    "    l = ax.get_xlabel()\n",
    "    m = ax.get_ylabel()\n",
    "    ax.set_xlabel(l, fontsize=15)\n",
    "    ax.set_ylabel(m, fontsize=15)"
   ]
  },
  {
   "cell_type": "code",
   "execution_count": null,
   "metadata": {},
   "outputs": [],
   "source": [
    "sns.set(font_scale = 1.5)\n",
    "sns.set_style(\"whitegrid\", {'grid.linestyle': '--'})\n",
    "fig, ax = plt.subplots(figsize = (10, 5))\n",
    "data = merge_correlation_means\n",
    "colors = ['xkcd:pumpkin', 'xkcd:very light blue']\n",
    "# Draw a nested barplot to show survival for class and sex\n",
    "\n",
    "sns.barplot(x=\"Method\", y=\"Correlation\", hue=\"Flow\", data=data,\n",
    "                  palette=colors, alpha = 0.8,linewidth=2,edgecolor=\"black\",)\n",
    "\n",
    "ax.set_ylabel(\"Correlation\", fontsize = 20)\n",
    "ax.set_xlabel(\"Routing method\", fontsize = 20)\n",
    "ax.set(ylim = (0.2, 1))\n",
    "\n",
    "#fig.set_xlabel(\"X Label\",fontsize=30)\n",
    "plt.legend(bbox_to_anchor=(1.05, 1), loc=2, borderaxespad=0., fontsize='15')\n",
    "#ax.set_yticklabels(ax.get_yticks(), size = 15)"
   ]
  },
  {
   "cell_type": "code",
   "execution_count": null,
   "metadata": {},
   "outputs": [],
   "source": [
    "sns.set_style('ticks', {'grid.linestyle': '--'})\n",
    "data = r\n",
    "colours = {0:'xkcd:mid blue', 1:'xkcd:pale pink'}\n",
    "x_axis = 'M8'\n",
    "y_axis = 'M4'\n",
    "fig = sns.relplot(x=x_axis, y=y_axis, palette = colours, hue = 'DC',\n",
    "                 data=data, alpha = 0.7, legend = 'brief', edgecolor=\"k\", style = 'DC')\n",
    "\n",
    "ax = fig.axes[0,0]\n",
    "ax.set_xlim(-0.1,6)\n",
    "ax.set_ylim(-0.1,6)\n",
    "ax.set_xlabel(x_axis, fontsize = 20)\n",
    "ax.set_ylabel(y_axis, fontsize = 20)\n",
    "leg = fig._legend\n",
    "plt.rcParams[\"axes.edgecolor\"] = \"0.15\"\n",
    "plt.plot([0, 10], [0, 10], linestyle='--', color = 'xkcd:chocolate', alpha = 0.5)"
   ]
  },
  {
   "cell_type": "code",
   "execution_count": null,
   "metadata": {},
   "outputs": [],
   "source": [
    "frames = [all_data_1m_dataframe, all_data_2m_dataframe, \n",
    "          all_data_3m_dataframe, all_data_4m_dataframe, \n",
    "          all_data_5m_dataframe]"
   ]
  },
  {
   "cell_type": "code",
   "execution_count": null,
   "metadata": {},
   "outputs": [],
   "source": [
    "all_resolutions = pd.concat(frames)"
   ]
  },
  {
   "cell_type": "code",
   "execution_count": null,
   "metadata": {},
   "outputs": [],
   "source": [
    "all_resolutions"
   ]
  },
  {
   "cell_type": "code",
   "execution_count": null,
   "metadata": {},
   "outputs": [],
   "source": [
    "gully_head_dataframe = pd.melt(all_resolutions, id_vars=['node_id', 'DC', 'Slope', 'Resolution', 'SA', 'Flow'], \n",
    "                               value_vars=['D4', 'D8', 'Dinf', 'M4', 'M8'], var_name = 'Method', value_name = 'Area')"
   ]
  },
  {
   "cell_type": "code",
   "execution_count": null,
   "metadata": {},
   "outputs": [],
   "source": [
    "gully_head_dataframe"
   ]
  },
  {
   "cell_type": "code",
   "execution_count": null,
   "metadata": {},
   "outputs": [],
   "source": [
    "sns.set(font_scale = 1.5)\n",
    "sns.set_style(\"whitegrid\", {'grid.linestyle': '--'})\n",
    "fig, ax = plt.subplots(figsize = (10, 5))\n",
    "data = gully_head_dataframe\n",
    "colors = ['xkcd:very light blue', 'xkcd:pumpkin']\n",
    "# Draw a nested barplot to show survival for class and sex\n",
    "\n",
    "sns.barplot(x=\"Resolution\", y = 'Flow', hue=\"DC\", data=data,\n",
    "                  palette=colors, alpha = 0.8,linewidth=2,edgecolor=\"black\",)\n",
    "\n",
    "ax.set_ylabel(\"Number of gullies\", fontsize = 20)\n",
    "ax.set_xlabel(\"Resolution\", fontsize = 20)\n",
    "ax.set(ylim = (0, 500))\n",
    "\n",
    "Div = Line2D([], [], color='xkcd:apricot', marker='s', linestyle='None',\n",
    "                          markersize=15, label='Divergent')\n",
    "Conv = Line2D([], [], color='xkcd:very light blue', marker='s', linestyle='None',\n",
    "                          markersize=15, label='Convergent')\n",
    "\n",
    "#fig.set_xlabel(\"X Label\",fontsize=30)\n",
    "plt.legend(bbox_to_anchor=(1.05, 1), loc=2, borderaxespad=0., fontsize='15')\n",
    "\n",
    "plt.setp(ax.get_legend().get_title(), fontsize='12') # for legend title\n",
    "plt.legend(handles=[Conv, Div],fontsize=13)\n",
    "\n",
    "#ax.set_yticklabels(ax.get_yticks(), size = 15)\n"
   ]
  },
  {
   "cell_type": "code",
   "execution_count": null,
   "metadata": {},
   "outputs": [],
   "source": [
    "m8_only = gully_head_dataframe.loc[(gully_head_dataframe['Method'] == 'M8')]"
   ]
  },
  {
   "cell_type": "code",
   "execution_count": null,
   "metadata": {},
   "outputs": [],
   "source": [
    "dinf_only = gully_head_dataframe.loc[(gully_head_dataframe['Method'] == 'Dinf')]"
   ]
  },
  {
   "cell_type": "code",
   "execution_count": null,
   "metadata": {},
   "outputs": [],
   "source": [
    "d8_only = gully_head_dataframe.loc[(gully_head_dataframe['Method'] == 'D8')]"
   ]
  },
  {
   "cell_type": "code",
   "execution_count": null,
   "metadata": {},
   "outputs": [],
   "source": [
    "m4_only = gully_head_dataframe.loc[(gully_head_dataframe['Method'] == 'M4')]"
   ]
  },
  {
   "cell_type": "code",
   "execution_count": null,
   "metadata": {},
   "outputs": [],
   "source": [
    "d4_only = gully_head_dataframe.loc[(gully_head_dataframe['Method'] == 'D4')]"
   ]
  },
  {
   "cell_type": "code",
   "execution_count": null,
   "metadata": {},
   "outputs": [],
   "source": [
    "m8_1m_only = m8_only.loc[(m8_only['Resolution'] == 1)]"
   ]
  },
  {
   "cell_type": "code",
   "execution_count": null,
   "metadata": {},
   "outputs": [],
   "source": [
    "m8_2m_only = m8_only.loc[(m8_only['Resolution'] == 2)]"
   ]
  },
  {
   "cell_type": "code",
   "execution_count": null,
   "metadata": {},
   "outputs": [],
   "source": [
    "m8_3m_only = m8_only.loc[(m8_only['Resolution'] == 3)]"
   ]
  },
  {
   "cell_type": "code",
   "execution_count": null,
   "metadata": {},
   "outputs": [],
   "source": [
    "m8_4m_only = m8_only.loc[(m8_only['Resolution'] == 4)]"
   ]
  },
  {
   "cell_type": "code",
   "execution_count": null,
   "metadata": {},
   "outputs": [],
   "source": [
    "m8_5m_only = m8_only.loc[(m8_only['Resolution'] == 5)]"
   ]
  },
  {
   "cell_type": "code",
   "execution_count": null,
   "metadata": {},
   "outputs": [],
   "source": [
    "m8_only.head()"
   ]
  },
  {
   "cell_type": "code",
   "execution_count": null,
   "metadata": {},
   "outputs": [],
   "source": [
    "d8_only = gully_head_dataframe.loc[(gully_head_dataframe['Method'] == 'D8')]"
   ]
  },
  {
   "cell_type": "code",
   "execution_count": null,
   "metadata": {},
   "outputs": [],
   "source": [
    "np.random.seed(8)\n",
    "\n",
    "remove_n = 1000\n",
    "\n",
    "drop_indices = np.random.choice(m4_only.index, remove_n, replace=False)\n",
    "df_subset = m4_only.drop(drop_indices)"
   ]
  },
  {
   "cell_type": "code",
   "execution_count": null,
   "metadata": {},
   "outputs": [],
   "source": [
    "sns.set_style('whitegrid', {'grid.linestyle': '--'})\n",
    "# baby blue, pale pink\n",
    "data = df_subset\n",
    "colours = {0:'xkcd:very light blue', 1:'xkcd:pumpkin'}\n",
    "x_axis = 'Area'\n",
    "y_axis = 'SA'\n",
    "\n",
    "fig = sns.relplot(x=x_axis, y=y_axis,  palette = colours, hue = 'DC',\n",
    "                 data=data, alpha = 0.6,  edgecolor='xkcd:black', \n",
    "                  style = 'DC', markers=['o', 'o'], size = 'Resolution', sizes=(20,200))\n",
    "\n",
    "ax = fig.axes[0,0]\n",
    "ax.set_xlim(0.1,100)\n",
    "ax.set_ylim(0.001,1)\n",
    "ax.set_xlabel(x_axis, fontsize = 20)\n",
    "ax.set_ylabel(y_axis, fontsize = 20)\n",
    "leg = fig._legend\n",
    "plt.rcParams[\"axes.edgecolor\"] = \"0.15\"\n",
    "\n",
    "\n",
    "Div = Line2D([], [], color='xkcd:apricot', marker='o', linestyle='None',\n",
    "                          markersize=15, label='Divergent')\n",
    "Conv = Line2D([], [], color='xkcd:very light blue', marker='o', linestyle='None',\n",
    "                          markersize=15, label='Convergent')\n",
    "\n",
    "#ax.tick_params(axis='both', which='major', labelsize=15)\n",
    "ax.set_xlabel('Area (ha)', fontsize = 15)\n",
    "ax.set_ylabel(('Slope (m$\\cdot$m$^{-1}$)'), fontsize = 15)\n",
    "ax.set(xscale=\"log\", yscale=\"log\")\n",
    "#ax.set(xscale=\"log\")\n",
    "\n",
    "plt.legend(bbox_to_anchor=(1.05, 1), loc=2, borderaxespad=0.,fontsize='12')\n",
    "plt.setp(ax.get_legend().get_title(), fontsize='12') # for legend title\n",
    "plt.legend(handles=[Conv, Div],fontsize=13)\n",
    "fig.fig.set_size_inches(12,8)"
   ]
  },
  {
   "cell_type": "code",
   "execution_count": null,
   "metadata": {},
   "outputs": [],
   "source": [
    "data = m8_only\n",
    "ax = sns.regplot(x=\"log_area\", y=\"log_s\", data=data, marker = '+')"
   ]
  },
  {
   "cell_type": "code",
   "execution_count": null,
   "metadata": {},
   "outputs": [],
   "source": [
    "v = gully_head_dataframe.loc[(gully_head_dataframe.Resolution == 1)&(gully_head_dataframe['Method'] == 'M8')]"
   ]
  },
  {
   "cell_type": "code",
   "execution_count": null,
   "metadata": {},
   "outputs": [],
   "source": [
    "v.drop(v.loc[v['DC']=='not enough grid cells'].index, inplace=True)"
   ]
  },
  {
   "cell_type": "code",
   "execution_count": null,
   "metadata": {},
   "outputs": [],
   "source": [
    "data = gully_head_dataframe\n",
    "colours = {0:'xkcd:powder blue', 1:'xkcd:mango'}\n",
    "g = sns.catplot(x=\"Area\", y=\"DC\", row=\"Resolution\",\n",
    "                kind=\"box\", orient=\"h\", height=1.5, aspect=4,\n",
    "                data=data, ax = ax, palette = colours)\n",
    "g.set(xlim=(-1, 7))\n",
    "plt.xlabel('Area (ha)', fontsize=15)\n",
    "for ax in g.axes.flat:\n",
    "    ax.set_ylabel('Divergence', fontsize=15)\n",
    "    ax.set(yticklabels=['no', 'yes'])\n",
    "    "
   ]
  },
  {
   "cell_type": "code",
   "execution_count": null,
   "metadata": {},
   "outputs": [],
   "source": [
    "gully_head_dataframe"
   ]
  },
  {
   "cell_type": "code",
   "execution_count": null,
   "metadata": {},
   "outputs": [],
   "source": [
    "data = gully_head_dataframe\n",
    "colours = {0:'xkcd:powder blue', 1:'xkcd:mango'}\n",
    "g = sns.catplot(x=\"SA\", y=\"DC\", row=\"Resolution\",\n",
    "                kind=\"box\", orient=\"h\", height=1.5, aspect=4,\n",
    "                data=data, palette = colours)\n",
    "g.set(xlim=(0, 0.1))\n",
    "plt.xlabel('Slope (m$\\cdot$m$^{-1}$)', fontsize=15)\n",
    "for ax in g.axes.flat:\n",
    "    ax.set_ylabel('Divergence', fontsize=15)\n",
    "    ax.set(yticklabels=['no', 'yes'])"
   ]
  },
  {
   "cell_type": "code",
   "execution_count": null,
   "metadata": {},
   "outputs": [],
   "source": [
    "all_data_1m_dataframe"
   ]
  },
  {
   "cell_type": "code",
   "execution_count": null,
   "metadata": {},
   "outputs": [],
   "source": [
    "conv_area = all_data_5m_dataframe.loc[all_data_5m_dataframe['DC'] == 0]['D4'].to_numpy()\n",
    "div_area = all_data_5m_dataframe.loc[all_data_5m_dataframe['DC'] == 1]['D4'].to_numpy()\n",
    "mean_conv_a = np.round(np.mean(conv_area),5)\n",
    "mean_div_a = np.round(np.mean(div_area),5)\n",
    "\n",
    "standard_deviation_convergent = np.std(np.array(conv_area))\n",
    "standard_deviation_divergent = np.std(np.array(div_area))"
   ]
  },
  {
   "cell_type": "code",
   "execution_count": null,
   "metadata": {},
   "outputs": [],
   "source": [
    "print('Mean div: ', np.round(mean_div_a, 2), 'stdev: ', np.round(standard_deviation_divergent, 2))\n",
    "print('Mean conv: ', np.round(mean_conv_a, 2), 'stdev: ', np.round(standard_deviation_convergent, 2))"
   ]
  },
  {
   "cell_type": "code",
   "execution_count": null,
   "metadata": {},
   "outputs": [],
   "source": [
    "stat, p = mannwhitneyu(conv_area, div_area)"
   ]
  },
  {
   "cell_type": "code",
   "execution_count": null,
   "metadata": {},
   "outputs": [],
   "source": [
    "if p < 0.0005:\n",
    "    p = '(***)'\n",
    "elif p < 0.005:\n",
    "    p = '(**)'\n",
    "elif p < 0.05:\n",
    "    p = '(*)'\n",
    "else:\n",
    "    p= '(ns)'\n",
    "\n",
    "p"
   ]
  },
  {
   "cell_type": "code",
   "execution_count": null,
   "metadata": {},
   "outputs": [],
   "source": [
    "# generate non-normal data (exponential) \n",
    "original_data = conv_slope\n",
    "  \n",
    "# transform training data & save lambda value \n",
    "fitted_data, fitted_lambda = stats.boxcox(v) \n",
    "  \n",
    "# creating axes to draw plots \n",
    "fig, ax = plt.subplots(1, 2) \n",
    "  \n",
    "# plotting the original data(non-normal) and  \n",
    "# fitted data (normal) \n",
    "sns.distplot(original_data, hist = True, kde = True, \n",
    "            kde_kws = {'shade': True, 'linewidth': 2},  \n",
    "            label = \"Non-Normal\", color =\"green\", ax = ax[0]) \n",
    "  \n",
    "sns.distplot(fitted_data, hist = True, kde = True, \n",
    "            kde_kws = {'shade': True, 'linewidth': 2},  \n",
    "            label = \"Normal\", color =\"green\", ax = ax[1]) \n",
    "  \n",
    "# adding legends to the subplots \n",
    "plt.legend(loc = \"upper right\") \n",
    "  \n",
    "# rescaling the subplots \n",
    "fig.set_figheight(5) \n",
    "fig.set_figwidth(10) \n",
    "  \n",
    "print(f\"Lambda value used for Transformation: {fitted_lambda}\") "
   ]
  },
  {
   "cell_type": "code",
   "execution_count": null,
   "metadata": {},
   "outputs": [],
   "source": [
    "from scipy.stats import normaltest"
   ]
  },
  {
   "cell_type": "code",
   "execution_count": null,
   "metadata": {},
   "outputs": [],
   "source": [
    "from scipy.stats import mannwhitneyu"
   ]
  },
  {
   "cell_type": "code",
   "execution_count": null,
   "metadata": {},
   "outputs": [],
   "source": [
    "stat, p = normaltest(md)"
   ]
  },
  {
   "cell_type": "code",
   "execution_count": null,
   "metadata": {},
   "outputs": [],
   "source": [
    "stat, p = mannwhitneyu(conv_area, div_area)"
   ]
  },
  {
   "cell_type": "code",
   "execution_count": null,
   "metadata": {},
   "outputs": [],
   "source": [
    "p"
   ]
  },
  {
   "cell_type": "code",
   "execution_count": null,
   "metadata": {},
   "outputs": [],
   "source": [
    "# generate non-normal data (exponential) \n",
    "original_data = div_area\n",
    "  \n",
    "# transform training data & save lambda value \n",
    "fitted_data, fitted_lambda = stats.boxcox(original_data) \n",
    "  \n",
    "# creating axes to draw plots \n",
    "fig, ax = plt.subplots(1, 2) \n",
    "  \n",
    "# plotting the original data(non-normal) and  \n",
    "# fitted data (normal) \n",
    "sns.distplot(original_data, hist = False, kde = True, \n",
    "            kde_kws = {'shade': True, 'linewidth': 2},  \n",
    "            label = \"Non-Normal\", color =\"purple\", ax = ax[0]) \n",
    "  \n",
    "sns.distplot(fitted_data, hist = False, kde = True, \n",
    "            kde_kws = {'shade': True, 'linewidth': 2},  \n",
    "            label = \"Normal\", color =\"purple\", ax = ax[1]) \n",
    "  \n",
    "# adding legends to the subplots \n",
    "plt.legend(loc = \"upper right\") \n",
    "  \n",
    "# rescaling the subplots \n",
    "fig.set_figheight(5) \n",
    "fig.set_figwidth(10) \n",
    "  \n",
    "print(f\"Lambda value used for Transformation: {fitted_lambda}\") "
   ]
  },
  {
   "cell_type": "code",
   "execution_count": null,
   "metadata": {},
   "outputs": [],
   "source": [
    "stats.shapiro(fitted_data)"
   ]
  },
  {
   "cell_type": "code",
   "execution_count": null,
   "metadata": {},
   "outputs": [],
   "source": [
    "degrees_of_freedom = np.min([len(conv_area), len(div_area)]) - 1"
   ]
  },
  {
   "cell_type": "code",
   "execution_count": null,
   "metadata": {},
   "outputs": [],
   "source": [
    "test_of_significance_b = t.sf(t_value_b, degrees_of_freedom) * 2\n",
    "test_of_significance_k = t.sf(t_value_k, degrees_of_freedom) * 2\n",
    "print('Significant difference b: ', test_of_significance_b)\n",
    "print('Significant difference k: ', test_of_significance_k)"
   ]
  },
  {
   "cell_type": "code",
   "execution_count": null,
   "metadata": {},
   "outputs": [],
   "source": [
    "from statsmodels.graphics.gofplots import qqplot"
   ]
  },
  {
   "cell_type": "markdown",
   "metadata": {},
   "source": [
    "### $H_0$: $\\mu_{conv}$  = $\\mu_{div}$"
   ]
  },
  {
   "cell_type": "code",
   "execution_count": null,
   "metadata": {},
   "outputs": [],
   "source": [
    "qqplot(div_area, line='s')\n",
    "plt.show()"
   ]
  },
  {
   "cell_type": "code",
   "execution_count": null,
   "metadata": {},
   "outputs": [],
   "source": [
    "catchment_areas_1m_divergent = gully_head_dataframe.loc[(gully_head_dataframe['DC'] == 1) & (gully_head_dataframe['Resolution'] == 1)]\n"
   ]
  },
  {
   "cell_type": "code",
   "execution_count": null,
   "metadata": {
    "code_folding": [
     0
    ]
   },
   "outputs": [],
   "source": [
    "def np_array_to_Geotiff(newfile, original_tiff, np_array, dtype):\n",
    "    \n",
    "    cols = np_array.shape[1]\n",
    "    rows = np_array.shape[0]\n",
    "    originX, pixelWidth, b, originY, d, pixelHeight = original_tiff.GetGeoTransform() \n",
    "    driver = gdal.GetDriverByName('GTiff')\n",
    "    GDT_dtype = gdal.GDT_Unknown\n",
    "    if dtype == \"Float64\": \n",
    "        GDT_dtype = gdal.GDT_Float64\n",
    "    elif dtype == \"Float32\":\n",
    "        GDT_dtype = gdal.GDT_Float32\n",
    "    else:\n",
    "        print(\"Not supported data type.\")\n",
    "    \n",
    "    if np_array.ndim == 2:\n",
    "        band_num = 1\n",
    "    else:\n",
    "        band_num = np_array.shape[2]\n",
    "\n",
    "    outRaster = driver.Create(newfile, cols, rows, band_num, GDT_dtype)\n",
    "    outRaster.SetGeoTransform((originX, pixelWidth, 0, originY, 0, pixelHeight))\n",
    "    \n",
    "    # Loop over all bands.\n",
    "    for b in range(band_num):\n",
    "        outband = outRaster.GetRasterBand(b + 1)\n",
    "    \n",
    "        # Read in the band's data into the third dimension of our array\n",
    "        if band_num == 1:\n",
    "            outband.WriteArray(np_array)\n",
    "        else:\n",
    "            outband.WriteArray(np_array[:,:,b])\n",
    "\n",
    "    # setteing srs from input tif file.\n",
    "    prj=original_tiff.GetProjection()\n",
    "    outRasterSRS = osr.SpatialReference(wkt=prj)\n",
    "    outRaster.SetProjection(outRasterSRS.ExportToWkt())\n",
    "    outband.FlushCache()\n",
    "    outRaster = None\n",
    "    \n",
    "    return outRaster"
   ]
  },
  {
   "cell_type": "code",
   "execution_count": null,
   "metadata": {},
   "outputs": [],
   "source": [
    "np_array_to_Geotiff('fs_3_fps_barnes_pf.tif', input_geotiff, filled_dem, sinks.dtype)"
   ]
  },
  {
   "cell_type": "code",
   "execution_count": null,
   "metadata": {},
   "outputs": [],
   "source": []
  }
 ],
 "metadata": {
  "kernelspec": {
   "display_name": "Python 3",
   "language": "python",
   "name": "python3"
  },
  "language_info": {
   "codemirror_mode": {
    "name": "ipython",
    "version": 3
   },
   "file_extension": ".py",
   "mimetype": "text/x-python",
   "name": "python",
   "nbconvert_exporter": "python",
   "pygments_lexer": "ipython3",
   "version": "3.7.7"
  }
 },
 "nbformat": 4,
 "nbformat_minor": 4
}
