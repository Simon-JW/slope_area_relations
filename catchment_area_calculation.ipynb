{
 "cells": [
  {
   "cell_type": "code",
   "execution_count": 1,
   "metadata": {
    "code_folding": [
     44
    ]
   },
   "outputs": [],
   "source": [
    "%%capture\n",
    "#from jupyterthemes import jtplot\n",
    "#jtplot.style()\n",
    "import numpy as np\n",
    "import operator\n",
    "import seaborn as sns; sns.set()\n",
    "from landlab import FieldError\n",
    "from landlab.utils import get_watershed_mask\n",
    "import xarray as xr\n",
    "import pandas as pd\n",
    "import scipy\n",
    "import gdal\n",
    "from scipy import ndimage\n",
    "from scipy.ndimage.filters import *\n",
    "import os\n",
    "import math\n",
    "from osgeo import osr\n",
    "from fractions import Fraction\n",
    "import timeit\n",
    "import matplotlib.pyplot as plt\n",
    "%matplotlib inline\n",
    "import random\n",
    "# import plotting tools\n",
    "from mpl_toolkits.mplot3d import Axes3D\n",
    "import matplotlib.pyplot as plt\n",
    "from matplotlib import cm\n",
    "from matplotlib.ticker import LinearLocator, FormatStrFormatter\n",
    "import matplotlib as mpl\n",
    "from pylab import show, figure\n",
    "from landlab.plot.imshow import imshow_grid \n",
    "\n",
    "# import necessary landlab components\n",
    "from landlab import RasterModelGrid, HexModelGrid\n",
    "from landlab.components import FlowAccumulator, LakeMapperBarnes, SinkFillerBarnes\n",
    "from landlab.components import(FlowDirectorD8, \n",
    "                               FlowDirectorDINF, \n",
    "                               FlowDirectorMFD, \n",
    "                               FlowDirectorSteepest)\n",
    "from landlab.components import DepressionFinderAndRouter\n",
    "# import landlab plotting functionality\n",
    "from landlab.plot.drainage_plot import drainage_plot\n",
    "from pylab import show, figure\n",
    "\n",
    "# create a plotting routine to make a 3d plot of our surface. \n",
    "def surf_plot(mg, surface='topographic__elevation', \n",
    "              title='Surface plot of topography', colormap = cm.gray):\n",
    "    \n",
    "    fig = plt.figure()\n",
    "    ax = fig.gca(projection='3d')\n",
    "\n",
    "    # Plot the surface.\n",
    "    Z = (mg.at_node[surface].reshape(mg.shape))#[y1:y2, x1:x2]\n",
    "    color = colormap((Z-Z.min())/(Z.max()-Z.min()))\n",
    "    surf = ax.plot_surface(mg.node_x.reshape(mg.shape),#[y1:y2, x1:x2]\n",
    "                           mg.node_y.reshape(mg.shape),#[y1:y2, x1:x2]\n",
    "                           Z,\n",
    "                           rstride=1, cstride=1,\n",
    "                           facecolors=color,\n",
    "                           linewidth=0.,\n",
    "                           antialiased=False)\n",
    "    ax.view_init(elev=35, azim=-120)\n",
    "    ax.set_xlabel('X axis')\n",
    "    ax.set_ylabel('Y axis')\n",
    "    ax.set_zlabel('Elevation')\n",
    "    plt.title(title)\n",
    "    plt.show()\n"
   ]
  },
  {
   "cell_type": "code",
   "execution_count": 2,
   "metadata": {
    "code_folding": [
     0,
     6,
     18,
     42,
     60,
     73,
     86,
     92,
     103,
     112
    ]
   },
   "outputs": [],
   "source": [
    "def rectangleWindow(m, n):\n",
    "    \"\"\"Takes a value for number of rows (m) and number of columns (n) such that\n",
    "       m and n are both positive real numbers and creates a rectangle of \n",
    "       boolian 'True' values.\"\"\"\n",
    "    rectangle = np.ones((m, n), dtype=bool) \n",
    "    return rectangle\n",
    "def number_of_values(Window):\n",
    "    \"\"\"This funciton takes the shape function as an input and returns a number \n",
    "        of values present in the specified shape. \n",
    "        \n",
    "        This can be different for a different window shape and to initialize\n",
    "        requires the specification of the function for the given window type and \n",
    "        parameter values required for that input function.\n",
    "        \n",
    "        To initialize this function for shape == rectangle type 'number_of_values(rectangleWindow(m,n)) \n",
    "        where m and n are any positive real number as per the rectangleWindow function.\"\"\"\n",
    "    denominator = sum(sum(Window > 0))\n",
    "    return denominator\n",
    "def slopeWindow(DEM_slope, x_cellsize, y_cellsize):\n",
    "    \"\"\"This function implements slope calculation using the same algorithm\n",
    "       as ARCGIS (Outlined on the page 'How Slope Works').\n",
    "       This particular example of the function is written such that it\n",
    "       will only work if called within the ndimage generic_filter (as the first input).\n",
    "       This is because the index arguments for a-e are given for the 1d array created\n",
    "       by the generic_filter function after extracting values from the 3,3 rectangle window.\n",
    "       NOTE: THIS FUNCTION ONLY WORKS WITH A 3x3 RECTANGLE WINDOW.\"\"\"\n",
    "    a = DEM_slope[0]; b = DEM_slope[1]; c = DEM_slope[2]\n",
    "    d = DEM_slope[3]; e = DEM_slope[4]; f = DEM_slope[5]\n",
    "    g = DEM_slope[6]; h = DEM_slope[7]; i = DEM_slope[8]\n",
    "    dzdx = ((c + (2*f) + i) - (a + (2*d) + g)) / (8 * x_cellsize)\n",
    "    dzdy = ((g + (2*h) + i) - (a + (2*b) + c)) / (8 * y_cellsize)\n",
    "    rise_run = np.sqrt(dzdx**2 + dzdy**2)\n",
    "    slope_degrees = np.arctan(rise_run) * (180/math.pi)\n",
    "    slope_percent = rise_run * 100\n",
    "    #Can also ask it to return slope_degrees but askinh for both causes it to throw and error.\n",
    "    return slope_percent\n",
    "\n",
    "# The 'extra_arguments' variable requires a value that represents r in the PCTL function defined above.\n",
    "# The reason it need to be assigned to a seperate variable is that the generic_filter function only allows the\n",
    "# input function (PCTL in this case) to take one argument (S1). Then, if the input function normally \n",
    "# takes more than one argument the 'extra_arguments' variable needs to be defined as a tuple \n",
    "# (hence (3,) instead of (3)).\n",
    "def slopeWindowDegrees(DEM, x_cellsize, y_cellsize):\n",
    "    \"\"\"This function implements slope calculation using the same algorithm\n",
    "       as ARCGIS (Outlined on the page 'How Slope Works').\n",
    "       This particular example of the function is written such that it\n",
    "       will only work if called within the ndimage generic_filter (as the first input).\n",
    "       This is because the index arguments for a-e are given for the 1d array created\n",
    "       by the generic_filter function after extracting values from the 3,3 rectangle window.\n",
    "       NOTE: THIS FUNCTION ONLY WORKS WITH A 3x3 RECTANGLE WINDOW.\"\"\"\n",
    "    a = DEM[0]; b = DEM[1]; c = DEM[2]\n",
    "    d = DEM[3]; e = DEM[4]; f = DEM[5]\n",
    "    g = DEM[6]; h = DEM[7]; i = DEM[8]\n",
    "    dzdx = ((c + (2*f) + i) - (a + (2*d) + g)) / (8 * x_cellsize)\n",
    "    dzdy = ((g + (2*h) + i) - (a + (2*b) + c)) / (8 * y_cellsize)\n",
    "    rise_run = np.sqrt(dzdx**2 + dzdy**2)\n",
    "    slope_degrees = np.arctan(rise_run) * (180/math.pi)\n",
    "    slope_percent = rise_run * 100\n",
    "    #Can also ask it to return slope_degrees but asking for both causes it to throw and error.\n",
    "    return slope_degrees\n",
    "def planCurvature(DEM, cellsize):\n",
    "    \"\"\"This process is taken from Change (2014, Introduction to Geographic Information\n",
    "    systems, Page 284).\"\"\"\n",
    "    Z1 = DEM[0]; Z2 = DEM[1]; Z3 = DEM[2]\n",
    "    Z4 = DEM[3]; Z0 = DEM[4]; Z5 = DEM[5]\n",
    "    Z6 = DEM[6]; Z7 = DEM[7]; Z8 = DEM[8]\n",
    "    D = (((Z4 + Z5)/2) - Z0) / cellsize**2\n",
    "    E = (((Z2 + Z7)/2) - Z0) / cellsize**2\n",
    "    F = (Z3 - Z1 + Z6 - Z8)/ (4 * cellsize**2)\n",
    "    G = (Z5 - Z4) / (2 * cellsize)\n",
    "    H = (Z2 - Z7) / (2 * cellsize)\n",
    "    plan_curvature = (2 * (D*(H**2) + E*(G**2) - (F*G*H))) / (G**2 + H**2)\n",
    "    return plan_curvature\n",
    "def profileCurvature(DEM, cellsize):\n",
    "    \"\"\"This process is taken from Change (2014, Introduction to Geographic Information\n",
    "       systems, Page 284).\"\"\"\n",
    "    Z1 = DEM[0]; Z2 = DEM[1]; Z3 = DEM[2]\n",
    "    Z4 = DEM[3]; Z0 = DEM[4]; Z5 = DEM[5]\n",
    "    Z6 = DEM[6]; Z7 = DEM[7]; Z8 = DEM[8]\n",
    "    D = (((Z4 + Z5)/2) - Z0) / cellsize**2\n",
    "    E = (((Z2 + Z7)/2) - Z0) / cellsize**2\n",
    "    F = (Z3 - Z1 + Z6 - Z8)/ (4 * cellsize**2)\n",
    "    G = (Z5 - Z4) / (2 * cellsize)\n",
    "    H = (Z2 - Z7) / (2 * cellsize)\n",
    "    profile_curvature = (-2 * (D*(G**2) + E*(H**2) + (F*G*H))) / (G**2 + H**2)\n",
    "    return profile_curvature\n",
    "def circleWindow(radius):\n",
    "    \"\"\"Takes a value for radius (r where r is any positive real number) and creates \n",
    "       a circular window using that radius.\"\"\"\n",
    "    y, x = np.ogrid[-radius: radius + 1, -radius: radius + 1]\n",
    "    circle = x**2 + y**2 <= radius**2\n",
    "    return circle\n",
    "def find_median_value(Window):\n",
    "    \"\"\"This function takes the shape function and returns the median value \n",
    "        for all valid values (values that fall in the circle) arranged into a \n",
    "        1d array. The function also takes the number_of_values function as an input.\n",
    "        To execute this function type 'find_median_value(shape(r)) where r is any integer.\n",
    "        #Note: using median like this only gives the correct value for circles with odd \n",
    "        radius values.\"\"\"\n",
    "    no_values = number_of_values(Window)\n",
    "    value_range = np.arange(0, no_values + 1)\n",
    "    central_value = int(np.median(value_range))\n",
    "    return central_value\n",
    "def difference_from_mean_elevation(elev):\n",
    "    \"\"\"This function only works as an inside function to generic_filter function below. This\n",
    "       is because generic_filter will take a 2d array and reshape it into a 1d array. Without this \n",
    "       step the 'central_value' variable will be outside of the array dimensions. \n",
    "       x = input DEM and r = radius of search window \"\"\"\n",
    "    centroid = elev[central_value]                        \n",
    "    mean = np.nanmean(elev)#Count number of values greater than centroid value\n",
    "    diff = centroid - mean\n",
    "    return diff\n",
    "def PCTL(x):\n",
    "    \"\"\"This function only works as an inside function to generic_filter function below. This\n",
    "       is because generic_filter will take a 2d array and reshape it into a 1d array. Without this \n",
    "       step the 'central_value' variable will be outside of the array dimensions. \n",
    "       x = input DEM and r = radius of search window \"\"\"\n",
    "    centroid = x[central_value]                        \n",
    "    y = np.sum(x < centroid)/num_values#Count number of values greater than centroid value\n",
    "    return y\n"
   ]
  },
  {
   "cell_type": "code",
   "execution_count": 3,
   "metadata": {},
   "outputs": [],
   "source": [
    "input_DEM_resolution = 1\n",
    "location = (r'C:/PhD/junk')\n",
    "os.chdir(location)\n",
    "input_geotiff = gdal.Open('fann_2013_1m0.tif')\n",
    "ig = np.array(input_geotiff.GetRasterBand(1).ReadAsArray())\n",
    "#input_DEM = scipy.ndimage.zoom(x, input_DEM_resolution / initial_resolution, order = 1)\n",
    "input_DEM = ig\n",
    "gully_head_layer = gdal.Open('fann_0_gh.tif')\n",
    "gh = np.array(gully_head_layer.GetRasterBand(1).ReadAsArray())\n",
    "# This is only required because ArcGIS produced the original grid with 1 as background and 0 as points.\n",
    "gully_heads = (gh - 1)**2 "
   ]
  },
  {
   "cell_type": "code",
   "execution_count": 4,
   "metadata": {},
   "outputs": [],
   "source": [
    "flow_acc_surf = np.copy(input_DEM).astype('float64');\n",
    "#################################################################################################\n",
    "rows = flow_acc_surf.shape[0];\n",
    "cols = flow_acc_surf.shape[1];\n",
    "mg = RasterModelGrid((rows,cols), 1);\n",
    "z1 = mg.add_field('topographic__elevation', flow_acc_surf, at = 'node');"
   ]
  },
  {
   "cell_type": "code",
   "execution_count": 5,
   "metadata": {},
   "outputs": [],
   "source": [
    "grid_nodes = np.array(mg.nodes.reshape(mg.shape));"
   ]
  },
  {
   "cell_type": "code",
   "execution_count": 6,
   "metadata": {},
   "outputs": [
    {
     "data": {
      "image/png": "[encoded data removed]",
      "text/plain": [
       "<Figure size 432x288 with 2 Axes>"
      ]
     },
     "metadata": {
      "needs_background": "light"
     },
     "output_type": "display_data"
    }
   ],
   "source": [
    "plt.imshow(grid_nodes, cmap=\"terrain\");\n",
    "plt.colorbar();"
   ]
  },
  {
   "cell_type": "markdown",
   "metadata": {},
   "source": [
    "## Isolate all gully head nodes"
   ]
  },
  {
   "cell_type": "code",
   "execution_count": 7,
   "metadata": {},
   "outputs": [],
   "source": [
    "find_nodes = np.multiply(gully_heads, grid_nodes);"
   ]
  },
  {
   "cell_type": "markdown",
   "metadata": {},
   "source": [
    "## Create array of only gully head nodes "
   ]
  },
  {
   "cell_type": "code",
   "execution_count": 8,
   "metadata": {},
   "outputs": [],
   "source": [
    "gh_array = np.unique(find_nodes);"
   ]
  },
  {
   "cell_type": "markdown",
   "metadata": {},
   "source": [
    "## Turn gully head node array into a list and remove the value 0"
   ]
  },
  {
   "cell_type": "code",
   "execution_count": 9,
   "metadata": {},
   "outputs": [],
   "source": [
    "gh_list = gh_array.tolist();\n",
    "gh_list.remove(0);"
   ]
  },
  {
   "cell_type": "markdown",
   "metadata": {},
   "source": [
    "## Work through list finding index positions of each node"
   ]
  },
  {
   "cell_type": "code",
   "execution_count": 274,
   "metadata": {},
   "outputs": [],
   "source": [
    "current_node = gh_list[12];"
   ]
  },
  {
   "cell_type": "code",
   "execution_count": 275,
   "metadata": {},
   "outputs": [
    {
     "data": {
      "text/plain": [
       "2674967"
      ]
     },
     "execution_count": 275,
     "metadata": {},
     "output_type": "execute_result"
    }
   ],
   "source": [
    "current_node"
   ]
  },
  {
   "cell_type": "code",
   "execution_count": 276,
   "metadata": {},
   "outputs": [],
   "source": [
    "result = np.where(grid_nodes == current_node)"
   ]
  },
  {
   "cell_type": "code",
   "execution_count": 299,
   "metadata": {},
   "outputs": [],
   "source": [
    "row_index = result[0][0];\n",
    "col_index = result[1][0];"
   ]
  },
  {
   "cell_type": "code",
   "execution_count": 301,
   "metadata": {},
   "outputs": [
    {
     "data": {
      "text/plain": [
       "935"
      ]
     },
     "execution_count": 301,
     "metadata": {},
     "output_type": "execute_result"
    }
   ],
   "source": [
    "col_index"
   ]
  },
  {
   "cell_type": "code",
   "execution_count": 255,
   "metadata": {},
   "outputs": [],
   "source": [
    "row_index = 20\n",
    "col_index = 18"
   ]
  },
  {
   "cell_type": "code",
   "execution_count": 229,
   "metadata": {},
   "outputs": [],
   "source": [
    "x = np.random.randint(10, size=(21,21))"
   ]
  },
  {
   "cell_type": "code",
   "execution_count": 239,
   "metadata": {},
   "outputs": [
    {
     "data": {
      "text/plain": [
       "array([[8, 2, 2, 5, 6, 9, 9, 6, 1, 7, 6, 5, 2, 2, 0, 9, 4, 4, 3, 4, 7],\n",
       "       [6, 7, 5, 0, 5, 0, 4, 9, 2, 3, 3, 0, 3, 8, 9, 3, 5, 8, 9, 3, 4],\n",
       "       [8, 7, 7, 8, 5, 4, 4, 8, 6, 6, 2, 3, 2, 5, 6, 3, 5, 8, 5, 9, 9],\n",
       "       [8, 1, 5, 6, 5, 5, 6, 3, 7, 6, 4, 0, 8, 4, 1, 2, 5, 9, 1, 9, 5],\n",
       "       [2, 3, 5, 6, 5, 2, 1, 5, 2, 7, 0, 4, 2, 3, 8, 1, 7, 6, 7, 5, 5],\n",
       "       [9, 1, 3, 0, 6, 5, 9, 7, 3, 3, 7, 1, 4, 5, 7, 8, 0, 7, 9, 5, 7],\n",
       "       [7, 6, 6, 0, 9, 2, 3, 7, 8, 2, 0, 4, 4, 7, 0, 4, 6, 1, 5, 3, 4],\n",
       "       [6, 3, 4, 3, 9, 2, 5, 7, 2, 2, 7, 7, 5, 1, 8, 9, 7, 0, 5, 0, 7],\n",
       "       [0, 5, 1, 7, 1, 5, 5, 8, 9, 3, 9, 8, 9, 7, 4, 0, 6, 0, 2, 4, 7],\n",
       "       [3, 8, 0, 8, 6, 5, 9, 2, 6, 3, 3, 6, 2, 2, 0, 8, 5, 3, 1, 2, 5],\n",
       "       [6, 4, 7, 3, 5, 2, 1, 0, 8, 7, 5, 4, 5, 0, 9, 6, 4, 3, 7, 9, 0],\n",
       "       [8, 3, 5, 7, 1, 5, 3, 0, 2, 3, 4, 6, 2, 4, 2, 3, 2, 8, 1, 5, 3],\n",
       "       [8, 3, 1, 5, 8, 1, 1, 5, 3, 2, 5, 9, 1, 0, 1, 1, 4, 9, 9, 3, 9],\n",
       "       [8, 4, 0, 1, 7, 7, 4, 6, 3, 6, 7, 4, 7, 0, 3, 6, 4, 9, 9, 7, 9],\n",
       "       [5, 2, 8, 5, 3, 4, 3, 7, 7, 3, 2, 2, 2, 9, 3, 5, 3, 8, 9, 4, 4],\n",
       "       [6, 2, 6, 9, 0, 5, 4, 5, 4, 3, 3, 9, 7, 8, 1, 1, 7, 7, 0, 9, 0],\n",
       "       [4, 5, 3, 6, 2, 8, 5, 3, 7, 6, 8, 8, 7, 5, 2, 1, 2, 8, 9, 2, 2],\n",
       "       [7, 9, 8, 6, 8, 3, 7, 4, 4, 4, 3, 6, 8, 1, 6, 0, 2, 3, 5, 3, 6],\n",
       "       [9, 8, 4, 2, 5, 5, 7, 6, 5, 7, 3, 6, 2, 7, 6, 6, 8, 3, 0, 7, 2],\n",
       "       [2, 6, 1, 5, 4, 9, 5, 0, 4, 2, 6, 3, 2, 8, 0, 4, 1, 9, 8, 9, 5],\n",
       "       [0, 2, 4, 5, 5, 0, 2, 4, 8, 6, 3, 5, 2, 9, 5, 6, 7, 9, 9, 6, 2]])"
      ]
     },
     "execution_count": 239,
     "metadata": {},
     "output_type": "execute_result"
    }
   ],
   "source": [
    "x"
   ]
  },
  {
   "cell_type": "code",
   "execution_count": 256,
   "metadata": {},
   "outputs": [
    {
     "data": {
      "text/plain": [
       "9"
      ]
     },
     "execution_count": 256,
     "metadata": {},
     "output_type": "execute_result"
    }
   ],
   "source": [
    "x[20,18]"
   ]
  },
  {
   "cell_type": "code",
   "execution_count": 257,
   "metadata": {},
   "outputs": [],
   "source": [
    "distance_from_node = 10"
   ]
  },
  {
   "cell_type": "code",
   "execution_count": 258,
   "metadata": {},
   "outputs": [],
   "source": [
    "subset_row_top = int(row_index - distance_from_node)\n",
    "subset_row_bot = int(row_index + distance_from_node) + 1\n",
    "subset_col_left = int(col_index - distance_from_node)\n",
    "subset_col_right = int(col_index + distance_from_node) + 1"
   ]
  },
  {
   "cell_type": "code",
   "execution_count": 259,
   "metadata": {},
   "outputs": [
    {
     "name": "stdout",
     "output_type": "stream",
     "text": [
      "10   31\n",
      "8   29\n"
     ]
    }
   ],
   "source": [
    "print(subset_row_top, ' ', subset_row_bot);\n",
    "print(subset_col_left, ' ', subset_col_right);"
   ]
  },
  {
   "cell_type": "code",
   "execution_count": 260,
   "metadata": {},
   "outputs": [],
   "source": [
    "subset_row_top_adjusted = max(subset_row_top, 0);\n",
    "subset_row_bot_adjusted = min(subset_row_bot, x.shape[0]);\n",
    "subset_col_left_adjusted = max(subset_col_left, 0);\n",
    "subset_col_right_adjusted = min(subset_col_right, x.shape[1]);"
   ]
  },
  {
   "cell_type": "code",
   "execution_count": 261,
   "metadata": {},
   "outputs": [
    {
     "name": "stdout",
     "output_type": "stream",
     "text": [
      "10   21\n",
      "8   21\n"
     ]
    }
   ],
   "source": [
    "print(subset_row_top_adjusted, ' ', subset_row_bot_adjusted);\n",
    "print(subset_col_left_adjusted, ' ', subset_col_right_adjusted);"
   ]
  },
  {
   "cell_type": "markdown",
   "metadata": {},
   "source": [
    "then i need to know by hpow much the output was adjusted and the target grid node can be found by adjusting for that offset."
   ]
  },
  {
   "cell_type": "code",
   "execution_count": 262,
   "metadata": {},
   "outputs": [],
   "source": [
    "offset_row_top = int(np.sqrt((subset_row_top - subset_row_top_adjusted)**2)) * -1;\n",
    "offset_row_bot = int(np.sqrt((subset_row_bot - subset_row_bot_adjusted)**2));\n",
    "offset_col_left = int(np.sqrt((subset_col_left - subset_col_left_adjusted)**2)) * -1;\n",
    "offset_col_right = int(np.sqrt((subset_col_right - subset_col_right_adjusted)**2));"
   ]
  },
  {
   "cell_type": "code",
   "execution_count": 263,
   "metadata": {},
   "outputs": [
    {
     "name": "stdout",
     "output_type": "stream",
     "text": [
      "0 10\n",
      "0 8\n"
     ]
    }
   ],
   "source": [
    "print(offset_row_top, offset_row_bot)\n",
    "print(offset_col_left, offset_col_right)"
   ]
  },
  {
   "cell_type": "code",
   "execution_count": 264,
   "metadata": {},
   "outputs": [],
   "source": [
    "x_copy = np.copy(x);\n",
    "x_subset = x_copy[subset_row_top_adjusted:subset_row_bot_adjusted, subset_col_left_adjusted:subset_col_right_adjusted];"
   ]
  },
  {
   "cell_type": "code",
   "execution_count": 265,
   "metadata": {},
   "outputs": [
    {
     "data": {
      "text/plain": [
       "array([[8, 7, 5, 4, 5, 0, 9, 6, 4, 3, 7, 9, 0],\n",
       "       [2, 3, 4, 6, 2, 4, 2, 3, 2, 8, 1, 5, 3],\n",
       "       [3, 2, 5, 9, 1, 0, 1, 1, 4, 9, 9, 3, 9],\n",
       "       [3, 6, 7, 4, 7, 0, 3, 6, 4, 9, 9, 7, 9],\n",
       "       [7, 3, 2, 2, 2, 9, 3, 5, 3, 8, 9, 4, 4],\n",
       "       [4, 3, 3, 9, 7, 8, 1, 1, 7, 7, 0, 9, 0],\n",
       "       [7, 6, 8, 8, 7, 5, 2, 1, 2, 8, 9, 2, 2],\n",
       "       [4, 4, 3, 6, 8, 1, 6, 0, 2, 3, 5, 3, 6],\n",
       "       [5, 7, 3, 6, 2, 7, 6, 6, 8, 3, 0, 7, 2],\n",
       "       [4, 2, 6, 3, 2, 8, 0, 4, 1, 9, 8, 9, 5],\n",
       "       [8, 6, 3, 5, 2, 9, 5, 6, 7, 9, 9, 6, 2]])"
      ]
     },
     "execution_count": 265,
     "metadata": {},
     "output_type": "execute_result"
    }
   ],
   "source": [
    "x_subset"
   ]
  },
  {
   "cell_type": "code",
   "execution_count": 266,
   "metadata": {},
   "outputs": [],
   "source": [
    "int_node_lat = distance_from_node + offset_row_top\n",
    "int_node_lon = distance_from_node + offset_col_left"
   ]
  },
  {
   "cell_type": "code",
   "execution_count": 267,
   "metadata": {},
   "outputs": [
    {
     "name": "stdout",
     "output_type": "stream",
     "text": [
      "10 10\n"
     ]
    }
   ],
   "source": [
    "print(int_node_lat, int_node_lon)"
   ]
  },
  {
   "cell_type": "markdown",
   "metadata": {},
   "source": [
    "if i leave offset signed then I can just add it"
   ]
  },
  {
   "cell_type": "code",
   "execution_count": 254,
   "metadata": {},
   "outputs": [
    {
     "ename": "NameError",
     "evalue": "name 'central_node' is not defined",
     "output_type": "error",
     "traceback": [
      "\u001b[1;31m---------------------------------------------------------------------------\u001b[0m",
      "\u001b[1;31mNameError\u001b[0m                                 Traceback (most recent call last)",
      "\u001b[1;32m<ipython-input-254-5cca7028ef46>\u001b[0m in \u001b[0;36m<module>\u001b[1;34m\u001b[0m\n\u001b[1;32m----> 1\u001b[1;33m \u001b[0mcentral_node\u001b[0m\u001b[1;33m\u001b[0m\u001b[1;33m\u001b[0m\u001b[0m\n\u001b[0m",
      "\u001b[1;31mNameError\u001b[0m: name 'central_node' is not defined"
     ]
    }
   ],
   "source": [
    "central_node"
   ]
  },
  {
   "cell_type": "markdown",
   "metadata": {},
   "source": [
    "## Choose a width (and heigth) for the subset DEM. Must be even number."
   ]
  },
  {
   "cell_type": "code",
   "execution_count": 278,
   "metadata": {},
   "outputs": [],
   "source": [
    "wh = 20"
   ]
  },
  {
   "cell_type": "markdown",
   "metadata": {},
   "source": [
    "## Create a subset of the DEM centered on the gully head. Row bottm index and col right index both have 1 added so that the gully head point remains as the single central grid cell of the subset DEM, located exactly in the centre."
   ]
  },
  {
   "cell_type": "code",
   "execution_count": 38,
   "metadata": {},
   "outputs": [
    {
     "data": {
      "text/plain": [
       "(2120, 1808)"
      ]
     },
     "execution_count": 38,
     "metadata": {},
     "output_type": "execute_result"
    }
   ],
   "source": [
    "input_DEM.shape"
   ]
  },
  {
   "cell_type": "code",
   "execution_count": 279,
   "metadata": {},
   "outputs": [],
   "source": [
    "subset_row_top = int(row_index - (wh/2))\n",
    "subset_row_bot = int(row_index + (wh/2)) + 1\n",
    "subset_col_right = int(col_index + (wh/2)) + 1\n",
    "subset_col_left = int(col_index - (wh/2))"
   ]
  },
  {
   "cell_type": "code",
   "execution_count": 280,
   "metadata": {},
   "outputs": [
    {
     "name": "stdout",
     "output_type": "stream",
     "text": [
      "1469   1490\n",
      "925   946\n"
     ]
    }
   ],
   "source": [
    "print(subset_row_top, ' ', subset_row_bot);\n",
    "print(subset_col_left, ' ', subset_col_right);"
   ]
  },
  {
   "cell_type": "code",
   "execution_count": 281,
   "metadata": {},
   "outputs": [],
   "source": [
    "dem_subset_copy = np.copy(input_DEM);\n",
    "dem_subset = dem_subset_copy[subset_row_top:subset_row_bot, subset_col_left:subset_col_right];"
   ]
  },
  {
   "cell_type": "code",
   "execution_count": 282,
   "metadata": {},
   "outputs": [
    {
     "data": {
      "image/png": "[encoded data removed]",
      "text/plain": [
       "<Figure size 432x288 with 2 Axes>"
      ]
     },
     "metadata": {
      "needs_background": "light"
     },
     "output_type": "display_data"
    }
   ],
   "source": [
    "plt.imshow(dem_subset, cmap=\"terrain\");\n",
    "plt.colorbar();"
   ]
  },
  {
   "cell_type": "code",
   "execution_count": 283,
   "metadata": {},
   "outputs": [],
   "source": [
    "flow_acc_surf_sub = np.copy(dem_subset).astype('float64');\n",
    "#################################################################################################\n",
    "rows_sub = flow_acc_surf_sub.shape[0];\n",
    "cols_sub = flow_acc_surf_sub.shape[1];\n",
    "mg1 = RasterModelGrid((rows_sub,cols_sub), 1);\n",
    "z1 = mg1.add_field('topographic__elevation', flow_acc_surf_sub, at = 'node');"
   ]
  },
  {
   "cell_type": "code",
   "execution_count": 284,
   "metadata": {},
   "outputs": [],
   "source": [
    "sfb = SinkFillerBarnes(mg1, method = 'Steepest', ignore_overfill = True);\n",
    "sfb.run_one_step();\n",
    "fa = FlowAccumulator(mg1,\n",
    "                    surface = 'topographic__elevation',\n",
    "                    flow_director = 'FlowDirectorMFD',\n",
    "                    diagonals = True);\n",
    "#(flow_acc, q) = fa.accumulate_flow();\n",
    "fa.run_one_step()\n",
    "fd = FlowDirectorMFD(mg1, 'topographic__elevation', diagonals = True);\n",
    "fd.run_one_step()"
   ]
  },
  {
   "cell_type": "code",
   "execution_count": 285,
   "metadata": {},
   "outputs": [],
   "source": [
    "da = np.array(mg1.at_node['drainage_area'].round(4));\n",
    "frn = mg1.at_node['flow__receiver_node'];\n",
    "drainage_area = da.reshape(mg1.shape);\n",
    "wuf = np.array(mg1.at_node['water__unit_flux_in']);\n",
    "frp = np.array(mg1.at_node['flow__receiver_proportions']);\n",
    "funo = np.array(mg1.at_node['flow__upstream_node_order'].reshape(mg1.shape));\n",
    "ns = np.flip(mg1.status_at_node.reshape(mg1.shape), 0);\n",
    "flow_rec_surf_rows = cols_sub * rows_sub;\n",
    "flow_rec_surf = frp.reshape(flow_rec_surf_rows,8);\n",
    "flrn = mg1.at_node['flow__link_to_receiver_node'];\n",
    "links_carrying_flow = flrn.reshape(flow_rec_surf_rows,8);\n",
    "tss = mg1.at_node['topographic__steepest_slope'];\n",
    "steepest_slope = tss.reshape(flow_rec_surf_rows,8);\n",
    "all_receiver_proportions = np.copy(frp);\n",
    "grid_nodes_sub = np.array(mg1.nodes.reshape(mg1.shape));\n"
   ]
  },
  {
   "cell_type": "code",
   "execution_count": 286,
   "metadata": {},
   "outputs": [
    {
     "data": {
      "image/png": "[encoded data removed]",
      "text/plain": [
       "<Figure size 432x288 with 2 Axes>"
      ]
     },
     "metadata": {
      "needs_background": "light"
     },
     "output_type": "display_data"
    }
   ],
   "source": [
    "plt.imshow(drainage_area, cmap=\"Blues\");\n",
    "plt.colorbar();"
   ]
  },
  {
   "cell_type": "markdown",
   "metadata": {},
   "source": [
    "Still need a way to start i.e. look at 9 grid cell window around startining gh and find the largesat value and start from there."
   ]
  },
  {
   "cell_type": "markdown",
   "metadata": {},
   "source": [
    "Maybe here I can just map the node value from the larger DEM to the subset and back again at the end?"
   ]
  },
  {
   "cell_type": "markdown",
   "metadata": {},
   "source": [
    "I know how much it's off in any direction and so then I know where the gh node is."
   ]
  },
  {
   "cell_type": "code",
   "execution_count": 287,
   "metadata": {},
   "outputs": [],
   "source": [
    "central_node = int(dem_subset.shape[0]**2/2) # Could also be shape[1] because it's always a square.\n",
    "\n"
   ]
  },
  {
   "cell_type": "code",
   "execution_count": 298,
   "metadata": {},
   "outputs": [
    {
     "name": "stdout",
     "output_type": "stream",
     "text": [
      "distance:  0\n",
      "220\n",
      "0.491339847692\n",
      "next cell  241\n",
      "distance:  1\n",
      "241\n",
      "0.550159456361\n",
      "next cell  263\n",
      "distance:  2\n",
      "263\n",
      "0.608320376515\n",
      "next cell  285\n",
      "distance:  3\n",
      "285\n",
      "0.486104363322\n",
      "next cell  307\n",
      "distance:  4\n",
      "307\n",
      "0.426070710037\n",
      "next cell  329\n",
      "distance:  5\n",
      "329\n",
      "0.56053082177\n",
      "next cell  351\n",
      "distance:  6\n",
      "351\n",
      "0.59525132632\n",
      "next cell  372\n",
      "distance:  7\n",
      "372\n",
      "0.740825124109\n",
      "next cell  393\n",
      "distance:  8\n",
      "393\n",
      "0.906204683589\n",
      "next cell  414\n",
      "distance:  9\n",
      "414\n",
      "no grid cell found\n"
     ]
    }
   ],
   "source": [
    "# Specific the size of the area to be checked. This represents a physical distance from the \n",
    "# outlet but has no unit of measure.\n",
    "distance_from_outlet = 10\n",
    "# This value is used to initialise the search.\n",
    "catchment_outlet_id = central_node\n",
    "catchment_area_dict = {}\n",
    "# Initate an outer loop that iterates through every distance interval from the outlet.\n",
    "contributing_fraction = 0.95\n",
    "node_location = mg1.nodes.reshape(da.shape);\n",
    "for i in range(0, distance_from_outlet):\n",
    "    print('distance: ', i)\n",
    "    # Create a list initially containing only the outlet grid cell.\n",
    "    if i == 0:\n",
    "        candidate_gridcell = catchment_outlet_id;\n",
    "    else:\n",
    "        candidate_gridcell = next_cell_downstream;\n",
    "    print(candidate_gridcell)\n",
    "\n",
    "    grid_cell_receiver_nodes = frp[candidate_gridcell,:];\n",
    "    if np.amax(grid_cell_receiver_nodes) < contributing_fraction:\n",
    "        if i == 9:\n",
    "            print('no grid cell found')\n",
    "        else:\n",
    "            print(np.amax(grid_cell_receiver_nodes))\n",
    "            index_next_cell_downstream = np.where(grid_cell_receiver_nodes == np.amax(grid_cell_receiver_nodes))[0][0];\n",
    "\n",
    "            next_cell_downstream = frn[candidate_gridcell, index_next_cell_downstream];\n",
    "            print('next cell ', next_cell_downstream)\n",
    "    else:\n",
    "        print(candidate_gridcell)\n",
    "        \n",
    "        #catchment_area_dict[candidate_gridcell] = \n",
    "        break\n",
    "\n",
    "#CountryCodeDict[\"Spain\"]= 34\n",
    "                    "
   ]
  },
  {
   "cell_type": "code",
   "execution_count": 290,
   "metadata": {},
   "outputs": [
    {
     "data": {
      "text/plain": [
       "(21, 21)"
      ]
     },
     "execution_count": 290,
     "metadata": {},
     "output_type": "execute_result"
    }
   ],
   "source": [
    "drainage_area.shape"
   ]
  },
  {
   "cell_type": "code",
   "execution_count": 291,
   "metadata": {},
   "outputs": [
    {
     "data": {
      "text/plain": [
       "441"
      ]
     },
     "execution_count": 291,
     "metadata": {},
     "output_type": "execute_result"
    }
   ],
   "source": [
    "21*21"
   ]
  },
  {
   "cell_type": "code",
   "execution_count": null,
   "metadata": {},
   "outputs": [],
   "source": []
  }
 ],
 "metadata": {
  "kernelspec": {
   "display_name": "Python 3",
   "language": "python",
   "name": "python3"
  },
  "language_info": {
   "codemirror_mode": {
    "name": "ipython",
    "version": 3
   },
   "file_extension": ".py",
   "mimetype": "text/x-python",
   "name": "python",
   "nbconvert_exporter": "python",
   "pygments_lexer": "ipython3",
   "version": "3.7.7"
  }
 },
 "nbformat": 4,
 "nbformat_minor": 4
}
