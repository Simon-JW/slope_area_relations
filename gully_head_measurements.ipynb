{
 "cells": [
  {
   "cell_type": "code",
   "execution_count": 2,
   "metadata": {
    "code_folding": []
   },
   "outputs": [],
   "source": [
    "%%capture\n",
    "from jupyterthemes import jtplot\n",
    "jtplot.style()\n",
    "import numpy as np\n",
    "from landlab import FieldError\n",
    "from landlab.utils import get_watershed_mask\n",
    "import xarray as xr\n",
    "import pandas as pd\n",
    "import scipy\n",
    "import gdal\n",
    "from scipy import ndimage\n",
    "from scipy.ndimage.filters import *\n",
    "import os\n",
    "import math\n",
    "from osgeo import osr\n",
    "from fractions import Fraction\n",
    "import timeit\n",
    "import matplotlib.pyplot as plt\n",
    "%matplotlib inline\n",
    "import random\n",
    "# import plotting tools\n",
    "from mpl_toolkits.mplot3d import Axes3D\n",
    "import matplotlib.pyplot as plt\n",
    "from matplotlib import cm\n",
    "from matplotlib.ticker import LinearLocator, FormatStrFormatter\n",
    "import matplotlib as mpl\n"
   ]
  },
  {
   "cell_type": "code",
   "execution_count": 4,
   "metadata": {
    "scrolled": true
   },
   "outputs": [
    {
     "name": "stderr",
     "output_type": "stream",
     "text": [
      "C:\\Users\\sjwal\\Anaconda3\\lib\\site-packages\\ipykernel_launcher.py:14: DeprecationWarning: Numeric-style type codes are deprecated and will result in an error in the future.\n",
      "  \n"
     ]
    },
    {
     "name": "stdout",
     "output_type": "stream",
     "text": [
      "1 3.68698\n",
      "2 14.2127\n",
      "3 28.8461\n",
      "4 26.7224\n",
      "5 22.4218\n",
      "6 25.3625\n",
      "7 29.4181\n"
     ]
    }
   ],
   "source": [
    "location = (r'C:\\PhD\\fann_0\\widths')\n",
    "os.chdir(location)\n",
    "value_list = [1,2,3,4,5,6,7]\n",
    "for i in value_list:\n",
    "    contour_file = 'g'+str(i)+'_flow_width.tif'\n",
    "    #print(contour_file)\n",
    "    input_geotiff = gdal.Open(contour_file)\n",
    "    x = np.array(input_geotiff.GetRasterBand(1).ReadAsArray())\n",
    "    contour_layer = 1 - x\n",
    "\n",
    "    input_geotiff_slope = gdal.Open('fann_0_slope.tif')\n",
    "    sx = np.array(input_geotiff_slope.GetRasterBand(1).ReadAsArray())\n",
    "    slope_layer = sx\n",
    "    g_slope = np.multiply(slope_layer, contour_layer).astype('Float64')\n",
    "    slope_cont = g_slope > 0\n",
    "    contour_values = slope_layer[slope_cont]\n",
    "    contour_values\n",
    "    print(i, np.mean(contour_values))\n"
   ]
  },
  {
   "cell_type": "code",
   "execution_count": 11,
   "metadata": {},
   "outputs": [
    {
     "name": "stderr",
     "output_type": "stream",
     "text": [
      "C:\\Users\\sjwal\\Anaconda3\\lib\\site-packages\\ipykernel_launcher.py:14: DeprecationWarning: Numeric-style type codes are deprecated and will result in an error in the future.\n",
      "  \n"
     ]
    },
    {
     "name": "stdout",
     "output_type": "stream",
     "text": [
      "1 2.60898\n",
      "2 3.18186\n",
      "3 2.84718\n",
      "4 2.97055\n",
      "5 2.96471\n",
      "6 1.9453\n",
      "7 2.41865\n"
     ]
    }
   ],
   "source": [
    "location = (r'C:\\PhD\\fann_17\\widths')\n",
    "os.chdir(location)\n",
    "value_list = [1,2,3,4,5,6,7]\n",
    "for i in value_list:\n",
    "    contour_file = 'g'+str(i)+'_flow_width.tif'\n",
    "    #print(contour_file)\n",
    "    input_geotiff = gdal.Open(contour_file)\n",
    "    x = np.array(input_geotiff.GetRasterBand(1).ReadAsArray())\n",
    "    contour_layer = 1 - x\n",
    "\n",
    "    input_geotiff_mrvbf = gdal.Open('fann_17_mrvbf.tif')\n",
    "    sx = np.array(input_geotiff_mrvbf.GetRasterBand(1).ReadAsArray())\n",
    "    mrvbf_layer = sx\n",
    "    g_mrvbf = np.multiply(mrvbf_layer, contour_layer).astype('Float64')\n",
    "    mrvbf_cont = g_mrvbf > 0\n",
    "    contour_values = mrvbf_layer[mrvbf_cont]\n",
    "    contour_values\n",
    "    print(i, np.mean(contour_values))\n"
   ]
  },
  {
   "cell_type": "code",
   "execution_count": 65,
   "metadata": {},
   "outputs": [
    {
     "name": "stderr",
     "output_type": "stream",
     "text": [
      "C:\\Users\\sjwal\\Anaconda3\\lib\\site-packages\\ipykernel_launcher.py:16: DeprecationWarning: Numeric-style type codes are deprecated and will result in an error in the future.\n",
      "  app.launch_new_instance()\n"
     ]
    },
    {
     "name": "stdout",
     "output_type": "stream",
     "text": [
      "1 272.827531283\n",
      "4 96.5000047361\n",
      "5 42.9501357894\n",
      "6 159.411173565\n",
      "7 8615.37078643\n",
      "8 425.642230044\n",
      "9 228.801440217\n",
      "10 75.8554481047\n",
      "12 243.802191099\n",
      "13 184.511442155\n",
      "14 811.295051839\n",
      "15 154.746532113\n",
      "16 70.2807231919\n",
      "17 92.1960564997\n",
      "18 158.14986021\n",
      "19 142.936485829\n",
      "20 151.182457386\n",
      "24 513.374467638\n",
      "25 7498.72944285\n",
      "26 1919.73005914\n",
      "27 1653.23639683\n",
      "28 5118.83224453\n",
      "29 186.2328818\n",
      "30 221.794562783\n",
      "32 131.297609766\n",
      "33 608.363485957\n"
     ]
    }
   ],
   "source": [
    "initial_resolution = 1\n",
    "location = (r'C:/PhD/junk/fann_0_gullies')\n",
    "os.chdir(location)\n",
    "value_list = [1,4,5,6,7,8,9,10,12,13,14,15,16,17,18,19,20,24,25,26,27,28,29,30,32,33]\n",
    "for i in value_list:\n",
    "    contour_file = 'g'+str(i)+'_cont.tif'\n",
    "    #print(contour_file)\n",
    "    input_geotiff = gdal.Open(contour_file)\n",
    "    x = np.array(input_geotiff.GetRasterBand(1).ReadAsArray())\n",
    "    x[x>0]=1\n",
    "    contour_layer = 1 - x\n",
    "\n",
    "    input_geotiff_slope = gdal.Open('fann_0_M8_sca.tif')\n",
    "    sx = np.array(input_geotiff_slope.GetRasterBand(1).ReadAsArray())\n",
    "    sca_layer = sx\n",
    "    g_sca = np.multiply(sca_layer, contour_layer).astype('Float64')\n",
    "    sca_cont = g_sca > 0\n",
    "    sca_values = sca_layer[sca_cont]\n",
    "    sca_values\n",
    "    print(i, np.amax(sca_values))\n"
   ]
  },
  {
   "cell_type": "code",
   "execution_count": 63,
   "metadata": {},
   "outputs": [],
   "source": [
    "input_geotiff = gdal.Open('g25_cont.tif')\n",
    "x = np.array(input_geotiff.GetRasterBand(1).ReadAsArray())\n",
    "x[x>0]=1\n",
    "contour_layer = 1 - x"
   ]
  },
  {
   "cell_type": "code",
   "execution_count": 64,
   "metadata": {},
   "outputs": [
    {
     "data": {
      "image/png": "[encoded data removed]",
      "text/plain": [
       "<Figure size 432x288 with 2 Axes>"
      ]
     },
     "metadata": {
      "needs_background": "dark"
     },
     "output_type": "display_data"
    }
   ],
   "source": [
    "plt.imshow(contour_layer, cmap=\"gist_earth_r\");\n",
    "plt.colorbar();"
   ]
  },
  {
   "cell_type": "code",
   "execution_count": 15,
   "metadata": {
    "code_folding": [
     0
    ]
   },
   "outputs": [],
   "source": [
    "def np_array_to_Geotiff(newfile, original_tiff, np_array, dtype):\n",
    "    \n",
    "    cols = np_array.shape[1]\n",
    "    rows = np_array.shape[0]\n",
    "    originX, pixelWidth, b, originY, d, pixelHeight = original_tiff.GetGeoTransform() \n",
    "    driver = gdal.GetDriverByName('GTiff')\n",
    "    GDT_dtype = gdal.GDT_Unknown\n",
    "    if dtype == \"Float64\": \n",
    "        GDT_dtype = gdal.GDT_Float64\n",
    "    elif dtype == \"Float32\":\n",
    "        GDT_dtype = gdal.GDT_Float32\n",
    "    else:\n",
    "        print(\"Not supported data type.\")\n",
    "    \n",
    "    if np_array.ndim == 2:\n",
    "        band_num = 1\n",
    "    else:\n",
    "        band_num = np_array.shape[2]\n",
    "\n",
    "    outRaster = driver.Create(newfile, cols, rows, band_num, GDT_dtype)\n",
    "    outRaster.SetGeoTransform((originX, pixelWidth, 0, originY, 0, pixelHeight))\n",
    "    \n",
    "    # Loop over all bands.\n",
    "    for b in range(band_num):\n",
    "        outband = outRaster.GetRasterBand(b + 1)\n",
    "    \n",
    "        # Read in the band's data into the third dimension of our array\n",
    "        if band_num == 1:\n",
    "            outband.WriteArray(np_array)\n",
    "        else:\n",
    "            outband.WriteArray(np_array[:,:,b])\n",
    "\n",
    "    # setteing srs from input tif file.\n",
    "    prj=original_tiff.GetProjection()\n",
    "    outRasterSRS = osr.SpatialReference(wkt=prj)\n",
    "    outRaster.SetProjection(outRasterSRS.ExportToWkt())\n",
    "    outband.FlushCache()\n",
    "    outRaster = None\n",
    "    \n",
    "    return outRaster"
   ]
  },
  {
   "cell_type": "code",
   "execution_count": 26,
   "metadata": {},
   "outputs": [
    {
     "name": "stderr",
     "output_type": "stream",
     "text": [
      "C:\\Users\\sjwal\\Anaconda3\\lib\\site-packages\\ipykernel_launcher.py:8: DeprecationWarning: Numeric-style type codes are deprecated and will result in an error in the future.\n",
      "  \n"
     ]
    }
   ],
   "source": [
    "np_array_to_Geotiff('fann_0_test_slope.tif', input_geotiff, g_slope, \n",
    "                    g_slope.dtype)"
   ]
  },
  {
   "cell_type": "code",
   "execution_count": null,
   "metadata": {},
   "outputs": [],
   "source": []
  }
 ],
 "metadata": {
  "kernelspec": {
   "display_name": "Python 3",
   "language": "python",
   "name": "python3"
  },
  "language_info": {
   "codemirror_mode": {
    "name": "ipython",
    "version": 3
   },
   "file_extension": ".py",
   "mimetype": "text/x-python",
   "name": "python",
   "nbconvert_exporter": "python",
   "pygments_lexer": "ipython3",
   "version": "3.7.3"
  }
 },
 "nbformat": 4,
 "nbformat_minor": 2
}
